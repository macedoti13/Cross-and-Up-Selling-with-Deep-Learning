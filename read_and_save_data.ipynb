{
 "cells": [
  {
   "cell_type": "code",
   "execution_count": 1,
   "metadata": {},
   "outputs": [],
   "source": [
    "from snowflakeManager import SnowflakeManager\n",
    "import os\n",
    "from tqdm import tqdm"
   ]
  },
  {
   "cell_type": "code",
   "execution_count": 2,
   "metadata": {},
   "outputs": [],
   "source": [
    "if not os.path.exists(\"data\"):\n",
    "    os.makedirs(\"data\") "
   ]
  },
  {
   "cell_type": "code",
   "execution_count": 3,
   "metadata": {},
   "outputs": [],
   "source": [
    "manager = SnowflakeManager()\n",
    "manager.connect()"
   ]
  },
  {
   "cell_type": "code",
   "execution_count": 4,
   "metadata": {},
   "outputs": [],
   "source": [
    "if not os.path.exists(\"data/puc_vendas.parquet\"):\n",
    "    puc_vendas = manager.fetch_selling_data()\n",
    "    puc_vendas.to_parquet(\"data/puc_vendas.parquet\")\n"
   ]
  },
  {
   "cell_type": "code",
   "execution_count": 5,
   "metadata": {},
   "outputs": [
    {
     "name": "stderr",
     "output_type": "stream",
     "text": [
      "15it [03:24, 21.33s/it]"
     ]
    }
   ],
   "source": [
    "if os.path.exists(\"data/puc_campanhas.parquet\"):\n",
    "    os.remove(\"data/puc_campanhas.parquet\")\n",
    "\n",
    "for i, batch in tqdm(enumerate(manager.run_query_pandas_in_batches(query=\"\"\"SELECT * FROM PUC_CAMPANHAS\"\"\",batch_size=1_000_000,))):\n",
    "    # drop duplicates\n",
    "    # batch.drop_duplicates(inplace=True)\n",
    "    if i == 0:\n",
    "        batch.to_csv(\"data/puc_campanhas.csv\", mode='w', index=False)\n",
    "\n",
    "    else:\n",
    "        batch.to_csv(\"data/puc_campanhas.csv\", mode='a', index=False, header=False)\n",
    "\n",
    "\n"
   ]
  },
  {
   "cell_type": "code",
   "execution_count": null,
   "metadata": {},
   "outputs": [],
   "source": []
  }
 ],
 "metadata": {
  "kernelspec": {
   "display_name": "pcd",
   "language": "python",
   "name": "python3"
  },
  "language_info": {
   "codemirror_mode": {
    "name": "ipython",
    "version": 3
   },
   "file_extension": ".py",
   "mimetype": "text/x-python",
   "name": "python",
   "nbconvert_exporter": "python",
   "pygments_lexer": "ipython3",
   "version": "3.12.4"
  }
 },
 "nbformat": 4,
 "nbformat_minor": 2
}
