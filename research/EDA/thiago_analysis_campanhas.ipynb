{
 "cells": [
  {
   "cell_type": "code",
   "execution_count": 1,
   "metadata": {},
   "outputs": [],
   "source": [
    "import pandas as pd"
   ]
  },
  {
   "cell_type": "code",
   "execution_count": 2,
   "metadata": {},
   "outputs": [
    {
     "name": "stdout",
     "output_type": "stream",
     "text": [
      "(6294634, 10)\n"
     ]
    },
    {
     "data": {
      "text/html": [
       "<div>\n",
       "<style scoped>\n",
       "    .dataframe tbody tr th:only-of-type {\n",
       "        vertical-align: middle;\n",
       "    }\n",
       "\n",
       "    .dataframe tbody tr th {\n",
       "        vertical-align: top;\n",
       "    }\n",
       "\n",
       "    .dataframe thead th {\n",
       "        text-align: right;\n",
       "    }\n",
       "</style>\n",
       "<table border=\"1\" class=\"dataframe\">\n",
       "  <thead>\n",
       "    <tr style=\"text-align: right;\">\n",
       "      <th></th>\n",
       "      <th>IDENTIFICADOR</th>\n",
       "      <th>COD_LOJA</th>\n",
       "      <th>PROMOCAO_TABELA</th>\n",
       "      <th>TIPO_PROMOCIONAL</th>\n",
       "      <th>DATA_INICIO</th>\n",
       "      <th>DATA_FIM</th>\n",
       "      <th>DESCONTO_TIPO</th>\n",
       "      <th>COD_SKU</th>\n",
       "      <th>COD_SKU_QUALIFICADOR</th>\n",
       "      <th>COD_SKU_BONIFICADOR</th>\n",
       "    </tr>\n",
       "  </thead>\n",
       "  <tbody>\n",
       "    <tr>\n",
       "      <th>0</th>\n",
       "      <td>1031-100009900-100335382</td>\n",
       "      <td>1031</td>\n",
       "      <td>PROMODEPOR</td>\n",
       "      <td>CARTAO_FIDELIDADE</td>\n",
       "      <td>2024-06-01</td>\n",
       "      <td>2024-06-30 23:59:59</td>\n",
       "      <td>None</td>\n",
       "      <td>100009900.0</td>\n",
       "      <td>NaN</td>\n",
       "      <td>NaN</td>\n",
       "    </tr>\n",
       "    <tr>\n",
       "      <th>1</th>\n",
       "      <td>1031-10004747-100339181</td>\n",
       "      <td>1031</td>\n",
       "      <td>PROMODEPOR</td>\n",
       "      <td>CARTAO_FIDELIDADE</td>\n",
       "      <td>2024-06-03</td>\n",
       "      <td>2024-06-16 23:59:59</td>\n",
       "      <td>None</td>\n",
       "      <td>10004747.0</td>\n",
       "      <td>NaN</td>\n",
       "      <td>NaN</td>\n",
       "    </tr>\n",
       "    <tr>\n",
       "      <th>2</th>\n",
       "      <td>1031-10028307-100340766</td>\n",
       "      <td>1031</td>\n",
       "      <td>PROMODEPOR</td>\n",
       "      <td>CARTAO_FIDELIDADE</td>\n",
       "      <td>2024-06-03</td>\n",
       "      <td>2024-06-16 23:59:59</td>\n",
       "      <td>None</td>\n",
       "      <td>10028307.0</td>\n",
       "      <td>NaN</td>\n",
       "      <td>NaN</td>\n",
       "    </tr>\n",
       "    <tr>\n",
       "      <th>3</th>\n",
       "      <td>1031-100014752-100335511</td>\n",
       "      <td>1031</td>\n",
       "      <td>PROMODEPOR</td>\n",
       "      <td>CARTAO_FIDELIDADE</td>\n",
       "      <td>2024-06-03</td>\n",
       "      <td>2024-06-09 23:59:59</td>\n",
       "      <td>None</td>\n",
       "      <td>100014752.0</td>\n",
       "      <td>NaN</td>\n",
       "      <td>NaN</td>\n",
       "    </tr>\n",
       "    <tr>\n",
       "      <th>4</th>\n",
       "      <td>1031-10004751-100338886</td>\n",
       "      <td>1031</td>\n",
       "      <td>PROMODEPOR</td>\n",
       "      <td>LAMINA</td>\n",
       "      <td>2024-06-04</td>\n",
       "      <td>2024-06-28 23:59:59</td>\n",
       "      <td>None</td>\n",
       "      <td>10004751.0</td>\n",
       "      <td>NaN</td>\n",
       "      <td>NaN</td>\n",
       "    </tr>\n",
       "  </tbody>\n",
       "</table>\n",
       "</div>"
      ],
      "text/plain": [
       "              IDENTIFICADOR  COD_LOJA PROMOCAO_TABELA   TIPO_PROMOCIONAL  \\\n",
       "0  1031-100009900-100335382      1031      PROMODEPOR  CARTAO_FIDELIDADE   \n",
       "1   1031-10004747-100339181      1031      PROMODEPOR  CARTAO_FIDELIDADE   \n",
       "2   1031-10028307-100340766      1031      PROMODEPOR  CARTAO_FIDELIDADE   \n",
       "3  1031-100014752-100335511      1031      PROMODEPOR  CARTAO_FIDELIDADE   \n",
       "4   1031-10004751-100338886      1031      PROMODEPOR             LAMINA   \n",
       "\n",
       "  DATA_INICIO             DATA_FIM DESCONTO_TIPO      COD_SKU  \\\n",
       "0  2024-06-01  2024-06-30 23:59:59          None  100009900.0   \n",
       "1  2024-06-03  2024-06-16 23:59:59          None   10004747.0   \n",
       "2  2024-06-03  2024-06-16 23:59:59          None   10028307.0   \n",
       "3  2024-06-03  2024-06-09 23:59:59          None  100014752.0   \n",
       "4  2024-06-04  2024-06-28 23:59:59          None   10004751.0   \n",
       "\n",
       "   COD_SKU_QUALIFICADOR  COD_SKU_BONIFICADOR  \n",
       "0                   NaN                  NaN  \n",
       "1                   NaN                  NaN  \n",
       "2                   NaN                  NaN  \n",
       "3                   NaN                  NaN  \n",
       "4                   NaN                  NaN  "
      ]
     },
     "execution_count": 2,
     "metadata": {},
     "output_type": "execute_result"
    }
   ],
   "source": [
    "df = pd.read_parquet(\"data/puc_campanhas_deduplicated.parquet\")\n",
    "print(df.shape)\n",
    "df.head()"
   ]
  },
  {
   "cell_type": "code",
   "execution_count": 3,
   "metadata": {},
   "outputs": [
    {
     "data": {
      "text/plain": [
       "IDENTIFICADOR                 0\n",
       "COD_LOJA                      0\n",
       "PROMOCAO_TABELA               0\n",
       "TIPO_PROMOCIONAL              0\n",
       "DATA_INICIO                   0\n",
       "DATA_FIM                      0\n",
       "DESCONTO_TIPO           1752385\n",
       "COD_SKU                 4542249\n",
       "COD_SKU_QUALIFICADOR    1756023\n",
       "COD_SKU_BONIFICADOR     1756221\n",
       "dtype: int64"
      ]
     },
     "execution_count": 3,
     "metadata": {},
     "output_type": "execute_result"
    }
   ],
   "source": [
    "df.isnull().sum()"
   ]
  },
  {
   "cell_type": "code",
   "execution_count": 4,
   "metadata": {},
   "outputs": [
    {
     "data": {
      "text/plain": [
       "2267700"
      ]
     },
     "execution_count": 4,
     "metadata": {},
     "output_type": "execute_result"
    }
   ],
   "source": [
    "df[\"IDENTIFICADOR\"].nunique()"
   ]
  },
  {
   "cell_type": "code",
   "execution_count": 5,
   "metadata": {},
   "outputs": [
    {
     "data": {
      "text/plain": [
       "IDENTIFICADOR\n",
       "100346491-70373-482         3483\n",
       "100346491-70373-829         3482\n",
       "100346491-70373-537         3482\n",
       "100346491-70373-378         3482\n",
       "100346491-70373-846         3482\n",
       "                            ... \n",
       "1122-10001401-100306975        1\n",
       "1122-10001401-100327011        1\n",
       "1122-100014038-100304243       1\n",
       "1122-100014038-100315412       1\n",
       "1122-100013948-100296264       1\n",
       "Length: 2267700, dtype: int64"
      ]
     },
     "execution_count": 5,
     "metadata": {},
     "output_type": "execute_result"
    }
   ],
   "source": [
    "df.groupby(\"IDENTIFICADOR\").size().sort_values(ascending=False)"
   ]
  },
  {
   "cell_type": "code",
   "execution_count": 6,
   "metadata": {},
   "outputs": [
    {
     "data": {
      "text/plain": [
       "PROMOCAO_TABELA\n",
       "PROMOVENDACASADA    4542249\n",
       "PROMODEPOR          1752385\n",
       "Name: count, dtype: int64"
      ]
     },
     "execution_count": 6,
     "metadata": {},
     "output_type": "execute_result"
    }
   ],
   "source": [
    "df[\"PROMOCAO_TABELA\"].value_counts()"
   ]
  },
  {
   "cell_type": "code",
   "execution_count": 7,
   "metadata": {},
   "outputs": [
    {
     "data": {
      "text/plain": [
       "COD_LOJA\n",
       "1351    67615\n",
       "599     67547\n",
       "1400    67542\n",
       "1240    67530\n",
       "499     67506\n",
       "        ...  \n",
       "425       929\n",
       "538       859\n",
       "518       859\n",
       "729       846\n",
       "1308      607\n",
       "Name: count, Length: 101, dtype: int64"
      ]
     },
     "execution_count": 7,
     "metadata": {},
     "output_type": "execute_result"
    }
   ],
   "source": [
    "df[\"COD_LOJA\"].value_counts()"
   ]
  },
  {
   "cell_type": "code",
   "execution_count": 8,
   "metadata": {},
   "outputs": [
    {
     "data": {
      "text/plain": [
       "TIPO_PROMOCIONAL\n",
       "CARTAO_FIDELIDADE    5682116\n",
       "LAMINA                609881\n",
       "TOKEN                   2415\n",
       "GESTAO_ESTOQUE            74\n",
       "OUTROS                    74\n",
       "PROMOCIONAL_LOJAS         74\n",
       "Name: count, dtype: int64"
      ]
     },
     "execution_count": 8,
     "metadata": {},
     "output_type": "execute_result"
    }
   ],
   "source": [
    "df[\"TIPO_PROMOCIONAL\"].value_counts()"
   ]
  },
  {
   "cell_type": "code",
   "execution_count": 9,
   "metadata": {},
   "outputs": [
    {
     "data": {
      "text/plain": [
       "DESCONTO_TIPO\n",
       "P    4119504\n",
       "%     422745\n",
       "Name: count, dtype: int64"
      ]
     },
     "execution_count": 9,
     "metadata": {},
     "output_type": "execute_result"
    }
   ],
   "source": [
    "df[\"DESCONTO_TIPO\"].value_counts()"
   ]
  },
  {
   "cell_type": "code",
   "execution_count": 10,
   "metadata": {},
   "outputs": [
    {
     "data": {
      "text/plain": [
       "7748"
      ]
     },
     "execution_count": 10,
     "metadata": {},
     "output_type": "execute_result"
    }
   ],
   "source": [
    "df[\"COD_SKU\"].nunique()"
   ]
  }
 ],
 "metadata": {
  "kernelspec": {
   "display_name": "pcd3",
   "language": "python",
   "name": "python3"
  },
  "language_info": {
   "codemirror_mode": {
    "name": "ipython",
    "version": 3
   },
   "file_extension": ".py",
   "mimetype": "text/x-python",
   "name": "python",
   "nbconvert_exporter": "python",
   "pygments_lexer": "ipython3",
   "version": "3.12.5"
  }
 },
 "nbformat": 4,
 "nbformat_minor": 2
}
