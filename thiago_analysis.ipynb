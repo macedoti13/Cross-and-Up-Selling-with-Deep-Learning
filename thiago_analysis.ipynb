{
 "cells": [
  {
   "cell_type": "code",
   "execution_count": 1,
   "metadata": {},
   "outputs": [],
   "source": [
    "import numpy as np\n",
    "import pandas as pd\n",
    "import plotly.express as px\n",
    "import plotly.graph_objects as go\n",
    "from plotly.subplots import make_subplots\n",
    "\n",
    "pd.set_option('display.max_columns', None)\n",
    "pd.set_option('display.max_rows', None)"
   ]
  },
  {
   "cell_type": "code",
   "execution_count": 2,
   "metadata": {},
   "outputs": [
    {
     "name": "stdout",
     "output_type": "stream",
     "text": [
      "Shape: (9271036, 20)\n"
     ]
    },
    {
     "data": {
      "text/html": [
       "<div>\n",
       "<style scoped>\n",
       "    .dataframe tbody tr th:only-of-type {\n",
       "        vertical-align: middle;\n",
       "    }\n",
       "\n",
       "    .dataframe tbody tr th {\n",
       "        vertical-align: top;\n",
       "    }\n",
       "\n",
       "    .dataframe thead th {\n",
       "        text-align: right;\n",
       "    }\n",
       "</style>\n",
       "<table border=\"1\" class=\"dataframe\">\n",
       "  <thead>\n",
       "    <tr style=\"text-align: right;\">\n",
       "      <th></th>\n",
       "      <th>COD_CUPOM</th>\n",
       "      <th>COD_CLIENTE</th>\n",
       "      <th>CLIENTE_FISICO_JURIDICO</th>\n",
       "      <th>SEXO_CLIENTE</th>\n",
       "      <th>DTNASCIMENTO_CLIENTE</th>\n",
       "      <th>COD_SKU</th>\n",
       "      <th>SKU</th>\n",
       "      <th>CATEGORIA_SKU</th>\n",
       "      <th>SUBCATEGORIA_SKU</th>\n",
       "      <th>COD_LOJA</th>\n",
       "      <th>UF_CIDADE</th>\n",
       "      <th>COD_CIDADE</th>\n",
       "      <th>NOME_CIDADE</th>\n",
       "      <th>DATA_CUPOM</th>\n",
       "      <th>UNIDADES</th>\n",
       "      <th>IDENTIFICADOR_PROMOCIONAL</th>\n",
       "      <th>PRECO_REGULAR</th>\n",
       "      <th>TOTAL_DESCONTO</th>\n",
       "      <th>TOTAL_BRUTO</th>\n",
       "      <th>TOTAL_LIQUIDO</th>\n",
       "    </tr>\n",
       "  </thead>\n",
       "  <tbody>\n",
       "    <tr>\n",
       "      <th>0</th>\n",
       "      <td>782344</td>\n",
       "      <td>55750557.0</td>\n",
       "      <td>Pessoa Física</td>\n",
       "      <td>F</td>\n",
       "      <td>1980-11-18</td>\n",
       "      <td>10085918</td>\n",
       "      <td>VONAU FLASH 4MG 10CP</td>\n",
       "      <td>MEDICAMENTOS</td>\n",
       "      <td>REFERENCIA</td>\n",
       "      <td>764</td>\n",
       "      <td>RS</td>\n",
       "      <td>80400</td>\n",
       "      <td>PORTO ALEGRE</td>\n",
       "      <td>2024-04-11 17:13:25</td>\n",
       "      <td>1.0</td>\n",
       "      <td>NaN</td>\n",
       "      <td>47.03</td>\n",
       "      <td>12.70</td>\n",
       "      <td>47.03</td>\n",
       "      <td>34.33</td>\n",
       "    </tr>\n",
       "    <tr>\n",
       "      <th>1</th>\n",
       "      <td>759507</td>\n",
       "      <td>55750557.0</td>\n",
       "      <td>Pessoa Física</td>\n",
       "      <td>F</td>\n",
       "      <td>1980-11-18</td>\n",
       "      <td>10106687</td>\n",
       "      <td>APTANUTRI PREMIUM 3</td>\n",
       "      <td>NUTRICAO</td>\n",
       "      <td>NUTRICAO LEITES</td>\n",
       "      <td>764</td>\n",
       "      <td>RS</td>\n",
       "      <td>80400</td>\n",
       "      <td>PORTO ALEGRE</td>\n",
       "      <td>2024-02-19 15:47:17</td>\n",
       "      <td>1.0</td>\n",
       "      <td>NaN</td>\n",
       "      <td>73.99</td>\n",
       "      <td>14.80</td>\n",
       "      <td>73.99</td>\n",
       "      <td>59.19</td>\n",
       "    </tr>\n",
       "    <tr>\n",
       "      <th>2</th>\n",
       "      <td>742082</td>\n",
       "      <td>55750557.0</td>\n",
       "      <td>Pessoa Física</td>\n",
       "      <td>F</td>\n",
       "      <td>1980-11-18</td>\n",
       "      <td>10037705</td>\n",
       "      <td>TORRADA ISABELA 142G TRADICIONAL</td>\n",
       "      <td>CONVENIENCIA</td>\n",
       "      <td>CONVENIENCIA PERECIVEIS</td>\n",
       "      <td>764</td>\n",
       "      <td>RS</td>\n",
       "      <td>80400</td>\n",
       "      <td>PORTO ALEGRE</td>\n",
       "      <td>2024-01-05 19:48:52</td>\n",
       "      <td>1.0</td>\n",
       "      <td>NaN</td>\n",
       "      <td>5.99</td>\n",
       "      <td>0.00</td>\n",
       "      <td>5.99</td>\n",
       "      <td>5.99</td>\n",
       "    </tr>\n",
       "    <tr>\n",
       "      <th>3</th>\n",
       "      <td>747733</td>\n",
       "      <td>55750557.0</td>\n",
       "      <td>Pessoa Física</td>\n",
       "      <td>F</td>\n",
       "      <td>1980-11-18</td>\n",
       "      <td>10004419</td>\n",
       "      <td>OZEMPIC 1MG 4AGULHAS NOVOFINE</td>\n",
       "      <td>MEDICAMENTOS</td>\n",
       "      <td>PBM ESPECIAL</td>\n",
       "      <td>764</td>\n",
       "      <td>RS</td>\n",
       "      <td>80400</td>\n",
       "      <td>PORTO ALEGRE</td>\n",
       "      <td>2024-01-20 14:41:56</td>\n",
       "      <td>1.0</td>\n",
       "      <td>NaN</td>\n",
       "      <td>1220.52</td>\n",
       "      <td>254.37</td>\n",
       "      <td>1220.52</td>\n",
       "      <td>966.15</td>\n",
       "    </tr>\n",
       "    <tr>\n",
       "      <th>4</th>\n",
       "      <td>748216</td>\n",
       "      <td>55750557.0</td>\n",
       "      <td>Pessoa Física</td>\n",
       "      <td>F</td>\n",
       "      <td>1980-11-18</td>\n",
       "      <td>10030435</td>\n",
       "      <td>NOVALGINA 1G 20CP OPELLA</td>\n",
       "      <td>MEDICAMENTOS</td>\n",
       "      <td>REFERENCIA ONEROSOS</td>\n",
       "      <td>764</td>\n",
       "      <td>RS</td>\n",
       "      <td>80400</td>\n",
       "      <td>PORTO ALEGRE</td>\n",
       "      <td>2024-01-22 16:48:36</td>\n",
       "      <td>1.0</td>\n",
       "      <td>100271131.0</td>\n",
       "      <td>41.51</td>\n",
       "      <td>5.52</td>\n",
       "      <td>41.51</td>\n",
       "      <td>35.99</td>\n",
       "    </tr>\n",
       "  </tbody>\n",
       "</table>\n",
       "</div>"
      ],
      "text/plain": [
       "   COD_CUPOM  COD_CLIENTE CLIENTE_FISICO_JURIDICO SEXO_CLIENTE  \\\n",
       "0     782344   55750557.0           Pessoa Física            F   \n",
       "1     759507   55750557.0           Pessoa Física            F   \n",
       "2     742082   55750557.0           Pessoa Física            F   \n",
       "3     747733   55750557.0           Pessoa Física            F   \n",
       "4     748216   55750557.0           Pessoa Física            F   \n",
       "\n",
       "  DTNASCIMENTO_CLIENTE   COD_SKU                               SKU  \\\n",
       "0           1980-11-18  10085918              VONAU FLASH 4MG 10CP   \n",
       "1           1980-11-18  10106687               APTANUTRI PREMIUM 3   \n",
       "2           1980-11-18  10037705  TORRADA ISABELA 142G TRADICIONAL   \n",
       "3           1980-11-18  10004419     OZEMPIC 1MG 4AGULHAS NOVOFINE   \n",
       "4           1980-11-18  10030435          NOVALGINA 1G 20CP OPELLA   \n",
       "\n",
       "  CATEGORIA_SKU         SUBCATEGORIA_SKU  COD_LOJA UF_CIDADE  COD_CIDADE  \\\n",
       "0  MEDICAMENTOS               REFERENCIA       764        RS       80400   \n",
       "1      NUTRICAO          NUTRICAO LEITES       764        RS       80400   \n",
       "2  CONVENIENCIA  CONVENIENCIA PERECIVEIS       764        RS       80400   \n",
       "3  MEDICAMENTOS             PBM ESPECIAL       764        RS       80400   \n",
       "4  MEDICAMENTOS      REFERENCIA ONEROSOS       764        RS       80400   \n",
       "\n",
       "    NOME_CIDADE          DATA_CUPOM  UNIDADES  IDENTIFICADOR_PROMOCIONAL  \\\n",
       "0  PORTO ALEGRE 2024-04-11 17:13:25       1.0                        NaN   \n",
       "1  PORTO ALEGRE 2024-02-19 15:47:17       1.0                        NaN   \n",
       "2  PORTO ALEGRE 2024-01-05 19:48:52       1.0                        NaN   \n",
       "3  PORTO ALEGRE 2024-01-20 14:41:56       1.0                        NaN   \n",
       "4  PORTO ALEGRE 2024-01-22 16:48:36       1.0                100271131.0   \n",
       "\n",
       "   PRECO_REGULAR  TOTAL_DESCONTO  TOTAL_BRUTO  TOTAL_LIQUIDO  \n",
       "0          47.03           12.70        47.03          34.33  \n",
       "1          73.99           14.80        73.99          59.19  \n",
       "2           5.99            0.00         5.99           5.99  \n",
       "3        1220.52          254.37      1220.52         966.15  \n",
       "4          41.51            5.52        41.51          35.99  "
      ]
     },
     "execution_count": 2,
     "metadata": {},
     "output_type": "execute_result"
    }
   ],
   "source": [
    "vendas = pd.read_parquet(\"data/puc_vendas.parquet\")\n",
    "print(f\"Shape: {vendas.shape}\")\n",
    "vendas.head()"
   ]
  },
  {
   "cell_type": "markdown",
   "metadata": {},
   "source": [
    "## Null Value Exploration"
   ]
  },
  {
   "cell_type": "code",
   "execution_count": 3,
   "metadata": {},
   "outputs": [
    {
     "data": {
      "text/plain": [
       "COD_CUPOM                          0\n",
       "COD_CLIENTE                      178\n",
       "CLIENTE_FISICO_JURIDICO        10051\n",
       "SEXO_CLIENTE                  103541\n",
       "DTNASCIMENTO_CLIENTE         1078012\n",
       "COD_SKU                            0\n",
       "SKU                                0\n",
       "CATEGORIA_SKU                      0\n",
       "SUBCATEGORIA_SKU                   0\n",
       "COD_LOJA                           0\n",
       "UF_CIDADE                          0\n",
       "COD_CIDADE                         0\n",
       "NOME_CIDADE                        0\n",
       "DATA_CUPOM                         0\n",
       "UNIDADES                           0\n",
       "IDENTIFICADOR_PROMOCIONAL    6735816\n",
       "PRECO_REGULAR                      0\n",
       "TOTAL_DESCONTO                    73\n",
       "TOTAL_BRUTO                        0\n",
       "TOTAL_LIQUIDO                      0\n",
       "dtype: int64"
      ]
     },
     "execution_count": 3,
     "metadata": {},
     "output_type": "execute_result"
    }
   ],
   "source": [
    "vendas.isnull().sum()"
   ]
  },
  {
   "cell_type": "code",
   "execution_count": 4,
   "metadata": {},
   "outputs": [
    {
     "data": {
      "text/html": [
       "<div>\n",
       "<style scoped>\n",
       "    .dataframe tbody tr th:only-of-type {\n",
       "        vertical-align: middle;\n",
       "    }\n",
       "\n",
       "    .dataframe tbody tr th {\n",
       "        vertical-align: top;\n",
       "    }\n",
       "\n",
       "    .dataframe thead th {\n",
       "        text-align: right;\n",
       "    }\n",
       "</style>\n",
       "<table border=\"1\" class=\"dataframe\">\n",
       "  <thead>\n",
       "    <tr style=\"text-align: right;\">\n",
       "      <th></th>\n",
       "      <th>COD_CUPOM</th>\n",
       "      <th>COD_CLIENTE</th>\n",
       "      <th>CLIENTE_FISICO_JURIDICO</th>\n",
       "      <th>SEXO_CLIENTE</th>\n",
       "      <th>DTNASCIMENTO_CLIENTE</th>\n",
       "      <th>COD_SKU</th>\n",
       "      <th>SKU</th>\n",
       "      <th>CATEGORIA_SKU</th>\n",
       "      <th>SUBCATEGORIA_SKU</th>\n",
       "      <th>COD_LOJA</th>\n",
       "      <th>UF_CIDADE</th>\n",
       "      <th>COD_CIDADE</th>\n",
       "      <th>NOME_CIDADE</th>\n",
       "      <th>DATA_CUPOM</th>\n",
       "      <th>UNIDADES</th>\n",
       "      <th>IDENTIFICADOR_PROMOCIONAL</th>\n",
       "      <th>PRECO_REGULAR</th>\n",
       "      <th>TOTAL_DESCONTO</th>\n",
       "      <th>TOTAL_BRUTO</th>\n",
       "      <th>TOTAL_LIQUIDO</th>\n",
       "    </tr>\n",
       "  </thead>\n",
       "  <tbody>\n",
       "    <tr>\n",
       "      <th>4731659</th>\n",
       "      <td>15949</td>\n",
       "      <td>NaN</td>\n",
       "      <td>None</td>\n",
       "      <td>None</td>\n",
       "      <td>None</td>\n",
       "      <td>10019572</td>\n",
       "      <td>DOZEMAST SL 1000MCG</td>\n",
       "      <td>MEDICAMENTOS</td>\n",
       "      <td>REFERENCIA ONEROSOS</td>\n",
       "      <td>130</td>\n",
       "      <td>RS</td>\n",
       "      <td>80400</td>\n",
       "      <td>PORTO ALEGRE</td>\n",
       "      <td>2024-06-12 16:14:20.129</td>\n",
       "      <td>1.0</td>\n",
       "      <td>NaN</td>\n",
       "      <td>102.50</td>\n",
       "      <td>23.58</td>\n",
       "      <td>102.50</td>\n",
       "      <td>78.92</td>\n",
       "    </tr>\n",
       "    <tr>\n",
       "      <th>2662362</th>\n",
       "      <td>15949</td>\n",
       "      <td>NaN</td>\n",
       "      <td>None</td>\n",
       "      <td>None</td>\n",
       "      <td>None</td>\n",
       "      <td>94266</td>\n",
       "      <td>NEUTROFER 150MG 30CP</td>\n",
       "      <td>MEDICAMENTOS</td>\n",
       "      <td>REFERENCIA ONEROSOS</td>\n",
       "      <td>130</td>\n",
       "      <td>RS</td>\n",
       "      <td>80400</td>\n",
       "      <td>PORTO ALEGRE</td>\n",
       "      <td>2024-06-12 16:14:20.129</td>\n",
       "      <td>1.0</td>\n",
       "      <td>NaN</td>\n",
       "      <td>34.67</td>\n",
       "      <td>7.97</td>\n",
       "      <td>34.67</td>\n",
       "      <td>26.70</td>\n",
       "    </tr>\n",
       "    <tr>\n",
       "      <th>432428</th>\n",
       "      <td>26166</td>\n",
       "      <td>NaN</td>\n",
       "      <td>None</td>\n",
       "      <td>None</td>\n",
       "      <td>None</td>\n",
       "      <td>100003272</td>\n",
       "      <td>HIDRALYTE 500ML LARA</td>\n",
       "      <td>MEDICAMENTOS</td>\n",
       "      <td>SIMILAR</td>\n",
       "      <td>1400</td>\n",
       "      <td>RS</td>\n",
       "      <td>80400</td>\n",
       "      <td>PORTO ALEGRE</td>\n",
       "      <td>2024-06-12 15:23:15.175</td>\n",
       "      <td>1.0</td>\n",
       "      <td>NaN</td>\n",
       "      <td>16.50</td>\n",
       "      <td>0.00</td>\n",
       "      <td>16.50</td>\n",
       "      <td>16.50</td>\n",
       "    </tr>\n",
       "    <tr>\n",
       "      <th>668722</th>\n",
       "      <td>26166</td>\n",
       "      <td>NaN</td>\n",
       "      <td>None</td>\n",
       "      <td>None</td>\n",
       "      <td>None</td>\n",
       "      <td>100000921</td>\n",
       "      <td>HIDRALYTE 500ML AGUA</td>\n",
       "      <td>MEDICAMENTOS</td>\n",
       "      <td>SIMILAR</td>\n",
       "      <td>1400</td>\n",
       "      <td>RS</td>\n",
       "      <td>80400</td>\n",
       "      <td>PORTO ALEGRE</td>\n",
       "      <td>2024-06-12 15:23:15.175</td>\n",
       "      <td>1.0</td>\n",
       "      <td>NaN</td>\n",
       "      <td>16.50</td>\n",
       "      <td>0.00</td>\n",
       "      <td>16.50</td>\n",
       "      <td>16.50</td>\n",
       "    </tr>\n",
       "    <tr>\n",
       "      <th>1592351</th>\n",
       "      <td>26166</td>\n",
       "      <td>NaN</td>\n",
       "      <td>None</td>\n",
       "      <td>None</td>\n",
       "      <td>None</td>\n",
       "      <td>10004405</td>\n",
       "      <td>PARACETAMOL 750MG 20CP REV GEN PRAT</td>\n",
       "      <td>MEDICAMENTOS</td>\n",
       "      <td>GENERICOS OTC/MIP</td>\n",
       "      <td>1400</td>\n",
       "      <td>RS</td>\n",
       "      <td>80400</td>\n",
       "      <td>PORTO ALEGRE</td>\n",
       "      <td>2024-06-12 15:23:15.175</td>\n",
       "      <td>1.0</td>\n",
       "      <td>100327108.0</td>\n",
       "      <td>16.58</td>\n",
       "      <td>8.29</td>\n",
       "      <td>16.58</td>\n",
       "      <td>8.29</td>\n",
       "    </tr>\n",
       "    <tr>\n",
       "      <th>5703497</th>\n",
       "      <td>26166</td>\n",
       "      <td>NaN</td>\n",
       "      <td>None</td>\n",
       "      <td>None</td>\n",
       "      <td>None</td>\n",
       "      <td>10036576</td>\n",
       "      <td>ESC CAB SECADORA BRITANIA SOFT BEC07R BI</td>\n",
       "      <td>PERFUMARIA</td>\n",
       "      <td>PERFUMARIA</td>\n",
       "      <td>1400</td>\n",
       "      <td>RS</td>\n",
       "      <td>80400</td>\n",
       "      <td>PORTO ALEGRE</td>\n",
       "      <td>2024-06-12 15:23:15.175</td>\n",
       "      <td>1.0</td>\n",
       "      <td>100341357.0</td>\n",
       "      <td>169.90</td>\n",
       "      <td>10.00</td>\n",
       "      <td>169.90</td>\n",
       "      <td>159.90</td>\n",
       "    </tr>\n",
       "    <tr>\n",
       "      <th>8517361</th>\n",
       "      <td>26166</td>\n",
       "      <td>NaN</td>\n",
       "      <td>None</td>\n",
       "      <td>None</td>\n",
       "      <td>None</td>\n",
       "      <td>10025042</td>\n",
       "      <td>HIDRALI 500ML UVA RO</td>\n",
       "      <td>MEDICAMENTOS</td>\n",
       "      <td>SIMILAR</td>\n",
       "      <td>1400</td>\n",
       "      <td>RS</td>\n",
       "      <td>80400</td>\n",
       "      <td>PORTO ALEGRE</td>\n",
       "      <td>2024-06-12 15:23:15.175</td>\n",
       "      <td>1.0</td>\n",
       "      <td>NaN</td>\n",
       "      <td>16.50</td>\n",
       "      <td>0.00</td>\n",
       "      <td>16.50</td>\n",
       "      <td>16.50</td>\n",
       "    </tr>\n",
       "    <tr>\n",
       "      <th>4731636</th>\n",
       "      <td>26176</td>\n",
       "      <td>NaN</td>\n",
       "      <td>None</td>\n",
       "      <td>None</td>\n",
       "      <td>None</td>\n",
       "      <td>10104602</td>\n",
       "      <td>ENALAPRIL 10MG 30CP GEN CIMED</td>\n",
       "      <td>MEDICAMENTOS</td>\n",
       "      <td>GENERICOS</td>\n",
       "      <td>1400</td>\n",
       "      <td>RS</td>\n",
       "      <td>80400</td>\n",
       "      <td>PORTO ALEGRE</td>\n",
       "      <td>2024-06-12 15:57:34.417</td>\n",
       "      <td>2.0</td>\n",
       "      <td>100337102.0</td>\n",
       "      <td>20.16</td>\n",
       "      <td>26.94</td>\n",
       "      <td>40.32</td>\n",
       "      <td>13.38</td>\n",
       "    </tr>\n",
       "    <tr>\n",
       "      <th>8517351</th>\n",
       "      <td>26176</td>\n",
       "      <td>NaN</td>\n",
       "      <td>None</td>\n",
       "      <td>None</td>\n",
       "      <td>None</td>\n",
       "      <td>10104653</td>\n",
       "      <td>HIDROCLOROTIAZIDA 25</td>\n",
       "      <td>MEDICAMENTOS</td>\n",
       "      <td>GENERICOS</td>\n",
       "      <td>1400</td>\n",
       "      <td>RS</td>\n",
       "      <td>80400</td>\n",
       "      <td>PORTO ALEGRE</td>\n",
       "      <td>2024-06-12 15:57:34.417</td>\n",
       "      <td>2.0</td>\n",
       "      <td>NaN</td>\n",
       "      <td>6.21</td>\n",
       "      <td>0.00</td>\n",
       "      <td>12.42</td>\n",
       "      <td>12.42</td>\n",
       "    </tr>\n",
       "    <tr>\n",
       "      <th>8517369</th>\n",
       "      <td>26186</td>\n",
       "      <td>NaN</td>\n",
       "      <td>None</td>\n",
       "      <td>None</td>\n",
       "      <td>None</td>\n",
       "      <td>10004578</td>\n",
       "      <td>PRESERV PRUDENCE LV8 PG6</td>\n",
       "      <td>PERFUMARIA</td>\n",
       "      <td>PERFUMARIA</td>\n",
       "      <td>1400</td>\n",
       "      <td>RS</td>\n",
       "      <td>80400</td>\n",
       "      <td>PORTO ALEGRE</td>\n",
       "      <td>2024-06-12 16:41:19.694</td>\n",
       "      <td>1.0</td>\n",
       "      <td>NaN</td>\n",
       "      <td>15.99</td>\n",
       "      <td>0.00</td>\n",
       "      <td>15.99</td>\n",
       "      <td>15.99</td>\n",
       "    </tr>\n",
       "    <tr>\n",
       "      <th>4731657</th>\n",
       "      <td>26186</td>\n",
       "      <td>NaN</td>\n",
       "      <td>None</td>\n",
       "      <td>None</td>\n",
       "      <td>None</td>\n",
       "      <td>10016217</td>\n",
       "      <td>MANTEIGA CACAU EVELI</td>\n",
       "      <td>PERFUMARIA</td>\n",
       "      <td>PERFUMARIA</td>\n",
       "      <td>1400</td>\n",
       "      <td>RS</td>\n",
       "      <td>80400</td>\n",
       "      <td>PORTO ALEGRE</td>\n",
       "      <td>2024-06-12 16:41:19.694</td>\n",
       "      <td>1.0</td>\n",
       "      <td>NaN</td>\n",
       "      <td>2.99</td>\n",
       "      <td>0.00</td>\n",
       "      <td>2.99</td>\n",
       "      <td>2.99</td>\n",
       "    </tr>\n",
       "  </tbody>\n",
       "</table>\n",
       "</div>"
      ],
      "text/plain": [
       "         COD_CUPOM  COD_CLIENTE CLIENTE_FISICO_JURIDICO SEXO_CLIENTE  \\\n",
       "4731659      15949          NaN                    None         None   \n",
       "2662362      15949          NaN                    None         None   \n",
       "432428       26166          NaN                    None         None   \n",
       "668722       26166          NaN                    None         None   \n",
       "1592351      26166          NaN                    None         None   \n",
       "5703497      26166          NaN                    None         None   \n",
       "8517361      26166          NaN                    None         None   \n",
       "4731636      26176          NaN                    None         None   \n",
       "8517351      26176          NaN                    None         None   \n",
       "8517369      26186          NaN                    None         None   \n",
       "4731657      26186          NaN                    None         None   \n",
       "\n",
       "        DTNASCIMENTO_CLIENTE    COD_SKU  \\\n",
       "4731659                 None   10019572   \n",
       "2662362                 None      94266   \n",
       "432428                  None  100003272   \n",
       "668722                  None  100000921   \n",
       "1592351                 None   10004405   \n",
       "5703497                 None   10036576   \n",
       "8517361                 None   10025042   \n",
       "4731636                 None   10104602   \n",
       "8517351                 None   10104653   \n",
       "8517369                 None   10004578   \n",
       "4731657                 None   10016217   \n",
       "\n",
       "                                              SKU CATEGORIA_SKU  \\\n",
       "4731659                       DOZEMAST SL 1000MCG  MEDICAMENTOS   \n",
       "2662362                      NEUTROFER 150MG 30CP  MEDICAMENTOS   \n",
       "432428                       HIDRALYTE 500ML LARA  MEDICAMENTOS   \n",
       "668722                       HIDRALYTE 500ML AGUA  MEDICAMENTOS   \n",
       "1592351       PARACETAMOL 750MG 20CP REV GEN PRAT  MEDICAMENTOS   \n",
       "5703497  ESC CAB SECADORA BRITANIA SOFT BEC07R BI    PERFUMARIA   \n",
       "8517361                      HIDRALI 500ML UVA RO  MEDICAMENTOS   \n",
       "4731636             ENALAPRIL 10MG 30CP GEN CIMED  MEDICAMENTOS   \n",
       "8517351                      HIDROCLOROTIAZIDA 25  MEDICAMENTOS   \n",
       "8517369                  PRESERV PRUDENCE LV8 PG6    PERFUMARIA   \n",
       "4731657                      MANTEIGA CACAU EVELI    PERFUMARIA   \n",
       "\n",
       "            SUBCATEGORIA_SKU  COD_LOJA UF_CIDADE  COD_CIDADE   NOME_CIDADE  \\\n",
       "4731659  REFERENCIA ONEROSOS       130        RS       80400  PORTO ALEGRE   \n",
       "2662362  REFERENCIA ONEROSOS       130        RS       80400  PORTO ALEGRE   \n",
       "432428               SIMILAR      1400        RS       80400  PORTO ALEGRE   \n",
       "668722               SIMILAR      1400        RS       80400  PORTO ALEGRE   \n",
       "1592351    GENERICOS OTC/MIP      1400        RS       80400  PORTO ALEGRE   \n",
       "5703497           PERFUMARIA      1400        RS       80400  PORTO ALEGRE   \n",
       "8517361              SIMILAR      1400        RS       80400  PORTO ALEGRE   \n",
       "4731636            GENERICOS      1400        RS       80400  PORTO ALEGRE   \n",
       "8517351            GENERICOS      1400        RS       80400  PORTO ALEGRE   \n",
       "8517369           PERFUMARIA      1400        RS       80400  PORTO ALEGRE   \n",
       "4731657           PERFUMARIA      1400        RS       80400  PORTO ALEGRE   \n",
       "\n",
       "                     DATA_CUPOM  UNIDADES  IDENTIFICADOR_PROMOCIONAL  \\\n",
       "4731659 2024-06-12 16:14:20.129       1.0                        NaN   \n",
       "2662362 2024-06-12 16:14:20.129       1.0                        NaN   \n",
       "432428  2024-06-12 15:23:15.175       1.0                        NaN   \n",
       "668722  2024-06-12 15:23:15.175       1.0                        NaN   \n",
       "1592351 2024-06-12 15:23:15.175       1.0                100327108.0   \n",
       "5703497 2024-06-12 15:23:15.175       1.0                100341357.0   \n",
       "8517361 2024-06-12 15:23:15.175       1.0                        NaN   \n",
       "4731636 2024-06-12 15:57:34.417       2.0                100337102.0   \n",
       "8517351 2024-06-12 15:57:34.417       2.0                        NaN   \n",
       "8517369 2024-06-12 16:41:19.694       1.0                        NaN   \n",
       "4731657 2024-06-12 16:41:19.694       1.0                        NaN   \n",
       "\n",
       "         PRECO_REGULAR  TOTAL_DESCONTO  TOTAL_BRUTO  TOTAL_LIQUIDO  \n",
       "4731659         102.50           23.58       102.50          78.92  \n",
       "2662362          34.67            7.97        34.67          26.70  \n",
       "432428           16.50            0.00        16.50          16.50  \n",
       "668722           16.50            0.00        16.50          16.50  \n",
       "1592351          16.58            8.29        16.58           8.29  \n",
       "5703497         169.90           10.00       169.90         159.90  \n",
       "8517361          16.50            0.00        16.50          16.50  \n",
       "4731636          20.16           26.94        40.32          13.38  \n",
       "8517351           6.21            0.00        12.42          12.42  \n",
       "8517369          15.99            0.00        15.99          15.99  \n",
       "4731657           2.99            0.00         2.99           2.99  "
      ]
     },
     "execution_count": 4,
     "metadata": {},
     "output_type": "execute_result"
    }
   ],
   "source": [
    "vendas[vendas.COD_CLIENTE.isnull()].sort_values(by='COD_CUPOM').head(11)"
   ]
  },
  {
   "cell_type": "code",
   "execution_count": 5,
   "metadata": {},
   "outputs": [
    {
     "data": {
      "text/html": [
       "<div>\n",
       "<style scoped>\n",
       "    .dataframe tbody tr th:only-of-type {\n",
       "        vertical-align: middle;\n",
       "    }\n",
       "\n",
       "    .dataframe tbody tr th {\n",
       "        vertical-align: top;\n",
       "    }\n",
       "\n",
       "    .dataframe thead th {\n",
       "        text-align: right;\n",
       "    }\n",
       "</style>\n",
       "<table border=\"1\" class=\"dataframe\">\n",
       "  <thead>\n",
       "    <tr style=\"text-align: right;\">\n",
       "      <th></th>\n",
       "      <th>COD_CUPOM</th>\n",
       "      <th>COD_CLIENTE</th>\n",
       "      <th>CLIENTE_FISICO_JURIDICO</th>\n",
       "      <th>SEXO_CLIENTE</th>\n",
       "      <th>DTNASCIMENTO_CLIENTE</th>\n",
       "      <th>COD_SKU</th>\n",
       "      <th>SKU</th>\n",
       "      <th>CATEGORIA_SKU</th>\n",
       "      <th>SUBCATEGORIA_SKU</th>\n",
       "      <th>COD_LOJA</th>\n",
       "      <th>UF_CIDADE</th>\n",
       "      <th>COD_CIDADE</th>\n",
       "      <th>NOME_CIDADE</th>\n",
       "      <th>DATA_CUPOM</th>\n",
       "      <th>UNIDADES</th>\n",
       "      <th>IDENTIFICADOR_PROMOCIONAL</th>\n",
       "      <th>PRECO_REGULAR</th>\n",
       "      <th>TOTAL_DESCONTO</th>\n",
       "      <th>TOTAL_BRUTO</th>\n",
       "      <th>TOTAL_LIQUIDO</th>\n",
       "    </tr>\n",
       "  </thead>\n",
       "  <tbody>\n",
       "    <tr>\n",
       "      <th>0</th>\n",
       "      <td>15949</td>\n",
       "      <td>40770136.0</td>\n",
       "      <td>Pessoa Física</td>\n",
       "      <td>F</td>\n",
       "      <td>1997-06-17</td>\n",
       "      <td>10036714</td>\n",
       "      <td>LAVA ROUPAS TIXAN YPE LIQ 900ML PRIMAVER</td>\n",
       "      <td>CONVENIENCIA</td>\n",
       "      <td>CONVENIENCIA BAZAR</td>\n",
       "      <td>249</td>\n",
       "      <td>RS</td>\n",
       "      <td>80400</td>\n",
       "      <td>PORTO ALEGRE</td>\n",
       "      <td>2024-02-07 12:29:54.000</td>\n",
       "      <td>1.0</td>\n",
       "      <td>100287211.0</td>\n",
       "      <td>12.90</td>\n",
       "      <td>4.00</td>\n",
       "      <td>12.90</td>\n",
       "      <td>8.90</td>\n",
       "    </tr>\n",
       "    <tr>\n",
       "      <th>1</th>\n",
       "      <td>15949</td>\n",
       "      <td>40770136.0</td>\n",
       "      <td>Pessoa Física</td>\n",
       "      <td>F</td>\n",
       "      <td>1997-06-17</td>\n",
       "      <td>10020374</td>\n",
       "      <td>ENERGETICO MONSTER MANGO LOCO 473ML</td>\n",
       "      <td>CONVENIENCIA</td>\n",
       "      <td>BEBIDAS</td>\n",
       "      <td>249</td>\n",
       "      <td>RS</td>\n",
       "      <td>80400</td>\n",
       "      <td>PORTO ALEGRE</td>\n",
       "      <td>2024-02-07 12:29:54.000</td>\n",
       "      <td>3.0</td>\n",
       "      <td>100287234.0</td>\n",
       "      <td>10.00</td>\n",
       "      <td>6.30</td>\n",
       "      <td>30.00</td>\n",
       "      <td>23.70</td>\n",
       "    </tr>\n",
       "    <tr>\n",
       "      <th>2</th>\n",
       "      <td>15949</td>\n",
       "      <td>29152878.0</td>\n",
       "      <td>Pessoa Física</td>\n",
       "      <td>M</td>\n",
       "      <td>1985-07-19</td>\n",
       "      <td>93316</td>\n",
       "      <td>LORATADINA 10MG 12CP LORATAMED CIMED</td>\n",
       "      <td>MEDICAMENTOS</td>\n",
       "      <td>SIMILAR</td>\n",
       "      <td>1078</td>\n",
       "      <td>RS</td>\n",
       "      <td>80400</td>\n",
       "      <td>PORTO ALEGRE</td>\n",
       "      <td>2024-02-24 22:55:48.000</td>\n",
       "      <td>1.0</td>\n",
       "      <td>NaN</td>\n",
       "      <td>13.90</td>\n",
       "      <td>0.00</td>\n",
       "      <td>13.90</td>\n",
       "      <td>13.90</td>\n",
       "    </tr>\n",
       "    <tr>\n",
       "      <th>3</th>\n",
       "      <td>15949</td>\n",
       "      <td>29152878.0</td>\n",
       "      <td>Pessoa Física</td>\n",
       "      <td>M</td>\n",
       "      <td>1985-07-19</td>\n",
       "      <td>11864</td>\n",
       "      <td>DORFLEX 300+35+50MG 10CP OPELLA AV*</td>\n",
       "      <td>MEDICAMENTOS</td>\n",
       "      <td>REFERENCIA AVULSO</td>\n",
       "      <td>1078</td>\n",
       "      <td>RS</td>\n",
       "      <td>80400</td>\n",
       "      <td>PORTO ALEGRE</td>\n",
       "      <td>2024-02-24 22:55:48.000</td>\n",
       "      <td>1.0</td>\n",
       "      <td>NaN</td>\n",
       "      <td>7.57</td>\n",
       "      <td>0.00</td>\n",
       "      <td>7.57</td>\n",
       "      <td>7.57</td>\n",
       "    </tr>\n",
       "    <tr>\n",
       "      <th>4</th>\n",
       "      <td>15949</td>\n",
       "      <td>0.0</td>\n",
       "      <td>Pessoa Física</td>\n",
       "      <td>M</td>\n",
       "      <td>None</td>\n",
       "      <td>100017901</td>\n",
       "      <td>HEPATOVIT ABACAXI 10ML VITAMEDIC AV*</td>\n",
       "      <td>MEDICAMENTOS</td>\n",
       "      <td>SIMILAR AVULSO</td>\n",
       "      <td>190</td>\n",
       "      <td>RS</td>\n",
       "      <td>80400</td>\n",
       "      <td>PORTO ALEGRE</td>\n",
       "      <td>2024-03-09 10:18:51.000</td>\n",
       "      <td>1.0</td>\n",
       "      <td>NaN</td>\n",
       "      <td>1.59</td>\n",
       "      <td>0.00</td>\n",
       "      <td>1.59</td>\n",
       "      <td>1.59</td>\n",
       "    </tr>\n",
       "    <tr>\n",
       "      <th>5</th>\n",
       "      <td>15949</td>\n",
       "      <td>0.0</td>\n",
       "      <td>Pessoa Física</td>\n",
       "      <td>M</td>\n",
       "      <td>None</td>\n",
       "      <td>100012979</td>\n",
       "      <td>ESTOMAZIL 5G ENV EFERV GUARANA HYPERA</td>\n",
       "      <td>MEDICAMENTOS</td>\n",
       "      <td>REFERENCIA AVULSO</td>\n",
       "      <td>190</td>\n",
       "      <td>RS</td>\n",
       "      <td>80400</td>\n",
       "      <td>PORTO ALEGRE</td>\n",
       "      <td>2024-03-09 10:18:51.000</td>\n",
       "      <td>1.0</td>\n",
       "      <td>NaN</td>\n",
       "      <td>3.10</td>\n",
       "      <td>0.00</td>\n",
       "      <td>3.10</td>\n",
       "      <td>3.10</td>\n",
       "    </tr>\n",
       "    <tr>\n",
       "      <th>6</th>\n",
       "      <td>15949</td>\n",
       "      <td>0.0</td>\n",
       "      <td>Pessoa Física</td>\n",
       "      <td>M</td>\n",
       "      <td>None</td>\n",
       "      <td>10095671</td>\n",
       "      <td>ESTOMAZIL 5G ENV EFERV LARANJA HYPERA</td>\n",
       "      <td>MEDICAMENTOS</td>\n",
       "      <td>REFERENCIA AVULSO</td>\n",
       "      <td>190</td>\n",
       "      <td>RS</td>\n",
       "      <td>80400</td>\n",
       "      <td>PORTO ALEGRE</td>\n",
       "      <td>2024-03-09 10:18:51.000</td>\n",
       "      <td>1.0</td>\n",
       "      <td>NaN</td>\n",
       "      <td>3.10</td>\n",
       "      <td>0.00</td>\n",
       "      <td>3.10</td>\n",
       "      <td>3.10</td>\n",
       "    </tr>\n",
       "    <tr>\n",
       "      <th>7</th>\n",
       "      <td>15949</td>\n",
       "      <td>46394621.0</td>\n",
       "      <td>Pessoa Física</td>\n",
       "      <td>F</td>\n",
       "      <td>1973-07-12</td>\n",
       "      <td>1706</td>\n",
       "      <td>NEOVLAR 0,25+0,05MG 21DRG GEN</td>\n",
       "      <td>MEDICAMENTOS</td>\n",
       "      <td>ANTICONCEPCIONAIS ONEROSOS</td>\n",
       "      <td>496</td>\n",
       "      <td>RS</td>\n",
       "      <td>80400</td>\n",
       "      <td>PORTO ALEGRE</td>\n",
       "      <td>2024-03-12 11:08:03.000</td>\n",
       "      <td>1.0</td>\n",
       "      <td>NaN</td>\n",
       "      <td>9.01</td>\n",
       "      <td>0.00</td>\n",
       "      <td>9.01</td>\n",
       "      <td>9.01</td>\n",
       "    </tr>\n",
       "    <tr>\n",
       "      <th>8</th>\n",
       "      <td>15949</td>\n",
       "      <td>26224238.0</td>\n",
       "      <td>Pessoa Física</td>\n",
       "      <td>M</td>\n",
       "      <td>1962-10-02</td>\n",
       "      <td>10037576</td>\n",
       "      <td>MEL DE ABELHA FLORA NECTAR 280G</td>\n",
       "      <td>MEDICAMENTOS</td>\n",
       "      <td>LIBERADOS</td>\n",
       "      <td>1075</td>\n",
       "      <td>RS</td>\n",
       "      <td>80400</td>\n",
       "      <td>PORTO ALEGRE</td>\n",
       "      <td>2024-03-13 20:22:07.000</td>\n",
       "      <td>1.0</td>\n",
       "      <td>NaN</td>\n",
       "      <td>14.90</td>\n",
       "      <td>0.00</td>\n",
       "      <td>14.90</td>\n",
       "      <td>14.90</td>\n",
       "    </tr>\n",
       "    <tr>\n",
       "      <th>9</th>\n",
       "      <td>15949</td>\n",
       "      <td>26224238.0</td>\n",
       "      <td>Pessoa Física</td>\n",
       "      <td>M</td>\n",
       "      <td>1962-10-02</td>\n",
       "      <td>11154</td>\n",
       "      <td>SORO FISIOLOGICO 0,9</td>\n",
       "      <td>MEDICAMENTOS</td>\n",
       "      <td>HOSPITALARES</td>\n",
       "      <td>1075</td>\n",
       "      <td>RS</td>\n",
       "      <td>80400</td>\n",
       "      <td>PORTO ALEGRE</td>\n",
       "      <td>2024-03-13 20:22:07.000</td>\n",
       "      <td>1.0</td>\n",
       "      <td>NaN</td>\n",
       "      <td>17.99</td>\n",
       "      <td>0.00</td>\n",
       "      <td>17.99</td>\n",
       "      <td>17.99</td>\n",
       "    </tr>\n",
       "    <tr>\n",
       "      <th>10</th>\n",
       "      <td>15949</td>\n",
       "      <td>26224238.0</td>\n",
       "      <td>Pessoa Física</td>\n",
       "      <td>M</td>\n",
       "      <td>1962-10-02</td>\n",
       "      <td>11154</td>\n",
       "      <td>SORO FISIOLOGICO 0,9</td>\n",
       "      <td>MEDICAMENTOS</td>\n",
       "      <td>HOSPITALARES</td>\n",
       "      <td>1075</td>\n",
       "      <td>RS</td>\n",
       "      <td>80400</td>\n",
       "      <td>PORTO ALEGRE</td>\n",
       "      <td>2024-03-13 20:22:07.000</td>\n",
       "      <td>1.0</td>\n",
       "      <td>NaN</td>\n",
       "      <td>17.99</td>\n",
       "      <td>0.00</td>\n",
       "      <td>17.99</td>\n",
       "      <td>17.99</td>\n",
       "    </tr>\n",
       "    <tr>\n",
       "      <th>11</th>\n",
       "      <td>15949</td>\n",
       "      <td>26224238.0</td>\n",
       "      <td>Pessoa Física</td>\n",
       "      <td>M</td>\n",
       "      <td>1962-10-02</td>\n",
       "      <td>10037576</td>\n",
       "      <td>MEL DE ABELHA FLORA NECTAR 280G</td>\n",
       "      <td>MEDICAMENTOS</td>\n",
       "      <td>LIBERADOS</td>\n",
       "      <td>1075</td>\n",
       "      <td>RS</td>\n",
       "      <td>80400</td>\n",
       "      <td>PORTO ALEGRE</td>\n",
       "      <td>2024-03-13 20:22:07.000</td>\n",
       "      <td>1.0</td>\n",
       "      <td>NaN</td>\n",
       "      <td>14.90</td>\n",
       "      <td>0.00</td>\n",
       "      <td>14.90</td>\n",
       "      <td>14.90</td>\n",
       "    </tr>\n",
       "    <tr>\n",
       "      <th>12</th>\n",
       "      <td>15949</td>\n",
       "      <td>54939987.0</td>\n",
       "      <td>Pessoa Física</td>\n",
       "      <td>M</td>\n",
       "      <td>1942-07-27</td>\n",
       "      <td>100005966</td>\n",
       "      <td>LC HID MONANGE 400ML</td>\n",
       "      <td>PERFUMARIA</td>\n",
       "      <td>PERFUMARIA</td>\n",
       "      <td>1400</td>\n",
       "      <td>RS</td>\n",
       "      <td>80400</td>\n",
       "      <td>PORTO ALEGRE</td>\n",
       "      <td>2024-04-17 15:09:23.000</td>\n",
       "      <td>1.0</td>\n",
       "      <td>100301490.0</td>\n",
       "      <td>19.59</td>\n",
       "      <td>2.60</td>\n",
       "      <td>19.59</td>\n",
       "      <td>16.99</td>\n",
       "    </tr>\n",
       "    <tr>\n",
       "      <th>13</th>\n",
       "      <td>15949</td>\n",
       "      <td>54939987.0</td>\n",
       "      <td>Pessoa Física</td>\n",
       "      <td>M</td>\n",
       "      <td>1942-07-27</td>\n",
       "      <td>10031071</td>\n",
       "      <td>PILHA PHILIPS ALCALINA AAA 1.5V C/ 2UN</td>\n",
       "      <td>CONVENIENCIA</td>\n",
       "      <td>CONVENIENCIA BAZAR</td>\n",
       "      <td>1400</td>\n",
       "      <td>RS</td>\n",
       "      <td>80400</td>\n",
       "      <td>PORTO ALEGRE</td>\n",
       "      <td>2024-04-17 15:09:23.000</td>\n",
       "      <td>1.0</td>\n",
       "      <td>NaN</td>\n",
       "      <td>11.90</td>\n",
       "      <td>0.00</td>\n",
       "      <td>11.90</td>\n",
       "      <td>11.90</td>\n",
       "    </tr>\n",
       "    <tr>\n",
       "      <th>14</th>\n",
       "      <td>15949</td>\n",
       "      <td>54939987.0</td>\n",
       "      <td>Pessoa Física</td>\n",
       "      <td>M</td>\n",
       "      <td>1942-07-27</td>\n",
       "      <td>10103494</td>\n",
       "      <td>LC HID MONANGE 400ML FLOR DE LAVANDA</td>\n",
       "      <td>PERFUMARIA</td>\n",
       "      <td>PERFUMARIA</td>\n",
       "      <td>1400</td>\n",
       "      <td>RS</td>\n",
       "      <td>80400</td>\n",
       "      <td>PORTO ALEGRE</td>\n",
       "      <td>2024-04-17 15:09:23.000</td>\n",
       "      <td>1.0</td>\n",
       "      <td>100301488.0</td>\n",
       "      <td>19.59</td>\n",
       "      <td>2.60</td>\n",
       "      <td>19.59</td>\n",
       "      <td>16.99</td>\n",
       "    </tr>\n",
       "    <tr>\n",
       "      <th>15</th>\n",
       "      <td>15949</td>\n",
       "      <td>54939987.0</td>\n",
       "      <td>Pessoa Física</td>\n",
       "      <td>M</td>\n",
       "      <td>1942-07-27</td>\n",
       "      <td>10024785</td>\n",
       "      <td>TOALHAS UMED SNOW BA</td>\n",
       "      <td>PERFUMARIA</td>\n",
       "      <td>LENCOS E TOALHAS UMEDECIDAS</td>\n",
       "      <td>1400</td>\n",
       "      <td>RS</td>\n",
       "      <td>80400</td>\n",
       "      <td>PORTO ALEGRE</td>\n",
       "      <td>2024-04-17 15:09:23.000</td>\n",
       "      <td>2.0</td>\n",
       "      <td>NaN</td>\n",
       "      <td>17.99</td>\n",
       "      <td>0.00</td>\n",
       "      <td>35.98</td>\n",
       "      <td>35.98</td>\n",
       "    </tr>\n",
       "    <tr>\n",
       "      <th>16</th>\n",
       "      <td>15949</td>\n",
       "      <td>54939987.0</td>\n",
       "      <td>Pessoa Física</td>\n",
       "      <td>M</td>\n",
       "      <td>1942-07-27</td>\n",
       "      <td>10102364</td>\n",
       "      <td>MILGAMMA 150MG 30DRG</td>\n",
       "      <td>MEDICAMENTOS</td>\n",
       "      <td>REFERENCIA ONEROSOS</td>\n",
       "      <td>1400</td>\n",
       "      <td>RS</td>\n",
       "      <td>80400</td>\n",
       "      <td>PORTO ALEGRE</td>\n",
       "      <td>2024-04-17 15:09:23.000</td>\n",
       "      <td>1.0</td>\n",
       "      <td>NaN</td>\n",
       "      <td>92.70</td>\n",
       "      <td>18.54</td>\n",
       "      <td>92.70</td>\n",
       "      <td>74.16</td>\n",
       "    </tr>\n",
       "    <tr>\n",
       "      <th>17</th>\n",
       "      <td>15949</td>\n",
       "      <td>54939987.0</td>\n",
       "      <td>Pessoa Física</td>\n",
       "      <td>M</td>\n",
       "      <td>1942-07-27</td>\n",
       "      <td>10005453</td>\n",
       "      <td>NISTATINA+OXID ZINCO 60G GEN CIMED</td>\n",
       "      <td>MEDICAMENTOS</td>\n",
       "      <td>GENERICOS OTC/MIP</td>\n",
       "      <td>1400</td>\n",
       "      <td>RS</td>\n",
       "      <td>80400</td>\n",
       "      <td>PORTO ALEGRE</td>\n",
       "      <td>2024-04-17 15:09:23.000</td>\n",
       "      <td>3.0</td>\n",
       "      <td>100322590.0</td>\n",
       "      <td>31.49</td>\n",
       "      <td>51.60</td>\n",
       "      <td>94.47</td>\n",
       "      <td>42.87</td>\n",
       "    </tr>\n",
       "    <tr>\n",
       "      <th>18</th>\n",
       "      <td>15949</td>\n",
       "      <td>54939987.0</td>\n",
       "      <td>Pessoa Física</td>\n",
       "      <td>M</td>\n",
       "      <td>1942-07-27</td>\n",
       "      <td>10010204</td>\n",
       "      <td>VENAFLON 450+50MG 60</td>\n",
       "      <td>MEDICAMENTOS</td>\n",
       "      <td>SIMILAR</td>\n",
       "      <td>1400</td>\n",
       "      <td>RS</td>\n",
       "      <td>80400</td>\n",
       "      <td>PORTO ALEGRE</td>\n",
       "      <td>2024-04-17 15:09:23.000</td>\n",
       "      <td>1.0</td>\n",
       "      <td>NaN</td>\n",
       "      <td>89.90</td>\n",
       "      <td>22.48</td>\n",
       "      <td>89.90</td>\n",
       "      <td>67.42</td>\n",
       "    </tr>\n",
       "    <tr>\n",
       "      <th>19</th>\n",
       "      <td>15949</td>\n",
       "      <td>22285928.0</td>\n",
       "      <td>Pessoa Física</td>\n",
       "      <td>M</td>\n",
       "      <td>1985-02-10</td>\n",
       "      <td>10024690</td>\n",
       "      <td>LAVA ROUPAS OMO LIQ</td>\n",
       "      <td>CONVENIENCIA</td>\n",
       "      <td>CONVENIENCIA BAZAR</td>\n",
       "      <td>1446</td>\n",
       "      <td>RS</td>\n",
       "      <td>80400</td>\n",
       "      <td>PORTO ALEGRE</td>\n",
       "      <td>2024-05-08 10:13:50.493</td>\n",
       "      <td>1.0</td>\n",
       "      <td>NaN</td>\n",
       "      <td>19.90</td>\n",
       "      <td>0.00</td>\n",
       "      <td>19.90</td>\n",
       "      <td>19.90</td>\n",
       "    </tr>\n",
       "    <tr>\n",
       "      <th>20</th>\n",
       "      <td>15949</td>\n",
       "      <td>NaN</td>\n",
       "      <td>None</td>\n",
       "      <td>None</td>\n",
       "      <td>None</td>\n",
       "      <td>10019572</td>\n",
       "      <td>DOZEMAST SL 1000MCG</td>\n",
       "      <td>MEDICAMENTOS</td>\n",
       "      <td>REFERENCIA ONEROSOS</td>\n",
       "      <td>130</td>\n",
       "      <td>RS</td>\n",
       "      <td>80400</td>\n",
       "      <td>PORTO ALEGRE</td>\n",
       "      <td>2024-06-12 16:14:20.129</td>\n",
       "      <td>1.0</td>\n",
       "      <td>NaN</td>\n",
       "      <td>102.50</td>\n",
       "      <td>23.58</td>\n",
       "      <td>102.50</td>\n",
       "      <td>78.92</td>\n",
       "    </tr>\n",
       "    <tr>\n",
       "      <th>21</th>\n",
       "      <td>15949</td>\n",
       "      <td>NaN</td>\n",
       "      <td>None</td>\n",
       "      <td>None</td>\n",
       "      <td>None</td>\n",
       "      <td>94266</td>\n",
       "      <td>NEUTROFER 150MG 30CP</td>\n",
       "      <td>MEDICAMENTOS</td>\n",
       "      <td>REFERENCIA ONEROSOS</td>\n",
       "      <td>130</td>\n",
       "      <td>RS</td>\n",
       "      <td>80400</td>\n",
       "      <td>PORTO ALEGRE</td>\n",
       "      <td>2024-06-12 16:14:20.129</td>\n",
       "      <td>1.0</td>\n",
       "      <td>NaN</td>\n",
       "      <td>34.67</td>\n",
       "      <td>7.97</td>\n",
       "      <td>34.67</td>\n",
       "      <td>26.70</td>\n",
       "    </tr>\n",
       "  </tbody>\n",
       "</table>\n",
       "</div>"
      ],
      "text/plain": [
       "    COD_CUPOM  COD_CLIENTE CLIENTE_FISICO_JURIDICO SEXO_CLIENTE  \\\n",
       "0       15949   40770136.0           Pessoa Física            F   \n",
       "1       15949   40770136.0           Pessoa Física            F   \n",
       "2       15949   29152878.0           Pessoa Física            M   \n",
       "3       15949   29152878.0           Pessoa Física            M   \n",
       "4       15949          0.0           Pessoa Física            M   \n",
       "5       15949          0.0           Pessoa Física            M   \n",
       "6       15949          0.0           Pessoa Física            M   \n",
       "7       15949   46394621.0           Pessoa Física            F   \n",
       "8       15949   26224238.0           Pessoa Física            M   \n",
       "9       15949   26224238.0           Pessoa Física            M   \n",
       "10      15949   26224238.0           Pessoa Física            M   \n",
       "11      15949   26224238.0           Pessoa Física            M   \n",
       "12      15949   54939987.0           Pessoa Física            M   \n",
       "13      15949   54939987.0           Pessoa Física            M   \n",
       "14      15949   54939987.0           Pessoa Física            M   \n",
       "15      15949   54939987.0           Pessoa Física            M   \n",
       "16      15949   54939987.0           Pessoa Física            M   \n",
       "17      15949   54939987.0           Pessoa Física            M   \n",
       "18      15949   54939987.0           Pessoa Física            M   \n",
       "19      15949   22285928.0           Pessoa Física            M   \n",
       "20      15949          NaN                    None         None   \n",
       "21      15949          NaN                    None         None   \n",
       "\n",
       "   DTNASCIMENTO_CLIENTE    COD_SKU                                       SKU  \\\n",
       "0            1997-06-17   10036714  LAVA ROUPAS TIXAN YPE LIQ 900ML PRIMAVER   \n",
       "1            1997-06-17   10020374       ENERGETICO MONSTER MANGO LOCO 473ML   \n",
       "2            1985-07-19      93316      LORATADINA 10MG 12CP LORATAMED CIMED   \n",
       "3            1985-07-19      11864       DORFLEX 300+35+50MG 10CP OPELLA AV*   \n",
       "4                  None  100017901      HEPATOVIT ABACAXI 10ML VITAMEDIC AV*   \n",
       "5                  None  100012979     ESTOMAZIL 5G ENV EFERV GUARANA HYPERA   \n",
       "6                  None   10095671     ESTOMAZIL 5G ENV EFERV LARANJA HYPERA   \n",
       "7            1973-07-12       1706             NEOVLAR 0,25+0,05MG 21DRG GEN   \n",
       "8            1962-10-02   10037576           MEL DE ABELHA FLORA NECTAR 280G   \n",
       "9            1962-10-02      11154                      SORO FISIOLOGICO 0,9   \n",
       "10           1962-10-02      11154                      SORO FISIOLOGICO 0,9   \n",
       "11           1962-10-02   10037576           MEL DE ABELHA FLORA NECTAR 280G   \n",
       "12           1942-07-27  100005966                      LC HID MONANGE 400ML   \n",
       "13           1942-07-27   10031071    PILHA PHILIPS ALCALINA AAA 1.5V C/ 2UN   \n",
       "14           1942-07-27   10103494      LC HID MONANGE 400ML FLOR DE LAVANDA   \n",
       "15           1942-07-27   10024785                      TOALHAS UMED SNOW BA   \n",
       "16           1942-07-27   10102364                      MILGAMMA 150MG 30DRG   \n",
       "17           1942-07-27   10005453        NISTATINA+OXID ZINCO 60G GEN CIMED   \n",
       "18           1942-07-27   10010204                      VENAFLON 450+50MG 60   \n",
       "19           1985-02-10   10024690                       LAVA ROUPAS OMO LIQ   \n",
       "20                 None   10019572                       DOZEMAST SL 1000MCG   \n",
       "21                 None      94266                      NEUTROFER 150MG 30CP   \n",
       "\n",
       "   CATEGORIA_SKU             SUBCATEGORIA_SKU  COD_LOJA UF_CIDADE  COD_CIDADE  \\\n",
       "0   CONVENIENCIA           CONVENIENCIA BAZAR       249        RS       80400   \n",
       "1   CONVENIENCIA                      BEBIDAS       249        RS       80400   \n",
       "2   MEDICAMENTOS                      SIMILAR      1078        RS       80400   \n",
       "3   MEDICAMENTOS            REFERENCIA AVULSO      1078        RS       80400   \n",
       "4   MEDICAMENTOS               SIMILAR AVULSO       190        RS       80400   \n",
       "5   MEDICAMENTOS            REFERENCIA AVULSO       190        RS       80400   \n",
       "6   MEDICAMENTOS            REFERENCIA AVULSO       190        RS       80400   \n",
       "7   MEDICAMENTOS   ANTICONCEPCIONAIS ONEROSOS       496        RS       80400   \n",
       "8   MEDICAMENTOS                    LIBERADOS      1075        RS       80400   \n",
       "9   MEDICAMENTOS                 HOSPITALARES      1075        RS       80400   \n",
       "10  MEDICAMENTOS                 HOSPITALARES      1075        RS       80400   \n",
       "11  MEDICAMENTOS                    LIBERADOS      1075        RS       80400   \n",
       "12    PERFUMARIA                   PERFUMARIA      1400        RS       80400   \n",
       "13  CONVENIENCIA           CONVENIENCIA BAZAR      1400        RS       80400   \n",
       "14    PERFUMARIA                   PERFUMARIA      1400        RS       80400   \n",
       "15    PERFUMARIA  LENCOS E TOALHAS UMEDECIDAS      1400        RS       80400   \n",
       "16  MEDICAMENTOS          REFERENCIA ONEROSOS      1400        RS       80400   \n",
       "17  MEDICAMENTOS            GENERICOS OTC/MIP      1400        RS       80400   \n",
       "18  MEDICAMENTOS                      SIMILAR      1400        RS       80400   \n",
       "19  CONVENIENCIA           CONVENIENCIA BAZAR      1446        RS       80400   \n",
       "20  MEDICAMENTOS          REFERENCIA ONEROSOS       130        RS       80400   \n",
       "21  MEDICAMENTOS          REFERENCIA ONEROSOS       130        RS       80400   \n",
       "\n",
       "     NOME_CIDADE              DATA_CUPOM  UNIDADES  IDENTIFICADOR_PROMOCIONAL  \\\n",
       "0   PORTO ALEGRE 2024-02-07 12:29:54.000       1.0                100287211.0   \n",
       "1   PORTO ALEGRE 2024-02-07 12:29:54.000       3.0                100287234.0   \n",
       "2   PORTO ALEGRE 2024-02-24 22:55:48.000       1.0                        NaN   \n",
       "3   PORTO ALEGRE 2024-02-24 22:55:48.000       1.0                        NaN   \n",
       "4   PORTO ALEGRE 2024-03-09 10:18:51.000       1.0                        NaN   \n",
       "5   PORTO ALEGRE 2024-03-09 10:18:51.000       1.0                        NaN   \n",
       "6   PORTO ALEGRE 2024-03-09 10:18:51.000       1.0                        NaN   \n",
       "7   PORTO ALEGRE 2024-03-12 11:08:03.000       1.0                        NaN   \n",
       "8   PORTO ALEGRE 2024-03-13 20:22:07.000       1.0                        NaN   \n",
       "9   PORTO ALEGRE 2024-03-13 20:22:07.000       1.0                        NaN   \n",
       "10  PORTO ALEGRE 2024-03-13 20:22:07.000       1.0                        NaN   \n",
       "11  PORTO ALEGRE 2024-03-13 20:22:07.000       1.0                        NaN   \n",
       "12  PORTO ALEGRE 2024-04-17 15:09:23.000       1.0                100301490.0   \n",
       "13  PORTO ALEGRE 2024-04-17 15:09:23.000       1.0                        NaN   \n",
       "14  PORTO ALEGRE 2024-04-17 15:09:23.000       1.0                100301488.0   \n",
       "15  PORTO ALEGRE 2024-04-17 15:09:23.000       2.0                        NaN   \n",
       "16  PORTO ALEGRE 2024-04-17 15:09:23.000       1.0                        NaN   \n",
       "17  PORTO ALEGRE 2024-04-17 15:09:23.000       3.0                100322590.0   \n",
       "18  PORTO ALEGRE 2024-04-17 15:09:23.000       1.0                        NaN   \n",
       "19  PORTO ALEGRE 2024-05-08 10:13:50.493       1.0                        NaN   \n",
       "20  PORTO ALEGRE 2024-06-12 16:14:20.129       1.0                        NaN   \n",
       "21  PORTO ALEGRE 2024-06-12 16:14:20.129       1.0                        NaN   \n",
       "\n",
       "    PRECO_REGULAR  TOTAL_DESCONTO  TOTAL_BRUTO  TOTAL_LIQUIDO  \n",
       "0           12.90            4.00        12.90           8.90  \n",
       "1           10.00            6.30        30.00          23.70  \n",
       "2           13.90            0.00        13.90          13.90  \n",
       "3            7.57            0.00         7.57           7.57  \n",
       "4            1.59            0.00         1.59           1.59  \n",
       "5            3.10            0.00         3.10           3.10  \n",
       "6            3.10            0.00         3.10           3.10  \n",
       "7            9.01            0.00         9.01           9.01  \n",
       "8           14.90            0.00        14.90          14.90  \n",
       "9           17.99            0.00        17.99          17.99  \n",
       "10          17.99            0.00        17.99          17.99  \n",
       "11          14.90            0.00        14.90          14.90  \n",
       "12          19.59            2.60        19.59          16.99  \n",
       "13          11.90            0.00        11.90          11.90  \n",
       "14          19.59            2.60        19.59          16.99  \n",
       "15          17.99            0.00        35.98          35.98  \n",
       "16          92.70           18.54        92.70          74.16  \n",
       "17          31.49           51.60        94.47          42.87  \n",
       "18          89.90           22.48        89.90          67.42  \n",
       "19          19.90            0.00        19.90          19.90  \n",
       "20         102.50           23.58       102.50          78.92  \n",
       "21          34.67            7.97        34.67          26.70  "
      ]
     },
     "execution_count": 5,
     "metadata": {},
     "output_type": "execute_result"
    }
   ],
   "source": [
    "vendas[vendas.COD_CUPOM == 15949].sort_values(by='DATA_CUPOM').reset_index(drop=True)"
   ]
  },
  {
   "cell_type": "markdown",
   "metadata": {},
   "source": [
    "**We have rows were a lot of information about the user is missing. Sometimes, COD_CLIENTE, CLIENTE_FISICO_JURIDICO, SEXO_CLIENTE and DTNASCIMENTO_CLIENTE are all missing (indexes 20 & 21), which would result in a very difficult client inference. In the cases where some variables are given, the data inputation could be much much easier. A table with the client's data should be created. We could just drop them all if data inputation is to hard.**"
   ]
  },
  {
   "cell_type": "markdown",
   "metadata": {},
   "source": [
    "## Pricing Exploration"
   ]
  },
  {
   "cell_type": "code",
   "execution_count": 6,
   "metadata": {},
   "outputs": [
    {
     "data": {
      "text/html": [
       "<div>\n",
       "<style scoped>\n",
       "    .dataframe tbody tr th:only-of-type {\n",
       "        vertical-align: middle;\n",
       "    }\n",
       "\n",
       "    .dataframe tbody tr th {\n",
       "        vertical-align: top;\n",
       "    }\n",
       "\n",
       "    .dataframe thead th {\n",
       "        text-align: right;\n",
       "    }\n",
       "</style>\n",
       "<table border=\"1\" class=\"dataframe\">\n",
       "  <thead>\n",
       "    <tr style=\"text-align: right;\">\n",
       "      <th></th>\n",
       "      <th>COD_CUPOM</th>\n",
       "      <th>COD_CLIENTE</th>\n",
       "      <th>CLIENTE_FISICO_JURIDICO</th>\n",
       "      <th>SEXO_CLIENTE</th>\n",
       "      <th>DTNASCIMENTO_CLIENTE</th>\n",
       "      <th>COD_SKU</th>\n",
       "      <th>SKU</th>\n",
       "      <th>CATEGORIA_SKU</th>\n",
       "      <th>SUBCATEGORIA_SKU</th>\n",
       "      <th>COD_LOJA</th>\n",
       "      <th>UF_CIDADE</th>\n",
       "      <th>COD_CIDADE</th>\n",
       "      <th>NOME_CIDADE</th>\n",
       "      <th>DATA_CUPOM</th>\n",
       "      <th>UNIDADES</th>\n",
       "      <th>IDENTIFICADOR_PROMOCIONAL</th>\n",
       "      <th>PRECO_REGULAR</th>\n",
       "      <th>TOTAL_DESCONTO</th>\n",
       "      <th>TOTAL_BRUTO</th>\n",
       "      <th>TOTAL_LIQUIDO</th>\n",
       "    </tr>\n",
       "  </thead>\n",
       "  <tbody>\n",
       "  </tbody>\n",
       "</table>\n",
       "</div>"
      ],
      "text/plain": [
       "Empty DataFrame\n",
       "Columns: [COD_CUPOM, COD_CLIENTE, CLIENTE_FISICO_JURIDICO, SEXO_CLIENTE, DTNASCIMENTO_CLIENTE, COD_SKU, SKU, CATEGORIA_SKU, SUBCATEGORIA_SKU, COD_LOJA, UF_CIDADE, COD_CIDADE, NOME_CIDADE, DATA_CUPOM, UNIDADES, IDENTIFICADOR_PROMOCIONAL, PRECO_REGULAR, TOTAL_DESCONTO, TOTAL_BRUTO, TOTAL_LIQUIDO]\n",
       "Index: []"
      ]
     },
     "execution_count": 6,
     "metadata": {},
     "output_type": "execute_result"
    }
   ],
   "source": [
    "vendas[\n",
    "    (vendas.TOTAL_DESCONTO.isnull()) &\n",
    "    (vendas.IDENTIFICADOR_PROMOCIONAL.isnull()) &\n",
    "    (vendas.TOTAL_LIQUIDO != vendas.TOTAL_BRUTO)\n",
    "].reset_index(drop=True)"
   ]
  },
  {
   "cell_type": "code",
   "execution_count": 7,
   "metadata": {},
   "outputs": [
    {
     "data": {
      "text/html": [
       "<div>\n",
       "<style scoped>\n",
       "    .dataframe tbody tr th:only-of-type {\n",
       "        vertical-align: middle;\n",
       "    }\n",
       "\n",
       "    .dataframe tbody tr th {\n",
       "        vertical-align: top;\n",
       "    }\n",
       "\n",
       "    .dataframe thead th {\n",
       "        text-align: right;\n",
       "    }\n",
       "</style>\n",
       "<table border=\"1\" class=\"dataframe\">\n",
       "  <thead>\n",
       "    <tr style=\"text-align: right;\">\n",
       "      <th></th>\n",
       "      <th>COD_CUPOM</th>\n",
       "      <th>COD_CLIENTE</th>\n",
       "      <th>CLIENTE_FISICO_JURIDICO</th>\n",
       "      <th>SEXO_CLIENTE</th>\n",
       "      <th>DTNASCIMENTO_CLIENTE</th>\n",
       "      <th>COD_SKU</th>\n",
       "      <th>SKU</th>\n",
       "      <th>CATEGORIA_SKU</th>\n",
       "      <th>SUBCATEGORIA_SKU</th>\n",
       "      <th>COD_LOJA</th>\n",
       "      <th>UF_CIDADE</th>\n",
       "      <th>COD_CIDADE</th>\n",
       "      <th>NOME_CIDADE</th>\n",
       "      <th>DATA_CUPOM</th>\n",
       "      <th>UNIDADES</th>\n",
       "      <th>IDENTIFICADOR_PROMOCIONAL</th>\n",
       "      <th>PRECO_REGULAR</th>\n",
       "      <th>TOTAL_DESCONTO</th>\n",
       "      <th>TOTAL_BRUTO</th>\n",
       "      <th>TOTAL_LIQUIDO</th>\n",
       "    </tr>\n",
       "  </thead>\n",
       "  <tbody>\n",
       "  </tbody>\n",
       "</table>\n",
       "</div>"
      ],
      "text/plain": [
       "Empty DataFrame\n",
       "Columns: [COD_CUPOM, COD_CLIENTE, CLIENTE_FISICO_JURIDICO, SEXO_CLIENTE, DTNASCIMENTO_CLIENTE, COD_SKU, SKU, CATEGORIA_SKU, SUBCATEGORIA_SKU, COD_LOJA, UF_CIDADE, COD_CIDADE, NOME_CIDADE, DATA_CUPOM, UNIDADES, IDENTIFICADOR_PROMOCIONAL, PRECO_REGULAR, TOTAL_DESCONTO, TOTAL_BRUTO, TOTAL_LIQUIDO]\n",
       "Index: []"
      ]
     },
     "execution_count": 7,
     "metadata": {},
     "output_type": "execute_result"
    }
   ],
   "source": [
    "vendas[\n",
    "    ((vendas.PRECO_REGULAR * vendas.UNIDADES) != vendas.TOTAL_BRUTO) \n",
    "]"
   ]
  },
  {
   "cell_type": "markdown",
   "metadata": {},
   "source": [
    "**No error in prices. Not having a promotion code means the product is not in a selling campaing, which not always means it won't have any discount. The point is there aren't any rows where no discount was given, the product was in a promotion and yet the price paid was different than the full price. This is good, we don't have any price problem.**"
   ]
  },
  {
   "cell_type": "markdown",
   "metadata": {},
   "source": [
    "## Is COD_CUPOM a primary key for the sales? "
   ]
  },
  {
   "cell_type": "code",
   "execution_count": 8,
   "metadata": {},
   "outputs": [
    {
     "data": {
      "application/vnd.plotly.v1+json": {
       "config": {
        "plotlyServerURL": "https://plot.ly"
       },
       "data": [
        {
         "marker": {
          "color": "blue"
         },
         "name": "Número de Clientes",
         "type": "bar",
         "x": [
          1,
          2,
          3,
          4,
          5,
          6,
          7,
          8,
          9,
          10,
          11,
          12,
          13
         ],
         "xaxis": "x",
         "y": [
          98841,
          142911,
          194155,
          171444,
          144560,
          57937,
          49455,
          41544,
          31079,
          11957,
          4546,
          2750,
          653
         ],
         "yaxis": "y"
        },
        {
         "marker": {
          "color": "orange"
         },
         "name": "Número de Datas",
         "type": "bar",
         "x": [
          1,
          2,
          3,
          4,
          5,
          6,
          7,
          8,
          9,
          10,
          11,
          12,
          13
         ],
         "xaxis": "x",
         "y": [
          93950,
          129153,
          183518,
          165075,
          161314,
          54008,
          45544,
          43592,
          42247,
          19632,
          5540,
          6198,
          2061
         ],
         "yaxis": "y"
        },
        {
         "marker": {
          "color": "blue"
         },
         "name": "Número de Clientes",
         "type": "bar",
         "x": [
          1,
          2,
          3,
          4,
          5,
          6,
          7,
          8,
          9,
          10,
          11,
          12,
          13
         ],
         "xaxis": "x2",
         "y": [
          98841,
          142911,
          194155,
          171444,
          144560,
          57937,
          49455,
          41544,
          31079,
          11957,
          4546,
          2750,
          653
         ],
         "yaxis": "y2"
        },
        {
         "marker": {
          "color": "green"
         },
         "name": "Número de Lojas",
         "type": "bar",
         "x": [
          1,
          2,
          3,
          4,
          5,
          6,
          7,
          8,
          9,
          10,
          11,
          12,
          13
         ],
         "xaxis": "x2",
         "y": [
          93950,
          129153,
          183518,
          165075,
          161314,
          54008,
          45544,
          43592,
          42247,
          19632,
          5539,
          6199,
          2061
         ],
         "yaxis": "y2"
        },
        {
         "marker": {
          "color": "orange"
         },
         "name": "Número de Datas",
         "type": "bar",
         "x": [
          1,
          2,
          3,
          4,
          5,
          6,
          7,
          8,
          9,
          10,
          11,
          12,
          13
         ],
         "xaxis": "x3",
         "y": [
          93950,
          129153,
          183518,
          165075,
          161314,
          54008,
          45544,
          43592,
          42247,
          19632,
          5540,
          6198,
          2061
         ],
         "yaxis": "y3"
        },
        {
         "marker": {
          "color": "green"
         },
         "name": "Número de Lojas",
         "type": "bar",
         "x": [
          1,
          2,
          3,
          4,
          5,
          6,
          7,
          8,
          9,
          10,
          11,
          12,
          13
         ],
         "xaxis": "x3",
         "y": [
          93950,
          129153,
          183518,
          165075,
          161314,
          54008,
          45544,
          43592,
          42247,
          19632,
          5539,
          6199,
          2061
         ],
         "yaxis": "y3"
        }
       ],
       "layout": {
        "annotations": [
         {
          "font": {
           "size": 16
          },
          "showarrow": false,
          "text": "Número de Clientes e Datas por Compra",
          "x": 0.5,
          "xanchor": "center",
          "xref": "paper",
          "y": 1,
          "yanchor": "bottom",
          "yref": "paper"
         },
         {
          "font": {
           "size": 16
          },
          "showarrow": false,
          "text": "Número de Clientes e Lojas por Compra",
          "x": 0.5,
          "xanchor": "center",
          "xref": "paper",
          "y": 0.6111111111111112,
          "yanchor": "bottom",
          "yref": "paper"
         },
         {
          "font": {
           "size": 16
          },
          "showarrow": false,
          "text": "Número de Datas e Lojas por Compra",
          "x": 0.5,
          "xanchor": "center",
          "xref": "paper",
          "y": 0.22222222222222224,
          "yanchor": "bottom",
          "yref": "paper"
         }
        ],
        "height": 900,
        "showlegend": true,
        "template": {
         "data": {
          "bar": [
           {
            "error_x": {
             "color": "#2a3f5f"
            },
            "error_y": {
             "color": "#2a3f5f"
            },
            "marker": {
             "line": {
              "color": "#E5ECF6",
              "width": 0.5
             },
             "pattern": {
              "fillmode": "overlay",
              "size": 10,
              "solidity": 0.2
             }
            },
            "type": "bar"
           }
          ],
          "barpolar": [
           {
            "marker": {
             "line": {
              "color": "#E5ECF6",
              "width": 0.5
             },
             "pattern": {
              "fillmode": "overlay",
              "size": 10,
              "solidity": 0.2
             }
            },
            "type": "barpolar"
           }
          ],
          "carpet": [
           {
            "aaxis": {
             "endlinecolor": "#2a3f5f",
             "gridcolor": "white",
             "linecolor": "white",
             "minorgridcolor": "white",
             "startlinecolor": "#2a3f5f"
            },
            "baxis": {
             "endlinecolor": "#2a3f5f",
             "gridcolor": "white",
             "linecolor": "white",
             "minorgridcolor": "white",
             "startlinecolor": "#2a3f5f"
            },
            "type": "carpet"
           }
          ],
          "choropleth": [
           {
            "colorbar": {
             "outlinewidth": 0,
             "ticks": ""
            },
            "type": "choropleth"
           }
          ],
          "contour": [
           {
            "colorbar": {
             "outlinewidth": 0,
             "ticks": ""
            },
            "colorscale": [
             [
              0,
              "#0d0887"
             ],
             [
              0.1111111111111111,
              "#46039f"
             ],
             [
              0.2222222222222222,
              "#7201a8"
             ],
             [
              0.3333333333333333,
              "#9c179e"
             ],
             [
              0.4444444444444444,
              "#bd3786"
             ],
             [
              0.5555555555555556,
              "#d8576b"
             ],
             [
              0.6666666666666666,
              "#ed7953"
             ],
             [
              0.7777777777777778,
              "#fb9f3a"
             ],
             [
              0.8888888888888888,
              "#fdca26"
             ],
             [
              1,
              "#f0f921"
             ]
            ],
            "type": "contour"
           }
          ],
          "contourcarpet": [
           {
            "colorbar": {
             "outlinewidth": 0,
             "ticks": ""
            },
            "type": "contourcarpet"
           }
          ],
          "heatmap": [
           {
            "colorbar": {
             "outlinewidth": 0,
             "ticks": ""
            },
            "colorscale": [
             [
              0,
              "#0d0887"
             ],
             [
              0.1111111111111111,
              "#46039f"
             ],
             [
              0.2222222222222222,
              "#7201a8"
             ],
             [
              0.3333333333333333,
              "#9c179e"
             ],
             [
              0.4444444444444444,
              "#bd3786"
             ],
             [
              0.5555555555555556,
              "#d8576b"
             ],
             [
              0.6666666666666666,
              "#ed7953"
             ],
             [
              0.7777777777777778,
              "#fb9f3a"
             ],
             [
              0.8888888888888888,
              "#fdca26"
             ],
             [
              1,
              "#f0f921"
             ]
            ],
            "type": "heatmap"
           }
          ],
          "heatmapgl": [
           {
            "colorbar": {
             "outlinewidth": 0,
             "ticks": ""
            },
            "colorscale": [
             [
              0,
              "#0d0887"
             ],
             [
              0.1111111111111111,
              "#46039f"
             ],
             [
              0.2222222222222222,
              "#7201a8"
             ],
             [
              0.3333333333333333,
              "#9c179e"
             ],
             [
              0.4444444444444444,
              "#bd3786"
             ],
             [
              0.5555555555555556,
              "#d8576b"
             ],
             [
              0.6666666666666666,
              "#ed7953"
             ],
             [
              0.7777777777777778,
              "#fb9f3a"
             ],
             [
              0.8888888888888888,
              "#fdca26"
             ],
             [
              1,
              "#f0f921"
             ]
            ],
            "type": "heatmapgl"
           }
          ],
          "histogram": [
           {
            "marker": {
             "pattern": {
              "fillmode": "overlay",
              "size": 10,
              "solidity": 0.2
             }
            },
            "type": "histogram"
           }
          ],
          "histogram2d": [
           {
            "colorbar": {
             "outlinewidth": 0,
             "ticks": ""
            },
            "colorscale": [
             [
              0,
              "#0d0887"
             ],
             [
              0.1111111111111111,
              "#46039f"
             ],
             [
              0.2222222222222222,
              "#7201a8"
             ],
             [
              0.3333333333333333,
              "#9c179e"
             ],
             [
              0.4444444444444444,
              "#bd3786"
             ],
             [
              0.5555555555555556,
              "#d8576b"
             ],
             [
              0.6666666666666666,
              "#ed7953"
             ],
             [
              0.7777777777777778,
              "#fb9f3a"
             ],
             [
              0.8888888888888888,
              "#fdca26"
             ],
             [
              1,
              "#f0f921"
             ]
            ],
            "type": "histogram2d"
           }
          ],
          "histogram2dcontour": [
           {
            "colorbar": {
             "outlinewidth": 0,
             "ticks": ""
            },
            "colorscale": [
             [
              0,
              "#0d0887"
             ],
             [
              0.1111111111111111,
              "#46039f"
             ],
             [
              0.2222222222222222,
              "#7201a8"
             ],
             [
              0.3333333333333333,
              "#9c179e"
             ],
             [
              0.4444444444444444,
              "#bd3786"
             ],
             [
              0.5555555555555556,
              "#d8576b"
             ],
             [
              0.6666666666666666,
              "#ed7953"
             ],
             [
              0.7777777777777778,
              "#fb9f3a"
             ],
             [
              0.8888888888888888,
              "#fdca26"
             ],
             [
              1,
              "#f0f921"
             ]
            ],
            "type": "histogram2dcontour"
           }
          ],
          "mesh3d": [
           {
            "colorbar": {
             "outlinewidth": 0,
             "ticks": ""
            },
            "type": "mesh3d"
           }
          ],
          "parcoords": [
           {
            "line": {
             "colorbar": {
              "outlinewidth": 0,
              "ticks": ""
             }
            },
            "type": "parcoords"
           }
          ],
          "pie": [
           {
            "automargin": true,
            "type": "pie"
           }
          ],
          "scatter": [
           {
            "fillpattern": {
             "fillmode": "overlay",
             "size": 10,
             "solidity": 0.2
            },
            "type": "scatter"
           }
          ],
          "scatter3d": [
           {
            "line": {
             "colorbar": {
              "outlinewidth": 0,
              "ticks": ""
             }
            },
            "marker": {
             "colorbar": {
              "outlinewidth": 0,
              "ticks": ""
             }
            },
            "type": "scatter3d"
           }
          ],
          "scattercarpet": [
           {
            "marker": {
             "colorbar": {
              "outlinewidth": 0,
              "ticks": ""
             }
            },
            "type": "scattercarpet"
           }
          ],
          "scattergeo": [
           {
            "marker": {
             "colorbar": {
              "outlinewidth": 0,
              "ticks": ""
             }
            },
            "type": "scattergeo"
           }
          ],
          "scattergl": [
           {
            "marker": {
             "colorbar": {
              "outlinewidth": 0,
              "ticks": ""
             }
            },
            "type": "scattergl"
           }
          ],
          "scattermapbox": [
           {
            "marker": {
             "colorbar": {
              "outlinewidth": 0,
              "ticks": ""
             }
            },
            "type": "scattermapbox"
           }
          ],
          "scatterpolar": [
           {
            "marker": {
             "colorbar": {
              "outlinewidth": 0,
              "ticks": ""
             }
            },
            "type": "scatterpolar"
           }
          ],
          "scatterpolargl": [
           {
            "marker": {
             "colorbar": {
              "outlinewidth": 0,
              "ticks": ""
             }
            },
            "type": "scatterpolargl"
           }
          ],
          "scatterternary": [
           {
            "marker": {
             "colorbar": {
              "outlinewidth": 0,
              "ticks": ""
             }
            },
            "type": "scatterternary"
           }
          ],
          "surface": [
           {
            "colorbar": {
             "outlinewidth": 0,
             "ticks": ""
            },
            "colorscale": [
             [
              0,
              "#0d0887"
             ],
             [
              0.1111111111111111,
              "#46039f"
             ],
             [
              0.2222222222222222,
              "#7201a8"
             ],
             [
              0.3333333333333333,
              "#9c179e"
             ],
             [
              0.4444444444444444,
              "#bd3786"
             ],
             [
              0.5555555555555556,
              "#d8576b"
             ],
             [
              0.6666666666666666,
              "#ed7953"
             ],
             [
              0.7777777777777778,
              "#fb9f3a"
             ],
             [
              0.8888888888888888,
              "#fdca26"
             ],
             [
              1,
              "#f0f921"
             ]
            ],
            "type": "surface"
           }
          ],
          "table": [
           {
            "cells": {
             "fill": {
              "color": "#EBF0F8"
             },
             "line": {
              "color": "white"
             }
            },
            "header": {
             "fill": {
              "color": "#C8D4E3"
             },
             "line": {
              "color": "white"
             }
            },
            "type": "table"
           }
          ]
         },
         "layout": {
          "annotationdefaults": {
           "arrowcolor": "#2a3f5f",
           "arrowhead": 0,
           "arrowwidth": 1
          },
          "autotypenumbers": "strict",
          "coloraxis": {
           "colorbar": {
            "outlinewidth": 0,
            "ticks": ""
           }
          },
          "colorscale": {
           "diverging": [
            [
             0,
             "#8e0152"
            ],
            [
             0.1,
             "#c51b7d"
            ],
            [
             0.2,
             "#de77ae"
            ],
            [
             0.3,
             "#f1b6da"
            ],
            [
             0.4,
             "#fde0ef"
            ],
            [
             0.5,
             "#f7f7f7"
            ],
            [
             0.6,
             "#e6f5d0"
            ],
            [
             0.7,
             "#b8e186"
            ],
            [
             0.8,
             "#7fbc41"
            ],
            [
             0.9,
             "#4d9221"
            ],
            [
             1,
             "#276419"
            ]
           ],
           "sequential": [
            [
             0,
             "#0d0887"
            ],
            [
             0.1111111111111111,
             "#46039f"
            ],
            [
             0.2222222222222222,
             "#7201a8"
            ],
            [
             0.3333333333333333,
             "#9c179e"
            ],
            [
             0.4444444444444444,
             "#bd3786"
            ],
            [
             0.5555555555555556,
             "#d8576b"
            ],
            [
             0.6666666666666666,
             "#ed7953"
            ],
            [
             0.7777777777777778,
             "#fb9f3a"
            ],
            [
             0.8888888888888888,
             "#fdca26"
            ],
            [
             1,
             "#f0f921"
            ]
           ],
           "sequentialminus": [
            [
             0,
             "#0d0887"
            ],
            [
             0.1111111111111111,
             "#46039f"
            ],
            [
             0.2222222222222222,
             "#7201a8"
            ],
            [
             0.3333333333333333,
             "#9c179e"
            ],
            [
             0.4444444444444444,
             "#bd3786"
            ],
            [
             0.5555555555555556,
             "#d8576b"
            ],
            [
             0.6666666666666666,
             "#ed7953"
            ],
            [
             0.7777777777777778,
             "#fb9f3a"
            ],
            [
             0.8888888888888888,
             "#fdca26"
            ],
            [
             1,
             "#f0f921"
            ]
           ]
          },
          "colorway": [
           "#636efa",
           "#EF553B",
           "#00cc96",
           "#ab63fa",
           "#FFA15A",
           "#19d3f3",
           "#FF6692",
           "#B6E880",
           "#FF97FF",
           "#FECB52"
          ],
          "font": {
           "color": "#2a3f5f"
          },
          "geo": {
           "bgcolor": "white",
           "lakecolor": "white",
           "landcolor": "#E5ECF6",
           "showlakes": true,
           "showland": true,
           "subunitcolor": "white"
          },
          "hoverlabel": {
           "align": "left"
          },
          "hovermode": "closest",
          "mapbox": {
           "style": "light"
          },
          "paper_bgcolor": "white",
          "plot_bgcolor": "#E5ECF6",
          "polar": {
           "angularaxis": {
            "gridcolor": "white",
            "linecolor": "white",
            "ticks": ""
           },
           "bgcolor": "#E5ECF6",
           "radialaxis": {
            "gridcolor": "white",
            "linecolor": "white",
            "ticks": ""
           }
          },
          "scene": {
           "xaxis": {
            "backgroundcolor": "#E5ECF6",
            "gridcolor": "white",
            "gridwidth": 2,
            "linecolor": "white",
            "showbackground": true,
            "ticks": "",
            "zerolinecolor": "white"
           },
           "yaxis": {
            "backgroundcolor": "#E5ECF6",
            "gridcolor": "white",
            "gridwidth": 2,
            "linecolor": "white",
            "showbackground": true,
            "ticks": "",
            "zerolinecolor": "white"
           },
           "zaxis": {
            "backgroundcolor": "#E5ECF6",
            "gridcolor": "white",
            "gridwidth": 2,
            "linecolor": "white",
            "showbackground": true,
            "ticks": "",
            "zerolinecolor": "white"
           }
          },
          "shapedefaults": {
           "line": {
            "color": "#2a3f5f"
           }
          },
          "ternary": {
           "aaxis": {
            "gridcolor": "white",
            "linecolor": "white",
            "ticks": ""
           },
           "baxis": {
            "gridcolor": "white",
            "linecolor": "white",
            "ticks": ""
           },
           "bgcolor": "#E5ECF6",
           "caxis": {
            "gridcolor": "white",
            "linecolor": "white",
            "ticks": ""
           }
          },
          "title": {
           "x": 0.05
          },
          "xaxis": {
           "automargin": true,
           "gridcolor": "white",
           "linecolor": "white",
           "ticks": "",
           "title": {
            "standoff": 15
           },
           "zerolinecolor": "white",
           "zerolinewidth": 2
          },
          "yaxis": {
           "automargin": true,
           "gridcolor": "white",
           "linecolor": "white",
           "ticks": "",
           "title": {
            "standoff": 15
           },
           "zerolinecolor": "white",
           "zerolinewidth": 2
          }
         }
        },
        "title": {
         "text": "Distribuição do Número por Compra"
        },
        "width": 800,
        "xaxis": {
         "anchor": "y",
         "domain": [
          0,
          1
         ],
         "matches": "x3",
         "showticklabels": false
        },
        "xaxis2": {
         "anchor": "y2",
         "domain": [
          0,
          1
         ],
         "matches": "x3",
         "showticklabels": false
        },
        "xaxis3": {
         "anchor": "y3",
         "domain": [
          0,
          1
         ]
        },
        "yaxis": {
         "anchor": "x",
         "domain": [
          0.7777777777777778,
          1
         ]
        },
        "yaxis2": {
         "anchor": "x2",
         "domain": [
          0.3888888888888889,
          0.6111111111111112
         ]
        },
        "yaxis3": {
         "anchor": "x3",
         "domain": [
          0,
          0.22222222222222224
         ]
        }
       }
      }
     },
     "metadata": {},
     "output_type": "display_data"
    }
   ],
   "source": [
    "unique_counts = vendas.groupby('COD_CUPOM').agg({\n",
    "    'COD_CLIENTE': 'nunique',\n",
    "    'DATA_CUPOM': 'nunique',\n",
    "    'COD_LOJA': 'nunique'\n",
    "})\n",
    "\n",
    "# Define the bins for histogram\n",
    "max_value = unique_counts.max().max()\n",
    "bins = np.arange(1, max_value + 2)\n",
    "\n",
    "# Calculate histograms\n",
    "freq_clientes, _ = np.histogram(unique_counts['COD_CLIENTE'], bins=bins)\n",
    "freq_datas, _ = np.histogram(unique_counts['DATA_CUPOM'], bins=bins)\n",
    "freq_lojas, _ = np.histogram(unique_counts['COD_LOJA'], bins=bins)\n",
    "\n",
    "# Create subplots\n",
    "fig = make_subplots(rows=3, cols=1, shared_xaxes=True,\n",
    "                    subplot_titles=(\"Número de Clientes e Datas por Compra\",\n",
    "                                    \"Número de Clientes e Lojas por Compra\",\n",
    "                                    \"Número de Datas e Lojas por Compra\"))\n",
    "\n",
    "# Plot Número de Clientes por Compra vs. Número de Datas por Compra\n",
    "fig.add_trace(go.Bar(x=bins[:-1], y=freq_clientes, name='Número de Clientes', marker_color='blue'), row=1, col=1)\n",
    "fig.add_trace(go.Bar(x=bins[:-1], y=freq_datas, name='Número de Datas', marker_color='orange'), row=1, col=1)\n",
    "\n",
    "# Plot Número de Clientes por Compra vs. Número de Lojas por Compra\n",
    "fig.add_trace(go.Bar(x=bins[:-1], y=freq_clientes, name='Número de Clientes', marker_color='blue'), row=2, col=1)\n",
    "fig.add_trace(go.Bar(x=bins[:-1], y=freq_lojas, name='Número de Lojas', marker_color='green'), row=2, col=1)\n",
    "\n",
    "# Plot Número de Datas por Compra vs. Número de Lojas por Compra\n",
    "fig.add_trace(go.Bar(x=bins[:-1], y=freq_datas, name='Número de Datas', marker_color='orange'), row=3, col=1)\n",
    "fig.add_trace(go.Bar(x=bins[:-1], y=freq_lojas, name='Número de Lojas', marker_color='green'), row=3, col=1)\n",
    "\n",
    "# Update layout\n",
    "fig.update_layout(height=900, width=800, title_text=\"Distribuição do Número por Compra\", showlegend=True)\n",
    "\n",
    "# Show the plot\n",
    "fig.show()"
   ]
  },
  {
   "cell_type": "markdown",
   "metadata": {},
   "source": [
    "**The presented charts reveal that there are purchases where the number of associated customers, dates, and stores are not consistent with each other. For example, some purchases have more than one customer, but the number of customers does not match the number of dates or the number of stores. This suggests that multiple transactions or records are being aggregated under the same purchase code (COD_CUPOM), but with significant variations in the associated attributes (customers, dates, and stores). This misalignment may indicate data integrity issues, such as errors in the way transactions are recorded or inconsistencies in how the data was aggregated. If these data are used for analyses, such as evaluating consumer behavior or sales efficiency in different stores, these inconsistencies may lead to inaccurate or misleading conclusions, compromising the quality of decisions based on these data. Therefore, it is essential to investigate and correct these discrepancies to ensure the accuracy and reliability of subsequent analyses.**"
   ]
  },
  {
   "cell_type": "markdown",
   "metadata": {},
   "source": [
    "## What's the distribution of purchases per client?"
   ]
  },
  {
   "cell_type": "code",
   "execution_count": 9,
   "metadata": {},
   "outputs": [
    {
     "data": {
      "application/vnd.plotly.v1+json": {
       "config": {
        "plotlyServerURL": "https://plot.ly"
       },
       "data": [
        {
         "alignmentgroup": "True",
         "hovertemplate": "Número de Compras por Cliente=%{x}<br>Frequência=%{y}<extra></extra>",
         "legendgroup": "1 compra",
         "marker": {
          "color": "#440154",
          "pattern": {
           "shape": ""
          }
         },
         "name": "1 compra",
         "offsetgroup": "1 compra",
         "orientation": "v",
         "showlegend": true,
         "textposition": "auto",
         "type": "bar",
         "x": [
          "1 compra"
         ],
         "xaxis": "x",
         "y": [
          291716
         ],
         "yaxis": "y"
        },
        {
         "alignmentgroup": "True",
         "hovertemplate": "Número de Compras por Cliente=%{x}<br>Frequência=%{y}<extra></extra>",
         "legendgroup": "2-4 compras",
         "marker": {
          "color": "#482878",
          "pattern": {
           "shape": ""
          }
         },
         "name": "2-4 compras",
         "offsetgroup": "2-4 compras",
         "orientation": "v",
         "showlegend": true,
         "textposition": "auto",
         "type": "bar",
         "x": [
          "2-4 compras"
         ],
         "xaxis": "x",
         "y": [
          279057
         ],
         "yaxis": "y"
        },
        {
         "alignmentgroup": "True",
         "hovertemplate": "Número de Compras por Cliente=%{x}<br>Frequência=%{y}<extra></extra>",
         "legendgroup": "5-10 compras",
         "marker": {
          "color": "#3e4989",
          "pattern": {
           "shape": ""
          }
         },
         "name": "5-10 compras",
         "offsetgroup": "5-10 compras",
         "orientation": "v",
         "showlegend": true,
         "textposition": "auto",
         "type": "bar",
         "x": [
          "5-10 compras"
         ],
         "xaxis": "x",
         "y": [
          133722
         ],
         "yaxis": "y"
        },
        {
         "alignmentgroup": "True",
         "hovertemplate": "Número de Compras por Cliente=%{x}<br>Frequência=%{y}<extra></extra>",
         "legendgroup": "10-20 compras",
         "marker": {
          "color": "#31688e",
          "pattern": {
           "shape": ""
          }
         },
         "name": "10-20 compras",
         "offsetgroup": "10-20 compras",
         "orientation": "v",
         "showlegend": true,
         "textposition": "auto",
         "type": "bar",
         "x": [
          "10-20 compras"
         ],
         "xaxis": "x",
         "y": [
          61061
         ],
         "yaxis": "y"
        },
        {
         "alignmentgroup": "True",
         "hovertemplate": "Número de Compras por Cliente=%{x}<br>Frequência=%{y}<extra></extra>",
         "legendgroup": "20-50 compras",
         "marker": {
          "color": "#26828e",
          "pattern": {
           "shape": ""
          }
         },
         "name": "20-50 compras",
         "offsetgroup": "20-50 compras",
         "orientation": "v",
         "showlegend": true,
         "textposition": "auto",
         "type": "bar",
         "x": [
          "20-50 compras"
         ],
         "xaxis": "x",
         "y": [
          15382
         ],
         "yaxis": "y"
        },
        {
         "alignmentgroup": "True",
         "hovertemplate": "Número de Compras por Cliente=%{x}<br>Frequência=%{y}<extra></extra>",
         "legendgroup": "50-100 compras",
         "marker": {
          "color": "#1f9e89",
          "pattern": {
           "shape": ""
          }
         },
         "name": "50-100 compras",
         "offsetgroup": "50-100 compras",
         "orientation": "v",
         "showlegend": true,
         "textposition": "auto",
         "type": "bar",
         "x": [
          "50-100 compras"
         ],
         "xaxis": "x",
         "y": [
          1157
         ],
         "yaxis": "y"
        },
        {
         "alignmentgroup": "True",
         "hovertemplate": "Número de Compras por Cliente=%{x}<br>Frequência=%{y}<extra></extra>",
         "legendgroup": "Mais de 100",
         "marker": {
          "color": "#35b779",
          "pattern": {
           "shape": ""
          }
         },
         "name": "Mais de 100",
         "offsetgroup": "Mais de 100",
         "orientation": "v",
         "showlegend": true,
         "textposition": "auto",
         "type": "bar",
         "x": [
          "Mais de 100"
         ],
         "xaxis": "x",
         "y": [
          891
         ],
         "yaxis": "y"
        }
       ],
       "layout": {
        "barmode": "relative",
        "height": 600,
        "legend": {
         "title": {
          "text": "Número de Compras por Cliente"
         },
         "tracegroupgap": 0
        },
        "template": {
         "data": {
          "bar": [
           {
            "error_x": {
             "color": "#2a3f5f"
            },
            "error_y": {
             "color": "#2a3f5f"
            },
            "marker": {
             "line": {
              "color": "#E5ECF6",
              "width": 0.5
             },
             "pattern": {
              "fillmode": "overlay",
              "size": 10,
              "solidity": 0.2
             }
            },
            "type": "bar"
           }
          ],
          "barpolar": [
           {
            "marker": {
             "line": {
              "color": "#E5ECF6",
              "width": 0.5
             },
             "pattern": {
              "fillmode": "overlay",
              "size": 10,
              "solidity": 0.2
             }
            },
            "type": "barpolar"
           }
          ],
          "carpet": [
           {
            "aaxis": {
             "endlinecolor": "#2a3f5f",
             "gridcolor": "white",
             "linecolor": "white",
             "minorgridcolor": "white",
             "startlinecolor": "#2a3f5f"
            },
            "baxis": {
             "endlinecolor": "#2a3f5f",
             "gridcolor": "white",
             "linecolor": "white",
             "minorgridcolor": "white",
             "startlinecolor": "#2a3f5f"
            },
            "type": "carpet"
           }
          ],
          "choropleth": [
           {
            "colorbar": {
             "outlinewidth": 0,
             "ticks": ""
            },
            "type": "choropleth"
           }
          ],
          "contour": [
           {
            "colorbar": {
             "outlinewidth": 0,
             "ticks": ""
            },
            "colorscale": [
             [
              0,
              "#0d0887"
             ],
             [
              0.1111111111111111,
              "#46039f"
             ],
             [
              0.2222222222222222,
              "#7201a8"
             ],
             [
              0.3333333333333333,
              "#9c179e"
             ],
             [
              0.4444444444444444,
              "#bd3786"
             ],
             [
              0.5555555555555556,
              "#d8576b"
             ],
             [
              0.6666666666666666,
              "#ed7953"
             ],
             [
              0.7777777777777778,
              "#fb9f3a"
             ],
             [
              0.8888888888888888,
              "#fdca26"
             ],
             [
              1,
              "#f0f921"
             ]
            ],
            "type": "contour"
           }
          ],
          "contourcarpet": [
           {
            "colorbar": {
             "outlinewidth": 0,
             "ticks": ""
            },
            "type": "contourcarpet"
           }
          ],
          "heatmap": [
           {
            "colorbar": {
             "outlinewidth": 0,
             "ticks": ""
            },
            "colorscale": [
             [
              0,
              "#0d0887"
             ],
             [
              0.1111111111111111,
              "#46039f"
             ],
             [
              0.2222222222222222,
              "#7201a8"
             ],
             [
              0.3333333333333333,
              "#9c179e"
             ],
             [
              0.4444444444444444,
              "#bd3786"
             ],
             [
              0.5555555555555556,
              "#d8576b"
             ],
             [
              0.6666666666666666,
              "#ed7953"
             ],
             [
              0.7777777777777778,
              "#fb9f3a"
             ],
             [
              0.8888888888888888,
              "#fdca26"
             ],
             [
              1,
              "#f0f921"
             ]
            ],
            "type": "heatmap"
           }
          ],
          "heatmapgl": [
           {
            "colorbar": {
             "outlinewidth": 0,
             "ticks": ""
            },
            "colorscale": [
             [
              0,
              "#0d0887"
             ],
             [
              0.1111111111111111,
              "#46039f"
             ],
             [
              0.2222222222222222,
              "#7201a8"
             ],
             [
              0.3333333333333333,
              "#9c179e"
             ],
             [
              0.4444444444444444,
              "#bd3786"
             ],
             [
              0.5555555555555556,
              "#d8576b"
             ],
             [
              0.6666666666666666,
              "#ed7953"
             ],
             [
              0.7777777777777778,
              "#fb9f3a"
             ],
             [
              0.8888888888888888,
              "#fdca26"
             ],
             [
              1,
              "#f0f921"
             ]
            ],
            "type": "heatmapgl"
           }
          ],
          "histogram": [
           {
            "marker": {
             "pattern": {
              "fillmode": "overlay",
              "size": 10,
              "solidity": 0.2
             }
            },
            "type": "histogram"
           }
          ],
          "histogram2d": [
           {
            "colorbar": {
             "outlinewidth": 0,
             "ticks": ""
            },
            "colorscale": [
             [
              0,
              "#0d0887"
             ],
             [
              0.1111111111111111,
              "#46039f"
             ],
             [
              0.2222222222222222,
              "#7201a8"
             ],
             [
              0.3333333333333333,
              "#9c179e"
             ],
             [
              0.4444444444444444,
              "#bd3786"
             ],
             [
              0.5555555555555556,
              "#d8576b"
             ],
             [
              0.6666666666666666,
              "#ed7953"
             ],
             [
              0.7777777777777778,
              "#fb9f3a"
             ],
             [
              0.8888888888888888,
              "#fdca26"
             ],
             [
              1,
              "#f0f921"
             ]
            ],
            "type": "histogram2d"
           }
          ],
          "histogram2dcontour": [
           {
            "colorbar": {
             "outlinewidth": 0,
             "ticks": ""
            },
            "colorscale": [
             [
              0,
              "#0d0887"
             ],
             [
              0.1111111111111111,
              "#46039f"
             ],
             [
              0.2222222222222222,
              "#7201a8"
             ],
             [
              0.3333333333333333,
              "#9c179e"
             ],
             [
              0.4444444444444444,
              "#bd3786"
             ],
             [
              0.5555555555555556,
              "#d8576b"
             ],
             [
              0.6666666666666666,
              "#ed7953"
             ],
             [
              0.7777777777777778,
              "#fb9f3a"
             ],
             [
              0.8888888888888888,
              "#fdca26"
             ],
             [
              1,
              "#f0f921"
             ]
            ],
            "type": "histogram2dcontour"
           }
          ],
          "mesh3d": [
           {
            "colorbar": {
             "outlinewidth": 0,
             "ticks": ""
            },
            "type": "mesh3d"
           }
          ],
          "parcoords": [
           {
            "line": {
             "colorbar": {
              "outlinewidth": 0,
              "ticks": ""
             }
            },
            "type": "parcoords"
           }
          ],
          "pie": [
           {
            "automargin": true,
            "type": "pie"
           }
          ],
          "scatter": [
           {
            "fillpattern": {
             "fillmode": "overlay",
             "size": 10,
             "solidity": 0.2
            },
            "type": "scatter"
           }
          ],
          "scatter3d": [
           {
            "line": {
             "colorbar": {
              "outlinewidth": 0,
              "ticks": ""
             }
            },
            "marker": {
             "colorbar": {
              "outlinewidth": 0,
              "ticks": ""
             }
            },
            "type": "scatter3d"
           }
          ],
          "scattercarpet": [
           {
            "marker": {
             "colorbar": {
              "outlinewidth": 0,
              "ticks": ""
             }
            },
            "type": "scattercarpet"
           }
          ],
          "scattergeo": [
           {
            "marker": {
             "colorbar": {
              "outlinewidth": 0,
              "ticks": ""
             }
            },
            "type": "scattergeo"
           }
          ],
          "scattergl": [
           {
            "marker": {
             "colorbar": {
              "outlinewidth": 0,
              "ticks": ""
             }
            },
            "type": "scattergl"
           }
          ],
          "scattermapbox": [
           {
            "marker": {
             "colorbar": {
              "outlinewidth": 0,
              "ticks": ""
             }
            },
            "type": "scattermapbox"
           }
          ],
          "scatterpolar": [
           {
            "marker": {
             "colorbar": {
              "outlinewidth": 0,
              "ticks": ""
             }
            },
            "type": "scatterpolar"
           }
          ],
          "scatterpolargl": [
           {
            "marker": {
             "colorbar": {
              "outlinewidth": 0,
              "ticks": ""
             }
            },
            "type": "scatterpolargl"
           }
          ],
          "scatterternary": [
           {
            "marker": {
             "colorbar": {
              "outlinewidth": 0,
              "ticks": ""
             }
            },
            "type": "scatterternary"
           }
          ],
          "surface": [
           {
            "colorbar": {
             "outlinewidth": 0,
             "ticks": ""
            },
            "colorscale": [
             [
              0,
              "#0d0887"
             ],
             [
              0.1111111111111111,
              "#46039f"
             ],
             [
              0.2222222222222222,
              "#7201a8"
             ],
             [
              0.3333333333333333,
              "#9c179e"
             ],
             [
              0.4444444444444444,
              "#bd3786"
             ],
             [
              0.5555555555555556,
              "#d8576b"
             ],
             [
              0.6666666666666666,
              "#ed7953"
             ],
             [
              0.7777777777777778,
              "#fb9f3a"
             ],
             [
              0.8888888888888888,
              "#fdca26"
             ],
             [
              1,
              "#f0f921"
             ]
            ],
            "type": "surface"
           }
          ],
          "table": [
           {
            "cells": {
             "fill": {
              "color": "#EBF0F8"
             },
             "line": {
              "color": "white"
             }
            },
            "header": {
             "fill": {
              "color": "#C8D4E3"
             },
             "line": {
              "color": "white"
             }
            },
            "type": "table"
           }
          ]
         },
         "layout": {
          "annotationdefaults": {
           "arrowcolor": "#2a3f5f",
           "arrowhead": 0,
           "arrowwidth": 1
          },
          "autotypenumbers": "strict",
          "coloraxis": {
           "colorbar": {
            "outlinewidth": 0,
            "ticks": ""
           }
          },
          "colorscale": {
           "diverging": [
            [
             0,
             "#8e0152"
            ],
            [
             0.1,
             "#c51b7d"
            ],
            [
             0.2,
             "#de77ae"
            ],
            [
             0.3,
             "#f1b6da"
            ],
            [
             0.4,
             "#fde0ef"
            ],
            [
             0.5,
             "#f7f7f7"
            ],
            [
             0.6,
             "#e6f5d0"
            ],
            [
             0.7,
             "#b8e186"
            ],
            [
             0.8,
             "#7fbc41"
            ],
            [
             0.9,
             "#4d9221"
            ],
            [
             1,
             "#276419"
            ]
           ],
           "sequential": [
            [
             0,
             "#0d0887"
            ],
            [
             0.1111111111111111,
             "#46039f"
            ],
            [
             0.2222222222222222,
             "#7201a8"
            ],
            [
             0.3333333333333333,
             "#9c179e"
            ],
            [
             0.4444444444444444,
             "#bd3786"
            ],
            [
             0.5555555555555556,
             "#d8576b"
            ],
            [
             0.6666666666666666,
             "#ed7953"
            ],
            [
             0.7777777777777778,
             "#fb9f3a"
            ],
            [
             0.8888888888888888,
             "#fdca26"
            ],
            [
             1,
             "#f0f921"
            ]
           ],
           "sequentialminus": [
            [
             0,
             "#0d0887"
            ],
            [
             0.1111111111111111,
             "#46039f"
            ],
            [
             0.2222222222222222,
             "#7201a8"
            ],
            [
             0.3333333333333333,
             "#9c179e"
            ],
            [
             0.4444444444444444,
             "#bd3786"
            ],
            [
             0.5555555555555556,
             "#d8576b"
            ],
            [
             0.6666666666666666,
             "#ed7953"
            ],
            [
             0.7777777777777778,
             "#fb9f3a"
            ],
            [
             0.8888888888888888,
             "#fdca26"
            ],
            [
             1,
             "#f0f921"
            ]
           ]
          },
          "colorway": [
           "#636efa",
           "#EF553B",
           "#00cc96",
           "#ab63fa",
           "#FFA15A",
           "#19d3f3",
           "#FF6692",
           "#B6E880",
           "#FF97FF",
           "#FECB52"
          ],
          "font": {
           "color": "#2a3f5f"
          },
          "geo": {
           "bgcolor": "white",
           "lakecolor": "white",
           "landcolor": "#E5ECF6",
           "showlakes": true,
           "showland": true,
           "subunitcolor": "white"
          },
          "hoverlabel": {
           "align": "left"
          },
          "hovermode": "closest",
          "mapbox": {
           "style": "light"
          },
          "paper_bgcolor": "white",
          "plot_bgcolor": "#E5ECF6",
          "polar": {
           "angularaxis": {
            "gridcolor": "white",
            "linecolor": "white",
            "ticks": ""
           },
           "bgcolor": "#E5ECF6",
           "radialaxis": {
            "gridcolor": "white",
            "linecolor": "white",
            "ticks": ""
           }
          },
          "scene": {
           "xaxis": {
            "backgroundcolor": "#E5ECF6",
            "gridcolor": "white",
            "gridwidth": 2,
            "linecolor": "white",
            "showbackground": true,
            "ticks": "",
            "zerolinecolor": "white"
           },
           "yaxis": {
            "backgroundcolor": "#E5ECF6",
            "gridcolor": "white",
            "gridwidth": 2,
            "linecolor": "white",
            "showbackground": true,
            "ticks": "",
            "zerolinecolor": "white"
           },
           "zaxis": {
            "backgroundcolor": "#E5ECF6",
            "gridcolor": "white",
            "gridwidth": 2,
            "linecolor": "white",
            "showbackground": true,
            "ticks": "",
            "zerolinecolor": "white"
           }
          },
          "shapedefaults": {
           "line": {
            "color": "#2a3f5f"
           }
          },
          "ternary": {
           "aaxis": {
            "gridcolor": "white",
            "linecolor": "white",
            "ticks": ""
           },
           "baxis": {
            "gridcolor": "white",
            "linecolor": "white",
            "ticks": ""
           },
           "bgcolor": "#E5ECF6",
           "caxis": {
            "gridcolor": "white",
            "linecolor": "white",
            "ticks": ""
           }
          },
          "title": {
           "x": 0.05
          },
          "xaxis": {
           "automargin": true,
           "gridcolor": "white",
           "linecolor": "white",
           "ticks": "",
           "title": {
            "standoff": 15
           },
           "zerolinecolor": "white",
           "zerolinewidth": 2
          },
          "yaxis": {
           "automargin": true,
           "gridcolor": "white",
           "linecolor": "white",
           "ticks": "",
           "title": {
            "standoff": 15
           },
           "zerolinecolor": "white",
           "zerolinewidth": 2
          }
         }
        },
        "title": {
         "text": "Distribuição do Número de Compras por Código do Cliente"
        },
        "width": 800,
        "xaxis": {
         "anchor": "y",
         "categoryarray": [
          "1 compra",
          "2-4 compras",
          "5-10 compras",
          "10-20 compras",
          "20-50 compras",
          "50-100 compras",
          "Mais de 100"
         ],
         "categoryorder": "array",
         "domain": [
          0,
          1
         ],
         "tickangle": -45,
         "title": {
          "text": "Número de Compras por Cliente"
         }
        },
        "yaxis": {
         "anchor": "x",
         "domain": [
          0,
          1
         ],
         "title": {
          "text": "Frequência"
         }
        }
       }
      }
     },
     "metadata": {},
     "output_type": "display_data"
    }
   ],
   "source": [
    "compras_por_cliente = vendas.groupby('COD_CLIENTE')['COD_CUPOM'].nunique()\n",
    "\n",
    "# Define the bins and labels\n",
    "bins = [1, 2, 5, 10, 20, 50, 100, compras_por_cliente.max() + 1]\n",
    "labels = ['1 compra', '2-4 compras', '5-10 compras', '10-20 compras', '20-50 compras', '50-100 compras', 'Mais de 100']\n",
    "\n",
    "# Bin the data\n",
    "compras_por_cliente_binned = pd.cut(compras_por_cliente, bins=bins, labels=labels, right=False)\n",
    "\n",
    "# Create a DataFrame for plotting\n",
    "df_plot = compras_por_cliente_binned.value_counts().reset_index()\n",
    "df_plot.columns = ['Número de Compras por Cliente', 'Frequência']\n",
    "df_plot.sort_values('Número de Compras por Cliente', inplace=True)\n",
    "\n",
    "# Plot using Plotly Express\n",
    "fig = px.bar(df_plot, x='Número de Compras por Cliente', y='Frequência', \n",
    "             color='Número de Compras por Cliente', \n",
    "             title='Distribuição do Número de Compras por Código do Cliente',\n",
    "             labels={'Número de Compras por Cliente': 'Número de Compras por Cliente', 'Frequência': 'Frequência'},\n",
    "             color_discrete_sequence=px.colors.sequential.Viridis)\n",
    "\n",
    "# Customize layout\n",
    "fig.update_layout(xaxis_title='Número de Compras por Cliente', \n",
    "                  yaxis_title='Frequência',\n",
    "                  xaxis_tickangle=-45,\n",
    "                  width=800, height=600)\n",
    "\n",
    "fig.show()"
   ]
  },
  {
   "cell_type": "code",
   "execution_count": 10,
   "metadata": {},
   "outputs": [
    {
     "data": {
      "text/plain": [
       "min            1.000000\n",
       "mean           4.971531\n",
       "median         2.000000\n",
       "max       484719.000000\n",
       "Name: COD_CUPOM, dtype: float64"
      ]
     },
     "execution_count": 10,
     "metadata": {},
     "output_type": "execute_result"
    }
   ],
   "source": [
    "vendas.groupby('COD_CLIENTE')['COD_CUPOM'].nunique().agg(['min', 'mean', 'median', 'max'])"
   ]
  },
  {
   "cell_type": "markdown",
   "metadata": {},
   "source": [
    "**The vast majority of clients has up to 4 purchases. There's one client who appeared in more than 400.000 distinct COD_CUPOMs. Wtf?**. "
   ]
  },
  {
   "cell_type": "code",
   "execution_count": 11,
   "metadata": {},
   "outputs": [
    {
     "data": {
      "text/plain": [
       "COD_CLIENTE\n",
       "0.0    484719\n",
       "Name: COD_CUPOM, dtype: int64"
      ]
     },
     "execution_count": 11,
     "metadata": {},
     "output_type": "execute_result"
    }
   ],
   "source": [
    "compras_por_cliente = vendas.groupby('COD_CLIENTE')['COD_CUPOM'].nunique()\n",
    "compras_por_cliente.head(1)"
   ]
  },
  {
   "cell_type": "markdown",
   "metadata": {},
   "source": [
    "**Client with COD_CLIENTE 0.0 is the one. Ask them if this is a mistake, a test or something else. It obviously ain't a legit client.**"
   ]
  },
  {
   "cell_type": "markdown",
   "metadata": {},
   "source": [
    "## What's the distribution between Pessoa Fisica and Juridica?"
   ]
  },
  {
   "cell_type": "code",
   "execution_count": 12,
   "metadata": {},
   "outputs": [
    {
     "data": {
      "application/vnd.plotly.v1+json": {
       "config": {
        "plotlyServerURL": "https://plot.ly"
       },
       "data": [
        {
         "alignmentgroup": "True",
         "hovertemplate": "Tipo de Cliente=%{x}<br>Número de Compras Únicas=%{text}<extra></extra>",
         "legendgroup": "Pessoa Física",
         "marker": {
          "color": "rgb(228,26,28)",
          "pattern": {
           "shape": ""
          }
         },
         "name": "Pessoa Física",
         "offsetgroup": "Pessoa Física",
         "orientation": "v",
         "showlegend": true,
         "text": [
          951669
         ],
         "textposition": "outside",
         "type": "bar",
         "x": [
          "Pessoa Física"
         ],
         "xaxis": "x",
         "y": [
          951669
         ],
         "yaxis": "y"
        },
        {
         "alignmentgroup": "True",
         "hovertemplate": "Tipo de Cliente=%{x}<br>Número de Compras Únicas=%{text}<extra></extra>",
         "legendgroup": "Pessoa Jurídica",
         "marker": {
          "color": "rgb(55,126,184)",
          "pattern": {
           "shape": ""
          }
         },
         "name": "Pessoa Jurídica",
         "offsetgroup": "Pessoa Jurídica",
         "orientation": "v",
         "showlegend": true,
         "text": [
          5449
         ],
         "textposition": "outside",
         "type": "bar",
         "x": [
          "Pessoa Jurídica"
         ],
         "xaxis": "x",
         "y": [
          5449
         ],
         "yaxis": "y"
        },
        {
         "alignmentgroup": "True",
         "hovertemplate": "Tipo de Cliente=%{x}<br>Número de Compras Únicas=%{text}<extra></extra>",
         "legendgroup": "unknown",
         "marker": {
          "color": "rgb(77,175,74)",
          "pattern": {
           "shape": ""
          }
         },
         "name": "unknown",
         "offsetgroup": "unknown",
         "orientation": "v",
         "showlegend": true,
         "text": [
          4719
         ],
         "textposition": "outside",
         "type": "bar",
         "x": [
          "unknown"
         ],
         "xaxis": "x",
         "y": [
          4719
         ],
         "yaxis": "y"
        }
       ],
       "layout": {
        "barmode": "relative",
        "height": 600,
        "legend": {
         "title": {
          "text": "Tipo de Cliente"
         },
         "tracegroupgap": 0
        },
        "template": {
         "data": {
          "bar": [
           {
            "error_x": {
             "color": "#2a3f5f"
            },
            "error_y": {
             "color": "#2a3f5f"
            },
            "marker": {
             "line": {
              "color": "#E5ECF6",
              "width": 0.5
             },
             "pattern": {
              "fillmode": "overlay",
              "size": 10,
              "solidity": 0.2
             }
            },
            "type": "bar"
           }
          ],
          "barpolar": [
           {
            "marker": {
             "line": {
              "color": "#E5ECF6",
              "width": 0.5
             },
             "pattern": {
              "fillmode": "overlay",
              "size": 10,
              "solidity": 0.2
             }
            },
            "type": "barpolar"
           }
          ],
          "carpet": [
           {
            "aaxis": {
             "endlinecolor": "#2a3f5f",
             "gridcolor": "white",
             "linecolor": "white",
             "minorgridcolor": "white",
             "startlinecolor": "#2a3f5f"
            },
            "baxis": {
             "endlinecolor": "#2a3f5f",
             "gridcolor": "white",
             "linecolor": "white",
             "minorgridcolor": "white",
             "startlinecolor": "#2a3f5f"
            },
            "type": "carpet"
           }
          ],
          "choropleth": [
           {
            "colorbar": {
             "outlinewidth": 0,
             "ticks": ""
            },
            "type": "choropleth"
           }
          ],
          "contour": [
           {
            "colorbar": {
             "outlinewidth": 0,
             "ticks": ""
            },
            "colorscale": [
             [
              0,
              "#0d0887"
             ],
             [
              0.1111111111111111,
              "#46039f"
             ],
             [
              0.2222222222222222,
              "#7201a8"
             ],
             [
              0.3333333333333333,
              "#9c179e"
             ],
             [
              0.4444444444444444,
              "#bd3786"
             ],
             [
              0.5555555555555556,
              "#d8576b"
             ],
             [
              0.6666666666666666,
              "#ed7953"
             ],
             [
              0.7777777777777778,
              "#fb9f3a"
             ],
             [
              0.8888888888888888,
              "#fdca26"
             ],
             [
              1,
              "#f0f921"
             ]
            ],
            "type": "contour"
           }
          ],
          "contourcarpet": [
           {
            "colorbar": {
             "outlinewidth": 0,
             "ticks": ""
            },
            "type": "contourcarpet"
           }
          ],
          "heatmap": [
           {
            "colorbar": {
             "outlinewidth": 0,
             "ticks": ""
            },
            "colorscale": [
             [
              0,
              "#0d0887"
             ],
             [
              0.1111111111111111,
              "#46039f"
             ],
             [
              0.2222222222222222,
              "#7201a8"
             ],
             [
              0.3333333333333333,
              "#9c179e"
             ],
             [
              0.4444444444444444,
              "#bd3786"
             ],
             [
              0.5555555555555556,
              "#d8576b"
             ],
             [
              0.6666666666666666,
              "#ed7953"
             ],
             [
              0.7777777777777778,
              "#fb9f3a"
             ],
             [
              0.8888888888888888,
              "#fdca26"
             ],
             [
              1,
              "#f0f921"
             ]
            ],
            "type": "heatmap"
           }
          ],
          "heatmapgl": [
           {
            "colorbar": {
             "outlinewidth": 0,
             "ticks": ""
            },
            "colorscale": [
             [
              0,
              "#0d0887"
             ],
             [
              0.1111111111111111,
              "#46039f"
             ],
             [
              0.2222222222222222,
              "#7201a8"
             ],
             [
              0.3333333333333333,
              "#9c179e"
             ],
             [
              0.4444444444444444,
              "#bd3786"
             ],
             [
              0.5555555555555556,
              "#d8576b"
             ],
             [
              0.6666666666666666,
              "#ed7953"
             ],
             [
              0.7777777777777778,
              "#fb9f3a"
             ],
             [
              0.8888888888888888,
              "#fdca26"
             ],
             [
              1,
              "#f0f921"
             ]
            ],
            "type": "heatmapgl"
           }
          ],
          "histogram": [
           {
            "marker": {
             "pattern": {
              "fillmode": "overlay",
              "size": 10,
              "solidity": 0.2
             }
            },
            "type": "histogram"
           }
          ],
          "histogram2d": [
           {
            "colorbar": {
             "outlinewidth": 0,
             "ticks": ""
            },
            "colorscale": [
             [
              0,
              "#0d0887"
             ],
             [
              0.1111111111111111,
              "#46039f"
             ],
             [
              0.2222222222222222,
              "#7201a8"
             ],
             [
              0.3333333333333333,
              "#9c179e"
             ],
             [
              0.4444444444444444,
              "#bd3786"
             ],
             [
              0.5555555555555556,
              "#d8576b"
             ],
             [
              0.6666666666666666,
              "#ed7953"
             ],
             [
              0.7777777777777778,
              "#fb9f3a"
             ],
             [
              0.8888888888888888,
              "#fdca26"
             ],
             [
              1,
              "#f0f921"
             ]
            ],
            "type": "histogram2d"
           }
          ],
          "histogram2dcontour": [
           {
            "colorbar": {
             "outlinewidth": 0,
             "ticks": ""
            },
            "colorscale": [
             [
              0,
              "#0d0887"
             ],
             [
              0.1111111111111111,
              "#46039f"
             ],
             [
              0.2222222222222222,
              "#7201a8"
             ],
             [
              0.3333333333333333,
              "#9c179e"
             ],
             [
              0.4444444444444444,
              "#bd3786"
             ],
             [
              0.5555555555555556,
              "#d8576b"
             ],
             [
              0.6666666666666666,
              "#ed7953"
             ],
             [
              0.7777777777777778,
              "#fb9f3a"
             ],
             [
              0.8888888888888888,
              "#fdca26"
             ],
             [
              1,
              "#f0f921"
             ]
            ],
            "type": "histogram2dcontour"
           }
          ],
          "mesh3d": [
           {
            "colorbar": {
             "outlinewidth": 0,
             "ticks": ""
            },
            "type": "mesh3d"
           }
          ],
          "parcoords": [
           {
            "line": {
             "colorbar": {
              "outlinewidth": 0,
              "ticks": ""
             }
            },
            "type": "parcoords"
           }
          ],
          "pie": [
           {
            "automargin": true,
            "type": "pie"
           }
          ],
          "scatter": [
           {
            "fillpattern": {
             "fillmode": "overlay",
             "size": 10,
             "solidity": 0.2
            },
            "type": "scatter"
           }
          ],
          "scatter3d": [
           {
            "line": {
             "colorbar": {
              "outlinewidth": 0,
              "ticks": ""
             }
            },
            "marker": {
             "colorbar": {
              "outlinewidth": 0,
              "ticks": ""
             }
            },
            "type": "scatter3d"
           }
          ],
          "scattercarpet": [
           {
            "marker": {
             "colorbar": {
              "outlinewidth": 0,
              "ticks": ""
             }
            },
            "type": "scattercarpet"
           }
          ],
          "scattergeo": [
           {
            "marker": {
             "colorbar": {
              "outlinewidth": 0,
              "ticks": ""
             }
            },
            "type": "scattergeo"
           }
          ],
          "scattergl": [
           {
            "marker": {
             "colorbar": {
              "outlinewidth": 0,
              "ticks": ""
             }
            },
            "type": "scattergl"
           }
          ],
          "scattermapbox": [
           {
            "marker": {
             "colorbar": {
              "outlinewidth": 0,
              "ticks": ""
             }
            },
            "type": "scattermapbox"
           }
          ],
          "scatterpolar": [
           {
            "marker": {
             "colorbar": {
              "outlinewidth": 0,
              "ticks": ""
             }
            },
            "type": "scatterpolar"
           }
          ],
          "scatterpolargl": [
           {
            "marker": {
             "colorbar": {
              "outlinewidth": 0,
              "ticks": ""
             }
            },
            "type": "scatterpolargl"
           }
          ],
          "scatterternary": [
           {
            "marker": {
             "colorbar": {
              "outlinewidth": 0,
              "ticks": ""
             }
            },
            "type": "scatterternary"
           }
          ],
          "surface": [
           {
            "colorbar": {
             "outlinewidth": 0,
             "ticks": ""
            },
            "colorscale": [
             [
              0,
              "#0d0887"
             ],
             [
              0.1111111111111111,
              "#46039f"
             ],
             [
              0.2222222222222222,
              "#7201a8"
             ],
             [
              0.3333333333333333,
              "#9c179e"
             ],
             [
              0.4444444444444444,
              "#bd3786"
             ],
             [
              0.5555555555555556,
              "#d8576b"
             ],
             [
              0.6666666666666666,
              "#ed7953"
             ],
             [
              0.7777777777777778,
              "#fb9f3a"
             ],
             [
              0.8888888888888888,
              "#fdca26"
             ],
             [
              1,
              "#f0f921"
             ]
            ],
            "type": "surface"
           }
          ],
          "table": [
           {
            "cells": {
             "fill": {
              "color": "#EBF0F8"
             },
             "line": {
              "color": "white"
             }
            },
            "header": {
             "fill": {
              "color": "#C8D4E3"
             },
             "line": {
              "color": "white"
             }
            },
            "type": "table"
           }
          ]
         },
         "layout": {
          "annotationdefaults": {
           "arrowcolor": "#2a3f5f",
           "arrowhead": 0,
           "arrowwidth": 1
          },
          "autotypenumbers": "strict",
          "coloraxis": {
           "colorbar": {
            "outlinewidth": 0,
            "ticks": ""
           }
          },
          "colorscale": {
           "diverging": [
            [
             0,
             "#8e0152"
            ],
            [
             0.1,
             "#c51b7d"
            ],
            [
             0.2,
             "#de77ae"
            ],
            [
             0.3,
             "#f1b6da"
            ],
            [
             0.4,
             "#fde0ef"
            ],
            [
             0.5,
             "#f7f7f7"
            ],
            [
             0.6,
             "#e6f5d0"
            ],
            [
             0.7,
             "#b8e186"
            ],
            [
             0.8,
             "#7fbc41"
            ],
            [
             0.9,
             "#4d9221"
            ],
            [
             1,
             "#276419"
            ]
           ],
           "sequential": [
            [
             0,
             "#0d0887"
            ],
            [
             0.1111111111111111,
             "#46039f"
            ],
            [
             0.2222222222222222,
             "#7201a8"
            ],
            [
             0.3333333333333333,
             "#9c179e"
            ],
            [
             0.4444444444444444,
             "#bd3786"
            ],
            [
             0.5555555555555556,
             "#d8576b"
            ],
            [
             0.6666666666666666,
             "#ed7953"
            ],
            [
             0.7777777777777778,
             "#fb9f3a"
            ],
            [
             0.8888888888888888,
             "#fdca26"
            ],
            [
             1,
             "#f0f921"
            ]
           ],
           "sequentialminus": [
            [
             0,
             "#0d0887"
            ],
            [
             0.1111111111111111,
             "#46039f"
            ],
            [
             0.2222222222222222,
             "#7201a8"
            ],
            [
             0.3333333333333333,
             "#9c179e"
            ],
            [
             0.4444444444444444,
             "#bd3786"
            ],
            [
             0.5555555555555556,
             "#d8576b"
            ],
            [
             0.6666666666666666,
             "#ed7953"
            ],
            [
             0.7777777777777778,
             "#fb9f3a"
            ],
            [
             0.8888888888888888,
             "#fdca26"
            ],
            [
             1,
             "#f0f921"
            ]
           ]
          },
          "colorway": [
           "#636efa",
           "#EF553B",
           "#00cc96",
           "#ab63fa",
           "#FFA15A",
           "#19d3f3",
           "#FF6692",
           "#B6E880",
           "#FF97FF",
           "#FECB52"
          ],
          "font": {
           "color": "#2a3f5f"
          },
          "geo": {
           "bgcolor": "white",
           "lakecolor": "white",
           "landcolor": "#E5ECF6",
           "showlakes": true,
           "showland": true,
           "subunitcolor": "white"
          },
          "hoverlabel": {
           "align": "left"
          },
          "hovermode": "closest",
          "mapbox": {
           "style": "light"
          },
          "paper_bgcolor": "white",
          "plot_bgcolor": "#E5ECF6",
          "polar": {
           "angularaxis": {
            "gridcolor": "white",
            "linecolor": "white",
            "ticks": ""
           },
           "bgcolor": "#E5ECF6",
           "radialaxis": {
            "gridcolor": "white",
            "linecolor": "white",
            "ticks": ""
           }
          },
          "scene": {
           "xaxis": {
            "backgroundcolor": "#E5ECF6",
            "gridcolor": "white",
            "gridwidth": 2,
            "linecolor": "white",
            "showbackground": true,
            "ticks": "",
            "zerolinecolor": "white"
           },
           "yaxis": {
            "backgroundcolor": "#E5ECF6",
            "gridcolor": "white",
            "gridwidth": 2,
            "linecolor": "white",
            "showbackground": true,
            "ticks": "",
            "zerolinecolor": "white"
           },
           "zaxis": {
            "backgroundcolor": "#E5ECF6",
            "gridcolor": "white",
            "gridwidth": 2,
            "linecolor": "white",
            "showbackground": true,
            "ticks": "",
            "zerolinecolor": "white"
           }
          },
          "shapedefaults": {
           "line": {
            "color": "#2a3f5f"
           }
          },
          "ternary": {
           "aaxis": {
            "gridcolor": "white",
            "linecolor": "white",
            "ticks": ""
           },
           "baxis": {
            "gridcolor": "white",
            "linecolor": "white",
            "ticks": ""
           },
           "bgcolor": "#E5ECF6",
           "caxis": {
            "gridcolor": "white",
            "linecolor": "white",
            "ticks": ""
           }
          },
          "title": {
           "x": 0.05
          },
          "xaxis": {
           "automargin": true,
           "gridcolor": "white",
           "linecolor": "white",
           "ticks": "",
           "title": {
            "standoff": 15
           },
           "zerolinecolor": "white",
           "zerolinewidth": 2
          },
          "yaxis": {
           "automargin": true,
           "gridcolor": "white",
           "linecolor": "white",
           "ticks": "",
           "title": {
            "standoff": 15
           },
           "zerolinecolor": "white",
           "zerolinewidth": 2
          }
         }
        },
        "title": {
         "text": "Distribuição de Clientes por Tipo"
        },
        "width": 800,
        "xaxis": {
         "anchor": "y",
         "categoryarray": [
          "Pessoa Física",
          "Pessoa Jurídica",
          "unknown"
         ],
         "categoryorder": "array",
         "domain": [
          0,
          1
         ],
         "title": {
          "text": "Tipo de Cliente"
         }
        },
        "yaxis": {
         "anchor": "x",
         "domain": [
          0,
          1
         ],
         "title": {
          "text": "Número de Compras Únicas"
         }
        }
       }
      }
     },
     "metadata": {},
     "output_type": "display_data"
    }
   ],
   "source": [
    "# Copy the original dataframe and fill NaN values\n",
    "vendas_temp = vendas.copy()\n",
    "vendas_temp['CLIENTE_FISICO_JURIDICO'] = vendas_temp['CLIENTE_FISICO_JURIDICO'].fillna('unknown')\n",
    "\n",
    "# Group by 'CLIENTE_FISICO_JURIDICO' and count unique 'COD_CUPOM'\n",
    "distribuicao_de_clientes = vendas_temp.groupby('CLIENTE_FISICO_JURIDICO')['COD_CUPOM'].nunique().reset_index()\n",
    "\n",
    "# Rename columns for clarity\n",
    "distribuicao_de_clientes.columns = ['Tipo de Cliente', 'Número de Compras Únicas']\n",
    "\n",
    "# Plot using Plotly Express with counts on top of each bar\n",
    "fig = px.bar(distribuicao_de_clientes, x='Tipo de Cliente', y='Número de Compras Únicas',\n",
    "             title='Distribuição de Clientes por Tipo',\n",
    "             labels={'Tipo de Cliente': 'Tipo de Cliente', 'Número de Compras Únicas': 'Número de Compras Únicas'},\n",
    "             color='Tipo de Cliente',\n",
    "             color_discrete_sequence=px.colors.qualitative.Set1,\n",
    "             text='Número de Compras Únicas')\n",
    "\n",
    "# Customize layout\n",
    "fig.update_layout(xaxis_title='Tipo de Cliente', yaxis_title='Número de Compras Únicas', width=800, height=600)\n",
    "\n",
    "# Display the text on top of each bar\n",
    "fig.update_traces(textposition='outside')\n",
    "\n",
    "# Show the plot\n",
    "fig.show()\n"
   ]
  },
  {
   "cell_type": "markdown",
   "metadata": {},
   "source": [
    "**Vast majority of purchases were made by Pessoa Fisica**."
   ]
  },
  {
   "cell_type": "markdown",
   "metadata": {},
   "source": [
    "## What's the distribution between Male and Female in Pessoa Fisica clients"
   ]
  },
  {
   "cell_type": "code",
   "execution_count": 13,
   "metadata": {},
   "outputs": [
    {
     "data": {
      "application/vnd.plotly.v1+json": {
       "config": {
        "plotlyServerURL": "https://plot.ly"
       },
       "data": [
        {
         "alignmentgroup": "True",
         "hovertemplate": "Gênero=%{x}<br>Número de Clientes=%{text}<extra></extra>",
         "legendgroup": "M",
         "marker": {
          "color": "rgb(102,194,165)",
          "pattern": {
           "shape": ""
          }
         },
         "name": "M",
         "offsetgroup": "M",
         "orientation": "v",
         "showlegend": true,
         "text": [
          400688
         ],
         "textposition": "outside",
         "type": "bar",
         "x": [
          "M"
         ],
         "xaxis": "x",
         "y": [
          400688
         ],
         "yaxis": "y"
        },
        {
         "alignmentgroup": "True",
         "hovertemplate": "Gênero=%{x}<br>Número de Clientes=%{text}<extra></extra>",
         "legendgroup": "F",
         "marker": {
          "color": "rgb(252,141,98)",
          "pattern": {
           "shape": ""
          }
         },
         "name": "F",
         "offsetgroup": "F",
         "orientation": "v",
         "showlegend": true,
         "text": [
          364183
         ],
         "textposition": "outside",
         "type": "bar",
         "x": [
          "F"
         ],
         "xaxis": "x",
         "y": [
          364183
         ],
         "yaxis": "y"
        }
       ],
       "layout": {
        "barmode": "relative",
        "height": 600,
        "legend": {
         "title": {
          "text": "Gênero"
         },
         "tracegroupgap": 0
        },
        "template": {
         "data": {
          "bar": [
           {
            "error_x": {
             "color": "#2a3f5f"
            },
            "error_y": {
             "color": "#2a3f5f"
            },
            "marker": {
             "line": {
              "color": "#E5ECF6",
              "width": 0.5
             },
             "pattern": {
              "fillmode": "overlay",
              "size": 10,
              "solidity": 0.2
             }
            },
            "type": "bar"
           }
          ],
          "barpolar": [
           {
            "marker": {
             "line": {
              "color": "#E5ECF6",
              "width": 0.5
             },
             "pattern": {
              "fillmode": "overlay",
              "size": 10,
              "solidity": 0.2
             }
            },
            "type": "barpolar"
           }
          ],
          "carpet": [
           {
            "aaxis": {
             "endlinecolor": "#2a3f5f",
             "gridcolor": "white",
             "linecolor": "white",
             "minorgridcolor": "white",
             "startlinecolor": "#2a3f5f"
            },
            "baxis": {
             "endlinecolor": "#2a3f5f",
             "gridcolor": "white",
             "linecolor": "white",
             "minorgridcolor": "white",
             "startlinecolor": "#2a3f5f"
            },
            "type": "carpet"
           }
          ],
          "choropleth": [
           {
            "colorbar": {
             "outlinewidth": 0,
             "ticks": ""
            },
            "type": "choropleth"
           }
          ],
          "contour": [
           {
            "colorbar": {
             "outlinewidth": 0,
             "ticks": ""
            },
            "colorscale": [
             [
              0,
              "#0d0887"
             ],
             [
              0.1111111111111111,
              "#46039f"
             ],
             [
              0.2222222222222222,
              "#7201a8"
             ],
             [
              0.3333333333333333,
              "#9c179e"
             ],
             [
              0.4444444444444444,
              "#bd3786"
             ],
             [
              0.5555555555555556,
              "#d8576b"
             ],
             [
              0.6666666666666666,
              "#ed7953"
             ],
             [
              0.7777777777777778,
              "#fb9f3a"
             ],
             [
              0.8888888888888888,
              "#fdca26"
             ],
             [
              1,
              "#f0f921"
             ]
            ],
            "type": "contour"
           }
          ],
          "contourcarpet": [
           {
            "colorbar": {
             "outlinewidth": 0,
             "ticks": ""
            },
            "type": "contourcarpet"
           }
          ],
          "heatmap": [
           {
            "colorbar": {
             "outlinewidth": 0,
             "ticks": ""
            },
            "colorscale": [
             [
              0,
              "#0d0887"
             ],
             [
              0.1111111111111111,
              "#46039f"
             ],
             [
              0.2222222222222222,
              "#7201a8"
             ],
             [
              0.3333333333333333,
              "#9c179e"
             ],
             [
              0.4444444444444444,
              "#bd3786"
             ],
             [
              0.5555555555555556,
              "#d8576b"
             ],
             [
              0.6666666666666666,
              "#ed7953"
             ],
             [
              0.7777777777777778,
              "#fb9f3a"
             ],
             [
              0.8888888888888888,
              "#fdca26"
             ],
             [
              1,
              "#f0f921"
             ]
            ],
            "type": "heatmap"
           }
          ],
          "heatmapgl": [
           {
            "colorbar": {
             "outlinewidth": 0,
             "ticks": ""
            },
            "colorscale": [
             [
              0,
              "#0d0887"
             ],
             [
              0.1111111111111111,
              "#46039f"
             ],
             [
              0.2222222222222222,
              "#7201a8"
             ],
             [
              0.3333333333333333,
              "#9c179e"
             ],
             [
              0.4444444444444444,
              "#bd3786"
             ],
             [
              0.5555555555555556,
              "#d8576b"
             ],
             [
              0.6666666666666666,
              "#ed7953"
             ],
             [
              0.7777777777777778,
              "#fb9f3a"
             ],
             [
              0.8888888888888888,
              "#fdca26"
             ],
             [
              1,
              "#f0f921"
             ]
            ],
            "type": "heatmapgl"
           }
          ],
          "histogram": [
           {
            "marker": {
             "pattern": {
              "fillmode": "overlay",
              "size": 10,
              "solidity": 0.2
             }
            },
            "type": "histogram"
           }
          ],
          "histogram2d": [
           {
            "colorbar": {
             "outlinewidth": 0,
             "ticks": ""
            },
            "colorscale": [
             [
              0,
              "#0d0887"
             ],
             [
              0.1111111111111111,
              "#46039f"
             ],
             [
              0.2222222222222222,
              "#7201a8"
             ],
             [
              0.3333333333333333,
              "#9c179e"
             ],
             [
              0.4444444444444444,
              "#bd3786"
             ],
             [
              0.5555555555555556,
              "#d8576b"
             ],
             [
              0.6666666666666666,
              "#ed7953"
             ],
             [
              0.7777777777777778,
              "#fb9f3a"
             ],
             [
              0.8888888888888888,
              "#fdca26"
             ],
             [
              1,
              "#f0f921"
             ]
            ],
            "type": "histogram2d"
           }
          ],
          "histogram2dcontour": [
           {
            "colorbar": {
             "outlinewidth": 0,
             "ticks": ""
            },
            "colorscale": [
             [
              0,
              "#0d0887"
             ],
             [
              0.1111111111111111,
              "#46039f"
             ],
             [
              0.2222222222222222,
              "#7201a8"
             ],
             [
              0.3333333333333333,
              "#9c179e"
             ],
             [
              0.4444444444444444,
              "#bd3786"
             ],
             [
              0.5555555555555556,
              "#d8576b"
             ],
             [
              0.6666666666666666,
              "#ed7953"
             ],
             [
              0.7777777777777778,
              "#fb9f3a"
             ],
             [
              0.8888888888888888,
              "#fdca26"
             ],
             [
              1,
              "#f0f921"
             ]
            ],
            "type": "histogram2dcontour"
           }
          ],
          "mesh3d": [
           {
            "colorbar": {
             "outlinewidth": 0,
             "ticks": ""
            },
            "type": "mesh3d"
           }
          ],
          "parcoords": [
           {
            "line": {
             "colorbar": {
              "outlinewidth": 0,
              "ticks": ""
             }
            },
            "type": "parcoords"
           }
          ],
          "pie": [
           {
            "automargin": true,
            "type": "pie"
           }
          ],
          "scatter": [
           {
            "fillpattern": {
             "fillmode": "overlay",
             "size": 10,
             "solidity": 0.2
            },
            "type": "scatter"
           }
          ],
          "scatter3d": [
           {
            "line": {
             "colorbar": {
              "outlinewidth": 0,
              "ticks": ""
             }
            },
            "marker": {
             "colorbar": {
              "outlinewidth": 0,
              "ticks": ""
             }
            },
            "type": "scatter3d"
           }
          ],
          "scattercarpet": [
           {
            "marker": {
             "colorbar": {
              "outlinewidth": 0,
              "ticks": ""
             }
            },
            "type": "scattercarpet"
           }
          ],
          "scattergeo": [
           {
            "marker": {
             "colorbar": {
              "outlinewidth": 0,
              "ticks": ""
             }
            },
            "type": "scattergeo"
           }
          ],
          "scattergl": [
           {
            "marker": {
             "colorbar": {
              "outlinewidth": 0,
              "ticks": ""
             }
            },
            "type": "scattergl"
           }
          ],
          "scattermapbox": [
           {
            "marker": {
             "colorbar": {
              "outlinewidth": 0,
              "ticks": ""
             }
            },
            "type": "scattermapbox"
           }
          ],
          "scatterpolar": [
           {
            "marker": {
             "colorbar": {
              "outlinewidth": 0,
              "ticks": ""
             }
            },
            "type": "scatterpolar"
           }
          ],
          "scatterpolargl": [
           {
            "marker": {
             "colorbar": {
              "outlinewidth": 0,
              "ticks": ""
             }
            },
            "type": "scatterpolargl"
           }
          ],
          "scatterternary": [
           {
            "marker": {
             "colorbar": {
              "outlinewidth": 0,
              "ticks": ""
             }
            },
            "type": "scatterternary"
           }
          ],
          "surface": [
           {
            "colorbar": {
             "outlinewidth": 0,
             "ticks": ""
            },
            "colorscale": [
             [
              0,
              "#0d0887"
             ],
             [
              0.1111111111111111,
              "#46039f"
             ],
             [
              0.2222222222222222,
              "#7201a8"
             ],
             [
              0.3333333333333333,
              "#9c179e"
             ],
             [
              0.4444444444444444,
              "#bd3786"
             ],
             [
              0.5555555555555556,
              "#d8576b"
             ],
             [
              0.6666666666666666,
              "#ed7953"
             ],
             [
              0.7777777777777778,
              "#fb9f3a"
             ],
             [
              0.8888888888888888,
              "#fdca26"
             ],
             [
              1,
              "#f0f921"
             ]
            ],
            "type": "surface"
           }
          ],
          "table": [
           {
            "cells": {
             "fill": {
              "color": "#EBF0F8"
             },
             "line": {
              "color": "white"
             }
            },
            "header": {
             "fill": {
              "color": "#C8D4E3"
             },
             "line": {
              "color": "white"
             }
            },
            "type": "table"
           }
          ]
         },
         "layout": {
          "annotationdefaults": {
           "arrowcolor": "#2a3f5f",
           "arrowhead": 0,
           "arrowwidth": 1
          },
          "autotypenumbers": "strict",
          "coloraxis": {
           "colorbar": {
            "outlinewidth": 0,
            "ticks": ""
           }
          },
          "colorscale": {
           "diverging": [
            [
             0,
             "#8e0152"
            ],
            [
             0.1,
             "#c51b7d"
            ],
            [
             0.2,
             "#de77ae"
            ],
            [
             0.3,
             "#f1b6da"
            ],
            [
             0.4,
             "#fde0ef"
            ],
            [
             0.5,
             "#f7f7f7"
            ],
            [
             0.6,
             "#e6f5d0"
            ],
            [
             0.7,
             "#b8e186"
            ],
            [
             0.8,
             "#7fbc41"
            ],
            [
             0.9,
             "#4d9221"
            ],
            [
             1,
             "#276419"
            ]
           ],
           "sequential": [
            [
             0,
             "#0d0887"
            ],
            [
             0.1111111111111111,
             "#46039f"
            ],
            [
             0.2222222222222222,
             "#7201a8"
            ],
            [
             0.3333333333333333,
             "#9c179e"
            ],
            [
             0.4444444444444444,
             "#bd3786"
            ],
            [
             0.5555555555555556,
             "#d8576b"
            ],
            [
             0.6666666666666666,
             "#ed7953"
            ],
            [
             0.7777777777777778,
             "#fb9f3a"
            ],
            [
             0.8888888888888888,
             "#fdca26"
            ],
            [
             1,
             "#f0f921"
            ]
           ],
           "sequentialminus": [
            [
             0,
             "#0d0887"
            ],
            [
             0.1111111111111111,
             "#46039f"
            ],
            [
             0.2222222222222222,
             "#7201a8"
            ],
            [
             0.3333333333333333,
             "#9c179e"
            ],
            [
             0.4444444444444444,
             "#bd3786"
            ],
            [
             0.5555555555555556,
             "#d8576b"
            ],
            [
             0.6666666666666666,
             "#ed7953"
            ],
            [
             0.7777777777777778,
             "#fb9f3a"
            ],
            [
             0.8888888888888888,
             "#fdca26"
            ],
            [
             1,
             "#f0f921"
            ]
           ]
          },
          "colorway": [
           "#636efa",
           "#EF553B",
           "#00cc96",
           "#ab63fa",
           "#FFA15A",
           "#19d3f3",
           "#FF6692",
           "#B6E880",
           "#FF97FF",
           "#FECB52"
          ],
          "font": {
           "color": "#2a3f5f"
          },
          "geo": {
           "bgcolor": "white",
           "lakecolor": "white",
           "landcolor": "#E5ECF6",
           "showlakes": true,
           "showland": true,
           "subunitcolor": "white"
          },
          "hoverlabel": {
           "align": "left"
          },
          "hovermode": "closest",
          "mapbox": {
           "style": "light"
          },
          "paper_bgcolor": "white",
          "plot_bgcolor": "#E5ECF6",
          "polar": {
           "angularaxis": {
            "gridcolor": "white",
            "linecolor": "white",
            "ticks": ""
           },
           "bgcolor": "#E5ECF6",
           "radialaxis": {
            "gridcolor": "white",
            "linecolor": "white",
            "ticks": ""
           }
          },
          "scene": {
           "xaxis": {
            "backgroundcolor": "#E5ECF6",
            "gridcolor": "white",
            "gridwidth": 2,
            "linecolor": "white",
            "showbackground": true,
            "ticks": "",
            "zerolinecolor": "white"
           },
           "yaxis": {
            "backgroundcolor": "#E5ECF6",
            "gridcolor": "white",
            "gridwidth": 2,
            "linecolor": "white",
            "showbackground": true,
            "ticks": "",
            "zerolinecolor": "white"
           },
           "zaxis": {
            "backgroundcolor": "#E5ECF6",
            "gridcolor": "white",
            "gridwidth": 2,
            "linecolor": "white",
            "showbackground": true,
            "ticks": "",
            "zerolinecolor": "white"
           }
          },
          "shapedefaults": {
           "line": {
            "color": "#2a3f5f"
           }
          },
          "ternary": {
           "aaxis": {
            "gridcolor": "white",
            "linecolor": "white",
            "ticks": ""
           },
           "baxis": {
            "gridcolor": "white",
            "linecolor": "white",
            "ticks": ""
           },
           "bgcolor": "#E5ECF6",
           "caxis": {
            "gridcolor": "white",
            "linecolor": "white",
            "ticks": ""
           }
          },
          "title": {
           "x": 0.05
          },
          "xaxis": {
           "automargin": true,
           "gridcolor": "white",
           "linecolor": "white",
           "ticks": "",
           "title": {
            "standoff": 15
           },
           "zerolinecolor": "white",
           "zerolinewidth": 2
          },
          "yaxis": {
           "automargin": true,
           "gridcolor": "white",
           "linecolor": "white",
           "ticks": "",
           "title": {
            "standoff": 15
           },
           "zerolinecolor": "white",
           "zerolinewidth": 2
          }
         }
        },
        "title": {
         "text": "Distribuição de Clientes por Gênero"
        },
        "width": 800,
        "xaxis": {
         "anchor": "y",
         "categoryarray": [
          "M",
          "F"
         ],
         "categoryorder": "array",
         "domain": [
          0,
          1
         ],
         "title": {
          "text": "Gênero"
         }
        },
        "yaxis": {
         "anchor": "x",
         "domain": [
          0,
          1
         ],
         "title": {
          "text": "Número de Clientes"
         }
        }
       }
      }
     },
     "metadata": {},
     "output_type": "display_data"
    }
   ],
   "source": [
    "# Calculate the gender count by dropping duplicates and counting unique values\n",
    "gender_count = vendas[[\"COD_CLIENTE\", \"SEXO_CLIENTE\"]].drop_duplicates()[\"SEXO_CLIENTE\"].value_counts().reset_index()\n",
    "\n",
    "# Rename columns for clarity\n",
    "gender_count.columns = ['Sexo do Cliente', 'Contagem']\n",
    "\n",
    "# Plot using Plotly Express with counts on top of each bar\n",
    "fig = px.bar(gender_count, x='Sexo do Cliente', y='Contagem',\n",
    "             title='Distribuição de Clientes por Gênero',\n",
    "             labels={'Sexo do Cliente': 'Gênero', 'Contagem': 'Número de Clientes'},\n",
    "             color='Sexo do Cliente',\n",
    "             color_discrete_sequence=px.colors.qualitative.Set2,\n",
    "             text='Contagem')\n",
    "\n",
    "# Customize layout\n",
    "fig.update_layout(xaxis_title='Gênero', yaxis_title='Número de Clientes', width=800, height=600)\n",
    "\n",
    "# Display the text on top of each bar\n",
    "fig.update_traces(textposition='outside')\n",
    "\n",
    "# Show the plot\n",
    "fig.show()"
   ]
  },
  {
   "cell_type": "markdown",
   "metadata": {},
   "source": [
    "**Basically equal distribution between male and female Pessoa Fisica**."
   ]
  },
  {
   "cell_type": "markdown",
   "metadata": {},
   "source": [
    "## How is the client's age distribution? "
   ]
  },
  {
   "cell_type": "code",
   "execution_count": 14,
   "metadata": {},
   "outputs": [
    {
     "data": {
      "application/vnd.plotly.v1+json": {
       "config": {
        "plotlyServerURL": "https://plot.ly"
       },
       "data": [
        {
         "alignmentgroup": "True",
         "hovertemplate": "Faixa Etária=%{x}<br>Número de Clientes=%{text}<extra></extra>",
         "legendgroup": "1-10 anos",
         "marker": {
          "color": "#440154",
          "pattern": {
           "shape": ""
          }
         },
         "name": "1-10 anos",
         "offsetgroup": "1-10 anos",
         "orientation": "v",
         "showlegend": true,
         "text": [
          13833
         ],
         "textposition": "outside",
         "type": "bar",
         "x": [
          "1-10 anos"
         ],
         "xaxis": "x",
         "y": [
          13833
         ],
         "yaxis": "y"
        },
        {
         "alignmentgroup": "True",
         "hovertemplate": "Faixa Etária=%{x}<br>Número de Clientes=%{text}<extra></extra>",
         "legendgroup": "10-15 anos",
         "marker": {
          "color": "#482878",
          "pattern": {
           "shape": ""
          }
         },
         "name": "10-15 anos",
         "offsetgroup": "10-15 anos",
         "orientation": "v",
         "showlegend": true,
         "text": [
          1793
         ],
         "textposition": "outside",
         "type": "bar",
         "x": [
          "10-15 anos"
         ],
         "xaxis": "x",
         "y": [
          1793
         ],
         "yaxis": "y"
        },
        {
         "alignmentgroup": "True",
         "hovertemplate": "Faixa Etária=%{x}<br>Número de Clientes=%{text}<extra></extra>",
         "legendgroup": "15-20 anos",
         "marker": {
          "color": "#3e4989",
          "pattern": {
           "shape": ""
          }
         },
         "name": "15-20 anos",
         "offsetgroup": "15-20 anos",
         "orientation": "v",
         "showlegend": true,
         "text": [
          15296
         ],
         "textposition": "outside",
         "type": "bar",
         "x": [
          "15-20 anos"
         ],
         "xaxis": "x",
         "y": [
          15296
         ],
         "yaxis": "y"
        },
        {
         "alignmentgroup": "True",
         "hovertemplate": "Faixa Etária=%{x}<br>Número de Clientes=%{text}<extra></extra>",
         "legendgroup": "20-25 anos",
         "marker": {
          "color": "#31688e",
          "pattern": {
           "shape": ""
          }
         },
         "name": "20-25 anos",
         "offsetgroup": "20-25 anos",
         "orientation": "v",
         "showlegend": true,
         "text": [
          56871
         ],
         "textposition": "outside",
         "type": "bar",
         "x": [
          "20-25 anos"
         ],
         "xaxis": "x",
         "y": [
          56871
         ],
         "yaxis": "y"
        },
        {
         "alignmentgroup": "True",
         "hovertemplate": "Faixa Etária=%{x}<br>Número de Clientes=%{text}<extra></extra>",
         "legendgroup": "25-30 anos",
         "marker": {
          "color": "#26828e",
          "pattern": {
           "shape": ""
          }
         },
         "name": "25-30 anos",
         "offsetgroup": "25-30 anos",
         "orientation": "v",
         "showlegend": true,
         "text": [
          77020
         ],
         "textposition": "outside",
         "type": "bar",
         "x": [
          "25-30 anos"
         ],
         "xaxis": "x",
         "y": [
          77020
         ],
         "yaxis": "y"
        },
        {
         "alignmentgroup": "True",
         "hovertemplate": "Faixa Etária=%{x}<br>Número de Clientes=%{text}<extra></extra>",
         "legendgroup": "30-40 anos",
         "marker": {
          "color": "#1f9e89",
          "pattern": {
           "shape": ""
          }
         },
         "name": "30-40 anos",
         "offsetgroup": "30-40 anos",
         "orientation": "v",
         "showlegend": true,
         "text": [
          162960
         ],
         "textposition": "outside",
         "type": "bar",
         "x": [
          "30-40 anos"
         ],
         "xaxis": "x",
         "y": [
          162960
         ],
         "yaxis": "y"
        },
        {
         "alignmentgroup": "True",
         "hovertemplate": "Faixa Etária=%{x}<br>Número de Clientes=%{text}<extra></extra>",
         "legendgroup": "40-50 anos",
         "marker": {
          "color": "#35b779",
          "pattern": {
           "shape": ""
          }
         },
         "name": "40-50 anos",
         "offsetgroup": "40-50 anos",
         "orientation": "v",
         "showlegend": true,
         "text": [
          170688
         ],
         "textposition": "outside",
         "type": "bar",
         "x": [
          "40-50 anos"
         ],
         "xaxis": "x",
         "y": [
          170688
         ],
         "yaxis": "y"
        },
        {
         "alignmentgroup": "True",
         "hovertemplate": "Faixa Etária=%{x}<br>Número de Clientes=%{text}<extra></extra>",
         "legendgroup": "50-60 anos",
         "marker": {
          "color": "#6ece58",
          "pattern": {
           "shape": ""
          }
         },
         "name": "50-60 anos",
         "offsetgroup": "50-60 anos",
         "orientation": "v",
         "showlegend": true,
         "text": [
          116652
         ],
         "textposition": "outside",
         "type": "bar",
         "x": [
          "50-60 anos"
         ],
         "xaxis": "x",
         "y": [
          116652
         ],
         "yaxis": "y"
        },
        {
         "alignmentgroup": "True",
         "hovertemplate": "Faixa Etária=%{x}<br>Número de Clientes=%{text}<extra></extra>",
         "legendgroup": "60-70 anos",
         "marker": {
          "color": "#b5de2b",
          "pattern": {
           "shape": ""
          }
         },
         "name": "60-70 anos",
         "offsetgroup": "60-70 anos",
         "orientation": "v",
         "showlegend": true,
         "text": [
          95188
         ],
         "textposition": "outside",
         "type": "bar",
         "x": [
          "60-70 anos"
         ],
         "xaxis": "x",
         "y": [
          95188
         ],
         "yaxis": "y"
        },
        {
         "alignmentgroup": "True",
         "hovertemplate": "Faixa Etária=%{x}<br>Número de Clientes=%{text}<extra></extra>",
         "legendgroup": "70-80 anos",
         "marker": {
          "color": "#fde725",
          "pattern": {
           "shape": ""
          }
         },
         "name": "70-80 anos",
         "offsetgroup": "70-80 anos",
         "orientation": "v",
         "showlegend": true,
         "text": [
          49561
         ],
         "textposition": "outside",
         "type": "bar",
         "x": [
          "70-80 anos"
         ],
         "xaxis": "x",
         "y": [
          49561
         ],
         "yaxis": "y"
        },
        {
         "alignmentgroup": "True",
         "hovertemplate": "Faixa Etária=%{x}<br>Número de Clientes=%{text}<extra></extra>",
         "legendgroup": "80 ou mais",
         "marker": {
          "color": "#440154",
          "pattern": {
           "shape": ""
          }
         },
         "name": "80 ou mais",
         "offsetgroup": "80 ou mais",
         "orientation": "v",
         "showlegend": true,
         "text": [
          14354
         ],
         "textposition": "outside",
         "type": "bar",
         "x": [
          "80 ou mais"
         ],
         "xaxis": "x",
         "y": [
          14354
         ],
         "yaxis": "y"
        }
       ],
       "layout": {
        "barmode": "relative",
        "height": 600,
        "legend": {
         "title": {
          "text": "Faixa Etária"
         },
         "tracegroupgap": 0
        },
        "template": {
         "data": {
          "bar": [
           {
            "error_x": {
             "color": "#2a3f5f"
            },
            "error_y": {
             "color": "#2a3f5f"
            },
            "marker": {
             "line": {
              "color": "#E5ECF6",
              "width": 0.5
             },
             "pattern": {
              "fillmode": "overlay",
              "size": 10,
              "solidity": 0.2
             }
            },
            "type": "bar"
           }
          ],
          "barpolar": [
           {
            "marker": {
             "line": {
              "color": "#E5ECF6",
              "width": 0.5
             },
             "pattern": {
              "fillmode": "overlay",
              "size": 10,
              "solidity": 0.2
             }
            },
            "type": "barpolar"
           }
          ],
          "carpet": [
           {
            "aaxis": {
             "endlinecolor": "#2a3f5f",
             "gridcolor": "white",
             "linecolor": "white",
             "minorgridcolor": "white",
             "startlinecolor": "#2a3f5f"
            },
            "baxis": {
             "endlinecolor": "#2a3f5f",
             "gridcolor": "white",
             "linecolor": "white",
             "minorgridcolor": "white",
             "startlinecolor": "#2a3f5f"
            },
            "type": "carpet"
           }
          ],
          "choropleth": [
           {
            "colorbar": {
             "outlinewidth": 0,
             "ticks": ""
            },
            "type": "choropleth"
           }
          ],
          "contour": [
           {
            "colorbar": {
             "outlinewidth": 0,
             "ticks": ""
            },
            "colorscale": [
             [
              0,
              "#0d0887"
             ],
             [
              0.1111111111111111,
              "#46039f"
             ],
             [
              0.2222222222222222,
              "#7201a8"
             ],
             [
              0.3333333333333333,
              "#9c179e"
             ],
             [
              0.4444444444444444,
              "#bd3786"
             ],
             [
              0.5555555555555556,
              "#d8576b"
             ],
             [
              0.6666666666666666,
              "#ed7953"
             ],
             [
              0.7777777777777778,
              "#fb9f3a"
             ],
             [
              0.8888888888888888,
              "#fdca26"
             ],
             [
              1,
              "#f0f921"
             ]
            ],
            "type": "contour"
           }
          ],
          "contourcarpet": [
           {
            "colorbar": {
             "outlinewidth": 0,
             "ticks": ""
            },
            "type": "contourcarpet"
           }
          ],
          "heatmap": [
           {
            "colorbar": {
             "outlinewidth": 0,
             "ticks": ""
            },
            "colorscale": [
             [
              0,
              "#0d0887"
             ],
             [
              0.1111111111111111,
              "#46039f"
             ],
             [
              0.2222222222222222,
              "#7201a8"
             ],
             [
              0.3333333333333333,
              "#9c179e"
             ],
             [
              0.4444444444444444,
              "#bd3786"
             ],
             [
              0.5555555555555556,
              "#d8576b"
             ],
             [
              0.6666666666666666,
              "#ed7953"
             ],
             [
              0.7777777777777778,
              "#fb9f3a"
             ],
             [
              0.8888888888888888,
              "#fdca26"
             ],
             [
              1,
              "#f0f921"
             ]
            ],
            "type": "heatmap"
           }
          ],
          "heatmapgl": [
           {
            "colorbar": {
             "outlinewidth": 0,
             "ticks": ""
            },
            "colorscale": [
             [
              0,
              "#0d0887"
             ],
             [
              0.1111111111111111,
              "#46039f"
             ],
             [
              0.2222222222222222,
              "#7201a8"
             ],
             [
              0.3333333333333333,
              "#9c179e"
             ],
             [
              0.4444444444444444,
              "#bd3786"
             ],
             [
              0.5555555555555556,
              "#d8576b"
             ],
             [
              0.6666666666666666,
              "#ed7953"
             ],
             [
              0.7777777777777778,
              "#fb9f3a"
             ],
             [
              0.8888888888888888,
              "#fdca26"
             ],
             [
              1,
              "#f0f921"
             ]
            ],
            "type": "heatmapgl"
           }
          ],
          "histogram": [
           {
            "marker": {
             "pattern": {
              "fillmode": "overlay",
              "size": 10,
              "solidity": 0.2
             }
            },
            "type": "histogram"
           }
          ],
          "histogram2d": [
           {
            "colorbar": {
             "outlinewidth": 0,
             "ticks": ""
            },
            "colorscale": [
             [
              0,
              "#0d0887"
             ],
             [
              0.1111111111111111,
              "#46039f"
             ],
             [
              0.2222222222222222,
              "#7201a8"
             ],
             [
              0.3333333333333333,
              "#9c179e"
             ],
             [
              0.4444444444444444,
              "#bd3786"
             ],
             [
              0.5555555555555556,
              "#d8576b"
             ],
             [
              0.6666666666666666,
              "#ed7953"
             ],
             [
              0.7777777777777778,
              "#fb9f3a"
             ],
             [
              0.8888888888888888,
              "#fdca26"
             ],
             [
              1,
              "#f0f921"
             ]
            ],
            "type": "histogram2d"
           }
          ],
          "histogram2dcontour": [
           {
            "colorbar": {
             "outlinewidth": 0,
             "ticks": ""
            },
            "colorscale": [
             [
              0,
              "#0d0887"
             ],
             [
              0.1111111111111111,
              "#46039f"
             ],
             [
              0.2222222222222222,
              "#7201a8"
             ],
             [
              0.3333333333333333,
              "#9c179e"
             ],
             [
              0.4444444444444444,
              "#bd3786"
             ],
             [
              0.5555555555555556,
              "#d8576b"
             ],
             [
              0.6666666666666666,
              "#ed7953"
             ],
             [
              0.7777777777777778,
              "#fb9f3a"
             ],
             [
              0.8888888888888888,
              "#fdca26"
             ],
             [
              1,
              "#f0f921"
             ]
            ],
            "type": "histogram2dcontour"
           }
          ],
          "mesh3d": [
           {
            "colorbar": {
             "outlinewidth": 0,
             "ticks": ""
            },
            "type": "mesh3d"
           }
          ],
          "parcoords": [
           {
            "line": {
             "colorbar": {
              "outlinewidth": 0,
              "ticks": ""
             }
            },
            "type": "parcoords"
           }
          ],
          "pie": [
           {
            "automargin": true,
            "type": "pie"
           }
          ],
          "scatter": [
           {
            "fillpattern": {
             "fillmode": "overlay",
             "size": 10,
             "solidity": 0.2
            },
            "type": "scatter"
           }
          ],
          "scatter3d": [
           {
            "line": {
             "colorbar": {
              "outlinewidth": 0,
              "ticks": ""
             }
            },
            "marker": {
             "colorbar": {
              "outlinewidth": 0,
              "ticks": ""
             }
            },
            "type": "scatter3d"
           }
          ],
          "scattercarpet": [
           {
            "marker": {
             "colorbar": {
              "outlinewidth": 0,
              "ticks": ""
             }
            },
            "type": "scattercarpet"
           }
          ],
          "scattergeo": [
           {
            "marker": {
             "colorbar": {
              "outlinewidth": 0,
              "ticks": ""
             }
            },
            "type": "scattergeo"
           }
          ],
          "scattergl": [
           {
            "marker": {
             "colorbar": {
              "outlinewidth": 0,
              "ticks": ""
             }
            },
            "type": "scattergl"
           }
          ],
          "scattermapbox": [
           {
            "marker": {
             "colorbar": {
              "outlinewidth": 0,
              "ticks": ""
             }
            },
            "type": "scattermapbox"
           }
          ],
          "scatterpolar": [
           {
            "marker": {
             "colorbar": {
              "outlinewidth": 0,
              "ticks": ""
             }
            },
            "type": "scatterpolar"
           }
          ],
          "scatterpolargl": [
           {
            "marker": {
             "colorbar": {
              "outlinewidth": 0,
              "ticks": ""
             }
            },
            "type": "scatterpolargl"
           }
          ],
          "scatterternary": [
           {
            "marker": {
             "colorbar": {
              "outlinewidth": 0,
              "ticks": ""
             }
            },
            "type": "scatterternary"
           }
          ],
          "surface": [
           {
            "colorbar": {
             "outlinewidth": 0,
             "ticks": ""
            },
            "colorscale": [
             [
              0,
              "#0d0887"
             ],
             [
              0.1111111111111111,
              "#46039f"
             ],
             [
              0.2222222222222222,
              "#7201a8"
             ],
             [
              0.3333333333333333,
              "#9c179e"
             ],
             [
              0.4444444444444444,
              "#bd3786"
             ],
             [
              0.5555555555555556,
              "#d8576b"
             ],
             [
              0.6666666666666666,
              "#ed7953"
             ],
             [
              0.7777777777777778,
              "#fb9f3a"
             ],
             [
              0.8888888888888888,
              "#fdca26"
             ],
             [
              1,
              "#f0f921"
             ]
            ],
            "type": "surface"
           }
          ],
          "table": [
           {
            "cells": {
             "fill": {
              "color": "#EBF0F8"
             },
             "line": {
              "color": "white"
             }
            },
            "header": {
             "fill": {
              "color": "#C8D4E3"
             },
             "line": {
              "color": "white"
             }
            },
            "type": "table"
           }
          ]
         },
         "layout": {
          "annotationdefaults": {
           "arrowcolor": "#2a3f5f",
           "arrowhead": 0,
           "arrowwidth": 1
          },
          "autotypenumbers": "strict",
          "coloraxis": {
           "colorbar": {
            "outlinewidth": 0,
            "ticks": ""
           }
          },
          "colorscale": {
           "diverging": [
            [
             0,
             "#8e0152"
            ],
            [
             0.1,
             "#c51b7d"
            ],
            [
             0.2,
             "#de77ae"
            ],
            [
             0.3,
             "#f1b6da"
            ],
            [
             0.4,
             "#fde0ef"
            ],
            [
             0.5,
             "#f7f7f7"
            ],
            [
             0.6,
             "#e6f5d0"
            ],
            [
             0.7,
             "#b8e186"
            ],
            [
             0.8,
             "#7fbc41"
            ],
            [
             0.9,
             "#4d9221"
            ],
            [
             1,
             "#276419"
            ]
           ],
           "sequential": [
            [
             0,
             "#0d0887"
            ],
            [
             0.1111111111111111,
             "#46039f"
            ],
            [
             0.2222222222222222,
             "#7201a8"
            ],
            [
             0.3333333333333333,
             "#9c179e"
            ],
            [
             0.4444444444444444,
             "#bd3786"
            ],
            [
             0.5555555555555556,
             "#d8576b"
            ],
            [
             0.6666666666666666,
             "#ed7953"
            ],
            [
             0.7777777777777778,
             "#fb9f3a"
            ],
            [
             0.8888888888888888,
             "#fdca26"
            ],
            [
             1,
             "#f0f921"
            ]
           ],
           "sequentialminus": [
            [
             0,
             "#0d0887"
            ],
            [
             0.1111111111111111,
             "#46039f"
            ],
            [
             0.2222222222222222,
             "#7201a8"
            ],
            [
             0.3333333333333333,
             "#9c179e"
            ],
            [
             0.4444444444444444,
             "#bd3786"
            ],
            [
             0.5555555555555556,
             "#d8576b"
            ],
            [
             0.6666666666666666,
             "#ed7953"
            ],
            [
             0.7777777777777778,
             "#fb9f3a"
            ],
            [
             0.8888888888888888,
             "#fdca26"
            ],
            [
             1,
             "#f0f921"
            ]
           ]
          },
          "colorway": [
           "#636efa",
           "#EF553B",
           "#00cc96",
           "#ab63fa",
           "#FFA15A",
           "#19d3f3",
           "#FF6692",
           "#B6E880",
           "#FF97FF",
           "#FECB52"
          ],
          "font": {
           "color": "#2a3f5f"
          },
          "geo": {
           "bgcolor": "white",
           "lakecolor": "white",
           "landcolor": "#E5ECF6",
           "showlakes": true,
           "showland": true,
           "subunitcolor": "white"
          },
          "hoverlabel": {
           "align": "left"
          },
          "hovermode": "closest",
          "mapbox": {
           "style": "light"
          },
          "paper_bgcolor": "white",
          "plot_bgcolor": "#E5ECF6",
          "polar": {
           "angularaxis": {
            "gridcolor": "white",
            "linecolor": "white",
            "ticks": ""
           },
           "bgcolor": "#E5ECF6",
           "radialaxis": {
            "gridcolor": "white",
            "linecolor": "white",
            "ticks": ""
           }
          },
          "scene": {
           "xaxis": {
            "backgroundcolor": "#E5ECF6",
            "gridcolor": "white",
            "gridwidth": 2,
            "linecolor": "white",
            "showbackground": true,
            "ticks": "",
            "zerolinecolor": "white"
           },
           "yaxis": {
            "backgroundcolor": "#E5ECF6",
            "gridcolor": "white",
            "gridwidth": 2,
            "linecolor": "white",
            "showbackground": true,
            "ticks": "",
            "zerolinecolor": "white"
           },
           "zaxis": {
            "backgroundcolor": "#E5ECF6",
            "gridcolor": "white",
            "gridwidth": 2,
            "linecolor": "white",
            "showbackground": true,
            "ticks": "",
            "zerolinecolor": "white"
           }
          },
          "shapedefaults": {
           "line": {
            "color": "#2a3f5f"
           }
          },
          "ternary": {
           "aaxis": {
            "gridcolor": "white",
            "linecolor": "white",
            "ticks": ""
           },
           "baxis": {
            "gridcolor": "white",
            "linecolor": "white",
            "ticks": ""
           },
           "bgcolor": "#E5ECF6",
           "caxis": {
            "gridcolor": "white",
            "linecolor": "white",
            "ticks": ""
           }
          },
          "title": {
           "x": 0.05
          },
          "xaxis": {
           "automargin": true,
           "gridcolor": "white",
           "linecolor": "white",
           "ticks": "",
           "title": {
            "standoff": 15
           },
           "zerolinecolor": "white",
           "zerolinewidth": 2
          },
          "yaxis": {
           "automargin": true,
           "gridcolor": "white",
           "linecolor": "white",
           "ticks": "",
           "title": {
            "standoff": 15
           },
           "zerolinecolor": "white",
           "zerolinewidth": 2
          }
         }
        },
        "title": {
         "text": "Distribuição de Clientes por Faixa Etária"
        },
        "width": 800,
        "xaxis": {
         "anchor": "y",
         "categoryarray": [
          "1-10 anos",
          "10-15 anos",
          "15-20 anos",
          "20-25 anos",
          "25-30 anos",
          "30-40 anos",
          "40-50 anos",
          "50-60 anos",
          "60-70 anos",
          "70-80 anos",
          "80 ou mais"
         ],
         "categoryorder": "array",
         "domain": [
          0,
          1
         ],
         "title": {
          "text": "Faixa Etária"
         }
        },
        "yaxis": {
         "anchor": "x",
         "domain": [
          0,
          1
         ],
         "title": {
          "text": "Número de Clientes"
         }
        }
       }
      }
     },
     "metadata": {},
     "output_type": "display_data"
    }
   ],
   "source": [
    "# Prepare the data\n",
    "clientes_data = vendas[['COD_CLIENTE', 'DTNASCIMENTO_CLIENTE']].drop_duplicates()\n",
    "clientes_data['DTNASCIMENTO_CLIENTE'] = pd.to_datetime(clientes_data['DTNASCIMENTO_CLIENTE'], errors='coerce')\n",
    "clientes_data['IDADE'] = (pd.to_datetime('today') - clientes_data['DTNASCIMENTO_CLIENTE']).dt.days // 365\n",
    "\n",
    "# Define bins and labels\n",
    "bins = [1, 10, 15, 20, 25, 30, 40, 50, 60, 70, 80, 100]\n",
    "labels = ['1-10 anos', '10-15 anos', '15-20 anos', '20-25 anos', '25-30 anos', '30-40 anos', \n",
    "          '40-50 anos', '50-60 anos', '60-70 anos', '70-80 anos', '80 ou mais']\n",
    "\n",
    "# Create age groups\n",
    "clientes_data['Faixa_Etaria'] = pd.cut(clientes_data['IDADE'], bins=bins, labels=labels, right=False)\n",
    "\n",
    "# Count the number of clients in each age group\n",
    "faixa_etaria_count = clientes_data['Faixa_Etaria'].value_counts().sort_index().reset_index()\n",
    "faixa_etaria_count.columns = ['Faixa Etária', 'Número de Clientes']\n",
    "\n",
    "# Plot using Plotly Express\n",
    "fig = px.bar(faixa_etaria_count, x='Faixa Etária', y='Número de Clientes',\n",
    "             title='Distribuição de Clientes por Faixa Etária',\n",
    "             labels={'Faixa Etária': 'Faixa Etária', 'Número de Clientes': 'Número de Clientes'},\n",
    "             color='Faixa Etária',\n",
    "             color_discrete_sequence=px.colors.sequential.Viridis,\n",
    "             text='Número de Clientes')\n",
    "\n",
    "# Customize layout\n",
    "fig.update_layout(xaxis_title='Faixa Etária', yaxis_title='Número de Clientes', width=800, height=600)\n",
    "\n",
    "# Display the text on top of each bar\n",
    "fig.update_traces(textposition='outside')\n",
    "\n",
    "# Show the plot\n",
    "fig.show()"
   ]
  },
  {
   "cell_type": "markdown",
   "metadata": {},
   "source": [
    "**Vast majority of clients between 30 and 60 years. A lot of clients between 0 and 10 years. Ask them, check to see if is an error.**"
   ]
  },
  {
   "cell_type": "markdown",
   "metadata": {},
   "source": [
    "## How is the distribution of the categories of the purchases"
   ]
  },
  {
   "cell_type": "code",
   "execution_count": 15,
   "metadata": {},
   "outputs": [
    {
     "data": {
      "application/vnd.plotly.v1+json": {
       "config": {
        "plotlyServerURL": "https://plot.ly"
       },
       "data": [
        {
         "alignmentgroup": "True",
         "hovertemplate": "Categoria de Produto=%{x}<br>Número de Compras=%{text}<extra></extra>",
         "legendgroup": "MEDICAMENTOS",
         "marker": {
          "color": "#440154",
          "pattern": {
           "shape": ""
          }
         },
         "name": "MEDICAMENTOS",
         "offsetgroup": "MEDICAMENTOS",
         "orientation": "v",
         "showlegend": true,
         "text": [
          4247151
         ],
         "textposition": "outside",
         "type": "bar",
         "x": [
          "MEDICAMENTOS"
         ],
         "xaxis": "x",
         "y": [
          4247151
         ],
         "yaxis": "y"
        },
        {
         "alignmentgroup": "True",
         "hovertemplate": "Categoria de Produto=%{x}<br>Número de Compras=%{text}<extra></extra>",
         "legendgroup": "PERFUMARIA",
         "marker": {
          "color": "#482878",
          "pattern": {
           "shape": ""
          }
         },
         "name": "PERFUMARIA",
         "offsetgroup": "PERFUMARIA",
         "orientation": "v",
         "showlegend": true,
         "text": [
          3235823
         ],
         "textposition": "outside",
         "type": "bar",
         "x": [
          "PERFUMARIA"
         ],
         "xaxis": "x",
         "y": [
          3235823
         ],
         "yaxis": "y"
        },
        {
         "alignmentgroup": "True",
         "hovertemplate": "Categoria de Produto=%{x}<br>Número de Compras=%{text}<extra></extra>",
         "legendgroup": "CONVENIENCIA",
         "marker": {
          "color": "#3e4989",
          "pattern": {
           "shape": ""
          }
         },
         "name": "CONVENIENCIA",
         "offsetgroup": "CONVENIENCIA",
         "orientation": "v",
         "showlegend": true,
         "text": [
          1616487
         ],
         "textposition": "outside",
         "type": "bar",
         "x": [
          "CONVENIENCIA"
         ],
         "xaxis": "x",
         "y": [
          1616487
         ],
         "yaxis": "y"
        },
        {
         "alignmentgroup": "True",
         "hovertemplate": "Categoria de Produto=%{x}<br>Número de Compras=%{text}<extra></extra>",
         "legendgroup": "NUTRICAO",
         "marker": {
          "color": "#31688e",
          "pattern": {
           "shape": ""
          }
         },
         "name": "NUTRICAO",
         "offsetgroup": "NUTRICAO",
         "orientation": "v",
         "showlegend": true,
         "text": [
          63814
         ],
         "textposition": "outside",
         "type": "bar",
         "x": [
          "NUTRICAO"
         ],
         "xaxis": "x",
         "y": [
          63814
         ],
         "yaxis": "y"
        },
        {
         "alignmentgroup": "True",
         "hovertemplate": "Categoria de Produto=%{x}<br>Número de Compras=%{text}<extra></extra>",
         "legendgroup": "SERVIÇOS",
         "marker": {
          "color": "#26828e",
          "pattern": {
           "shape": ""
          }
         },
         "name": "SERVIÇOS",
         "offsetgroup": "SERVIÇOS",
         "orientation": "v",
         "showlegend": true,
         "text": [
          45060
         ],
         "textposition": "outside",
         "type": "bar",
         "x": [
          "SERVIÇOS"
         ],
         "xaxis": "x",
         "y": [
          45060
         ],
         "yaxis": "y"
        },
        {
         "alignmentgroup": "True",
         "hovertemplate": "Categoria de Produto=%{x}<br>Número de Compras=%{text}<extra></extra>",
         "legendgroup": "DERMO-COSMETICOS",
         "marker": {
          "color": "#1f9e89",
          "pattern": {
           "shape": ""
          }
         },
         "name": "DERMO-COSMETICOS",
         "offsetgroup": "DERMO-COSMETICOS",
         "orientation": "v",
         "showlegend": true,
         "text": [
          42728
         ],
         "textposition": "outside",
         "type": "bar",
         "x": [
          "DERMO-COSMETICOS"
         ],
         "xaxis": "x",
         "y": [
          42728
         ],
         "yaxis": "y"
        },
        {
         "alignmentgroup": "True",
         "hovertemplate": "Categoria de Produto=%{x}<br>Número de Compras=%{text}<extra></extra>",
         "legendgroup": "DIVERSOS",
         "marker": {
          "color": "#35b779",
          "pattern": {
           "shape": ""
          }
         },
         "name": "DIVERSOS",
         "offsetgroup": "DIVERSOS",
         "orientation": "v",
         "showlegend": true,
         "text": [
          19943
         ],
         "textposition": "outside",
         "type": "bar",
         "x": [
          "DIVERSOS"
         ],
         "xaxis": "x",
         "y": [
          19943
         ],
         "yaxis": "y"
        },
        {
         "alignmentgroup": "True",
         "hovertemplate": "Categoria de Produto=%{x}<br>Número de Compras=%{text}<extra></extra>",
         "legendgroup": "MANIPULADOS",
         "marker": {
          "color": "#6ece58",
          "pattern": {
           "shape": ""
          }
         },
         "name": "MANIPULADOS",
         "offsetgroup": "MANIPULADOS",
         "orientation": "v",
         "showlegend": true,
         "text": [
          29
         ],
         "textposition": "outside",
         "type": "bar",
         "x": [
          "MANIPULADOS"
         ],
         "xaxis": "x",
         "y": [
          29
         ],
         "yaxis": "y"
        },
        {
         "alignmentgroup": "True",
         "hovertemplate": "Categoria de Produto=%{x}<br>Número de Compras=%{text}<extra></extra>",
         "legendgroup": "IMOBILIZADO",
         "marker": {
          "color": "#b5de2b",
          "pattern": {
           "shape": ""
          }
         },
         "name": "IMOBILIZADO",
         "offsetgroup": "IMOBILIZADO",
         "orientation": "v",
         "showlegend": true,
         "text": [
          1
         ],
         "textposition": "outside",
         "type": "bar",
         "x": [
          "IMOBILIZADO"
         ],
         "xaxis": "x",
         "y": [
          1
         ],
         "yaxis": "y"
        }
       ],
       "layout": {
        "barmode": "relative",
        "height": 600,
        "legend": {
         "title": {
          "text": "Categoria de Produto"
         },
         "tracegroupgap": 0
        },
        "template": {
         "data": {
          "bar": [
           {
            "error_x": {
             "color": "#2a3f5f"
            },
            "error_y": {
             "color": "#2a3f5f"
            },
            "marker": {
             "line": {
              "color": "#E5ECF6",
              "width": 0.5
             },
             "pattern": {
              "fillmode": "overlay",
              "size": 10,
              "solidity": 0.2
             }
            },
            "type": "bar"
           }
          ],
          "barpolar": [
           {
            "marker": {
             "line": {
              "color": "#E5ECF6",
              "width": 0.5
             },
             "pattern": {
              "fillmode": "overlay",
              "size": 10,
              "solidity": 0.2
             }
            },
            "type": "barpolar"
           }
          ],
          "carpet": [
           {
            "aaxis": {
             "endlinecolor": "#2a3f5f",
             "gridcolor": "white",
             "linecolor": "white",
             "minorgridcolor": "white",
             "startlinecolor": "#2a3f5f"
            },
            "baxis": {
             "endlinecolor": "#2a3f5f",
             "gridcolor": "white",
             "linecolor": "white",
             "minorgridcolor": "white",
             "startlinecolor": "#2a3f5f"
            },
            "type": "carpet"
           }
          ],
          "choropleth": [
           {
            "colorbar": {
             "outlinewidth": 0,
             "ticks": ""
            },
            "type": "choropleth"
           }
          ],
          "contour": [
           {
            "colorbar": {
             "outlinewidth": 0,
             "ticks": ""
            },
            "colorscale": [
             [
              0,
              "#0d0887"
             ],
             [
              0.1111111111111111,
              "#46039f"
             ],
             [
              0.2222222222222222,
              "#7201a8"
             ],
             [
              0.3333333333333333,
              "#9c179e"
             ],
             [
              0.4444444444444444,
              "#bd3786"
             ],
             [
              0.5555555555555556,
              "#d8576b"
             ],
             [
              0.6666666666666666,
              "#ed7953"
             ],
             [
              0.7777777777777778,
              "#fb9f3a"
             ],
             [
              0.8888888888888888,
              "#fdca26"
             ],
             [
              1,
              "#f0f921"
             ]
            ],
            "type": "contour"
           }
          ],
          "contourcarpet": [
           {
            "colorbar": {
             "outlinewidth": 0,
             "ticks": ""
            },
            "type": "contourcarpet"
           }
          ],
          "heatmap": [
           {
            "colorbar": {
             "outlinewidth": 0,
             "ticks": ""
            },
            "colorscale": [
             [
              0,
              "#0d0887"
             ],
             [
              0.1111111111111111,
              "#46039f"
             ],
             [
              0.2222222222222222,
              "#7201a8"
             ],
             [
              0.3333333333333333,
              "#9c179e"
             ],
             [
              0.4444444444444444,
              "#bd3786"
             ],
             [
              0.5555555555555556,
              "#d8576b"
             ],
             [
              0.6666666666666666,
              "#ed7953"
             ],
             [
              0.7777777777777778,
              "#fb9f3a"
             ],
             [
              0.8888888888888888,
              "#fdca26"
             ],
             [
              1,
              "#f0f921"
             ]
            ],
            "type": "heatmap"
           }
          ],
          "heatmapgl": [
           {
            "colorbar": {
             "outlinewidth": 0,
             "ticks": ""
            },
            "colorscale": [
             [
              0,
              "#0d0887"
             ],
             [
              0.1111111111111111,
              "#46039f"
             ],
             [
              0.2222222222222222,
              "#7201a8"
             ],
             [
              0.3333333333333333,
              "#9c179e"
             ],
             [
              0.4444444444444444,
              "#bd3786"
             ],
             [
              0.5555555555555556,
              "#d8576b"
             ],
             [
              0.6666666666666666,
              "#ed7953"
             ],
             [
              0.7777777777777778,
              "#fb9f3a"
             ],
             [
              0.8888888888888888,
              "#fdca26"
             ],
             [
              1,
              "#f0f921"
             ]
            ],
            "type": "heatmapgl"
           }
          ],
          "histogram": [
           {
            "marker": {
             "pattern": {
              "fillmode": "overlay",
              "size": 10,
              "solidity": 0.2
             }
            },
            "type": "histogram"
           }
          ],
          "histogram2d": [
           {
            "colorbar": {
             "outlinewidth": 0,
             "ticks": ""
            },
            "colorscale": [
             [
              0,
              "#0d0887"
             ],
             [
              0.1111111111111111,
              "#46039f"
             ],
             [
              0.2222222222222222,
              "#7201a8"
             ],
             [
              0.3333333333333333,
              "#9c179e"
             ],
             [
              0.4444444444444444,
              "#bd3786"
             ],
             [
              0.5555555555555556,
              "#d8576b"
             ],
             [
              0.6666666666666666,
              "#ed7953"
             ],
             [
              0.7777777777777778,
              "#fb9f3a"
             ],
             [
              0.8888888888888888,
              "#fdca26"
             ],
             [
              1,
              "#f0f921"
             ]
            ],
            "type": "histogram2d"
           }
          ],
          "histogram2dcontour": [
           {
            "colorbar": {
             "outlinewidth": 0,
             "ticks": ""
            },
            "colorscale": [
             [
              0,
              "#0d0887"
             ],
             [
              0.1111111111111111,
              "#46039f"
             ],
             [
              0.2222222222222222,
              "#7201a8"
             ],
             [
              0.3333333333333333,
              "#9c179e"
             ],
             [
              0.4444444444444444,
              "#bd3786"
             ],
             [
              0.5555555555555556,
              "#d8576b"
             ],
             [
              0.6666666666666666,
              "#ed7953"
             ],
             [
              0.7777777777777778,
              "#fb9f3a"
             ],
             [
              0.8888888888888888,
              "#fdca26"
             ],
             [
              1,
              "#f0f921"
             ]
            ],
            "type": "histogram2dcontour"
           }
          ],
          "mesh3d": [
           {
            "colorbar": {
             "outlinewidth": 0,
             "ticks": ""
            },
            "type": "mesh3d"
           }
          ],
          "parcoords": [
           {
            "line": {
             "colorbar": {
              "outlinewidth": 0,
              "ticks": ""
             }
            },
            "type": "parcoords"
           }
          ],
          "pie": [
           {
            "automargin": true,
            "type": "pie"
           }
          ],
          "scatter": [
           {
            "fillpattern": {
             "fillmode": "overlay",
             "size": 10,
             "solidity": 0.2
            },
            "type": "scatter"
           }
          ],
          "scatter3d": [
           {
            "line": {
             "colorbar": {
              "outlinewidth": 0,
              "ticks": ""
             }
            },
            "marker": {
             "colorbar": {
              "outlinewidth": 0,
              "ticks": ""
             }
            },
            "type": "scatter3d"
           }
          ],
          "scattercarpet": [
           {
            "marker": {
             "colorbar": {
              "outlinewidth": 0,
              "ticks": ""
             }
            },
            "type": "scattercarpet"
           }
          ],
          "scattergeo": [
           {
            "marker": {
             "colorbar": {
              "outlinewidth": 0,
              "ticks": ""
             }
            },
            "type": "scattergeo"
           }
          ],
          "scattergl": [
           {
            "marker": {
             "colorbar": {
              "outlinewidth": 0,
              "ticks": ""
             }
            },
            "type": "scattergl"
           }
          ],
          "scattermapbox": [
           {
            "marker": {
             "colorbar": {
              "outlinewidth": 0,
              "ticks": ""
             }
            },
            "type": "scattermapbox"
           }
          ],
          "scatterpolar": [
           {
            "marker": {
             "colorbar": {
              "outlinewidth": 0,
              "ticks": ""
             }
            },
            "type": "scatterpolar"
           }
          ],
          "scatterpolargl": [
           {
            "marker": {
             "colorbar": {
              "outlinewidth": 0,
              "ticks": ""
             }
            },
            "type": "scatterpolargl"
           }
          ],
          "scatterternary": [
           {
            "marker": {
             "colorbar": {
              "outlinewidth": 0,
              "ticks": ""
             }
            },
            "type": "scatterternary"
           }
          ],
          "surface": [
           {
            "colorbar": {
             "outlinewidth": 0,
             "ticks": ""
            },
            "colorscale": [
             [
              0,
              "#0d0887"
             ],
             [
              0.1111111111111111,
              "#46039f"
             ],
             [
              0.2222222222222222,
              "#7201a8"
             ],
             [
              0.3333333333333333,
              "#9c179e"
             ],
             [
              0.4444444444444444,
              "#bd3786"
             ],
             [
              0.5555555555555556,
              "#d8576b"
             ],
             [
              0.6666666666666666,
              "#ed7953"
             ],
             [
              0.7777777777777778,
              "#fb9f3a"
             ],
             [
              0.8888888888888888,
              "#fdca26"
             ],
             [
              1,
              "#f0f921"
             ]
            ],
            "type": "surface"
           }
          ],
          "table": [
           {
            "cells": {
             "fill": {
              "color": "#EBF0F8"
             },
             "line": {
              "color": "white"
             }
            },
            "header": {
             "fill": {
              "color": "#C8D4E3"
             },
             "line": {
              "color": "white"
             }
            },
            "type": "table"
           }
          ]
         },
         "layout": {
          "annotationdefaults": {
           "arrowcolor": "#2a3f5f",
           "arrowhead": 0,
           "arrowwidth": 1
          },
          "autotypenumbers": "strict",
          "coloraxis": {
           "colorbar": {
            "outlinewidth": 0,
            "ticks": ""
           }
          },
          "colorscale": {
           "diverging": [
            [
             0,
             "#8e0152"
            ],
            [
             0.1,
             "#c51b7d"
            ],
            [
             0.2,
             "#de77ae"
            ],
            [
             0.3,
             "#f1b6da"
            ],
            [
             0.4,
             "#fde0ef"
            ],
            [
             0.5,
             "#f7f7f7"
            ],
            [
             0.6,
             "#e6f5d0"
            ],
            [
             0.7,
             "#b8e186"
            ],
            [
             0.8,
             "#7fbc41"
            ],
            [
             0.9,
             "#4d9221"
            ],
            [
             1,
             "#276419"
            ]
           ],
           "sequential": [
            [
             0,
             "#0d0887"
            ],
            [
             0.1111111111111111,
             "#46039f"
            ],
            [
             0.2222222222222222,
             "#7201a8"
            ],
            [
             0.3333333333333333,
             "#9c179e"
            ],
            [
             0.4444444444444444,
             "#bd3786"
            ],
            [
             0.5555555555555556,
             "#d8576b"
            ],
            [
             0.6666666666666666,
             "#ed7953"
            ],
            [
             0.7777777777777778,
             "#fb9f3a"
            ],
            [
             0.8888888888888888,
             "#fdca26"
            ],
            [
             1,
             "#f0f921"
            ]
           ],
           "sequentialminus": [
            [
             0,
             "#0d0887"
            ],
            [
             0.1111111111111111,
             "#46039f"
            ],
            [
             0.2222222222222222,
             "#7201a8"
            ],
            [
             0.3333333333333333,
             "#9c179e"
            ],
            [
             0.4444444444444444,
             "#bd3786"
            ],
            [
             0.5555555555555556,
             "#d8576b"
            ],
            [
             0.6666666666666666,
             "#ed7953"
            ],
            [
             0.7777777777777778,
             "#fb9f3a"
            ],
            [
             0.8888888888888888,
             "#fdca26"
            ],
            [
             1,
             "#f0f921"
            ]
           ]
          },
          "colorway": [
           "#636efa",
           "#EF553B",
           "#00cc96",
           "#ab63fa",
           "#FFA15A",
           "#19d3f3",
           "#FF6692",
           "#B6E880",
           "#FF97FF",
           "#FECB52"
          ],
          "font": {
           "color": "#2a3f5f"
          },
          "geo": {
           "bgcolor": "white",
           "lakecolor": "white",
           "landcolor": "#E5ECF6",
           "showlakes": true,
           "showland": true,
           "subunitcolor": "white"
          },
          "hoverlabel": {
           "align": "left"
          },
          "hovermode": "closest",
          "mapbox": {
           "style": "light"
          },
          "paper_bgcolor": "white",
          "plot_bgcolor": "#E5ECF6",
          "polar": {
           "angularaxis": {
            "gridcolor": "white",
            "linecolor": "white",
            "ticks": ""
           },
           "bgcolor": "#E5ECF6",
           "radialaxis": {
            "gridcolor": "white",
            "linecolor": "white",
            "ticks": ""
           }
          },
          "scene": {
           "xaxis": {
            "backgroundcolor": "#E5ECF6",
            "gridcolor": "white",
            "gridwidth": 2,
            "linecolor": "white",
            "showbackground": true,
            "ticks": "",
            "zerolinecolor": "white"
           },
           "yaxis": {
            "backgroundcolor": "#E5ECF6",
            "gridcolor": "white",
            "gridwidth": 2,
            "linecolor": "white",
            "showbackground": true,
            "ticks": "",
            "zerolinecolor": "white"
           },
           "zaxis": {
            "backgroundcolor": "#E5ECF6",
            "gridcolor": "white",
            "gridwidth": 2,
            "linecolor": "white",
            "showbackground": true,
            "ticks": "",
            "zerolinecolor": "white"
           }
          },
          "shapedefaults": {
           "line": {
            "color": "#2a3f5f"
           }
          },
          "ternary": {
           "aaxis": {
            "gridcolor": "white",
            "linecolor": "white",
            "ticks": ""
           },
           "baxis": {
            "gridcolor": "white",
            "linecolor": "white",
            "ticks": ""
           },
           "bgcolor": "#E5ECF6",
           "caxis": {
            "gridcolor": "white",
            "linecolor": "white",
            "ticks": ""
           }
          },
          "title": {
           "x": 0.05
          },
          "xaxis": {
           "automargin": true,
           "gridcolor": "white",
           "linecolor": "white",
           "ticks": "",
           "title": {
            "standoff": 15
           },
           "zerolinecolor": "white",
           "zerolinewidth": 2
          },
          "yaxis": {
           "automargin": true,
           "gridcolor": "white",
           "linecolor": "white",
           "ticks": "",
           "title": {
            "standoff": 15
           },
           "zerolinecolor": "white",
           "zerolinewidth": 2
          }
         }
        },
        "title": {
         "text": "Distribuição de Compras por Categoria de Produto"
        },
        "width": 1000,
        "xaxis": {
         "anchor": "y",
         "categoryarray": [
          "MEDICAMENTOS",
          "PERFUMARIA",
          "CONVENIENCIA",
          "NUTRICAO",
          "SERVIÇOS",
          "DERMO-COSMETICOS",
          "DIVERSOS",
          "MANIPULADOS",
          "IMOBILIZADO"
         ],
         "categoryorder": "array",
         "domain": [
          0,
          1
         ],
         "title": {
          "text": "Categoria de Produto"
         }
        },
        "yaxis": {
         "anchor": "x",
         "domain": [
          0,
          1
         ],
         "title": {
          "text": "Número de Compras"
         }
        }
       }
      }
     },
     "metadata": {},
     "output_type": "display_data"
    }
   ],
   "source": [
    "# Calculate the sorted counts of purchases by product category\n",
    "sorted_counts = vendas['CATEGORIA_SKU'].value_counts().sort_values(ascending=False).reset_index()\n",
    "\n",
    "# Rename columns for clarity\n",
    "sorted_counts.columns = ['Categoria de Produto', 'Número de Compras']\n",
    "\n",
    "# Plot using Plotly Express with counts on top of each bar\n",
    "fig = px.bar(sorted_counts, x='Categoria de Produto', y='Número de Compras',\n",
    "             title='Distribuição de Compras por Categoria de Produto',\n",
    "             labels={'Categoria de Produto': 'Categoria de Produto', 'Número de Compras': 'Número de Compras'},\n",
    "             color='Categoria de Produto',\n",
    "             color_discrete_sequence=px.colors.sequential.Viridis,\n",
    "             text='Número de Compras')\n",
    "\n",
    "# Customize layout\n",
    "fig.update_layout(xaxis_title='Categoria de Produto', yaxis_title='Número de Compras', width=1000, height=600)\n",
    "\n",
    "# Display the text on top of each bar\n",
    "fig.update_traces(textposition='outside')\n",
    "\n",
    "# Show the plot\n",
    "fig.show()"
   ]
  },
  {
   "cell_type": "code",
   "execution_count": 16,
   "metadata": {},
   "outputs": [
    {
     "data": {
      "application/vnd.plotly.v1+json": {
       "config": {
        "plotlyServerURL": "https://plot.ly"
       },
       "data": [
        {
         "alignmentgroup": "True",
         "hovertemplate": "Subcategoria de Produto=%{x}<br>Número de Compras=%{y}<extra></extra>",
         "legendgroup": "PERFUMARIA",
         "marker": {
          "color": "#440154",
          "pattern": {
           "shape": ""
          }
         },
         "name": "PERFUMARIA",
         "offsetgroup": "PERFUMARIA",
         "orientation": "v",
         "showlegend": true,
         "textposition": "auto",
         "type": "bar",
         "x": [
          "PERFUMARIA"
         ],
         "xaxis": "x",
         "y": [
          2488231
         ],
         "yaxis": "y"
        },
        {
         "alignmentgroup": "True",
         "hovertemplate": "Subcategoria de Produto=%{x}<br>Número de Compras=%{y}<extra></extra>",
         "legendgroup": "CONVENIENCIA PERECIVEIS",
         "marker": {
          "color": "#482878",
          "pattern": {
           "shape": ""
          }
         },
         "name": "CONVENIENCIA PERECIVEIS",
         "offsetgroup": "CONVENIENCIA PERECIVEIS",
         "orientation": "v",
         "showlegend": true,
         "textposition": "auto",
         "type": "bar",
         "x": [
          "CONVENIENCIA PERECIVEIS"
         ],
         "xaxis": "x",
         "y": [
          957572
         ],
         "yaxis": "y"
        },
        {
         "alignmentgroup": "True",
         "hovertemplate": "Subcategoria de Produto=%{x}<br>Número de Compras=%{y}<extra></extra>",
         "legendgroup": "GENERICOS",
         "marker": {
          "color": "#3e4989",
          "pattern": {
           "shape": ""
          }
         },
         "name": "GENERICOS",
         "offsetgroup": "GENERICOS",
         "orientation": "v",
         "showlegend": true,
         "textposition": "auto",
         "type": "bar",
         "x": [
          "GENERICOS"
         ],
         "xaxis": "x",
         "y": [
          613390
         ],
         "yaxis": "y"
        },
        {
         "alignmentgroup": "True",
         "hovertemplate": "Subcategoria de Produto=%{x}<br>Número de Compras=%{y}<extra></extra>",
         "legendgroup": "BEBIDAS",
         "marker": {
          "color": "#31688e",
          "pattern": {
           "shape": ""
          }
         },
         "name": "BEBIDAS",
         "offsetgroup": "BEBIDAS",
         "orientation": "v",
         "showlegend": true,
         "textposition": "auto",
         "type": "bar",
         "x": [
          "BEBIDAS"
         ],
         "xaxis": "x",
         "y": [
          382272
         ],
         "yaxis": "y"
        },
        {
         "alignmentgroup": "True",
         "hovertemplate": "Subcategoria de Produto=%{x}<br>Número de Compras=%{y}<extra></extra>",
         "legendgroup": "HOSPITALARES",
         "marker": {
          "color": "#26828e",
          "pattern": {
           "shape": ""
          }
         },
         "name": "HOSPITALARES",
         "offsetgroup": "HOSPITALARES",
         "orientation": "v",
         "showlegend": true,
         "textposition": "auto",
         "type": "bar",
         "x": [
          "HOSPITALARES"
         ],
         "xaxis": "x",
         "y": [
          364788
         ],
         "yaxis": "y"
        },
        {
         "alignmentgroup": "True",
         "hovertemplate": "Subcategoria de Produto=%{x}<br>Número de Compras=%{y}<extra></extra>",
         "legendgroup": "REFERENCIA ONEROSOS",
         "marker": {
          "color": "#1f9e89",
          "pattern": {
           "shape": ""
          }
         },
         "name": "REFERENCIA ONEROSOS",
         "offsetgroup": "REFERENCIA ONEROSOS",
         "orientation": "v",
         "showlegend": true,
         "textposition": "auto",
         "type": "bar",
         "x": [
          "REFERENCIA ONEROSOS"
         ],
         "xaxis": "x",
         "y": [
          350723
         ],
         "yaxis": "y"
        },
        {
         "alignmentgroup": "True",
         "hovertemplate": "Subcategoria de Produto=%{x}<br>Número de Compras=%{y}<extra></extra>",
         "legendgroup": "GENERICOS OTC/MIP",
         "marker": {
          "color": "#35b779",
          "pattern": {
           "shape": ""
          }
         },
         "name": "GENERICOS OTC/MIP",
         "offsetgroup": "GENERICOS OTC/MIP",
         "orientation": "v",
         "showlegend": true,
         "textposition": "auto",
         "type": "bar",
         "x": [
          "GENERICOS OTC/MIP"
         ],
         "xaxis": "x",
         "y": [
          321720
         ],
         "yaxis": "y"
        },
        {
         "alignmentgroup": "True",
         "hovertemplate": "Subcategoria de Produto=%{x}<br>Número de Compras=%{y}<extra></extra>",
         "legendgroup": "REFERENCIA AVULSO",
         "marker": {
          "color": "#6ece58",
          "pattern": {
           "shape": ""
          }
         },
         "name": "REFERENCIA AVULSO",
         "offsetgroup": "REFERENCIA AVULSO",
         "orientation": "v",
         "showlegend": true,
         "textposition": "auto",
         "type": "bar",
         "x": [
          "REFERENCIA AVULSO"
         ],
         "xaxis": "x",
         "y": [
          317648
         ],
         "yaxis": "y"
        },
        {
         "alignmentgroup": "True",
         "hovertemplate": "Subcategoria de Produto=%{x}<br>Número de Compras=%{y}<extra></extra>",
         "legendgroup": "SIMILAR",
         "marker": {
          "color": "#b5de2b",
          "pattern": {
           "shape": ""
          }
         },
         "name": "SIMILAR",
         "offsetgroup": "SIMILAR",
         "orientation": "v",
         "showlegend": true,
         "textposition": "auto",
         "type": "bar",
         "x": [
          "SIMILAR"
         ],
         "xaxis": "x",
         "y": [
          290915
         ],
         "yaxis": "y"
        },
        {
         "alignmentgroup": "True",
         "hovertemplate": "Subcategoria de Produto=%{x}<br>Número de Compras=%{y}<extra></extra>",
         "legendgroup": "REFERENCIA SUPER ONEROSOS",
         "marker": {
          "color": "#fde725",
          "pattern": {
           "shape": ""
          }
         },
         "name": "REFERENCIA SUPER ONEROSOS",
         "offsetgroup": "REFERENCIA SUPER ONEROSOS",
         "orientation": "v",
         "showlegend": true,
         "textposition": "auto",
         "type": "bar",
         "x": [
          "REFERENCIA SUPER ONEROSOS"
         ],
         "xaxis": "x",
         "y": [
          265210
         ],
         "yaxis": "y"
        },
        {
         "alignmentgroup": "True",
         "hovertemplate": "Subcategoria de Produto=%{x}<br>Número de Compras=%{y}<extra></extra>",
         "legendgroup": "CONVENIENCIA BAZAR",
         "marker": {
          "color": "#440154",
          "pattern": {
           "shape": ""
          }
         },
         "name": "CONVENIENCIA BAZAR",
         "offsetgroup": "CONVENIENCIA BAZAR",
         "orientation": "v",
         "showlegend": true,
         "textposition": "auto",
         "type": "bar",
         "x": [
          "CONVENIENCIA BAZAR"
         ],
         "xaxis": "x",
         "y": [
          258998
         ],
         "yaxis": "y"
        },
        {
         "alignmentgroup": "True",
         "hovertemplate": "Subcategoria de Produto=%{x}<br>Número de Compras=%{y}<extra></extra>",
         "legendgroup": "GENERICOS ONEROSOS",
         "marker": {
          "color": "#482878",
          "pattern": {
           "shape": ""
          }
         },
         "name": "GENERICOS ONEROSOS",
         "offsetgroup": "GENERICOS ONEROSOS",
         "orientation": "v",
         "showlegend": true,
         "textposition": "auto",
         "type": "bar",
         "x": [
          "GENERICOS ONEROSOS"
         ],
         "xaxis": "x",
         "y": [
          214288
         ],
         "yaxis": "y"
        },
        {
         "alignmentgroup": "True",
         "hovertemplate": "Subcategoria de Produto=%{x}<br>Número de Compras=%{y}<extra></extra>",
         "legendgroup": "REFERENCIA",
         "marker": {
          "color": "#3e4989",
          "pattern": {
           "shape": ""
          }
         },
         "name": "REFERENCIA",
         "offsetgroup": "REFERENCIA",
         "orientation": "v",
         "showlegend": true,
         "textposition": "auto",
         "type": "bar",
         "x": [
          "REFERENCIA"
         ],
         "xaxis": "x",
         "y": [
          190042
         ],
         "yaxis": "y"
        },
        {
         "alignmentgroup": "True",
         "hovertemplate": "Subcategoria de Produto=%{x}<br>Número de Compras=%{y}<extra></extra>",
         "legendgroup": "HIGIENE PESSOAL",
         "marker": {
          "color": "#31688e",
          "pattern": {
           "shape": ""
          }
         },
         "name": "HIGIENE PESSOAL",
         "offsetgroup": "HIGIENE PESSOAL",
         "orientation": "v",
         "showlegend": true,
         "textposition": "auto",
         "type": "bar",
         "x": [
          "HIGIENE PESSOAL"
         ],
         "xaxis": "x",
         "y": [
          164563
         ],
         "yaxis": "y"
        },
        {
         "alignmentgroup": "True",
         "hovertemplate": "Subcategoria de Produto=%{x}<br>Número de Compras=%{y}<extra></extra>",
         "legendgroup": "ABSORVENTES E LENÇOS SUBSTITUIDO",
         "marker": {
          "color": "#26828e",
          "pattern": {
           "shape": ""
          }
         },
         "name": "ABSORVENTES E LENÇOS SUBSTITUIDO",
         "offsetgroup": "ABSORVENTES E LENÇOS SUBSTITUIDO",
         "orientation": "v",
         "showlegend": true,
         "textposition": "auto",
         "type": "bar",
         "x": [
          "ABSORVENTES E LENÇOS SUBSTITUIDO"
         ],
         "xaxis": "x",
         "y": [
          156440
         ],
         "yaxis": "y"
        },
        {
         "alignmentgroup": "True",
         "hovertemplate": "Subcategoria de Produto=%{x}<br>Número de Compras=%{y}<extra></extra>",
         "legendgroup": "PREMIACAO EXCLUSIVA",
         "marker": {
          "color": "#1f9e89",
          "pattern": {
           "shape": ""
          }
         },
         "name": "PREMIACAO EXCLUSIVA",
         "offsetgroup": "PREMIACAO EXCLUSIVA",
         "orientation": "v",
         "showlegend": true,
         "textposition": "auto",
         "type": "bar",
         "x": [
          "PREMIACAO EXCLUSIVA"
         ],
         "xaxis": "x",
         "y": [
          121908
         ],
         "yaxis": "y"
        },
        {
         "alignmentgroup": "True",
         "hovertemplate": "Subcategoria de Produto=%{x}<br>Número de Compras=%{y}<extra></extra>",
         "legendgroup": "FRALDAS",
         "marker": {
          "color": "#35b779",
          "pattern": {
           "shape": ""
          }
         },
         "name": "FRALDAS",
         "offsetgroup": "FRALDAS",
         "orientation": "v",
         "showlegend": true,
         "textposition": "auto",
         "type": "bar",
         "x": [
          "FRALDAS"
         ],
         "xaxis": "x",
         "y": [
          120320
         ],
         "yaxis": "y"
        },
        {
         "alignmentgroup": "True",
         "hovertemplate": "Subcategoria de Produto=%{x}<br>Número de Compras=%{y}<extra></extra>",
         "legendgroup": "SIMILAR ONEROSO",
         "marker": {
          "color": "#6ece58",
          "pattern": {
           "shape": ""
          }
         },
         "name": "SIMILAR ONEROSO",
         "offsetgroup": "SIMILAR ONEROSO",
         "orientation": "v",
         "showlegend": true,
         "textposition": "auto",
         "type": "bar",
         "x": [
          "SIMILAR ONEROSO"
         ],
         "xaxis": "x",
         "y": [
          118832
         ],
         "yaxis": "y"
        },
        {
         "alignmentgroup": "True",
         "hovertemplate": "Subcategoria de Produto=%{x}<br>Número de Compras=%{y}<extra></extra>",
         "legendgroup": "LENCOS E TOALHAS UMEDECIDAS",
         "marker": {
          "color": "#b5de2b",
          "pattern": {
           "shape": ""
          }
         },
         "name": "LENCOS E TOALHAS UMEDECIDAS",
         "offsetgroup": "LENCOS E TOALHAS UMEDECIDAS",
         "orientation": "v",
         "showlegend": true,
         "textposition": "auto",
         "type": "bar",
         "x": [
          "LENCOS E TOALHAS UMEDECIDAS"
         ],
         "xaxis": "x",
         "y": [
          117321
         ],
         "yaxis": "y"
        },
        {
         "alignmentgroup": "True",
         "hovertemplate": "Subcategoria de Produto=%{x}<br>Número de Compras=%{y}<extra></extra>",
         "legendgroup": "LIBERADOS",
         "marker": {
          "color": "#fde725",
          "pattern": {
           "shape": ""
          }
         },
         "name": "LIBERADOS",
         "offsetgroup": "LIBERADOS",
         "orientation": "v",
         "showlegend": true,
         "textposition": "auto",
         "type": "bar",
         "x": [
          "LIBERADOS"
         ],
         "xaxis": "x",
         "y": [
          114838
         ],
         "yaxis": "y"
        },
        {
         "alignmentgroup": "True",
         "hovertemplate": "Subcategoria de Produto=%{x}<br>Número de Compras=%{y}<extra></extra>",
         "legendgroup": "SIMILAR AVULSO",
         "marker": {
          "color": "#440154",
          "pattern": {
           "shape": ""
          }
         },
         "name": "SIMILAR AVULSO",
         "offsetgroup": "SIMILAR AVULSO",
         "orientation": "v",
         "showlegend": true,
         "textposition": "auto",
         "type": "bar",
         "x": [
          "SIMILAR AVULSO"
         ],
         "xaxis": "x",
         "y": [
          101918
         ],
         "yaxis": "y"
        },
        {
         "alignmentgroup": "True",
         "hovertemplate": "Subcategoria de Produto=%{x}<br>Número de Compras=%{y}<extra></extra>",
         "legendgroup": "GENERICO CONTROLADO",
         "marker": {
          "color": "#482878",
          "pattern": {
           "shape": ""
          }
         },
         "name": "GENERICO CONTROLADO",
         "offsetgroup": "GENERICO CONTROLADO",
         "orientation": "v",
         "showlegend": true,
         "textposition": "auto",
         "type": "bar",
         "x": [
          "GENERICO CONTROLADO"
         ],
         "xaxis": "x",
         "y": [
          100652
         ],
         "yaxis": "y"
        },
        {
         "alignmentgroup": "True",
         "hovertemplate": "Subcategoria de Produto=%{x}<br>Número de Compras=%{y}<extra></extra>",
         "legendgroup": "FRALDA EXCLUSIVA",
         "marker": {
          "color": "#3e4989",
          "pattern": {
           "shape": ""
          }
         },
         "name": "FRALDA EXCLUSIVA",
         "offsetgroup": "FRALDA EXCLUSIVA",
         "orientation": "v",
         "showlegend": true,
         "textposition": "auto",
         "type": "bar",
         "x": [
          "FRALDA EXCLUSIVA"
         ],
         "xaxis": "x",
         "y": [
          92379
         ],
         "yaxis": "y"
        },
        {
         "alignmentgroup": "True",
         "hovertemplate": "Subcategoria de Produto=%{x}<br>Número de Compras=%{y}<extra></extra>",
         "legendgroup": "CAMPANHA",
         "marker": {
          "color": "#31688e",
          "pattern": {
           "shape": ""
          }
         },
         "name": "CAMPANHA",
         "offsetgroup": "CAMPANHA",
         "orientation": "v",
         "showlegend": true,
         "textposition": "auto",
         "type": "bar",
         "x": [
          "CAMPANHA"
         ],
         "xaxis": "x",
         "y": [
          71547
         ],
         "yaxis": "y"
        },
        {
         "alignmentgroup": "True",
         "hovertemplate": "Subcategoria de Produto=%{x}<br>Número de Compras=%{y}<extra></extra>",
         "legendgroup": "REFERENCIA LIBERADO",
         "marker": {
          "color": "#26828e",
          "pattern": {
           "shape": ""
          }
         },
         "name": "REFERENCIA LIBERADO",
         "offsetgroup": "REFERENCIA LIBERADO",
         "orientation": "v",
         "showlegend": true,
         "textposition": "auto",
         "type": "bar",
         "x": [
          "REFERENCIA LIBERADO"
         ],
         "xaxis": "x",
         "y": [
          67266
         ],
         "yaxis": "y"
        },
        {
         "alignmentgroup": "True",
         "hovertemplate": "Subcategoria de Produto=%{x}<br>Número de Compras=%{y}<extra></extra>",
         "legendgroup": "REFERENCIA FARMACIA POPULAR",
         "marker": {
          "color": "#1f9e89",
          "pattern": {
           "shape": ""
          }
         },
         "name": "REFERENCIA FARMACIA POPULAR",
         "offsetgroup": "REFERENCIA FARMACIA POPULAR",
         "orientation": "v",
         "showlegend": true,
         "textposition": "auto",
         "type": "bar",
         "x": [
          "REFERENCIA FARMACIA POPULAR"
         ],
         "xaxis": "x",
         "y": [
          66351
         ],
         "yaxis": "y"
        },
        {
         "alignmentgroup": "True",
         "hovertemplate": "Subcategoria de Produto=%{x}<br>Número de Compras=%{y}<extra></extra>",
         "legendgroup": "PERFUMARIA EXCLUSIVA PREMIACAO",
         "marker": {
          "color": "#35b779",
          "pattern": {
           "shape": ""
          }
         },
         "name": "PERFUMARIA EXCLUSIVA PREMIACAO",
         "offsetgroup": "PERFUMARIA EXCLUSIVA PREMIACAO",
         "orientation": "v",
         "showlegend": true,
         "textposition": "auto",
         "type": "bar",
         "x": [
          "PERFUMARIA EXCLUSIVA PREMIACAO"
         ],
         "xaxis": "x",
         "y": [
          58896
         ],
         "yaxis": "y"
        },
        {
         "alignmentgroup": "True",
         "hovertemplate": "Subcategoria de Produto=%{x}<br>Número de Compras=%{y}<extra></extra>",
         "legendgroup": "PBMS",
         "marker": {
          "color": "#6ece58",
          "pattern": {
           "shape": ""
          }
         },
         "name": "PBMS",
         "offsetgroup": "PBMS",
         "orientation": "v",
         "showlegend": true,
         "textposition": "auto",
         "type": "bar",
         "x": [
          "PBMS"
         ],
         "xaxis": "x",
         "y": [
          54465
         ],
         "yaxis": "y"
        },
        {
         "alignmentgroup": "True",
         "hovertemplate": "Subcategoria de Produto=%{x}<br>Número de Compras=%{y}<extra></extra>",
         "legendgroup": "GENERICO AVULSO",
         "marker": {
          "color": "#b5de2b",
          "pattern": {
           "shape": ""
          }
         },
         "name": "GENERICO AVULSO",
         "offsetgroup": "GENERICO AVULSO",
         "orientation": "v",
         "showlegend": true,
         "textposition": "auto",
         "type": "bar",
         "x": [
          "GENERICO AVULSO"
         ],
         "xaxis": "x",
         "y": [
          47870
         ],
         "yaxis": "y"
        },
        {
         "alignmentgroup": "True",
         "hovertemplate": "Subcategoria de Produto=%{x}<br>Número de Compras=%{y}<extra></extra>",
         "legendgroup": "REFERENCIA CONTROLADO",
         "marker": {
          "color": "#fde725",
          "pattern": {
           "shape": ""
          }
         },
         "name": "REFERENCIA CONTROLADO",
         "offsetgroup": "REFERENCIA CONTROLADO",
         "orientation": "v",
         "showlegend": true,
         "textposition": "auto",
         "type": "bar",
         "x": [
          "REFERENCIA CONTROLADO"
         ],
         "xaxis": "x",
         "y": [
          46549
         ],
         "yaxis": "y"
        },
        {
         "alignmentgroup": "True",
         "hovertemplate": "Subcategoria de Produto=%{x}<br>Número de Compras=%{y}<extra></extra>",
         "legendgroup": "SERVICOS FARMACEUTICOS",
         "marker": {
          "color": "#440154",
          "pattern": {
           "shape": ""
          }
         },
         "name": "SERVICOS FARMACEUTICOS",
         "offsetgroup": "SERVICOS FARMACEUTICOS",
         "orientation": "v",
         "showlegend": true,
         "textposition": "auto",
         "type": "bar",
         "x": [
          "SERVICOS FARMACEUTICOS"
         ],
         "xaxis": "x",
         "y": [
          44990
         ],
         "yaxis": "y"
        },
        {
         "alignmentgroup": "True",
         "hovertemplate": "Subcategoria de Produto=%{x}<br>Número de Compras=%{y}<extra></extra>",
         "legendgroup": "ANTICONCEPCIONAIS ONEROSOS",
         "marker": {
          "color": "#482878",
          "pattern": {
           "shape": ""
          }
         },
         "name": "ANTICONCEPCIONAIS ONEROSOS",
         "offsetgroup": "ANTICONCEPCIONAIS ONEROSOS",
         "orientation": "v",
         "showlegend": true,
         "textposition": "auto",
         "type": "bar",
         "x": [
          "ANTICONCEPCIONAIS ONEROSOS"
         ],
         "xaxis": "x",
         "y": [
          44604
         ],
         "yaxis": "y"
        },
        {
         "alignmentgroup": "True",
         "hovertemplate": "Subcategoria de Produto=%{x}<br>Número de Compras=%{y}<extra></extra>",
         "legendgroup": "DERMO-COSMETICOS",
         "marker": {
          "color": "#3e4989",
          "pattern": {
           "shape": ""
          }
         },
         "name": "DERMO-COSMETICOS",
         "offsetgroup": "DERMO-COSMETICOS",
         "orientation": "v",
         "showlegend": true,
         "textposition": "auto",
         "type": "bar",
         "x": [
          "DERMO-COSMETICOS"
         ],
         "xaxis": "x",
         "y": [
          40982
         ],
         "yaxis": "y"
        },
        {
         "alignmentgroup": "True",
         "hovertemplate": "Subcategoria de Produto=%{x}<br>Número de Compras=%{y}<extra></extra>",
         "legendgroup": "REFERENCIA ONEROSO CONTROLADO",
         "marker": {
          "color": "#31688e",
          "pattern": {
           "shape": ""
          }
         },
         "name": "REFERENCIA ONEROSO CONTROLADO",
         "offsetgroup": "REFERENCIA ONEROSO CONTROLADO",
         "orientation": "v",
         "showlegend": true,
         "textposition": "auto",
         "type": "bar",
         "x": [
          "REFERENCIA ONEROSO CONTROLADO"
         ],
         "xaxis": "x",
         "y": [
          39344
         ],
         "yaxis": "y"
        },
        {
         "alignmentgroup": "True",
         "hovertemplate": "Subcategoria de Produto=%{x}<br>Número de Compras=%{y}<extra></extra>",
         "legendgroup": "GENERICO SUPER ONEROSO",
         "marker": {
          "color": "#26828e",
          "pattern": {
           "shape": ""
          }
         },
         "name": "GENERICO SUPER ONEROSO",
         "offsetgroup": "GENERICO SUPER ONEROSO",
         "orientation": "v",
         "showlegend": true,
         "textposition": "auto",
         "type": "bar",
         "x": [
          "GENERICO SUPER ONEROSO"
         ],
         "xaxis": "x",
         "y": [
          38353
         ],
         "yaxis": "y"
        },
        {
         "alignmentgroup": "True",
         "hovertemplate": "Subcategoria de Produto=%{x}<br>Número de Compras=%{y}<extra></extra>",
         "legendgroup": "PERFUMARIA EXCLUSIVA",
         "marker": {
          "color": "#1f9e89",
          "pattern": {
           "shape": ""
          }
         },
         "name": "PERFUMARIA EXCLUSIVA",
         "offsetgroup": "PERFUMARIA EXCLUSIVA",
         "orientation": "v",
         "showlegend": true,
         "textposition": "auto",
         "type": "bar",
         "x": [
          "PERFUMARIA EXCLUSIVA"
         ],
         "xaxis": "x",
         "y": [
          37673
         ],
         "yaxis": "y"
        },
        {
         "alignmentgroup": "True",
         "hovertemplate": "Subcategoria de Produto=%{x}<br>Número de Compras=%{y}<extra></extra>",
         "legendgroup": "ANTIBIOTICO CONT. GENERICO ONEROSO",
         "marker": {
          "color": "#35b779",
          "pattern": {
           "shape": ""
          }
         },
         "name": "ANTIBIOTICO CONT. GENERICO ONEROSO",
         "offsetgroup": "ANTIBIOTICO CONT. GENERICO ONEROSO",
         "orientation": "v",
         "showlegend": true,
         "textposition": "auto",
         "type": "bar",
         "x": [
          "ANTIBIOTICO CONT. GENERICO ONEROSO"
         ],
         "xaxis": "x",
         "y": [
          34873
         ],
         "yaxis": "y"
        },
        {
         "alignmentgroup": "True",
         "hovertemplate": "Subcategoria de Produto=%{x}<br>Número de Compras=%{y}<extra></extra>",
         "legendgroup": "NUTRICAO LEITES",
         "marker": {
          "color": "#6ece58",
          "pattern": {
           "shape": ""
          }
         },
         "name": "NUTRICAO LEITES",
         "offsetgroup": "NUTRICAO LEITES",
         "orientation": "v",
         "showlegend": true,
         "textposition": "auto",
         "type": "bar",
         "x": [
          "NUTRICAO LEITES"
         ],
         "xaxis": "x",
         "y": [
          33173
         ],
         "yaxis": "y"
        },
        {
         "alignmentgroup": "True",
         "hovertemplate": "Subcategoria de Produto=%{x}<br>Número de Compras=%{y}<extra></extra>",
         "legendgroup": "NUTRICAO OUTROS",
         "marker": {
          "color": "#b5de2b",
          "pattern": {
           "shape": ""
          }
         },
         "name": "NUTRICAO OUTROS",
         "offsetgroup": "NUTRICAO OUTROS",
         "orientation": "v",
         "showlegend": true,
         "textposition": "auto",
         "type": "bar",
         "x": [
          "NUTRICAO OUTROS"
         ],
         "xaxis": "x",
         "y": [
          30518
         ],
         "yaxis": "y"
        },
        {
         "alignmentgroup": "True",
         "hovertemplate": "Subcategoria de Produto=%{x}<br>Número de Compras=%{y}<extra></extra>",
         "legendgroup": "ANTICONCEPCIONAIS",
         "marker": {
          "color": "#fde725",
          "pattern": {
           "shape": ""
          }
         },
         "name": "ANTICONCEPCIONAIS",
         "offsetgroup": "ANTICONCEPCIONAIS",
         "orientation": "v",
         "showlegend": true,
         "textposition": "auto",
         "type": "bar",
         "x": [
          "ANTICONCEPCIONAIS"
         ],
         "xaxis": "x",
         "y": [
          29677
         ],
         "yaxis": "y"
        },
        {
         "alignmentgroup": "True",
         "hovertemplate": "Subcategoria de Produto=%{x}<br>Número de Compras=%{y}<extra></extra>",
         "legendgroup": "REFERENCIA LIBERADO SUPER ONEROSOS",
         "marker": {
          "color": "#440154",
          "pattern": {
           "shape": ""
          }
         },
         "name": "REFERENCIA LIBERADO SUPER ONEROSOS",
         "offsetgroup": "REFERENCIA LIBERADO SUPER ONEROSOS",
         "orientation": "v",
         "showlegend": true,
         "textposition": "auto",
         "type": "bar",
         "x": [
          "REFERENCIA LIBERADO SUPER ONEROSOS"
         ],
         "xaxis": "x",
         "y": [
          28450
         ],
         "yaxis": "y"
        },
        {
         "alignmentgroup": "True",
         "hovertemplate": "Subcategoria de Produto=%{x}<br>Número de Compras=%{y}<extra></extra>",
         "legendgroup": "ANTIBIOTICO CONT. REFERENCIA",
         "marker": {
          "color": "#482878",
          "pattern": {
           "shape": ""
          }
         },
         "name": "ANTIBIOTICO CONT. REFERENCIA",
         "offsetgroup": "ANTIBIOTICO CONT. REFERENCIA",
         "orientation": "v",
         "showlegend": true,
         "textposition": "auto",
         "type": "bar",
         "x": [
          "ANTIBIOTICO CONT. REFERENCIA"
         ],
         "xaxis": "x",
         "y": [
          26847
         ],
         "yaxis": "y"
        },
        {
         "alignmentgroup": "True",
         "hovertemplate": "Subcategoria de Produto=%{x}<br>Número de Compras=%{y}<extra></extra>",
         "legendgroup": "GENERICOS ONEROSOS CONTROLADOS",
         "marker": {
          "color": "#3e4989",
          "pattern": {
           "shape": ""
          }
         },
         "name": "GENERICOS ONEROSOS CONTROLADOS",
         "offsetgroup": "GENERICOS ONEROSOS CONTROLADOS",
         "orientation": "v",
         "showlegend": true,
         "textposition": "auto",
         "type": "bar",
         "x": [
          "GENERICOS ONEROSOS CONTROLADOS"
         ],
         "xaxis": "x",
         "y": [
          23739
         ],
         "yaxis": "y"
        },
        {
         "alignmentgroup": "True",
         "hovertemplate": "Subcategoria de Produto=%{x}<br>Número de Compras=%{y}<extra></extra>",
         "legendgroup": "SERVICOS TELE ENTREGA",
         "marker": {
          "color": "#31688e",
          "pattern": {
           "shape": ""
          }
         },
         "name": "SERVICOS TELE ENTREGA",
         "offsetgroup": "SERVICOS TELE ENTREGA",
         "orientation": "v",
         "showlegend": true,
         "textposition": "auto",
         "type": "bar",
         "x": [
          "SERVICOS TELE ENTREGA"
         ],
         "xaxis": "x",
         "y": [
          19943
         ],
         "yaxis": "y"
        },
        {
         "alignmentgroup": "True",
         "hovertemplate": "Subcategoria de Produto=%{x}<br>Número de Compras=%{y}<extra></extra>",
         "legendgroup": "TESTE COVID19",
         "marker": {
          "color": "#26828e",
          "pattern": {
           "shape": ""
          }
         },
         "name": "TESTE COVID19",
         "offsetgroup": "TESTE COVID19",
         "orientation": "v",
         "showlegend": true,
         "textposition": "auto",
         "type": "bar",
         "x": [
          "TESTE COVID19"
         ],
         "xaxis": "x",
         "y": [
          19015
         ],
         "yaxis": "y"
        },
        {
         "alignmentgroup": "True",
         "hovertemplate": "Subcategoria de Produto=%{x}<br>Número de Compras=%{y}<extra></extra>",
         "legendgroup": "PBMS COMBO",
         "marker": {
          "color": "#1f9e89",
          "pattern": {
           "shape": ""
          }
         },
         "name": "PBMS COMBO",
         "offsetgroup": "PBMS COMBO",
         "orientation": "v",
         "showlegend": true,
         "textposition": "auto",
         "type": "bar",
         "x": [
          "PBMS COMBO"
         ],
         "xaxis": "x",
         "y": [
          16922
         ],
         "yaxis": "y"
        },
        {
         "alignmentgroup": "True",
         "hovertemplate": "Subcategoria de Produto=%{x}<br>Número de Compras=%{y}<extra></extra>",
         "legendgroup": "REFERENCIA SUPER ONEROSOS CONTROLADO",
         "marker": {
          "color": "#35b779",
          "pattern": {
           "shape": ""
          }
         },
         "name": "REFERENCIA SUPER ONEROSOS CONTROLADO",
         "offsetgroup": "REFERENCIA SUPER ONEROSOS CONTROLADO",
         "orientation": "v",
         "showlegend": true,
         "textposition": "auto",
         "type": "bar",
         "x": [
          "REFERENCIA SUPER ONEROSOS CONTROLADO"
         ],
         "xaxis": "x",
         "y": [
          15183
         ],
         "yaxis": "y"
        },
        {
         "alignmentgroup": "True",
         "hovertemplate": "Subcategoria de Produto=%{x}<br>Número de Compras=%{y}<extra></extra>",
         "legendgroup": "ANTIBIOTICO CONT. GENERICO",
         "marker": {
          "color": "#6ece58",
          "pattern": {
           "shape": ""
          }
         },
         "name": "ANTIBIOTICO CONT. GENERICO",
         "offsetgroup": "ANTIBIOTICO CONT. GENERICO",
         "orientation": "v",
         "showlegend": true,
         "textposition": "auto",
         "type": "bar",
         "x": [
          "ANTIBIOTICO CONT. GENERICO"
         ],
         "xaxis": "x",
         "y": [
          13520
         ],
         "yaxis": "y"
        },
        {
         "alignmentgroup": "True",
         "hovertemplate": "Subcategoria de Produto=%{x}<br>Número de Compras=%{y}<extra></extra>",
         "legendgroup": "PBM ESPECIAL",
         "marker": {
          "color": "#b5de2b",
          "pattern": {
           "shape": ""
          }
         },
         "name": "PBM ESPECIAL",
         "offsetgroup": "PBM ESPECIAL",
         "orientation": "v",
         "showlegend": true,
         "textposition": "auto",
         "type": "bar",
         "x": [
          "PBM ESPECIAL"
         ],
         "xaxis": "x",
         "y": [
          10529
         ],
         "yaxis": "y"
        },
        {
         "alignmentgroup": "True",
         "hovertemplate": "Subcategoria de Produto=%{x}<br>Número de Compras=%{y}<extra></extra>",
         "legendgroup": "CONVENIENCIA NUTRICIONAL",
         "marker": {
          "color": "#fde725",
          "pattern": {
           "shape": ""
          }
         },
         "name": "CONVENIENCIA NUTRICIONAL",
         "offsetgroup": "CONVENIENCIA NUTRICIONAL",
         "orientation": "v",
         "showlegend": true,
         "textposition": "auto",
         "type": "bar",
         "x": [
          "CONVENIENCIA NUTRICIONAL"
         ],
         "xaxis": "x",
         "y": [
          9313
         ],
         "yaxis": "y"
        },
        {
         "alignmentgroup": "True",
         "hovertemplate": "Subcategoria de Produto=%{x}<br>Número de Compras=%{y}<extra></extra>",
         "legendgroup": "ANTIBIOTICO CONT. GENERICO SUPER ONEROSO",
         "marker": {
          "color": "#440154",
          "pattern": {
           "shape": ""
          }
         },
         "name": "ANTIBIOTICO CONT. GENERICO SUPER ONEROSO",
         "offsetgroup": "ANTIBIOTICO CONT. GENERICO SUPER ONEROSO",
         "orientation": "v",
         "showlegend": true,
         "textposition": "auto",
         "type": "bar",
         "x": [
          "ANTIBIOTICO CONT. GENERICO SUPER ONEROSO"
         ],
         "xaxis": "x",
         "y": [
          8561
         ],
         "yaxis": "y"
        },
        {
         "alignmentgroup": "True",
         "hovertemplate": "Subcategoria de Produto=%{x}<br>Número de Compras=%{y}<extra></extra>",
         "legendgroup": "PBMS CONTROLADOS",
         "marker": {
          "color": "#482878",
          "pattern": {
           "shape": ""
          }
         },
         "name": "PBMS CONTROLADOS",
         "offsetgroup": "PBMS CONTROLADOS",
         "orientation": "v",
         "showlegend": true,
         "textposition": "auto",
         "type": "bar",
         "x": [
          "PBMS CONTROLADOS"
         ],
         "xaxis": "x",
         "y": [
          8561
         ],
         "yaxis": "y"
        },
        {
         "alignmentgroup": "True",
         "hovertemplate": "Subcategoria de Produto=%{x}<br>Número de Compras=%{y}<extra></extra>",
         "legendgroup": "REFERENCIA LIBERADO ONEROSOS",
         "marker": {
          "color": "#3e4989",
          "pattern": {
           "shape": ""
          }
         },
         "name": "REFERENCIA LIBERADO ONEROSOS",
         "offsetgroup": "REFERENCIA LIBERADO ONEROSOS",
         "orientation": "v",
         "showlegend": true,
         "textposition": "auto",
         "type": "bar",
         "x": [
          "REFERENCIA LIBERADO ONEROSOS"
         ],
         "xaxis": "x",
         "y": [
          8546
         ],
         "yaxis": "y"
        },
        {
         "alignmentgroup": "True",
         "hovertemplate": "Subcategoria de Produto=%{x}<br>Número de Compras=%{y}<extra></extra>",
         "legendgroup": "CONGELADOS",
         "marker": {
          "color": "#31688e",
          "pattern": {
           "shape": ""
          }
         },
         "name": "CONGELADOS",
         "offsetgroup": "CONGELADOS",
         "orientation": "v",
         "showlegend": true,
         "textposition": "auto",
         "type": "bar",
         "x": [
          "CONGELADOS"
         ],
         "xaxis": "x",
         "y": [
          8328
         ],
         "yaxis": "y"
        },
        {
         "alignmentgroup": "True",
         "hovertemplate": "Subcategoria de Produto=%{x}<br>Número de Compras=%{y}<extra></extra>",
         "legendgroup": "VACINA GRIPE",
         "marker": {
          "color": "#26828e",
          "pattern": {
           "shape": ""
          }
         },
         "name": "VACINA GRIPE",
         "offsetgroup": "VACINA GRIPE",
         "orientation": "v",
         "showlegend": true,
         "textposition": "auto",
         "type": "bar",
         "x": [
          "VACINA GRIPE"
         ],
         "xaxis": "x",
         "y": [
          7001
         ],
         "yaxis": "y"
        },
        {
         "alignmentgroup": "True",
         "hovertemplate": "Subcategoria de Produto=%{x}<br>Número de Compras=%{y}<extra></extra>",
         "legendgroup": "PBM CUPOM DESCONTO",
         "marker": {
          "color": "#1f9e89",
          "pattern": {
           "shape": ""
          }
         },
         "name": "PBM CUPOM DESCONTO",
         "offsetgroup": "PBM CUPOM DESCONTO",
         "orientation": "v",
         "showlegend": true,
         "textposition": "auto",
         "type": "bar",
         "x": [
          "PBM CUPOM DESCONTO"
         ],
         "xaxis": "x",
         "y": [
          6842
         ],
         "yaxis": "y"
        },
        {
         "alignmentgroup": "True",
         "hovertemplate": "Subcategoria de Produto=%{x}<br>Número de Compras=%{y}<extra></extra>",
         "legendgroup": "PBM REFERENCIA LIBERADO",
         "marker": {
          "color": "#35b779",
          "pattern": {
           "shape": ""
          }
         },
         "name": "PBM REFERENCIA LIBERADO",
         "offsetgroup": "PBM REFERENCIA LIBERADO",
         "orientation": "v",
         "showlegend": true,
         "textposition": "auto",
         "type": "bar",
         "x": [
          "PBM REFERENCIA LIBERADO"
         ],
         "xaxis": "x",
         "y": [
          4943
         ],
         "yaxis": "y"
        },
        {
         "alignmentgroup": "True",
         "hovertemplate": "Subcategoria de Produto=%{x}<br>Número de Compras=%{y}<extra></extra>",
         "legendgroup": "PBMS ANTIBIOTICO CONT.",
         "marker": {
          "color": "#6ece58",
          "pattern": {
           "shape": ""
          }
         },
         "name": "PBMS ANTIBIOTICO CONT.",
         "offsetgroup": "PBMS ANTIBIOTICO CONT.",
         "orientation": "v",
         "showlegend": true,
         "textposition": "auto",
         "type": "bar",
         "x": [
          "PBMS ANTIBIOTICO CONT."
         ],
         "xaxis": "x",
         "y": [
          4892
         ],
         "yaxis": "y"
        },
        {
         "alignmentgroup": "True",
         "hovertemplate": "Subcategoria de Produto=%{x}<br>Número de Compras=%{y}<extra></extra>",
         "legendgroup": "FITOTERAPICOS",
         "marker": {
          "color": "#b5de2b",
          "pattern": {
           "shape": ""
          }
         },
         "name": "FITOTERAPICOS",
         "offsetgroup": "FITOTERAPICOS",
         "orientation": "v",
         "showlegend": true,
         "textposition": "auto",
         "type": "bar",
         "x": [
          "FITOTERAPICOS"
         ],
         "xaxis": "x",
         "y": [
          4249
         ],
         "yaxis": "y"
        },
        {
         "alignmentgroup": "True",
         "hovertemplate": "Subcategoria de Produto=%{x}<br>Número de Compras=%{y}<extra></extra>",
         "legendgroup": "PBM CONTROLADO CUPOM DESCONTO",
         "marker": {
          "color": "#fde725",
          "pattern": {
           "shape": ""
          }
         },
         "name": "PBM CONTROLADO CUPOM DESCONTO",
         "offsetgroup": "PBM CONTROLADO CUPOM DESCONTO",
         "orientation": "v",
         "showlegend": true,
         "textposition": "auto",
         "type": "bar",
         "x": [
          "PBM CONTROLADO CUPOM DESCONTO"
         ],
         "xaxis": "x",
         "y": [
          2079
         ],
         "yaxis": "y"
        },
        {
         "alignmentgroup": "True",
         "hovertemplate": "Subcategoria de Produto=%{x}<br>Número de Compras=%{y}<extra></extra>",
         "legendgroup": "ANTIBIOTICO CONT. REFERENCIA ONEROSO",
         "marker": {
          "color": "#440154",
          "pattern": {
           "shape": ""
          }
         },
         "name": "ANTIBIOTICO CONT. REFERENCIA ONEROSO",
         "offsetgroup": "ANTIBIOTICO CONT. REFERENCIA ONEROSO",
         "orientation": "v",
         "showlegend": true,
         "textposition": "auto",
         "type": "bar",
         "x": [
          "ANTIBIOTICO CONT. REFERENCIA ONEROSO"
         ],
         "xaxis": "x",
         "y": [
          1917
         ],
         "yaxis": "y"
        },
        {
         "alignmentgroup": "True",
         "hovertemplate": "Subcategoria de Produto=%{x}<br>Número de Compras=%{y}<extra></extra>",
         "legendgroup": "DERMO-COSMETICOS NUTRACEUTICOS",
         "marker": {
          "color": "#482878",
          "pattern": {
           "shape": ""
          }
         },
         "name": "DERMO-COSMETICOS NUTRACEUTICOS",
         "offsetgroup": "DERMO-COSMETICOS NUTRACEUTICOS",
         "orientation": "v",
         "showlegend": true,
         "textposition": "auto",
         "type": "bar",
         "x": [
          "DERMO-COSMETICOS NUTRACEUTICOS"
         ],
         "xaxis": "x",
         "y": [
          1725
         ],
         "yaxis": "y"
        },
        {
         "alignmentgroup": "True",
         "hovertemplate": "Subcategoria de Produto=%{x}<br>Número de Compras=%{y}<extra></extra>",
         "legendgroup": "REFERENCIA ONEROSO INSULINA",
         "marker": {
          "color": "#3e4989",
          "pattern": {
           "shape": ""
          }
         },
         "name": "REFERENCIA ONEROSO INSULINA",
         "offsetgroup": "REFERENCIA ONEROSO INSULINA",
         "orientation": "v",
         "showlegend": true,
         "textposition": "auto",
         "type": "bar",
         "x": [
          "REFERENCIA ONEROSO INSULINA"
         ],
         "xaxis": "x",
         "y": [
          1493
         ],
         "yaxis": "y"
        },
        {
         "alignmentgroup": "True",
         "hovertemplate": "Subcategoria de Produto=%{x}<br>Número de Compras=%{y}<extra></extra>",
         "legendgroup": "TESTES LABORATORIAIS REMOTOS",
         "marker": {
          "color": "#31688e",
          "pattern": {
           "shape": ""
          }
         },
         "name": "TESTES LABORATORIAIS REMOTOS",
         "offsetgroup": "TESTES LABORATORIAIS REMOTOS",
         "orientation": "v",
         "showlegend": true,
         "textposition": "auto",
         "type": "bar",
         "x": [
          "TESTES LABORATORIAIS REMOTOS"
         ],
         "xaxis": "x",
         "y": [
          1381
         ],
         "yaxis": "y"
        },
        {
         "alignmentgroup": "True",
         "hovertemplate": "Subcategoria de Produto=%{x}<br>Número de Compras=%{y}<extra></extra>",
         "legendgroup": "PBMS COMBO CONTROLADOS",
         "marker": {
          "color": "#26828e",
          "pattern": {
           "shape": ""
          }
         },
         "name": "PBMS COMBO CONTROLADOS",
         "offsetgroup": "PBMS COMBO CONTROLADOS",
         "orientation": "v",
         "showlegend": true,
         "textposition": "auto",
         "type": "bar",
         "x": [
          "PBMS COMBO CONTROLADOS"
         ],
         "xaxis": "x",
         "y": [
          998
         ],
         "yaxis": "y"
        },
        {
         "alignmentgroup": "True",
         "hovertemplate": "Subcategoria de Produto=%{x}<br>Número de Compras=%{y}<extra></extra>",
         "legendgroup": "REFERENCIA ESPECIAL ONEROSO",
         "marker": {
          "color": "#1f9e89",
          "pattern": {
           "shape": ""
          }
         },
         "name": "REFERENCIA ESPECIAL ONEROSO",
         "offsetgroup": "REFERENCIA ESPECIAL ONEROSO",
         "orientation": "v",
         "showlegend": true,
         "textposition": "auto",
         "type": "bar",
         "x": [
          "REFERENCIA ESPECIAL ONEROSO"
         ],
         "xaxis": "x",
         "y": [
          853
         ],
         "yaxis": "y"
        },
        {
         "alignmentgroup": "True",
         "hovertemplate": "Subcategoria de Produto=%{x}<br>Número de Compras=%{y}<extra></extra>",
         "legendgroup": "ANTIBIOTICO CONT. SIMILAR",
         "marker": {
          "color": "#35b779",
          "pattern": {
           "shape": ""
          }
         },
         "name": "ANTIBIOTICO CONT. SIMILAR",
         "offsetgroup": "ANTIBIOTICO CONT. SIMILAR",
         "orientation": "v",
         "showlegend": true,
         "textposition": "auto",
         "type": "bar",
         "x": [
          "ANTIBIOTICO CONT. SIMILAR"
         ],
         "xaxis": "x",
         "y": [
          834
         ],
         "yaxis": "y"
        },
        {
         "alignmentgroup": "True",
         "hovertemplate": "Subcategoria de Produto=%{x}<br>Número de Compras=%{y}<extra></extra>",
         "legendgroup": "ANTIBIOTICO CONT. REFER AV",
         "marker": {
          "color": "#6ece58",
          "pattern": {
           "shape": ""
          }
         },
         "name": "ANTIBIOTICO CONT. REFER AV",
         "offsetgroup": "ANTIBIOTICO CONT. REFER AV",
         "orientation": "v",
         "showlegend": true,
         "textposition": "auto",
         "type": "bar",
         "x": [
          "ANTIBIOTICO CONT. REFER AV"
         ],
         "xaxis": "x",
         "y": [
          809
         ],
         "yaxis": "y"
        },
        {
         "alignmentgroup": "True",
         "hovertemplate": "Subcategoria de Produto=%{x}<br>Número de Compras=%{y}<extra></extra>",
         "legendgroup": "REFERENCIA ESPECIAL",
         "marker": {
          "color": "#b5de2b",
          "pattern": {
           "shape": ""
          }
         },
         "name": "REFERENCIA ESPECIAL",
         "offsetgroup": "REFERENCIA ESPECIAL",
         "orientation": "v",
         "showlegend": true,
         "textposition": "auto",
         "type": "bar",
         "x": [
          "REFERENCIA ESPECIAL"
         ],
         "xaxis": "x",
         "y": [
          773
         ],
         "yaxis": "y"
        },
        {
         "alignmentgroup": "True",
         "hovertemplate": "Subcategoria de Produto=%{x}<br>Número de Compras=%{y}<extra></extra>",
         "legendgroup": "REFERENCIA - GRUPO 2 CB",
         "marker": {
          "color": "#fde725",
          "pattern": {
           "shape": ""
          }
         },
         "name": "REFERENCIA - GRUPO 2 CB",
         "offsetgroup": "REFERENCIA - GRUPO 2 CB",
         "orientation": "v",
         "showlegend": true,
         "textposition": "auto",
         "type": "bar",
         "x": [
          "REFERENCIA - GRUPO 2 CB"
         ],
         "xaxis": "x",
         "y": [
          232
         ],
         "yaxis": "y"
        },
        {
         "alignmentgroup": "True",
         "hovertemplate": "Subcategoria de Produto=%{x}<br>Número de Compras=%{y}<extra></extra>",
         "legendgroup": "NUTRICAO ESPECIAIS",
         "marker": {
          "color": "#440154",
          "pattern": {
           "shape": ""
          }
         },
         "name": "NUTRICAO ESPECIAIS",
         "offsetgroup": "NUTRICAO ESPECIAIS",
         "orientation": "v",
         "showlegend": true,
         "textposition": "auto",
         "type": "bar",
         "x": [
          "NUTRICAO ESPECIAIS"
         ],
         "xaxis": "x",
         "y": [
          123
         ],
         "yaxis": "y"
        },
        {
         "alignmentgroup": "True",
         "hovertemplate": "Subcategoria de Produto=%{x}<br>Número de Compras=%{y}<extra></extra>",
         "legendgroup": "GENERICO CONTROLADO SUPER ONEROSO",
         "marker": {
          "color": "#482878",
          "pattern": {
           "shape": ""
          }
         },
         "name": "GENERICO CONTROLADO SUPER ONEROSO",
         "offsetgroup": "GENERICO CONTROLADO SUPER ONEROSO",
         "orientation": "v",
         "showlegend": true,
         "textposition": "auto",
         "type": "bar",
         "x": [
          "GENERICO CONTROLADO SUPER ONEROSO"
         ],
         "xaxis": "x",
         "y": [
          93
         ],
         "yaxis": "y"
        },
        {
         "alignmentgroup": "True",
         "hovertemplate": "Subcategoria de Produto=%{x}<br>Número de Compras=%{y}<extra></extra>",
         "legendgroup": "REFERENCIA ESPECIAIS CONTROLADOS",
         "marker": {
          "color": "#3e4989",
          "pattern": {
           "shape": ""
          }
         },
         "name": "REFERENCIA ESPECIAIS CONTROLADOS",
         "offsetgroup": "REFERENCIA ESPECIAIS CONTROLADOS",
         "orientation": "v",
         "showlegend": true,
         "textposition": "auto",
         "type": "bar",
         "x": [
          "REFERENCIA ESPECIAIS CONTROLADOS"
         ],
         "xaxis": "x",
         "y": [
          87
         ],
         "yaxis": "y"
        },
        {
         "alignmentgroup": "True",
         "hovertemplate": "Subcategoria de Produto=%{x}<br>Número de Compras=%{y}<extra></extra>",
         "legendgroup": "SERVICOS TROCO SOLIDARIO",
         "marker": {
          "color": "#31688e",
          "pattern": {
           "shape": ""
          }
         },
         "name": "SERVICOS TROCO SOLIDARIO",
         "offsetgroup": "SERVICOS TROCO SOLIDARIO",
         "orientation": "v",
         "showlegend": true,
         "textposition": "auto",
         "type": "bar",
         "x": [
          "SERVICOS TROCO SOLIDARIO"
         ],
         "xaxis": "x",
         "y": [
          70
         ],
         "yaxis": "y"
        },
        {
         "alignmentgroup": "True",
         "hovertemplate": "Subcategoria de Produto=%{x}<br>Número de Compras=%{y}<extra></extra>",
         "legendgroup": "MANIPULADOS MEDICAMENTOS",
         "marker": {
          "color": "#26828e",
          "pattern": {
           "shape": ""
          }
         },
         "name": "MANIPULADOS MEDICAMENTOS",
         "offsetgroup": "MANIPULADOS MEDICAMENTOS",
         "orientation": "v",
         "showlegend": true,
         "textposition": "auto",
         "type": "bar",
         "x": [
          "MANIPULADOS MEDICAMENTOS"
         ],
         "xaxis": "x",
         "y": [
          29
         ],
         "yaxis": "y"
        },
        {
         "alignmentgroup": "True",
         "hovertemplate": "Subcategoria de Produto=%{x}<br>Número de Compras=%{y}<extra></extra>",
         "legendgroup": "SIMILAR CONTROLADO",
         "marker": {
          "color": "#1f9e89",
          "pattern": {
           "shape": ""
          }
         },
         "name": "SIMILAR CONTROLADO",
         "offsetgroup": "SIMILAR CONTROLADO",
         "orientation": "v",
         "showlegend": true,
         "textposition": "auto",
         "type": "bar",
         "x": [
          "SIMILAR CONTROLADO"
         ],
         "xaxis": "x",
         "y": [
          28
         ],
         "yaxis": "y"
        },
        {
         "alignmentgroup": "True",
         "hovertemplate": "Subcategoria de Produto=%{x}<br>Número de Compras=%{y}<extra></extra>",
         "legendgroup": "DERMO-COSMETICOS ESPECIAL",
         "marker": {
          "color": "#35b779",
          "pattern": {
           "shape": ""
          }
         },
         "name": "DERMO-COSMETICOS ESPECIAL",
         "offsetgroup": "DERMO-COSMETICOS ESPECIAL",
         "orientation": "v",
         "showlegend": true,
         "textposition": "auto",
         "type": "bar",
         "x": [
          "DERMO-COSMETICOS ESPECIAL"
         ],
         "xaxis": "x",
         "y": [
          21
         ],
         "yaxis": "y"
        },
        {
         "alignmentgroup": "True",
         "hovertemplate": "Subcategoria de Produto=%{x}<br>Número de Compras=%{y}<extra></extra>",
         "legendgroup": "KIT SOLIDARIEDADE",
         "marker": {
          "color": "#6ece58",
          "pattern": {
           "shape": ""
          }
         },
         "name": "KIT SOLIDARIEDADE",
         "offsetgroup": "KIT SOLIDARIEDADE",
         "orientation": "v",
         "showlegend": true,
         "textposition": "auto",
         "type": "bar",
         "x": [
          "KIT SOLIDARIEDADE"
         ],
         "xaxis": "x",
         "y": [
          4
         ],
         "yaxis": "y"
        },
        {
         "alignmentgroup": "True",
         "hovertemplate": "Subcategoria de Produto=%{x}<br>Número de Compras=%{y}<extra></extra>",
         "legendgroup": "MEDICAMENTOS DERMO COSMETICOS",
         "marker": {
          "color": "#b5de2b",
          "pattern": {
           "shape": ""
          }
         },
         "name": "MEDICAMENTOS DERMO COSMETICOS",
         "offsetgroup": "MEDICAMENTOS DERMO COSMETICOS",
         "orientation": "v",
         "showlegend": true,
         "textposition": "auto",
         "type": "bar",
         "x": [
          "MEDICAMENTOS DERMO COSMETICOS"
         ],
         "xaxis": "x",
         "y": [
          3
         ],
         "yaxis": "y"
        },
        {
         "alignmentgroup": "True",
         "hovertemplate": "Subcategoria de Produto=%{x}<br>Número de Compras=%{y}<extra></extra>",
         "legendgroup": "BENS COMODATO",
         "marker": {
          "color": "#fde725",
          "pattern": {
           "shape": ""
          }
         },
         "name": "BENS COMODATO",
         "offsetgroup": "BENS COMODATO",
         "orientation": "v",
         "showlegend": true,
         "textposition": "auto",
         "type": "bar",
         "x": [
          "BENS COMODATO"
         ],
         "xaxis": "x",
         "y": [
          1
         ],
         "yaxis": "y"
        }
       ],
       "layout": {
        "barmode": "relative",
        "height": 1000,
        "legend": {
         "title": {
          "text": "Subcategoria de Produto"
         },
         "tracegroupgap": 0
        },
        "template": {
         "data": {
          "bar": [
           {
            "error_x": {
             "color": "#2a3f5f"
            },
            "error_y": {
             "color": "#2a3f5f"
            },
            "marker": {
             "line": {
              "color": "#E5ECF6",
              "width": 0.5
             },
             "pattern": {
              "fillmode": "overlay",
              "size": 10,
              "solidity": 0.2
             }
            },
            "type": "bar"
           }
          ],
          "barpolar": [
           {
            "marker": {
             "line": {
              "color": "#E5ECF6",
              "width": 0.5
             },
             "pattern": {
              "fillmode": "overlay",
              "size": 10,
              "solidity": 0.2
             }
            },
            "type": "barpolar"
           }
          ],
          "carpet": [
           {
            "aaxis": {
             "endlinecolor": "#2a3f5f",
             "gridcolor": "white",
             "linecolor": "white",
             "minorgridcolor": "white",
             "startlinecolor": "#2a3f5f"
            },
            "baxis": {
             "endlinecolor": "#2a3f5f",
             "gridcolor": "white",
             "linecolor": "white",
             "minorgridcolor": "white",
             "startlinecolor": "#2a3f5f"
            },
            "type": "carpet"
           }
          ],
          "choropleth": [
           {
            "colorbar": {
             "outlinewidth": 0,
             "ticks": ""
            },
            "type": "choropleth"
           }
          ],
          "contour": [
           {
            "colorbar": {
             "outlinewidth": 0,
             "ticks": ""
            },
            "colorscale": [
             [
              0,
              "#0d0887"
             ],
             [
              0.1111111111111111,
              "#46039f"
             ],
             [
              0.2222222222222222,
              "#7201a8"
             ],
             [
              0.3333333333333333,
              "#9c179e"
             ],
             [
              0.4444444444444444,
              "#bd3786"
             ],
             [
              0.5555555555555556,
              "#d8576b"
             ],
             [
              0.6666666666666666,
              "#ed7953"
             ],
             [
              0.7777777777777778,
              "#fb9f3a"
             ],
             [
              0.8888888888888888,
              "#fdca26"
             ],
             [
              1,
              "#f0f921"
             ]
            ],
            "type": "contour"
           }
          ],
          "contourcarpet": [
           {
            "colorbar": {
             "outlinewidth": 0,
             "ticks": ""
            },
            "type": "contourcarpet"
           }
          ],
          "heatmap": [
           {
            "colorbar": {
             "outlinewidth": 0,
             "ticks": ""
            },
            "colorscale": [
             [
              0,
              "#0d0887"
             ],
             [
              0.1111111111111111,
              "#46039f"
             ],
             [
              0.2222222222222222,
              "#7201a8"
             ],
             [
              0.3333333333333333,
              "#9c179e"
             ],
             [
              0.4444444444444444,
              "#bd3786"
             ],
             [
              0.5555555555555556,
              "#d8576b"
             ],
             [
              0.6666666666666666,
              "#ed7953"
             ],
             [
              0.7777777777777778,
              "#fb9f3a"
             ],
             [
              0.8888888888888888,
              "#fdca26"
             ],
             [
              1,
              "#f0f921"
             ]
            ],
            "type": "heatmap"
           }
          ],
          "heatmapgl": [
           {
            "colorbar": {
             "outlinewidth": 0,
             "ticks": ""
            },
            "colorscale": [
             [
              0,
              "#0d0887"
             ],
             [
              0.1111111111111111,
              "#46039f"
             ],
             [
              0.2222222222222222,
              "#7201a8"
             ],
             [
              0.3333333333333333,
              "#9c179e"
             ],
             [
              0.4444444444444444,
              "#bd3786"
             ],
             [
              0.5555555555555556,
              "#d8576b"
             ],
             [
              0.6666666666666666,
              "#ed7953"
             ],
             [
              0.7777777777777778,
              "#fb9f3a"
             ],
             [
              0.8888888888888888,
              "#fdca26"
             ],
             [
              1,
              "#f0f921"
             ]
            ],
            "type": "heatmapgl"
           }
          ],
          "histogram": [
           {
            "marker": {
             "pattern": {
              "fillmode": "overlay",
              "size": 10,
              "solidity": 0.2
             }
            },
            "type": "histogram"
           }
          ],
          "histogram2d": [
           {
            "colorbar": {
             "outlinewidth": 0,
             "ticks": ""
            },
            "colorscale": [
             [
              0,
              "#0d0887"
             ],
             [
              0.1111111111111111,
              "#46039f"
             ],
             [
              0.2222222222222222,
              "#7201a8"
             ],
             [
              0.3333333333333333,
              "#9c179e"
             ],
             [
              0.4444444444444444,
              "#bd3786"
             ],
             [
              0.5555555555555556,
              "#d8576b"
             ],
             [
              0.6666666666666666,
              "#ed7953"
             ],
             [
              0.7777777777777778,
              "#fb9f3a"
             ],
             [
              0.8888888888888888,
              "#fdca26"
             ],
             [
              1,
              "#f0f921"
             ]
            ],
            "type": "histogram2d"
           }
          ],
          "histogram2dcontour": [
           {
            "colorbar": {
             "outlinewidth": 0,
             "ticks": ""
            },
            "colorscale": [
             [
              0,
              "#0d0887"
             ],
             [
              0.1111111111111111,
              "#46039f"
             ],
             [
              0.2222222222222222,
              "#7201a8"
             ],
             [
              0.3333333333333333,
              "#9c179e"
             ],
             [
              0.4444444444444444,
              "#bd3786"
             ],
             [
              0.5555555555555556,
              "#d8576b"
             ],
             [
              0.6666666666666666,
              "#ed7953"
             ],
             [
              0.7777777777777778,
              "#fb9f3a"
             ],
             [
              0.8888888888888888,
              "#fdca26"
             ],
             [
              1,
              "#f0f921"
             ]
            ],
            "type": "histogram2dcontour"
           }
          ],
          "mesh3d": [
           {
            "colorbar": {
             "outlinewidth": 0,
             "ticks": ""
            },
            "type": "mesh3d"
           }
          ],
          "parcoords": [
           {
            "line": {
             "colorbar": {
              "outlinewidth": 0,
              "ticks": ""
             }
            },
            "type": "parcoords"
           }
          ],
          "pie": [
           {
            "automargin": true,
            "type": "pie"
           }
          ],
          "scatter": [
           {
            "fillpattern": {
             "fillmode": "overlay",
             "size": 10,
             "solidity": 0.2
            },
            "type": "scatter"
           }
          ],
          "scatter3d": [
           {
            "line": {
             "colorbar": {
              "outlinewidth": 0,
              "ticks": ""
             }
            },
            "marker": {
             "colorbar": {
              "outlinewidth": 0,
              "ticks": ""
             }
            },
            "type": "scatter3d"
           }
          ],
          "scattercarpet": [
           {
            "marker": {
             "colorbar": {
              "outlinewidth": 0,
              "ticks": ""
             }
            },
            "type": "scattercarpet"
           }
          ],
          "scattergeo": [
           {
            "marker": {
             "colorbar": {
              "outlinewidth": 0,
              "ticks": ""
             }
            },
            "type": "scattergeo"
           }
          ],
          "scattergl": [
           {
            "marker": {
             "colorbar": {
              "outlinewidth": 0,
              "ticks": ""
             }
            },
            "type": "scattergl"
           }
          ],
          "scattermapbox": [
           {
            "marker": {
             "colorbar": {
              "outlinewidth": 0,
              "ticks": ""
             }
            },
            "type": "scattermapbox"
           }
          ],
          "scatterpolar": [
           {
            "marker": {
             "colorbar": {
              "outlinewidth": 0,
              "ticks": ""
             }
            },
            "type": "scatterpolar"
           }
          ],
          "scatterpolargl": [
           {
            "marker": {
             "colorbar": {
              "outlinewidth": 0,
              "ticks": ""
             }
            },
            "type": "scatterpolargl"
           }
          ],
          "scatterternary": [
           {
            "marker": {
             "colorbar": {
              "outlinewidth": 0,
              "ticks": ""
             }
            },
            "type": "scatterternary"
           }
          ],
          "surface": [
           {
            "colorbar": {
             "outlinewidth": 0,
             "ticks": ""
            },
            "colorscale": [
             [
              0,
              "#0d0887"
             ],
             [
              0.1111111111111111,
              "#46039f"
             ],
             [
              0.2222222222222222,
              "#7201a8"
             ],
             [
              0.3333333333333333,
              "#9c179e"
             ],
             [
              0.4444444444444444,
              "#bd3786"
             ],
             [
              0.5555555555555556,
              "#d8576b"
             ],
             [
              0.6666666666666666,
              "#ed7953"
             ],
             [
              0.7777777777777778,
              "#fb9f3a"
             ],
             [
              0.8888888888888888,
              "#fdca26"
             ],
             [
              1,
              "#f0f921"
             ]
            ],
            "type": "surface"
           }
          ],
          "table": [
           {
            "cells": {
             "fill": {
              "color": "#EBF0F8"
             },
             "line": {
              "color": "white"
             }
            },
            "header": {
             "fill": {
              "color": "#C8D4E3"
             },
             "line": {
              "color": "white"
             }
            },
            "type": "table"
           }
          ]
         },
         "layout": {
          "annotationdefaults": {
           "arrowcolor": "#2a3f5f",
           "arrowhead": 0,
           "arrowwidth": 1
          },
          "autotypenumbers": "strict",
          "coloraxis": {
           "colorbar": {
            "outlinewidth": 0,
            "ticks": ""
           }
          },
          "colorscale": {
           "diverging": [
            [
             0,
             "#8e0152"
            ],
            [
             0.1,
             "#c51b7d"
            ],
            [
             0.2,
             "#de77ae"
            ],
            [
             0.3,
             "#f1b6da"
            ],
            [
             0.4,
             "#fde0ef"
            ],
            [
             0.5,
             "#f7f7f7"
            ],
            [
             0.6,
             "#e6f5d0"
            ],
            [
             0.7,
             "#b8e186"
            ],
            [
             0.8,
             "#7fbc41"
            ],
            [
             0.9,
             "#4d9221"
            ],
            [
             1,
             "#276419"
            ]
           ],
           "sequential": [
            [
             0,
             "#0d0887"
            ],
            [
             0.1111111111111111,
             "#46039f"
            ],
            [
             0.2222222222222222,
             "#7201a8"
            ],
            [
             0.3333333333333333,
             "#9c179e"
            ],
            [
             0.4444444444444444,
             "#bd3786"
            ],
            [
             0.5555555555555556,
             "#d8576b"
            ],
            [
             0.6666666666666666,
             "#ed7953"
            ],
            [
             0.7777777777777778,
             "#fb9f3a"
            ],
            [
             0.8888888888888888,
             "#fdca26"
            ],
            [
             1,
             "#f0f921"
            ]
           ],
           "sequentialminus": [
            [
             0,
             "#0d0887"
            ],
            [
             0.1111111111111111,
             "#46039f"
            ],
            [
             0.2222222222222222,
             "#7201a8"
            ],
            [
             0.3333333333333333,
             "#9c179e"
            ],
            [
             0.4444444444444444,
             "#bd3786"
            ],
            [
             0.5555555555555556,
             "#d8576b"
            ],
            [
             0.6666666666666666,
             "#ed7953"
            ],
            [
             0.7777777777777778,
             "#fb9f3a"
            ],
            [
             0.8888888888888888,
             "#fdca26"
            ],
            [
             1,
             "#f0f921"
            ]
           ]
          },
          "colorway": [
           "#636efa",
           "#EF553B",
           "#00cc96",
           "#ab63fa",
           "#FFA15A",
           "#19d3f3",
           "#FF6692",
           "#B6E880",
           "#FF97FF",
           "#FECB52"
          ],
          "font": {
           "color": "#2a3f5f"
          },
          "geo": {
           "bgcolor": "white",
           "lakecolor": "white",
           "landcolor": "#E5ECF6",
           "showlakes": true,
           "showland": true,
           "subunitcolor": "white"
          },
          "hoverlabel": {
           "align": "left"
          },
          "hovermode": "closest",
          "mapbox": {
           "style": "light"
          },
          "paper_bgcolor": "white",
          "plot_bgcolor": "#E5ECF6",
          "polar": {
           "angularaxis": {
            "gridcolor": "white",
            "linecolor": "white",
            "ticks": ""
           },
           "bgcolor": "#E5ECF6",
           "radialaxis": {
            "gridcolor": "white",
            "linecolor": "white",
            "ticks": ""
           }
          },
          "scene": {
           "xaxis": {
            "backgroundcolor": "#E5ECF6",
            "gridcolor": "white",
            "gridwidth": 2,
            "linecolor": "white",
            "showbackground": true,
            "ticks": "",
            "zerolinecolor": "white"
           },
           "yaxis": {
            "backgroundcolor": "#E5ECF6",
            "gridcolor": "white",
            "gridwidth": 2,
            "linecolor": "white",
            "showbackground": true,
            "ticks": "",
            "zerolinecolor": "white"
           },
           "zaxis": {
            "backgroundcolor": "#E5ECF6",
            "gridcolor": "white",
            "gridwidth": 2,
            "linecolor": "white",
            "showbackground": true,
            "ticks": "",
            "zerolinecolor": "white"
           }
          },
          "shapedefaults": {
           "line": {
            "color": "#2a3f5f"
           }
          },
          "ternary": {
           "aaxis": {
            "gridcolor": "white",
            "linecolor": "white",
            "ticks": ""
           },
           "baxis": {
            "gridcolor": "white",
            "linecolor": "white",
            "ticks": ""
           },
           "bgcolor": "#E5ECF6",
           "caxis": {
            "gridcolor": "white",
            "linecolor": "white",
            "ticks": ""
           }
          },
          "title": {
           "x": 0.05
          },
          "xaxis": {
           "automargin": true,
           "gridcolor": "white",
           "linecolor": "white",
           "ticks": "",
           "title": {
            "standoff": 15
           },
           "zerolinecolor": "white",
           "zerolinewidth": 2
          },
          "yaxis": {
           "automargin": true,
           "gridcolor": "white",
           "linecolor": "white",
           "ticks": "",
           "title": {
            "standoff": 15
           },
           "zerolinecolor": "white",
           "zerolinewidth": 2
          }
         }
        },
        "title": {
         "text": "Distribuição de Compras por Subcategoria de Produto"
        },
        "width": 2000,
        "xaxis": {
         "anchor": "y",
         "categoryarray": [
          "PERFUMARIA",
          "CONVENIENCIA PERECIVEIS",
          "GENERICOS",
          "BEBIDAS",
          "HOSPITALARES",
          "REFERENCIA ONEROSOS",
          "GENERICOS OTC/MIP",
          "REFERENCIA AVULSO",
          "SIMILAR",
          "REFERENCIA SUPER ONEROSOS",
          "CONVENIENCIA BAZAR",
          "GENERICOS ONEROSOS",
          "REFERENCIA",
          "HIGIENE PESSOAL",
          "ABSORVENTES E LENÇOS SUBSTITUIDO",
          "PREMIACAO EXCLUSIVA",
          "FRALDAS",
          "SIMILAR ONEROSO",
          "LENCOS E TOALHAS UMEDECIDAS",
          "LIBERADOS",
          "SIMILAR AVULSO",
          "GENERICO CONTROLADO",
          "FRALDA EXCLUSIVA",
          "CAMPANHA",
          "REFERENCIA LIBERADO",
          "REFERENCIA FARMACIA POPULAR",
          "PERFUMARIA EXCLUSIVA PREMIACAO",
          "PBMS",
          "GENERICO AVULSO",
          "REFERENCIA CONTROLADO",
          "SERVICOS FARMACEUTICOS",
          "ANTICONCEPCIONAIS ONEROSOS",
          "DERMO-COSMETICOS",
          "REFERENCIA ONEROSO CONTROLADO",
          "GENERICO SUPER ONEROSO",
          "PERFUMARIA EXCLUSIVA",
          "ANTIBIOTICO CONT. GENERICO ONEROSO",
          "NUTRICAO LEITES",
          "NUTRICAO OUTROS",
          "ANTICONCEPCIONAIS",
          "REFERENCIA LIBERADO SUPER ONEROSOS",
          "ANTIBIOTICO CONT. REFERENCIA",
          "GENERICOS ONEROSOS CONTROLADOS",
          "SERVICOS TELE ENTREGA",
          "TESTE COVID19",
          "PBMS COMBO",
          "REFERENCIA SUPER ONEROSOS CONTROLADO",
          "ANTIBIOTICO CONT. GENERICO",
          "PBM ESPECIAL",
          "CONVENIENCIA NUTRICIONAL",
          "ANTIBIOTICO CONT. GENERICO SUPER ONEROSO",
          "PBMS CONTROLADOS",
          "REFERENCIA LIBERADO ONEROSOS",
          "CONGELADOS",
          "VACINA GRIPE",
          "PBM CUPOM DESCONTO",
          "PBM REFERENCIA LIBERADO",
          "PBMS ANTIBIOTICO CONT.",
          "FITOTERAPICOS",
          "PBM CONTROLADO CUPOM DESCONTO",
          "ANTIBIOTICO CONT. REFERENCIA ONEROSO",
          "DERMO-COSMETICOS NUTRACEUTICOS",
          "REFERENCIA ONEROSO INSULINA",
          "TESTES LABORATORIAIS REMOTOS",
          "PBMS COMBO CONTROLADOS",
          "REFERENCIA ESPECIAL ONEROSO",
          "ANTIBIOTICO CONT. SIMILAR",
          "ANTIBIOTICO CONT. REFER AV",
          "REFERENCIA ESPECIAL",
          "REFERENCIA - GRUPO 2 CB",
          "NUTRICAO ESPECIAIS",
          "GENERICO CONTROLADO SUPER ONEROSO",
          "REFERENCIA ESPECIAIS CONTROLADOS",
          "SERVICOS TROCO SOLIDARIO",
          "MANIPULADOS MEDICAMENTOS",
          "SIMILAR CONTROLADO",
          "DERMO-COSMETICOS ESPECIAL",
          "KIT SOLIDARIEDADE",
          "MEDICAMENTOS DERMO COSMETICOS",
          "BENS COMODATO"
         ],
         "categoryorder": "array",
         "domain": [
          0,
          1
         ],
         "tickangle": 90,
         "title": {
          "text": "Subcategoria de Produto"
         }
        },
        "yaxis": {
         "anchor": "x",
         "domain": [
          0,
          1
         ],
         "title": {
          "text": "Número de Compras"
         }
        }
       }
      }
     },
     "metadata": {},
     "output_type": "display_data"
    }
   ],
   "source": [
    "# Calculate the sorted counts of purchases by product subcategory\n",
    "sorted_counts = vendas[\"SUBCATEGORIA_SKU\"].value_counts().sort_values(ascending=False).reset_index()\n",
    "\n",
    "# Rename columns for clarity\n",
    "sorted_counts.columns = ['Subcategoria de Produto', 'Número de Compras']\n",
    "\n",
    "# Plot using Plotly Express without counts on top of each bar\n",
    "fig = px.bar(sorted_counts, x='Subcategoria de Produto', y='Número de Compras',\n",
    "             title='Distribuição de Compras por Subcategoria de Produto',\n",
    "             labels={'Subcategoria de Produto': 'Subcategoria de Produto', 'Número de Compras': 'Número de Compras'},\n",
    "             color='Subcategoria de Produto',\n",
    "             color_discrete_sequence=px.colors.sequential.Viridis)\n",
    "\n",
    "# Customize layout\n",
    "fig.update_layout(xaxis_title='Subcategoria de Produto', yaxis_title='Número de Compras', width=2000, height=1000)\n",
    "\n",
    "# Rotate x-axis labels for better readability\n",
    "fig.update_xaxes(tickangle=90)\n",
    "\n",
    "# Show the plot\n",
    "fig.show()"
   ]
  },
  {
   "cell_type": "markdown",
   "metadata": {},
   "source": [
    "**Self explanatory**"
   ]
  },
  {
   "cell_type": "markdown",
   "metadata": {},
   "source": [
    "## How many sales each store has?"
   ]
  },
  {
   "cell_type": "code",
   "execution_count": 17,
   "metadata": {},
   "outputs": [
    {
     "data": {
      "text/html": [
       "<div>\n",
       "<style scoped>\n",
       "    .dataframe tbody tr th:only-of-type {\n",
       "        vertical-align: middle;\n",
       "    }\n",
       "\n",
       "    .dataframe tbody tr th {\n",
       "        vertical-align: top;\n",
       "    }\n",
       "\n",
       "    .dataframe thead th {\n",
       "        text-align: right;\n",
       "    }\n",
       "</style>\n",
       "<table border=\"1\" class=\"dataframe\">\n",
       "  <thead>\n",
       "    <tr style=\"text-align: right;\">\n",
       "      <th></th>\n",
       "      <th>COD_CUPOM</th>\n",
       "      <th>COD_CLIENTE</th>\n",
       "      <th>CLIENTE_FISICO_JURIDICO</th>\n",
       "      <th>SEXO_CLIENTE</th>\n",
       "      <th>DTNASCIMENTO_CLIENTE</th>\n",
       "      <th>COD_SKU</th>\n",
       "      <th>SKU</th>\n",
       "      <th>CATEGORIA_SKU</th>\n",
       "      <th>SUBCATEGORIA_SKU</th>\n",
       "      <th>COD_LOJA</th>\n",
       "      <th>UF_CIDADE</th>\n",
       "      <th>COD_CIDADE</th>\n",
       "      <th>NOME_CIDADE</th>\n",
       "      <th>DATA_CUPOM</th>\n",
       "      <th>UNIDADES</th>\n",
       "      <th>IDENTIFICADOR_PROMOCIONAL</th>\n",
       "      <th>PRECO_REGULAR</th>\n",
       "      <th>TOTAL_DESCONTO</th>\n",
       "      <th>TOTAL_BRUTO</th>\n",
       "      <th>TOTAL_LIQUIDO</th>\n",
       "    </tr>\n",
       "  </thead>\n",
       "  <tbody>\n",
       "    <tr>\n",
       "      <th>0</th>\n",
       "      <td>782344</td>\n",
       "      <td>55750557.0</td>\n",
       "      <td>Pessoa Física</td>\n",
       "      <td>F</td>\n",
       "      <td>1980-11-18</td>\n",
       "      <td>10085918</td>\n",
       "      <td>VONAU FLASH 4MG 10CP</td>\n",
       "      <td>MEDICAMENTOS</td>\n",
       "      <td>REFERENCIA</td>\n",
       "      <td>764</td>\n",
       "      <td>RS</td>\n",
       "      <td>80400</td>\n",
       "      <td>PORTO ALEGRE</td>\n",
       "      <td>2024-04-11 17:13:25</td>\n",
       "      <td>1.0</td>\n",
       "      <td>NaN</td>\n",
       "      <td>47.03</td>\n",
       "      <td>12.70</td>\n",
       "      <td>47.03</td>\n",
       "      <td>34.33</td>\n",
       "    </tr>\n",
       "    <tr>\n",
       "      <th>1</th>\n",
       "      <td>759507</td>\n",
       "      <td>55750557.0</td>\n",
       "      <td>Pessoa Física</td>\n",
       "      <td>F</td>\n",
       "      <td>1980-11-18</td>\n",
       "      <td>10106687</td>\n",
       "      <td>APTANUTRI PREMIUM 3</td>\n",
       "      <td>NUTRICAO</td>\n",
       "      <td>NUTRICAO LEITES</td>\n",
       "      <td>764</td>\n",
       "      <td>RS</td>\n",
       "      <td>80400</td>\n",
       "      <td>PORTO ALEGRE</td>\n",
       "      <td>2024-02-19 15:47:17</td>\n",
       "      <td>1.0</td>\n",
       "      <td>NaN</td>\n",
       "      <td>73.99</td>\n",
       "      <td>14.80</td>\n",
       "      <td>73.99</td>\n",
       "      <td>59.19</td>\n",
       "    </tr>\n",
       "    <tr>\n",
       "      <th>2</th>\n",
       "      <td>742082</td>\n",
       "      <td>55750557.0</td>\n",
       "      <td>Pessoa Física</td>\n",
       "      <td>F</td>\n",
       "      <td>1980-11-18</td>\n",
       "      <td>10037705</td>\n",
       "      <td>TORRADA ISABELA 142G TRADICIONAL</td>\n",
       "      <td>CONVENIENCIA</td>\n",
       "      <td>CONVENIENCIA PERECIVEIS</td>\n",
       "      <td>764</td>\n",
       "      <td>RS</td>\n",
       "      <td>80400</td>\n",
       "      <td>PORTO ALEGRE</td>\n",
       "      <td>2024-01-05 19:48:52</td>\n",
       "      <td>1.0</td>\n",
       "      <td>NaN</td>\n",
       "      <td>5.99</td>\n",
       "      <td>0.00</td>\n",
       "      <td>5.99</td>\n",
       "      <td>5.99</td>\n",
       "    </tr>\n",
       "    <tr>\n",
       "      <th>3</th>\n",
       "      <td>747733</td>\n",
       "      <td>55750557.0</td>\n",
       "      <td>Pessoa Física</td>\n",
       "      <td>F</td>\n",
       "      <td>1980-11-18</td>\n",
       "      <td>10004419</td>\n",
       "      <td>OZEMPIC 1MG 4AGULHAS NOVOFINE</td>\n",
       "      <td>MEDICAMENTOS</td>\n",
       "      <td>PBM ESPECIAL</td>\n",
       "      <td>764</td>\n",
       "      <td>RS</td>\n",
       "      <td>80400</td>\n",
       "      <td>PORTO ALEGRE</td>\n",
       "      <td>2024-01-20 14:41:56</td>\n",
       "      <td>1.0</td>\n",
       "      <td>NaN</td>\n",
       "      <td>1220.52</td>\n",
       "      <td>254.37</td>\n",
       "      <td>1220.52</td>\n",
       "      <td>966.15</td>\n",
       "    </tr>\n",
       "    <tr>\n",
       "      <th>4</th>\n",
       "      <td>748216</td>\n",
       "      <td>55750557.0</td>\n",
       "      <td>Pessoa Física</td>\n",
       "      <td>F</td>\n",
       "      <td>1980-11-18</td>\n",
       "      <td>10030435</td>\n",
       "      <td>NOVALGINA 1G 20CP OPELLA</td>\n",
       "      <td>MEDICAMENTOS</td>\n",
       "      <td>REFERENCIA ONEROSOS</td>\n",
       "      <td>764</td>\n",
       "      <td>RS</td>\n",
       "      <td>80400</td>\n",
       "      <td>PORTO ALEGRE</td>\n",
       "      <td>2024-01-22 16:48:36</td>\n",
       "      <td>1.0</td>\n",
       "      <td>100271131.0</td>\n",
       "      <td>41.51</td>\n",
       "      <td>5.52</td>\n",
       "      <td>41.51</td>\n",
       "      <td>35.99</td>\n",
       "    </tr>\n",
       "  </tbody>\n",
       "</table>\n",
       "</div>"
      ],
      "text/plain": [
       "   COD_CUPOM  COD_CLIENTE CLIENTE_FISICO_JURIDICO SEXO_CLIENTE  \\\n",
       "0     782344   55750557.0           Pessoa Física            F   \n",
       "1     759507   55750557.0           Pessoa Física            F   \n",
       "2     742082   55750557.0           Pessoa Física            F   \n",
       "3     747733   55750557.0           Pessoa Física            F   \n",
       "4     748216   55750557.0           Pessoa Física            F   \n",
       "\n",
       "  DTNASCIMENTO_CLIENTE   COD_SKU                               SKU  \\\n",
       "0           1980-11-18  10085918              VONAU FLASH 4MG 10CP   \n",
       "1           1980-11-18  10106687               APTANUTRI PREMIUM 3   \n",
       "2           1980-11-18  10037705  TORRADA ISABELA 142G TRADICIONAL   \n",
       "3           1980-11-18  10004419     OZEMPIC 1MG 4AGULHAS NOVOFINE   \n",
       "4           1980-11-18  10030435          NOVALGINA 1G 20CP OPELLA   \n",
       "\n",
       "  CATEGORIA_SKU         SUBCATEGORIA_SKU  COD_LOJA UF_CIDADE  COD_CIDADE  \\\n",
       "0  MEDICAMENTOS               REFERENCIA       764        RS       80400   \n",
       "1      NUTRICAO          NUTRICAO LEITES       764        RS       80400   \n",
       "2  CONVENIENCIA  CONVENIENCIA PERECIVEIS       764        RS       80400   \n",
       "3  MEDICAMENTOS             PBM ESPECIAL       764        RS       80400   \n",
       "4  MEDICAMENTOS      REFERENCIA ONEROSOS       764        RS       80400   \n",
       "\n",
       "    NOME_CIDADE          DATA_CUPOM  UNIDADES  IDENTIFICADOR_PROMOCIONAL  \\\n",
       "0  PORTO ALEGRE 2024-04-11 17:13:25       1.0                        NaN   \n",
       "1  PORTO ALEGRE 2024-02-19 15:47:17       1.0                        NaN   \n",
       "2  PORTO ALEGRE 2024-01-05 19:48:52       1.0                        NaN   \n",
       "3  PORTO ALEGRE 2024-01-20 14:41:56       1.0                        NaN   \n",
       "4  PORTO ALEGRE 2024-01-22 16:48:36       1.0                100271131.0   \n",
       "\n",
       "   PRECO_REGULAR  TOTAL_DESCONTO  TOTAL_BRUTO  TOTAL_LIQUIDO  \n",
       "0          47.03           12.70        47.03          34.33  \n",
       "1          73.99           14.80        73.99          59.19  \n",
       "2           5.99            0.00         5.99           5.99  \n",
       "3        1220.52          254.37      1220.52         966.15  \n",
       "4          41.51            5.52        41.51          35.99  "
      ]
     },
     "execution_count": 17,
     "metadata": {},
     "output_type": "execute_result"
    }
   ],
   "source": [
    "vendas.head()"
   ]
  },
  {
   "cell_type": "code",
   "execution_count": 18,
   "metadata": {},
   "outputs": [
    {
     "data": {
      "application/vnd.plotly.v1+json": {
       "config": {
        "plotlyServerURL": "https://plot.ly"
       },
       "data": [
        {
         "alignmentgroup": "True",
         "hovertemplate": "Código da Loja=%{x}<br>Número de Compras Únicas=%{y}<extra></extra>",
         "legendgroup": "1036",
         "marker": {
          "color": "rgb(102,194,165)",
          "pattern": {
           "shape": ""
          }
         },
         "name": "1036",
         "offsetgroup": "1036",
         "orientation": "v",
         "showlegend": true,
         "textposition": "auto",
         "type": "bar",
         "x": [
          "1036"
         ],
         "xaxis": "x",
         "y": [
          107242
         ],
         "yaxis": "y"
        },
        {
         "alignmentgroup": "True",
         "hovertemplate": "Código da Loja=%{x}<br>Número de Compras Únicas=%{y}<extra></extra>",
         "legendgroup": "819",
         "marker": {
          "color": "rgb(252,141,98)",
          "pattern": {
           "shape": ""
          }
         },
         "name": "819",
         "offsetgroup": "819",
         "orientation": "v",
         "showlegend": true,
         "textposition": "auto",
         "type": "bar",
         "x": [
          "819"
         ],
         "xaxis": "x",
         "y": [
          100378
         ],
         "yaxis": "y"
        },
        {
         "alignmentgroup": "True",
         "hovertemplate": "Código da Loja=%{x}<br>Número de Compras Únicas=%{y}<extra></extra>",
         "legendgroup": "988",
         "marker": {
          "color": "rgb(141,160,203)",
          "pattern": {
           "shape": ""
          }
         },
         "name": "988",
         "offsetgroup": "988",
         "orientation": "v",
         "showlegend": true,
         "textposition": "auto",
         "type": "bar",
         "x": [
          "988"
         ],
         "xaxis": "x",
         "y": [
          91370
         ],
         "yaxis": "y"
        },
        {
         "alignmentgroup": "True",
         "hovertemplate": "Código da Loja=%{x}<br>Número de Compras Únicas=%{y}<extra></extra>",
         "legendgroup": "501",
         "marker": {
          "color": "rgb(231,138,195)",
          "pattern": {
           "shape": ""
          }
         },
         "name": "501",
         "offsetgroup": "501",
         "orientation": "v",
         "showlegend": true,
         "textposition": "auto",
         "type": "bar",
         "x": [
          "501"
         ],
         "xaxis": "x",
         "y": [
          89493
         ],
         "yaxis": "y"
        },
        {
         "alignmentgroup": "True",
         "hovertemplate": "Código da Loja=%{x}<br>Número de Compras Únicas=%{y}<extra></extra>",
         "legendgroup": "846",
         "marker": {
          "color": "rgb(166,216,84)",
          "pattern": {
           "shape": ""
          }
         },
         "name": "846",
         "offsetgroup": "846",
         "orientation": "v",
         "showlegend": true,
         "textposition": "auto",
         "type": "bar",
         "x": [
          "846"
         ],
         "xaxis": "x",
         "y": [
          78378
         ],
         "yaxis": "y"
        }
       ],
       "layout": {
        "barmode": "relative",
        "height": 600,
        "legend": {
         "title": {
          "text": "Código da Loja"
         },
         "tracegroupgap": 0
        },
        "template": {
         "data": {
          "bar": [
           {
            "error_x": {
             "color": "#2a3f5f"
            },
            "error_y": {
             "color": "#2a3f5f"
            },
            "marker": {
             "line": {
              "color": "#E5ECF6",
              "width": 0.5
             },
             "pattern": {
              "fillmode": "overlay",
              "size": 10,
              "solidity": 0.2
             }
            },
            "type": "bar"
           }
          ],
          "barpolar": [
           {
            "marker": {
             "line": {
              "color": "#E5ECF6",
              "width": 0.5
             },
             "pattern": {
              "fillmode": "overlay",
              "size": 10,
              "solidity": 0.2
             }
            },
            "type": "barpolar"
           }
          ],
          "carpet": [
           {
            "aaxis": {
             "endlinecolor": "#2a3f5f",
             "gridcolor": "white",
             "linecolor": "white",
             "minorgridcolor": "white",
             "startlinecolor": "#2a3f5f"
            },
            "baxis": {
             "endlinecolor": "#2a3f5f",
             "gridcolor": "white",
             "linecolor": "white",
             "minorgridcolor": "white",
             "startlinecolor": "#2a3f5f"
            },
            "type": "carpet"
           }
          ],
          "choropleth": [
           {
            "colorbar": {
             "outlinewidth": 0,
             "ticks": ""
            },
            "type": "choropleth"
           }
          ],
          "contour": [
           {
            "colorbar": {
             "outlinewidth": 0,
             "ticks": ""
            },
            "colorscale": [
             [
              0,
              "#0d0887"
             ],
             [
              0.1111111111111111,
              "#46039f"
             ],
             [
              0.2222222222222222,
              "#7201a8"
             ],
             [
              0.3333333333333333,
              "#9c179e"
             ],
             [
              0.4444444444444444,
              "#bd3786"
             ],
             [
              0.5555555555555556,
              "#d8576b"
             ],
             [
              0.6666666666666666,
              "#ed7953"
             ],
             [
              0.7777777777777778,
              "#fb9f3a"
             ],
             [
              0.8888888888888888,
              "#fdca26"
             ],
             [
              1,
              "#f0f921"
             ]
            ],
            "type": "contour"
           }
          ],
          "contourcarpet": [
           {
            "colorbar": {
             "outlinewidth": 0,
             "ticks": ""
            },
            "type": "contourcarpet"
           }
          ],
          "heatmap": [
           {
            "colorbar": {
             "outlinewidth": 0,
             "ticks": ""
            },
            "colorscale": [
             [
              0,
              "#0d0887"
             ],
             [
              0.1111111111111111,
              "#46039f"
             ],
             [
              0.2222222222222222,
              "#7201a8"
             ],
             [
              0.3333333333333333,
              "#9c179e"
             ],
             [
              0.4444444444444444,
              "#bd3786"
             ],
             [
              0.5555555555555556,
              "#d8576b"
             ],
             [
              0.6666666666666666,
              "#ed7953"
             ],
             [
              0.7777777777777778,
              "#fb9f3a"
             ],
             [
              0.8888888888888888,
              "#fdca26"
             ],
             [
              1,
              "#f0f921"
             ]
            ],
            "type": "heatmap"
           }
          ],
          "heatmapgl": [
           {
            "colorbar": {
             "outlinewidth": 0,
             "ticks": ""
            },
            "colorscale": [
             [
              0,
              "#0d0887"
             ],
             [
              0.1111111111111111,
              "#46039f"
             ],
             [
              0.2222222222222222,
              "#7201a8"
             ],
             [
              0.3333333333333333,
              "#9c179e"
             ],
             [
              0.4444444444444444,
              "#bd3786"
             ],
             [
              0.5555555555555556,
              "#d8576b"
             ],
             [
              0.6666666666666666,
              "#ed7953"
             ],
             [
              0.7777777777777778,
              "#fb9f3a"
             ],
             [
              0.8888888888888888,
              "#fdca26"
             ],
             [
              1,
              "#f0f921"
             ]
            ],
            "type": "heatmapgl"
           }
          ],
          "histogram": [
           {
            "marker": {
             "pattern": {
              "fillmode": "overlay",
              "size": 10,
              "solidity": 0.2
             }
            },
            "type": "histogram"
           }
          ],
          "histogram2d": [
           {
            "colorbar": {
             "outlinewidth": 0,
             "ticks": ""
            },
            "colorscale": [
             [
              0,
              "#0d0887"
             ],
             [
              0.1111111111111111,
              "#46039f"
             ],
             [
              0.2222222222222222,
              "#7201a8"
             ],
             [
              0.3333333333333333,
              "#9c179e"
             ],
             [
              0.4444444444444444,
              "#bd3786"
             ],
             [
              0.5555555555555556,
              "#d8576b"
             ],
             [
              0.6666666666666666,
              "#ed7953"
             ],
             [
              0.7777777777777778,
              "#fb9f3a"
             ],
             [
              0.8888888888888888,
              "#fdca26"
             ],
             [
              1,
              "#f0f921"
             ]
            ],
            "type": "histogram2d"
           }
          ],
          "histogram2dcontour": [
           {
            "colorbar": {
             "outlinewidth": 0,
             "ticks": ""
            },
            "colorscale": [
             [
              0,
              "#0d0887"
             ],
             [
              0.1111111111111111,
              "#46039f"
             ],
             [
              0.2222222222222222,
              "#7201a8"
             ],
             [
              0.3333333333333333,
              "#9c179e"
             ],
             [
              0.4444444444444444,
              "#bd3786"
             ],
             [
              0.5555555555555556,
              "#d8576b"
             ],
             [
              0.6666666666666666,
              "#ed7953"
             ],
             [
              0.7777777777777778,
              "#fb9f3a"
             ],
             [
              0.8888888888888888,
              "#fdca26"
             ],
             [
              1,
              "#f0f921"
             ]
            ],
            "type": "histogram2dcontour"
           }
          ],
          "mesh3d": [
           {
            "colorbar": {
             "outlinewidth": 0,
             "ticks": ""
            },
            "type": "mesh3d"
           }
          ],
          "parcoords": [
           {
            "line": {
             "colorbar": {
              "outlinewidth": 0,
              "ticks": ""
             }
            },
            "type": "parcoords"
           }
          ],
          "pie": [
           {
            "automargin": true,
            "type": "pie"
           }
          ],
          "scatter": [
           {
            "fillpattern": {
             "fillmode": "overlay",
             "size": 10,
             "solidity": 0.2
            },
            "type": "scatter"
           }
          ],
          "scatter3d": [
           {
            "line": {
             "colorbar": {
              "outlinewidth": 0,
              "ticks": ""
             }
            },
            "marker": {
             "colorbar": {
              "outlinewidth": 0,
              "ticks": ""
             }
            },
            "type": "scatter3d"
           }
          ],
          "scattercarpet": [
           {
            "marker": {
             "colorbar": {
              "outlinewidth": 0,
              "ticks": ""
             }
            },
            "type": "scattercarpet"
           }
          ],
          "scattergeo": [
           {
            "marker": {
             "colorbar": {
              "outlinewidth": 0,
              "ticks": ""
             }
            },
            "type": "scattergeo"
           }
          ],
          "scattergl": [
           {
            "marker": {
             "colorbar": {
              "outlinewidth": 0,
              "ticks": ""
             }
            },
            "type": "scattergl"
           }
          ],
          "scattermapbox": [
           {
            "marker": {
             "colorbar": {
              "outlinewidth": 0,
              "ticks": ""
             }
            },
            "type": "scattermapbox"
           }
          ],
          "scatterpolar": [
           {
            "marker": {
             "colorbar": {
              "outlinewidth": 0,
              "ticks": ""
             }
            },
            "type": "scatterpolar"
           }
          ],
          "scatterpolargl": [
           {
            "marker": {
             "colorbar": {
              "outlinewidth": 0,
              "ticks": ""
             }
            },
            "type": "scatterpolargl"
           }
          ],
          "scatterternary": [
           {
            "marker": {
             "colorbar": {
              "outlinewidth": 0,
              "ticks": ""
             }
            },
            "type": "scatterternary"
           }
          ],
          "surface": [
           {
            "colorbar": {
             "outlinewidth": 0,
             "ticks": ""
            },
            "colorscale": [
             [
              0,
              "#0d0887"
             ],
             [
              0.1111111111111111,
              "#46039f"
             ],
             [
              0.2222222222222222,
              "#7201a8"
             ],
             [
              0.3333333333333333,
              "#9c179e"
             ],
             [
              0.4444444444444444,
              "#bd3786"
             ],
             [
              0.5555555555555556,
              "#d8576b"
             ],
             [
              0.6666666666666666,
              "#ed7953"
             ],
             [
              0.7777777777777778,
              "#fb9f3a"
             ],
             [
              0.8888888888888888,
              "#fdca26"
             ],
             [
              1,
              "#f0f921"
             ]
            ],
            "type": "surface"
           }
          ],
          "table": [
           {
            "cells": {
             "fill": {
              "color": "#EBF0F8"
             },
             "line": {
              "color": "white"
             }
            },
            "header": {
             "fill": {
              "color": "#C8D4E3"
             },
             "line": {
              "color": "white"
             }
            },
            "type": "table"
           }
          ]
         },
         "layout": {
          "annotationdefaults": {
           "arrowcolor": "#2a3f5f",
           "arrowhead": 0,
           "arrowwidth": 1
          },
          "autotypenumbers": "strict",
          "coloraxis": {
           "colorbar": {
            "outlinewidth": 0,
            "ticks": ""
           }
          },
          "colorscale": {
           "diverging": [
            [
             0,
             "#8e0152"
            ],
            [
             0.1,
             "#c51b7d"
            ],
            [
             0.2,
             "#de77ae"
            ],
            [
             0.3,
             "#f1b6da"
            ],
            [
             0.4,
             "#fde0ef"
            ],
            [
             0.5,
             "#f7f7f7"
            ],
            [
             0.6,
             "#e6f5d0"
            ],
            [
             0.7,
             "#b8e186"
            ],
            [
             0.8,
             "#7fbc41"
            ],
            [
             0.9,
             "#4d9221"
            ],
            [
             1,
             "#276419"
            ]
           ],
           "sequential": [
            [
             0,
             "#0d0887"
            ],
            [
             0.1111111111111111,
             "#46039f"
            ],
            [
             0.2222222222222222,
             "#7201a8"
            ],
            [
             0.3333333333333333,
             "#9c179e"
            ],
            [
             0.4444444444444444,
             "#bd3786"
            ],
            [
             0.5555555555555556,
             "#d8576b"
            ],
            [
             0.6666666666666666,
             "#ed7953"
            ],
            [
             0.7777777777777778,
             "#fb9f3a"
            ],
            [
             0.8888888888888888,
             "#fdca26"
            ],
            [
             1,
             "#f0f921"
            ]
           ],
           "sequentialminus": [
            [
             0,
             "#0d0887"
            ],
            [
             0.1111111111111111,
             "#46039f"
            ],
            [
             0.2222222222222222,
             "#7201a8"
            ],
            [
             0.3333333333333333,
             "#9c179e"
            ],
            [
             0.4444444444444444,
             "#bd3786"
            ],
            [
             0.5555555555555556,
             "#d8576b"
            ],
            [
             0.6666666666666666,
             "#ed7953"
            ],
            [
             0.7777777777777778,
             "#fb9f3a"
            ],
            [
             0.8888888888888888,
             "#fdca26"
            ],
            [
             1,
             "#f0f921"
            ]
           ]
          },
          "colorway": [
           "#636efa",
           "#EF553B",
           "#00cc96",
           "#ab63fa",
           "#FFA15A",
           "#19d3f3",
           "#FF6692",
           "#B6E880",
           "#FF97FF",
           "#FECB52"
          ],
          "font": {
           "color": "#2a3f5f"
          },
          "geo": {
           "bgcolor": "white",
           "lakecolor": "white",
           "landcolor": "#E5ECF6",
           "showlakes": true,
           "showland": true,
           "subunitcolor": "white"
          },
          "hoverlabel": {
           "align": "left"
          },
          "hovermode": "closest",
          "mapbox": {
           "style": "light"
          },
          "paper_bgcolor": "white",
          "plot_bgcolor": "#E5ECF6",
          "polar": {
           "angularaxis": {
            "gridcolor": "white",
            "linecolor": "white",
            "ticks": ""
           },
           "bgcolor": "#E5ECF6",
           "radialaxis": {
            "gridcolor": "white",
            "linecolor": "white",
            "ticks": ""
           }
          },
          "scene": {
           "xaxis": {
            "backgroundcolor": "#E5ECF6",
            "gridcolor": "white",
            "gridwidth": 2,
            "linecolor": "white",
            "showbackground": true,
            "ticks": "",
            "zerolinecolor": "white"
           },
           "yaxis": {
            "backgroundcolor": "#E5ECF6",
            "gridcolor": "white",
            "gridwidth": 2,
            "linecolor": "white",
            "showbackground": true,
            "ticks": "",
            "zerolinecolor": "white"
           },
           "zaxis": {
            "backgroundcolor": "#E5ECF6",
            "gridcolor": "white",
            "gridwidth": 2,
            "linecolor": "white",
            "showbackground": true,
            "ticks": "",
            "zerolinecolor": "white"
           }
          },
          "shapedefaults": {
           "line": {
            "color": "#2a3f5f"
           }
          },
          "ternary": {
           "aaxis": {
            "gridcolor": "white",
            "linecolor": "white",
            "ticks": ""
           },
           "baxis": {
            "gridcolor": "white",
            "linecolor": "white",
            "ticks": ""
           },
           "bgcolor": "#E5ECF6",
           "caxis": {
            "gridcolor": "white",
            "linecolor": "white",
            "ticks": ""
           }
          },
          "title": {
           "x": 0.05
          },
          "xaxis": {
           "automargin": true,
           "gridcolor": "white",
           "linecolor": "white",
           "ticks": "",
           "title": {
            "standoff": 15
           },
           "zerolinecolor": "white",
           "zerolinewidth": 2
          },
          "yaxis": {
           "automargin": true,
           "gridcolor": "white",
           "linecolor": "white",
           "ticks": "",
           "title": {
            "standoff": 15
           },
           "zerolinecolor": "white",
           "zerolinewidth": 2
          }
         }
        },
        "title": {
         "text": "Top 5 Lojas por Número de Compras Únicas"
        },
        "width": 800,
        "xaxis": {
         "anchor": "y",
         "categoryarray": [
          "1036",
          "819",
          "988",
          "501",
          "846"
         ],
         "categoryorder": "array",
         "domain": [
          0,
          1
         ],
         "title": {
          "text": "Código da Loja"
         }
        },
        "yaxis": {
         "anchor": "x",
         "domain": [
          0,
          1
         ],
         "title": {
          "text": "Número de Compras Únicas"
         }
        }
       }
      }
     },
     "metadata": {},
     "output_type": "display_data"
    }
   ],
   "source": [
    "# Calculate the top 5 stores by the number of unique purchase codes\n",
    "top_stores = vendas.groupby('COD_LOJA')['COD_CUPOM'].nunique().sort_values(ascending=False).head().reset_index()\n",
    "\n",
    "# Rename columns for clarity\n",
    "top_stores.columns = ['Código da Loja', 'Número de Compras Únicas']\n",
    "\n",
    "# Convert store IDs to strings to treat them as categorical data\n",
    "top_stores['Código da Loja'] = top_stores['Código da Loja'].astype(str)\n",
    "\n",
    "# Plot using Plotly Express with a discrete color sequence\n",
    "fig = px.bar(top_stores, x='Código da Loja', y='Número de Compras Únicas',\n",
    "             title='Top 5 Lojas por Número de Compras Únicas',\n",
    "             labels={'Código da Loja': 'Código da Loja', 'Número de Compras Únicas': 'Número de Compras Únicas'},\n",
    "             color='Código da Loja',\n",
    "             color_discrete_sequence=px.colors.qualitative.Set2)\n",
    "\n",
    "# Customize layout\n",
    "fig.update_layout(xaxis_title='Código da Loja', yaxis_title='Número de Compras Únicas', width=800, height=600)\n",
    "\n",
    "# Show the plot\n",
    "fig.show()"
   ]
  },
  {
   "cell_type": "markdown",
   "metadata": {},
   "source": [
    "# How are our rows distributed over time?"
   ]
  },
  {
   "cell_type": "code",
   "execution_count": 19,
   "metadata": {},
   "outputs": [
    {
     "data": {
      "application/vnd.plotly.v1+json": {
       "config": {
        "plotlyServerURL": "https://plot.ly"
       },
       "data": [
        {
         "hovertemplate": "Data=%{x}<br>Número de Cupons Únicos=%{y}<extra></extra>",
         "legendgroup": "",
         "line": {
          "color": "#636efa",
          "dash": "solid"
         },
         "marker": {
          "symbol": "circle"
         },
         "mode": "lines",
         "name": "",
         "orientation": "v",
         "showlegend": false,
         "type": "scatter",
         "x": [
          "2024-01-01",
          "2024-01-02",
          "2024-01-03",
          "2024-01-04",
          "2024-01-05",
          "2024-01-06",
          "2024-01-07",
          "2024-01-08",
          "2024-01-09",
          "2024-01-10",
          "2024-01-11",
          "2024-01-12",
          "2024-01-13",
          "2024-01-14",
          "2024-01-15",
          "2024-01-16",
          "2024-01-17",
          "2024-01-18",
          "2024-01-19",
          "2024-01-20",
          "2024-01-21",
          "2024-01-22",
          "2024-01-23",
          "2024-01-24",
          "2024-01-25",
          "2024-01-26",
          "2024-01-27",
          "2024-01-28",
          "2024-01-29",
          "2024-01-30",
          "2024-01-31",
          "2024-02-01",
          "2024-02-02",
          "2024-02-03",
          "2024-02-04",
          "2024-02-05",
          "2024-02-06",
          "2024-02-07",
          "2024-02-08",
          "2024-02-09",
          "2024-02-10",
          "2024-02-11",
          "2024-02-12",
          "2024-02-13",
          "2024-02-14",
          "2024-02-15",
          "2024-02-16",
          "2024-02-17",
          "2024-02-18",
          "2024-02-19",
          "2024-02-20",
          "2024-02-21",
          "2024-02-22",
          "2024-02-23",
          "2024-02-24",
          "2024-02-25",
          "2024-02-26",
          "2024-02-27",
          "2024-02-28",
          "2024-02-29",
          "2024-03-01",
          "2024-03-02",
          "2024-03-03",
          "2024-03-04",
          "2024-03-05",
          "2024-03-06",
          "2024-03-07",
          "2024-03-08",
          "2024-03-09",
          "2024-03-10",
          "2024-03-11",
          "2024-03-12",
          "2024-03-13",
          "2024-03-14",
          "2024-03-15",
          "2024-03-16",
          "2024-03-17",
          "2024-03-18",
          "2024-03-19",
          "2024-03-20",
          "2024-03-21",
          "2024-03-22",
          "2024-03-23",
          "2024-03-24",
          "2024-03-25",
          "2024-03-26",
          "2024-03-27",
          "2024-03-28",
          "2024-03-29",
          "2024-03-30",
          "2024-03-31",
          "2024-04-01",
          "2024-04-02",
          "2024-04-03",
          "2024-04-04",
          "2024-04-05",
          "2024-04-06",
          "2024-04-07",
          "2024-04-08",
          "2024-04-09",
          "2024-04-10",
          "2024-04-11",
          "2024-04-12",
          "2024-04-13",
          "2024-04-14",
          "2024-04-15",
          "2024-04-16",
          "2024-04-17",
          "2024-04-18",
          "2024-04-19",
          "2024-04-20",
          "2024-04-21",
          "2024-04-22",
          "2024-04-23",
          "2024-04-24",
          "2024-04-25",
          "2024-04-26",
          "2024-04-27",
          "2024-04-28",
          "2024-04-29",
          "2024-04-30",
          "2024-05-01",
          "2024-05-02",
          "2024-05-03",
          "2024-05-04",
          "2024-05-05",
          "2024-05-06",
          "2024-05-07",
          "2024-05-08",
          "2024-05-09",
          "2024-05-10",
          "2024-05-11",
          "2024-05-12",
          "2024-05-13",
          "2024-05-14",
          "2024-05-15",
          "2024-05-16",
          "2024-05-17",
          "2024-05-18",
          "2024-05-19",
          "2024-05-20",
          "2024-05-21",
          "2024-05-22",
          "2024-05-23",
          "2024-05-24",
          "2024-05-25",
          "2024-05-26",
          "2024-05-27",
          "2024-05-28",
          "2024-05-29",
          "2024-05-30",
          "2024-05-31",
          "2024-06-01",
          "2024-06-02",
          "2024-06-03",
          "2024-06-04",
          "2024-06-05",
          "2024-06-06",
          "2024-06-07",
          "2024-06-08",
          "2024-06-09",
          "2024-06-10",
          "2024-06-11",
          "2024-06-12",
          "2024-06-13",
          "2024-06-14",
          "2024-06-15",
          "2024-06-16",
          "2024-06-17",
          "2024-06-18",
          "2024-06-19",
          "2024-06-20",
          "2024-06-21",
          "2024-06-22",
          "2024-06-23",
          "2024-06-24",
          "2024-06-25",
          "2024-06-26",
          "2024-06-27",
          "2024-06-28",
          "2024-06-29",
          "2024-06-30"
         ],
         "xaxis": "x",
         "y": [
          10957,
          18296,
          21754,
          21831,
          24755,
          20710,
          14135,
          24050,
          22829,
          23245,
          20864,
          22716,
          19374,
          11657,
          22103,
          21254,
          13163,
          19534,
          19958,
          18631,
          14290,
          22404,
          22338,
          21948,
          22915,
          23423,
          20339,
          12905,
          22451,
          22737,
          24652,
          25091,
          16273,
          19380,
          13603,
          24306,
          26505,
          28050,
          27669,
          27637,
          20213,
          12888,
          16326,
          12470,
          22526,
          24332,
          22471,
          22378,
          15456,
          23589,
          23507,
          23801,
          22889,
          22987,
          20514,
          14724,
          22653,
          22715,
          22998,
          24949,
          26660,
          23194,
          16964,
          24662,
          26248,
          28515,
          28946,
          22371,
          25239,
          17666,
          26683,
          25774,
          25263,
          24434,
          25747,
          22510,
          17463,
          24624,
          24287,
          24209,
          20272,
          25210,
          22988,
          16718,
          24733,
          25151,
          26412,
          30029,
          16529,
          24874,
          15954,
          23949,
          23788,
          24659,
          24888,
          28637,
          25874,
          17233,
          26942,
          25934,
          24880,
          21148,
          23483,
          19390,
          16959,
          23974,
          20663,
          25177,
          24579,
          25923,
          23964,
          17559,
          24928,
          24001,
          24069,
          24236,
          23985,
          19502,
          16829,
          17854,
          19776,
          14587,
          21726,
          23490,
          22256,
          22420,
          27941,
          29465,
          25321,
          29212,
          20755,
          21857,
          14759,
          22383,
          22943,
          25238,
          20473,
          26877,
          23494,
          16907,
          23290,
          23705,
          23713,
          12552,
          19708,
          22250,
          17149,
          16982,
          21180,
          23219,
          18150,
          24994,
          21724,
          17729,
          21474,
          24398,
          25161,
          27255,
          27723,
          25621,
          19509,
          26732,
          26300,
          26150,
          25388,
          26823,
          22821,
          14299,
          26260,
          25621,
          21507,
          24555,
          22592,
          23759,
          17082,
          25222,
          25988,
          22521,
          25402,
          27425,
          23589,
          17870
         ],
         "yaxis": "y"
        }
       ],
       "layout": {
        "height": 600,
        "legend": {
         "tracegroupgap": 0
        },
        "template": {
         "data": {
          "bar": [
           {
            "error_x": {
             "color": "#2a3f5f"
            },
            "error_y": {
             "color": "#2a3f5f"
            },
            "marker": {
             "line": {
              "color": "#E5ECF6",
              "width": 0.5
             },
             "pattern": {
              "fillmode": "overlay",
              "size": 10,
              "solidity": 0.2
             }
            },
            "type": "bar"
           }
          ],
          "barpolar": [
           {
            "marker": {
             "line": {
              "color": "#E5ECF6",
              "width": 0.5
             },
             "pattern": {
              "fillmode": "overlay",
              "size": 10,
              "solidity": 0.2
             }
            },
            "type": "barpolar"
           }
          ],
          "carpet": [
           {
            "aaxis": {
             "endlinecolor": "#2a3f5f",
             "gridcolor": "white",
             "linecolor": "white",
             "minorgridcolor": "white",
             "startlinecolor": "#2a3f5f"
            },
            "baxis": {
             "endlinecolor": "#2a3f5f",
             "gridcolor": "white",
             "linecolor": "white",
             "minorgridcolor": "white",
             "startlinecolor": "#2a3f5f"
            },
            "type": "carpet"
           }
          ],
          "choropleth": [
           {
            "colorbar": {
             "outlinewidth": 0,
             "ticks": ""
            },
            "type": "choropleth"
           }
          ],
          "contour": [
           {
            "colorbar": {
             "outlinewidth": 0,
             "ticks": ""
            },
            "colorscale": [
             [
              0,
              "#0d0887"
             ],
             [
              0.1111111111111111,
              "#46039f"
             ],
             [
              0.2222222222222222,
              "#7201a8"
             ],
             [
              0.3333333333333333,
              "#9c179e"
             ],
             [
              0.4444444444444444,
              "#bd3786"
             ],
             [
              0.5555555555555556,
              "#d8576b"
             ],
             [
              0.6666666666666666,
              "#ed7953"
             ],
             [
              0.7777777777777778,
              "#fb9f3a"
             ],
             [
              0.8888888888888888,
              "#fdca26"
             ],
             [
              1,
              "#f0f921"
             ]
            ],
            "type": "contour"
           }
          ],
          "contourcarpet": [
           {
            "colorbar": {
             "outlinewidth": 0,
             "ticks": ""
            },
            "type": "contourcarpet"
           }
          ],
          "heatmap": [
           {
            "colorbar": {
             "outlinewidth": 0,
             "ticks": ""
            },
            "colorscale": [
             [
              0,
              "#0d0887"
             ],
             [
              0.1111111111111111,
              "#46039f"
             ],
             [
              0.2222222222222222,
              "#7201a8"
             ],
             [
              0.3333333333333333,
              "#9c179e"
             ],
             [
              0.4444444444444444,
              "#bd3786"
             ],
             [
              0.5555555555555556,
              "#d8576b"
             ],
             [
              0.6666666666666666,
              "#ed7953"
             ],
             [
              0.7777777777777778,
              "#fb9f3a"
             ],
             [
              0.8888888888888888,
              "#fdca26"
             ],
             [
              1,
              "#f0f921"
             ]
            ],
            "type": "heatmap"
           }
          ],
          "heatmapgl": [
           {
            "colorbar": {
             "outlinewidth": 0,
             "ticks": ""
            },
            "colorscale": [
             [
              0,
              "#0d0887"
             ],
             [
              0.1111111111111111,
              "#46039f"
             ],
             [
              0.2222222222222222,
              "#7201a8"
             ],
             [
              0.3333333333333333,
              "#9c179e"
             ],
             [
              0.4444444444444444,
              "#bd3786"
             ],
             [
              0.5555555555555556,
              "#d8576b"
             ],
             [
              0.6666666666666666,
              "#ed7953"
             ],
             [
              0.7777777777777778,
              "#fb9f3a"
             ],
             [
              0.8888888888888888,
              "#fdca26"
             ],
             [
              1,
              "#f0f921"
             ]
            ],
            "type": "heatmapgl"
           }
          ],
          "histogram": [
           {
            "marker": {
             "pattern": {
              "fillmode": "overlay",
              "size": 10,
              "solidity": 0.2
             }
            },
            "type": "histogram"
           }
          ],
          "histogram2d": [
           {
            "colorbar": {
             "outlinewidth": 0,
             "ticks": ""
            },
            "colorscale": [
             [
              0,
              "#0d0887"
             ],
             [
              0.1111111111111111,
              "#46039f"
             ],
             [
              0.2222222222222222,
              "#7201a8"
             ],
             [
              0.3333333333333333,
              "#9c179e"
             ],
             [
              0.4444444444444444,
              "#bd3786"
             ],
             [
              0.5555555555555556,
              "#d8576b"
             ],
             [
              0.6666666666666666,
              "#ed7953"
             ],
             [
              0.7777777777777778,
              "#fb9f3a"
             ],
             [
              0.8888888888888888,
              "#fdca26"
             ],
             [
              1,
              "#f0f921"
             ]
            ],
            "type": "histogram2d"
           }
          ],
          "histogram2dcontour": [
           {
            "colorbar": {
             "outlinewidth": 0,
             "ticks": ""
            },
            "colorscale": [
             [
              0,
              "#0d0887"
             ],
             [
              0.1111111111111111,
              "#46039f"
             ],
             [
              0.2222222222222222,
              "#7201a8"
             ],
             [
              0.3333333333333333,
              "#9c179e"
             ],
             [
              0.4444444444444444,
              "#bd3786"
             ],
             [
              0.5555555555555556,
              "#d8576b"
             ],
             [
              0.6666666666666666,
              "#ed7953"
             ],
             [
              0.7777777777777778,
              "#fb9f3a"
             ],
             [
              0.8888888888888888,
              "#fdca26"
             ],
             [
              1,
              "#f0f921"
             ]
            ],
            "type": "histogram2dcontour"
           }
          ],
          "mesh3d": [
           {
            "colorbar": {
             "outlinewidth": 0,
             "ticks": ""
            },
            "type": "mesh3d"
           }
          ],
          "parcoords": [
           {
            "line": {
             "colorbar": {
              "outlinewidth": 0,
              "ticks": ""
             }
            },
            "type": "parcoords"
           }
          ],
          "pie": [
           {
            "automargin": true,
            "type": "pie"
           }
          ],
          "scatter": [
           {
            "fillpattern": {
             "fillmode": "overlay",
             "size": 10,
             "solidity": 0.2
            },
            "type": "scatter"
           }
          ],
          "scatter3d": [
           {
            "line": {
             "colorbar": {
              "outlinewidth": 0,
              "ticks": ""
             }
            },
            "marker": {
             "colorbar": {
              "outlinewidth": 0,
              "ticks": ""
             }
            },
            "type": "scatter3d"
           }
          ],
          "scattercarpet": [
           {
            "marker": {
             "colorbar": {
              "outlinewidth": 0,
              "ticks": ""
             }
            },
            "type": "scattercarpet"
           }
          ],
          "scattergeo": [
           {
            "marker": {
             "colorbar": {
              "outlinewidth": 0,
              "ticks": ""
             }
            },
            "type": "scattergeo"
           }
          ],
          "scattergl": [
           {
            "marker": {
             "colorbar": {
              "outlinewidth": 0,
              "ticks": ""
             }
            },
            "type": "scattergl"
           }
          ],
          "scattermapbox": [
           {
            "marker": {
             "colorbar": {
              "outlinewidth": 0,
              "ticks": ""
             }
            },
            "type": "scattermapbox"
           }
          ],
          "scatterpolar": [
           {
            "marker": {
             "colorbar": {
              "outlinewidth": 0,
              "ticks": ""
             }
            },
            "type": "scatterpolar"
           }
          ],
          "scatterpolargl": [
           {
            "marker": {
             "colorbar": {
              "outlinewidth": 0,
              "ticks": ""
             }
            },
            "type": "scatterpolargl"
           }
          ],
          "scatterternary": [
           {
            "marker": {
             "colorbar": {
              "outlinewidth": 0,
              "ticks": ""
             }
            },
            "type": "scatterternary"
           }
          ],
          "surface": [
           {
            "colorbar": {
             "outlinewidth": 0,
             "ticks": ""
            },
            "colorscale": [
             [
              0,
              "#0d0887"
             ],
             [
              0.1111111111111111,
              "#46039f"
             ],
             [
              0.2222222222222222,
              "#7201a8"
             ],
             [
              0.3333333333333333,
              "#9c179e"
             ],
             [
              0.4444444444444444,
              "#bd3786"
             ],
             [
              0.5555555555555556,
              "#d8576b"
             ],
             [
              0.6666666666666666,
              "#ed7953"
             ],
             [
              0.7777777777777778,
              "#fb9f3a"
             ],
             [
              0.8888888888888888,
              "#fdca26"
             ],
             [
              1,
              "#f0f921"
             ]
            ],
            "type": "surface"
           }
          ],
          "table": [
           {
            "cells": {
             "fill": {
              "color": "#EBF0F8"
             },
             "line": {
              "color": "white"
             }
            },
            "header": {
             "fill": {
              "color": "#C8D4E3"
             },
             "line": {
              "color": "white"
             }
            },
            "type": "table"
           }
          ]
         },
         "layout": {
          "annotationdefaults": {
           "arrowcolor": "#2a3f5f",
           "arrowhead": 0,
           "arrowwidth": 1
          },
          "autotypenumbers": "strict",
          "coloraxis": {
           "colorbar": {
            "outlinewidth": 0,
            "ticks": ""
           }
          },
          "colorscale": {
           "diverging": [
            [
             0,
             "#8e0152"
            ],
            [
             0.1,
             "#c51b7d"
            ],
            [
             0.2,
             "#de77ae"
            ],
            [
             0.3,
             "#f1b6da"
            ],
            [
             0.4,
             "#fde0ef"
            ],
            [
             0.5,
             "#f7f7f7"
            ],
            [
             0.6,
             "#e6f5d0"
            ],
            [
             0.7,
             "#b8e186"
            ],
            [
             0.8,
             "#7fbc41"
            ],
            [
             0.9,
             "#4d9221"
            ],
            [
             1,
             "#276419"
            ]
           ],
           "sequential": [
            [
             0,
             "#0d0887"
            ],
            [
             0.1111111111111111,
             "#46039f"
            ],
            [
             0.2222222222222222,
             "#7201a8"
            ],
            [
             0.3333333333333333,
             "#9c179e"
            ],
            [
             0.4444444444444444,
             "#bd3786"
            ],
            [
             0.5555555555555556,
             "#d8576b"
            ],
            [
             0.6666666666666666,
             "#ed7953"
            ],
            [
             0.7777777777777778,
             "#fb9f3a"
            ],
            [
             0.8888888888888888,
             "#fdca26"
            ],
            [
             1,
             "#f0f921"
            ]
           ],
           "sequentialminus": [
            [
             0,
             "#0d0887"
            ],
            [
             0.1111111111111111,
             "#46039f"
            ],
            [
             0.2222222222222222,
             "#7201a8"
            ],
            [
             0.3333333333333333,
             "#9c179e"
            ],
            [
             0.4444444444444444,
             "#bd3786"
            ],
            [
             0.5555555555555556,
             "#d8576b"
            ],
            [
             0.6666666666666666,
             "#ed7953"
            ],
            [
             0.7777777777777778,
             "#fb9f3a"
            ],
            [
             0.8888888888888888,
             "#fdca26"
            ],
            [
             1,
             "#f0f921"
            ]
           ]
          },
          "colorway": [
           "#636efa",
           "#EF553B",
           "#00cc96",
           "#ab63fa",
           "#FFA15A",
           "#19d3f3",
           "#FF6692",
           "#B6E880",
           "#FF97FF",
           "#FECB52"
          ],
          "font": {
           "color": "#2a3f5f"
          },
          "geo": {
           "bgcolor": "white",
           "lakecolor": "white",
           "landcolor": "#E5ECF6",
           "showlakes": true,
           "showland": true,
           "subunitcolor": "white"
          },
          "hoverlabel": {
           "align": "left"
          },
          "hovermode": "closest",
          "mapbox": {
           "style": "light"
          },
          "paper_bgcolor": "white",
          "plot_bgcolor": "#E5ECF6",
          "polar": {
           "angularaxis": {
            "gridcolor": "white",
            "linecolor": "white",
            "ticks": ""
           },
           "bgcolor": "#E5ECF6",
           "radialaxis": {
            "gridcolor": "white",
            "linecolor": "white",
            "ticks": ""
           }
          },
          "scene": {
           "xaxis": {
            "backgroundcolor": "#E5ECF6",
            "gridcolor": "white",
            "gridwidth": 2,
            "linecolor": "white",
            "showbackground": true,
            "ticks": "",
            "zerolinecolor": "white"
           },
           "yaxis": {
            "backgroundcolor": "#E5ECF6",
            "gridcolor": "white",
            "gridwidth": 2,
            "linecolor": "white",
            "showbackground": true,
            "ticks": "",
            "zerolinecolor": "white"
           },
           "zaxis": {
            "backgroundcolor": "#E5ECF6",
            "gridcolor": "white",
            "gridwidth": 2,
            "linecolor": "white",
            "showbackground": true,
            "ticks": "",
            "zerolinecolor": "white"
           }
          },
          "shapedefaults": {
           "line": {
            "color": "#2a3f5f"
           }
          },
          "ternary": {
           "aaxis": {
            "gridcolor": "white",
            "linecolor": "white",
            "ticks": ""
           },
           "baxis": {
            "gridcolor": "white",
            "linecolor": "white",
            "ticks": ""
           },
           "bgcolor": "#E5ECF6",
           "caxis": {
            "gridcolor": "white",
            "linecolor": "white",
            "ticks": ""
           }
          },
          "title": {
           "x": 0.05
          },
          "xaxis": {
           "automargin": true,
           "gridcolor": "white",
           "linecolor": "white",
           "ticks": "",
           "title": {
            "standoff": 15
           },
           "zerolinecolor": "white",
           "zerolinewidth": 2
          },
          "yaxis": {
           "automargin": true,
           "gridcolor": "white",
           "linecolor": "white",
           "ticks": "",
           "title": {
            "standoff": 15
           },
           "zerolinecolor": "white",
           "zerolinewidth": 2
          }
         }
        },
        "title": {
         "text": "Número de Cupons Únicos ao Longo do Tempo (por Data)"
        },
        "width": 1800,
        "xaxis": {
         "anchor": "y",
         "domain": [
          0,
          1
         ],
         "title": {
          "text": "Data"
         }
        },
        "yaxis": {
         "anchor": "x",
         "domain": [
          0,
          1
         ],
         "title": {
          "text": "Número de Cupons Únicos"
         }
        }
       }
      }
     },
     "metadata": {},
     "output_type": "display_data"
    }
   ],
   "source": [
    "# Convert DATA_CUPOM to datetime if not already done\n",
    "vendas['DATA_CUPOM'] = pd.to_datetime(vendas['DATA_CUPOM'], errors='coerce')\n",
    "\n",
    "# Create a new column that contains only the date (without time)\n",
    "vendas['DATA_CUPOM_DATE'] = vendas['DATA_CUPOM'].dt.date\n",
    "\n",
    "# Group by the new date column and count unique COD_CUPOM values\n",
    "cupons_over_time = vendas.groupby('DATA_CUPOM_DATE')['COD_CUPOM'].nunique().reset_index()\n",
    "\n",
    "# Plot using Plotly Express\n",
    "fig = px.line(cupons_over_time, x='DATA_CUPOM_DATE', y='COD_CUPOM',\n",
    "              title='Número de Cupons Únicos ao Longo do Tempo (por Data)',\n",
    "              labels={'DATA_CUPOM_DATE': 'Data', 'COD_CUPOM': 'Número de Cupons Únicos'},\n",
    "              width=1800, height=600)\n",
    "\n",
    "# Customize layout\n",
    "fig.update_layout(xaxis_title='Data', yaxis_title='Número de Cupons Únicos')\n",
    "\n",
    "# Show the plot\n",
    "fig.show()"
   ]
  },
  {
   "cell_type": "markdown",
   "metadata": {},
   "source": [
    "## Proportion of purchases with and without promotion"
   ]
  },
  {
   "cell_type": "code",
   "execution_count": 20,
   "metadata": {},
   "outputs": [
    {
     "data": {
      "application/vnd.plotly.v1+json": {
       "config": {
        "plotlyServerURL": "https://plot.ly"
       },
       "data": [
        {
         "alignmentgroup": "True",
         "hovertemplate": "Tipo de Venda=%{x}<br>Número de Vendas=%{y}<extra></extra>",
         "legendgroup": "Com Promoção",
         "marker": {
          "color": "rgb(102,194,165)",
          "pattern": {
           "shape": ""
          }
         },
         "name": "Com Promoção",
         "offsetgroup": "Com Promoção",
         "orientation": "v",
         "showlegend": true,
         "textposition": "auto",
         "type": "bar",
         "x": [
          "Com Promoção"
         ],
         "xaxis": "x",
         "y": [
          2535220
         ],
         "yaxis": "y"
        },
        {
         "alignmentgroup": "True",
         "hovertemplate": "Tipo de Venda=%{x}<br>Número de Vendas=%{y}<extra></extra>",
         "legendgroup": "Sem Promoção",
         "marker": {
          "color": "rgb(252,141,98)",
          "pattern": {
           "shape": ""
          }
         },
         "name": "Sem Promoção",
         "offsetgroup": "Sem Promoção",
         "orientation": "v",
         "showlegend": true,
         "textposition": "auto",
         "type": "bar",
         "x": [
          "Sem Promoção"
         ],
         "xaxis": "x",
         "y": [
          6735816
         ],
         "yaxis": "y"
        }
       ],
       "layout": {
        "barmode": "relative",
        "height": 600,
        "legend": {
         "title": {
          "text": "Tipo de Venda"
         },
         "tracegroupgap": 0
        },
        "template": {
         "data": {
          "bar": [
           {
            "error_x": {
             "color": "#2a3f5f"
            },
            "error_y": {
             "color": "#2a3f5f"
            },
            "marker": {
             "line": {
              "color": "#E5ECF6",
              "width": 0.5
             },
             "pattern": {
              "fillmode": "overlay",
              "size": 10,
              "solidity": 0.2
             }
            },
            "type": "bar"
           }
          ],
          "barpolar": [
           {
            "marker": {
             "line": {
              "color": "#E5ECF6",
              "width": 0.5
             },
             "pattern": {
              "fillmode": "overlay",
              "size": 10,
              "solidity": 0.2
             }
            },
            "type": "barpolar"
           }
          ],
          "carpet": [
           {
            "aaxis": {
             "endlinecolor": "#2a3f5f",
             "gridcolor": "white",
             "linecolor": "white",
             "minorgridcolor": "white",
             "startlinecolor": "#2a3f5f"
            },
            "baxis": {
             "endlinecolor": "#2a3f5f",
             "gridcolor": "white",
             "linecolor": "white",
             "minorgridcolor": "white",
             "startlinecolor": "#2a3f5f"
            },
            "type": "carpet"
           }
          ],
          "choropleth": [
           {
            "colorbar": {
             "outlinewidth": 0,
             "ticks": ""
            },
            "type": "choropleth"
           }
          ],
          "contour": [
           {
            "colorbar": {
             "outlinewidth": 0,
             "ticks": ""
            },
            "colorscale": [
             [
              0,
              "#0d0887"
             ],
             [
              0.1111111111111111,
              "#46039f"
             ],
             [
              0.2222222222222222,
              "#7201a8"
             ],
             [
              0.3333333333333333,
              "#9c179e"
             ],
             [
              0.4444444444444444,
              "#bd3786"
             ],
             [
              0.5555555555555556,
              "#d8576b"
             ],
             [
              0.6666666666666666,
              "#ed7953"
             ],
             [
              0.7777777777777778,
              "#fb9f3a"
             ],
             [
              0.8888888888888888,
              "#fdca26"
             ],
             [
              1,
              "#f0f921"
             ]
            ],
            "type": "contour"
           }
          ],
          "contourcarpet": [
           {
            "colorbar": {
             "outlinewidth": 0,
             "ticks": ""
            },
            "type": "contourcarpet"
           }
          ],
          "heatmap": [
           {
            "colorbar": {
             "outlinewidth": 0,
             "ticks": ""
            },
            "colorscale": [
             [
              0,
              "#0d0887"
             ],
             [
              0.1111111111111111,
              "#46039f"
             ],
             [
              0.2222222222222222,
              "#7201a8"
             ],
             [
              0.3333333333333333,
              "#9c179e"
             ],
             [
              0.4444444444444444,
              "#bd3786"
             ],
             [
              0.5555555555555556,
              "#d8576b"
             ],
             [
              0.6666666666666666,
              "#ed7953"
             ],
             [
              0.7777777777777778,
              "#fb9f3a"
             ],
             [
              0.8888888888888888,
              "#fdca26"
             ],
             [
              1,
              "#f0f921"
             ]
            ],
            "type": "heatmap"
           }
          ],
          "heatmapgl": [
           {
            "colorbar": {
             "outlinewidth": 0,
             "ticks": ""
            },
            "colorscale": [
             [
              0,
              "#0d0887"
             ],
             [
              0.1111111111111111,
              "#46039f"
             ],
             [
              0.2222222222222222,
              "#7201a8"
             ],
             [
              0.3333333333333333,
              "#9c179e"
             ],
             [
              0.4444444444444444,
              "#bd3786"
             ],
             [
              0.5555555555555556,
              "#d8576b"
             ],
             [
              0.6666666666666666,
              "#ed7953"
             ],
             [
              0.7777777777777778,
              "#fb9f3a"
             ],
             [
              0.8888888888888888,
              "#fdca26"
             ],
             [
              1,
              "#f0f921"
             ]
            ],
            "type": "heatmapgl"
           }
          ],
          "histogram": [
           {
            "marker": {
             "pattern": {
              "fillmode": "overlay",
              "size": 10,
              "solidity": 0.2
             }
            },
            "type": "histogram"
           }
          ],
          "histogram2d": [
           {
            "colorbar": {
             "outlinewidth": 0,
             "ticks": ""
            },
            "colorscale": [
             [
              0,
              "#0d0887"
             ],
             [
              0.1111111111111111,
              "#46039f"
             ],
             [
              0.2222222222222222,
              "#7201a8"
             ],
             [
              0.3333333333333333,
              "#9c179e"
             ],
             [
              0.4444444444444444,
              "#bd3786"
             ],
             [
              0.5555555555555556,
              "#d8576b"
             ],
             [
              0.6666666666666666,
              "#ed7953"
             ],
             [
              0.7777777777777778,
              "#fb9f3a"
             ],
             [
              0.8888888888888888,
              "#fdca26"
             ],
             [
              1,
              "#f0f921"
             ]
            ],
            "type": "histogram2d"
           }
          ],
          "histogram2dcontour": [
           {
            "colorbar": {
             "outlinewidth": 0,
             "ticks": ""
            },
            "colorscale": [
             [
              0,
              "#0d0887"
             ],
             [
              0.1111111111111111,
              "#46039f"
             ],
             [
              0.2222222222222222,
              "#7201a8"
             ],
             [
              0.3333333333333333,
              "#9c179e"
             ],
             [
              0.4444444444444444,
              "#bd3786"
             ],
             [
              0.5555555555555556,
              "#d8576b"
             ],
             [
              0.6666666666666666,
              "#ed7953"
             ],
             [
              0.7777777777777778,
              "#fb9f3a"
             ],
             [
              0.8888888888888888,
              "#fdca26"
             ],
             [
              1,
              "#f0f921"
             ]
            ],
            "type": "histogram2dcontour"
           }
          ],
          "mesh3d": [
           {
            "colorbar": {
             "outlinewidth": 0,
             "ticks": ""
            },
            "type": "mesh3d"
           }
          ],
          "parcoords": [
           {
            "line": {
             "colorbar": {
              "outlinewidth": 0,
              "ticks": ""
             }
            },
            "type": "parcoords"
           }
          ],
          "pie": [
           {
            "automargin": true,
            "type": "pie"
           }
          ],
          "scatter": [
           {
            "fillpattern": {
             "fillmode": "overlay",
             "size": 10,
             "solidity": 0.2
            },
            "type": "scatter"
           }
          ],
          "scatter3d": [
           {
            "line": {
             "colorbar": {
              "outlinewidth": 0,
              "ticks": ""
             }
            },
            "marker": {
             "colorbar": {
              "outlinewidth": 0,
              "ticks": ""
             }
            },
            "type": "scatter3d"
           }
          ],
          "scattercarpet": [
           {
            "marker": {
             "colorbar": {
              "outlinewidth": 0,
              "ticks": ""
             }
            },
            "type": "scattercarpet"
           }
          ],
          "scattergeo": [
           {
            "marker": {
             "colorbar": {
              "outlinewidth": 0,
              "ticks": ""
             }
            },
            "type": "scattergeo"
           }
          ],
          "scattergl": [
           {
            "marker": {
             "colorbar": {
              "outlinewidth": 0,
              "ticks": ""
             }
            },
            "type": "scattergl"
           }
          ],
          "scattermapbox": [
           {
            "marker": {
             "colorbar": {
              "outlinewidth": 0,
              "ticks": ""
             }
            },
            "type": "scattermapbox"
           }
          ],
          "scatterpolar": [
           {
            "marker": {
             "colorbar": {
              "outlinewidth": 0,
              "ticks": ""
             }
            },
            "type": "scatterpolar"
           }
          ],
          "scatterpolargl": [
           {
            "marker": {
             "colorbar": {
              "outlinewidth": 0,
              "ticks": ""
             }
            },
            "type": "scatterpolargl"
           }
          ],
          "scatterternary": [
           {
            "marker": {
             "colorbar": {
              "outlinewidth": 0,
              "ticks": ""
             }
            },
            "type": "scatterternary"
           }
          ],
          "surface": [
           {
            "colorbar": {
             "outlinewidth": 0,
             "ticks": ""
            },
            "colorscale": [
             [
              0,
              "#0d0887"
             ],
             [
              0.1111111111111111,
              "#46039f"
             ],
             [
              0.2222222222222222,
              "#7201a8"
             ],
             [
              0.3333333333333333,
              "#9c179e"
             ],
             [
              0.4444444444444444,
              "#bd3786"
             ],
             [
              0.5555555555555556,
              "#d8576b"
             ],
             [
              0.6666666666666666,
              "#ed7953"
             ],
             [
              0.7777777777777778,
              "#fb9f3a"
             ],
             [
              0.8888888888888888,
              "#fdca26"
             ],
             [
              1,
              "#f0f921"
             ]
            ],
            "type": "surface"
           }
          ],
          "table": [
           {
            "cells": {
             "fill": {
              "color": "#EBF0F8"
             },
             "line": {
              "color": "white"
             }
            },
            "header": {
             "fill": {
              "color": "#C8D4E3"
             },
             "line": {
              "color": "white"
             }
            },
            "type": "table"
           }
          ]
         },
         "layout": {
          "annotationdefaults": {
           "arrowcolor": "#2a3f5f",
           "arrowhead": 0,
           "arrowwidth": 1
          },
          "autotypenumbers": "strict",
          "coloraxis": {
           "colorbar": {
            "outlinewidth": 0,
            "ticks": ""
           }
          },
          "colorscale": {
           "diverging": [
            [
             0,
             "#8e0152"
            ],
            [
             0.1,
             "#c51b7d"
            ],
            [
             0.2,
             "#de77ae"
            ],
            [
             0.3,
             "#f1b6da"
            ],
            [
             0.4,
             "#fde0ef"
            ],
            [
             0.5,
             "#f7f7f7"
            ],
            [
             0.6,
             "#e6f5d0"
            ],
            [
             0.7,
             "#b8e186"
            ],
            [
             0.8,
             "#7fbc41"
            ],
            [
             0.9,
             "#4d9221"
            ],
            [
             1,
             "#276419"
            ]
           ],
           "sequential": [
            [
             0,
             "#0d0887"
            ],
            [
             0.1111111111111111,
             "#46039f"
            ],
            [
             0.2222222222222222,
             "#7201a8"
            ],
            [
             0.3333333333333333,
             "#9c179e"
            ],
            [
             0.4444444444444444,
             "#bd3786"
            ],
            [
             0.5555555555555556,
             "#d8576b"
            ],
            [
             0.6666666666666666,
             "#ed7953"
            ],
            [
             0.7777777777777778,
             "#fb9f3a"
            ],
            [
             0.8888888888888888,
             "#fdca26"
            ],
            [
             1,
             "#f0f921"
            ]
           ],
           "sequentialminus": [
            [
             0,
             "#0d0887"
            ],
            [
             0.1111111111111111,
             "#46039f"
            ],
            [
             0.2222222222222222,
             "#7201a8"
            ],
            [
             0.3333333333333333,
             "#9c179e"
            ],
            [
             0.4444444444444444,
             "#bd3786"
            ],
            [
             0.5555555555555556,
             "#d8576b"
            ],
            [
             0.6666666666666666,
             "#ed7953"
            ],
            [
             0.7777777777777778,
             "#fb9f3a"
            ],
            [
             0.8888888888888888,
             "#fdca26"
            ],
            [
             1,
             "#f0f921"
            ]
           ]
          },
          "colorway": [
           "#636efa",
           "#EF553B",
           "#00cc96",
           "#ab63fa",
           "#FFA15A",
           "#19d3f3",
           "#FF6692",
           "#B6E880",
           "#FF97FF",
           "#FECB52"
          ],
          "font": {
           "color": "#2a3f5f"
          },
          "geo": {
           "bgcolor": "white",
           "lakecolor": "white",
           "landcolor": "#E5ECF6",
           "showlakes": true,
           "showland": true,
           "subunitcolor": "white"
          },
          "hoverlabel": {
           "align": "left"
          },
          "hovermode": "closest",
          "mapbox": {
           "style": "light"
          },
          "paper_bgcolor": "white",
          "plot_bgcolor": "#E5ECF6",
          "polar": {
           "angularaxis": {
            "gridcolor": "white",
            "linecolor": "white",
            "ticks": ""
           },
           "bgcolor": "#E5ECF6",
           "radialaxis": {
            "gridcolor": "white",
            "linecolor": "white",
            "ticks": ""
           }
          },
          "scene": {
           "xaxis": {
            "backgroundcolor": "#E5ECF6",
            "gridcolor": "white",
            "gridwidth": 2,
            "linecolor": "white",
            "showbackground": true,
            "ticks": "",
            "zerolinecolor": "white"
           },
           "yaxis": {
            "backgroundcolor": "#E5ECF6",
            "gridcolor": "white",
            "gridwidth": 2,
            "linecolor": "white",
            "showbackground": true,
            "ticks": "",
            "zerolinecolor": "white"
           },
           "zaxis": {
            "backgroundcolor": "#E5ECF6",
            "gridcolor": "white",
            "gridwidth": 2,
            "linecolor": "white",
            "showbackground": true,
            "ticks": "",
            "zerolinecolor": "white"
           }
          },
          "shapedefaults": {
           "line": {
            "color": "#2a3f5f"
           }
          },
          "ternary": {
           "aaxis": {
            "gridcolor": "white",
            "linecolor": "white",
            "ticks": ""
           },
           "baxis": {
            "gridcolor": "white",
            "linecolor": "white",
            "ticks": ""
           },
           "bgcolor": "#E5ECF6",
           "caxis": {
            "gridcolor": "white",
            "linecolor": "white",
            "ticks": ""
           }
          },
          "title": {
           "x": 0.05
          },
          "xaxis": {
           "automargin": true,
           "gridcolor": "white",
           "linecolor": "white",
           "ticks": "",
           "title": {
            "standoff": 15
           },
           "zerolinecolor": "white",
           "zerolinewidth": 2
          },
          "yaxis": {
           "automargin": true,
           "gridcolor": "white",
           "linecolor": "white",
           "ticks": "",
           "title": {
            "standoff": 15
           },
           "zerolinecolor": "white",
           "zerolinewidth": 2
          }
         }
        },
        "title": {
         "text": "Comparação de Vendas com e sem Promoção"
        },
        "width": 800,
        "xaxis": {
         "anchor": "y",
         "categoryarray": [
          "Com Promoção",
          "Sem Promoção"
         ],
         "categoryorder": "array",
         "domain": [
          0,
          1
         ],
         "title": {
          "text": "Tipo de Venda"
         }
        },
        "yaxis": {
         "anchor": "x",
         "domain": [
          0,
          1
         ],
         "title": {
          "text": "Número de Vendas"
         }
        }
       }
      }
     },
     "metadata": {},
     "output_type": "display_data"
    }
   ],
   "source": [
    "# Calculate the number of sales with and without promotions\n",
    "sales_with_promotion = vendas[vendas.IDENTIFICADOR_PROMOCIONAL.notnull()].shape[0]\n",
    "sales_without_promotion = vendas[vendas.IDENTIFICADOR_PROMOCIONAL.isnull()].shape[0]\n",
    "\n",
    "# Create a DataFrame for plotting\n",
    "promotion_data = pd.DataFrame({\n",
    "    'Tipo de Venda': ['Com Promoção', 'Sem Promoção'],\n",
    "    'Número de Vendas': [sales_with_promotion, sales_without_promotion]\n",
    "})\n",
    "\n",
    "# Plot using Plotly Express\n",
    "fig = px.bar(promotion_data, x='Tipo de Venda', y='Número de Vendas',\n",
    "             title='Comparação de Vendas com e sem Promoção',\n",
    "             labels={'Tipo de Venda': 'Tipo de Venda', 'Número de Vendas': 'Número de Vendas'},\n",
    "             color='Tipo de Venda',\n",
    "             color_discrete_sequence=px.colors.qualitative.Set2)\n",
    "\n",
    "# Customize layout\n",
    "fig.update_layout(xaxis_title='Tipo de Venda', yaxis_title='Número de Vendas', width=800, height=600)\n",
    "\n",
    "# Show the plot\n",
    "fig.show()"
   ]
  },
  {
   "cell_type": "markdown",
   "metadata": {},
   "source": [
    "## Prices and Discounts Analysis"
   ]
  },
  {
   "cell_type": "code",
   "execution_count": 21,
   "metadata": {},
   "outputs": [
    {
     "name": "stdout",
     "output_type": "stream",
     "text": [
      "Average Sale Price: R$27.54\n",
      "Average Discount Price: R$7.05\n",
      "Average Number of Items Bought: 1.20 items\n"
     ]
    }
   ],
   "source": [
    "# Calculate the average sale price\n",
    "average_sale_price = vendas['TOTAL_LIQUIDO'].mean()\n",
    "average_discount_price = vendas['TOTAL_DESCONTO'].mean()\n",
    "average_items_bought = vendas['UNIDADES'].mean()\n",
    "\n",
    "# Display the result\n",
    "print(f\"Average Sale Price: R${average_sale_price:.2f}\")\n",
    "print(f\"Average Discount Price: R${average_discount_price:.2f}\")\n",
    "print(f\"Average Number of Items Bought: {average_items_bought:.2f} items\")\n"
   ]
  }
 ],
 "metadata": {
  "kernelspec": {
   "display_name": "pcd3",
   "language": "python",
   "name": "python3"
  },
  "language_info": {
   "codemirror_mode": {
    "name": "ipython",
    "version": 3
   },
   "file_extension": ".py",
   "mimetype": "text/x-python",
   "name": "python",
   "nbconvert_exporter": "python",
   "pygments_lexer": "ipython3",
   "version": "3.12.5"
  }
 },
 "nbformat": 4,
 "nbformat_minor": 2
}
