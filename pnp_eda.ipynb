{
 "cells": [
  {
   "cell_type": "code",
   "execution_count": 1,
   "metadata": {},
   "outputs": [],
   "source": [
    "import pandas as pd\n",
    "import plotly.express as px\n",
    "\n"
   ]
  },
  {
   "cell_type": "code",
   "execution_count": 2,
   "metadata": {},
   "outputs": [
    {
     "name": "stderr",
     "output_type": "stream",
     "text": [
      "/tmp/ipykernel_4118731/3456551151.py:1: DtypeWarning: Columns (4) have mixed types. Specify dtype option on import or set low_memory=False.\n",
      "  df = pd.read_csv(\"selling_data.csv\")\n"
     ]
    }
   ],
   "source": [
    "df = pd.read_csv(\"selling_data.csv\")"
   ]
  },
  {
   "cell_type": "code",
   "execution_count": 3,
   "metadata": {},
   "outputs": [
    {
     "data": {
      "text/html": [
       "<div>\n",
       "<style scoped>\n",
       "    .dataframe tbody tr th:only-of-type {\n",
       "        vertical-align: middle;\n",
       "    }\n",
       "\n",
       "    .dataframe tbody tr th {\n",
       "        vertical-align: top;\n",
       "    }\n",
       "\n",
       "    .dataframe thead th {\n",
       "        text-align: right;\n",
       "    }\n",
       "</style>\n",
       "<table border=\"1\" class=\"dataframe\">\n",
       "  <thead>\n",
       "    <tr style=\"text-align: right;\">\n",
       "      <th></th>\n",
       "      <th>COD_CUPOM</th>\n",
       "      <th>COD_CLIENTE</th>\n",
       "      <th>CLIENTE_FISICO_JURIDICO</th>\n",
       "      <th>SEXO_CLIENTE</th>\n",
       "      <th>DTNASCIMENTO_CLIENTE</th>\n",
       "      <th>COD_SKU</th>\n",
       "      <th>SKU</th>\n",
       "      <th>CATEGORIA_SKU</th>\n",
       "      <th>SUBCATEGORIA_SKU</th>\n",
       "      <th>COD_LOJA</th>\n",
       "      <th>UF_CIDADE</th>\n",
       "      <th>COD_CIDADE</th>\n",
       "      <th>NOME_CIDADE</th>\n",
       "      <th>DATA_CUPOM</th>\n",
       "      <th>UNIDADES</th>\n",
       "      <th>IDENTIFICADOR_PROMOCIONAL</th>\n",
       "      <th>PRECO_REGULAR</th>\n",
       "      <th>TOTAL_DESCONTO</th>\n",
       "      <th>TOTAL_BRUTO</th>\n",
       "      <th>TOTAL_LIQUIDO</th>\n",
       "    </tr>\n",
       "  </thead>\n",
       "  <tbody>\n",
       "    <tr>\n",
       "      <th>0</th>\n",
       "      <td>276578</td>\n",
       "      <td>22216869.0</td>\n",
       "      <td>Pessoa Física</td>\n",
       "      <td>F</td>\n",
       "      <td>1984-09-29</td>\n",
       "      <td>10034069</td>\n",
       "      <td>EPISOL SMART FACIAL COLOR FPS50 40ML</td>\n",
       "      <td>DERMO-COSMETICOS</td>\n",
       "      <td>DERMO-COSMETICOS</td>\n",
       "      <td>1150</td>\n",
       "      <td>RS</td>\n",
       "      <td>80400</td>\n",
       "      <td>PORTO ALEGRE</td>\n",
       "      <td>2024-06-13 18:00:52.850</td>\n",
       "      <td>1.0</td>\n",
       "      <td>100335828.0</td>\n",
       "      <td>94.90</td>\n",
       "      <td>20.00</td>\n",
       "      <td>94.90</td>\n",
       "      <td>74.90</td>\n",
       "    </tr>\n",
       "    <tr>\n",
       "      <th>1</th>\n",
       "      <td>276578</td>\n",
       "      <td>22216869.0</td>\n",
       "      <td>Pessoa Física</td>\n",
       "      <td>F</td>\n",
       "      <td>1984-09-29</td>\n",
       "      <td>10029566</td>\n",
       "      <td>DICLOF SODICO 50MG 20CP GEN BELFAR</td>\n",
       "      <td>MEDICAMENTOS</td>\n",
       "      <td>GENERICOS</td>\n",
       "      <td>1150</td>\n",
       "      <td>RS</td>\n",
       "      <td>80400</td>\n",
       "      <td>PORTO ALEGRE</td>\n",
       "      <td>2024-06-13 18:00:52.850</td>\n",
       "      <td>1.0</td>\n",
       "      <td>100327146.0</td>\n",
       "      <td>31.63</td>\n",
       "      <td>16.73</td>\n",
       "      <td>31.63</td>\n",
       "      <td>14.90</td>\n",
       "    </tr>\n",
       "    <tr>\n",
       "      <th>2</th>\n",
       "      <td>710651</td>\n",
       "      <td>22216870.0</td>\n",
       "      <td>Pessoa Física</td>\n",
       "      <td>F</td>\n",
       "      <td>1971-01-23</td>\n",
       "      <td>10090254</td>\n",
       "      <td>HIDROCLOROTIAZIDA 25</td>\n",
       "      <td>MEDICAMENTOS</td>\n",
       "      <td>GENERICOS</td>\n",
       "      <td>500</td>\n",
       "      <td>RS</td>\n",
       "      <td>80400</td>\n",
       "      <td>PORTO ALEGRE</td>\n",
       "      <td>2024-05-06 19:08:58.258</td>\n",
       "      <td>1.0</td>\n",
       "      <td>NaN</td>\n",
       "      <td>9.48</td>\n",
       "      <td>0.00</td>\n",
       "      <td>9.48</td>\n",
       "      <td>9.48</td>\n",
       "    </tr>\n",
       "    <tr>\n",
       "      <th>3</th>\n",
       "      <td>727805</td>\n",
       "      <td>22216870.0</td>\n",
       "      <td>Pessoa Física</td>\n",
       "      <td>F</td>\n",
       "      <td>1971-01-23</td>\n",
       "      <td>10101757</td>\n",
       "      <td>TORANTE 100ML XPE MOMENTA</td>\n",
       "      <td>MEDICAMENTOS</td>\n",
       "      <td>REFERENCIA ONEROSOS</td>\n",
       "      <td>500</td>\n",
       "      <td>RS</td>\n",
       "      <td>80400</td>\n",
       "      <td>PORTO ALEGRE</td>\n",
       "      <td>2024-06-30 09:38:39.377</td>\n",
       "      <td>1.0</td>\n",
       "      <td>NaN</td>\n",
       "      <td>61.51</td>\n",
       "      <td>7.38</td>\n",
       "      <td>61.51</td>\n",
       "      <td>54.13</td>\n",
       "    </tr>\n",
       "    <tr>\n",
       "      <th>4</th>\n",
       "      <td>682109</td>\n",
       "      <td>22216870.0</td>\n",
       "      <td>Pessoa Física</td>\n",
       "      <td>F</td>\n",
       "      <td>1971-01-23</td>\n",
       "      <td>12352</td>\n",
       "      <td>CETOCONAZOL CR 30G G</td>\n",
       "      <td>MEDICAMENTOS</td>\n",
       "      <td>GENERICOS OTC/MIP</td>\n",
       "      <td>500</td>\n",
       "      <td>RS</td>\n",
       "      <td>80400</td>\n",
       "      <td>PORTO ALEGRE</td>\n",
       "      <td>2024-01-04 19:41:55.000</td>\n",
       "      <td>1.0</td>\n",
       "      <td>100268022.0</td>\n",
       "      <td>27.75</td>\n",
       "      <td>13.46</td>\n",
       "      <td>27.75</td>\n",
       "      <td>14.29</td>\n",
       "    </tr>\n",
       "  </tbody>\n",
       "</table>\n",
       "</div>"
      ],
      "text/plain": [
       "   COD_CUPOM  COD_CLIENTE CLIENTE_FISICO_JURIDICO SEXO_CLIENTE  \\\n",
       "0     276578   22216869.0           Pessoa Física            F   \n",
       "1     276578   22216869.0           Pessoa Física            F   \n",
       "2     710651   22216870.0           Pessoa Física            F   \n",
       "3     727805   22216870.0           Pessoa Física            F   \n",
       "4     682109   22216870.0           Pessoa Física            F   \n",
       "\n",
       "  DTNASCIMENTO_CLIENTE   COD_SKU                                   SKU  \\\n",
       "0           1984-09-29  10034069  EPISOL SMART FACIAL COLOR FPS50 40ML   \n",
       "1           1984-09-29  10029566    DICLOF SODICO 50MG 20CP GEN BELFAR   \n",
       "2           1971-01-23  10090254                  HIDROCLOROTIAZIDA 25   \n",
       "3           1971-01-23  10101757             TORANTE 100ML XPE MOMENTA   \n",
       "4           1971-01-23     12352                  CETOCONAZOL CR 30G G   \n",
       "\n",
       "      CATEGORIA_SKU     SUBCATEGORIA_SKU  COD_LOJA UF_CIDADE  COD_CIDADE  \\\n",
       "0  DERMO-COSMETICOS     DERMO-COSMETICOS      1150        RS       80400   \n",
       "1      MEDICAMENTOS            GENERICOS      1150        RS       80400   \n",
       "2      MEDICAMENTOS            GENERICOS       500        RS       80400   \n",
       "3      MEDICAMENTOS  REFERENCIA ONEROSOS       500        RS       80400   \n",
       "4      MEDICAMENTOS    GENERICOS OTC/MIP       500        RS       80400   \n",
       "\n",
       "    NOME_CIDADE               DATA_CUPOM  UNIDADES  IDENTIFICADOR_PROMOCIONAL  \\\n",
       "0  PORTO ALEGRE  2024-06-13 18:00:52.850       1.0                100335828.0   \n",
       "1  PORTO ALEGRE  2024-06-13 18:00:52.850       1.0                100327146.0   \n",
       "2  PORTO ALEGRE  2024-05-06 19:08:58.258       1.0                        NaN   \n",
       "3  PORTO ALEGRE  2024-06-30 09:38:39.377       1.0                        NaN   \n",
       "4  PORTO ALEGRE  2024-01-04 19:41:55.000       1.0                100268022.0   \n",
       "\n",
       "   PRECO_REGULAR  TOTAL_DESCONTO  TOTAL_BRUTO  TOTAL_LIQUIDO  \n",
       "0          94.90           20.00        94.90          74.90  \n",
       "1          31.63           16.73        31.63          14.90  \n",
       "2           9.48            0.00         9.48           9.48  \n",
       "3          61.51            7.38        61.51          54.13  \n",
       "4          27.75           13.46        27.75          14.29  "
      ]
     },
     "execution_count": 3,
     "metadata": {},
     "output_type": "execute_result"
    }
   ],
   "source": [
    "df.head()"
   ]
  },
  {
   "cell_type": "code",
   "execution_count": 4,
   "metadata": {},
   "outputs": [
    {
     "data": {
      "text/plain": [
       "(9271036, 20)"
      ]
     },
     "execution_count": 4,
     "metadata": {},
     "output_type": "execute_result"
    }
   ],
   "source": [
    "# dims\n",
    "df.shape"
   ]
  },
  {
   "cell_type": "markdown",
   "metadata": {},
   "source": [
    "# EDA"
   ]
  },
  {
   "cell_type": "code",
   "execution_count": 5,
   "metadata": {},
   "outputs": [
    {
     "name": "stdout",
     "output_type": "stream",
     "text": [
      "COD_CUPOM                          0\n",
      "COD_CLIENTE                      178\n",
      "CLIENTE_FISICO_JURIDICO        10051\n",
      "SEXO_CLIENTE                  103541\n",
      "DTNASCIMENTO_CLIENTE         1078012\n",
      "COD_SKU                            0\n",
      "SKU                                0\n",
      "CATEGORIA_SKU                      0\n",
      "SUBCATEGORIA_SKU                   0\n",
      "COD_LOJA                           0\n",
      "UF_CIDADE                          0\n",
      "COD_CIDADE                         0\n",
      "NOME_CIDADE                        0\n",
      "DATA_CUPOM                         0\n",
      "UNIDADES                           0\n",
      "IDENTIFICADOR_PROMOCIONAL    6735816\n",
      "PRECO_REGULAR                      0\n",
      "TOTAL_DESCONTO                    73\n",
      "TOTAL_BRUTO                        0\n",
      "TOTAL_LIQUIDO                      0\n",
      "dtype: int64\n"
     ]
    }
   ],
   "source": [
    "missing_values = df.isnull().sum()\n",
    "print(missing_values)"
   ]
  },
  {
   "cell_type": "code",
   "execution_count": 6,
   "metadata": {},
   "outputs": [
    {
     "data": {
      "text/plain": [
       "IDENTIFICADOR_PROMOCIONAL\n",
       "100283029.0    85478\n",
       "100327108.0    16014\n",
       "100276819.0    14616\n",
       "100325937.0    13452\n",
       "100325830.0    13228\n",
       "               ...  \n",
       "100285868.0        1\n",
       "100283524.0        1\n",
       "100343081.0        1\n",
       "100321818.0        1\n",
       "100301074.0        1\n",
       "Name: count, Length: 30250, dtype: int64"
      ]
     },
     "execution_count": 6,
     "metadata": {},
     "output_type": "execute_result"
    }
   ],
   "source": [
    "# Distinc values in Identificador promocional\n",
    "df['IDENTIFICADOR_PROMOCIONAL'].value_counts()"
   ]
  },
  {
   "cell_type": "code",
   "execution_count": 7,
   "metadata": {},
   "outputs": [
    {
     "data": {
      "text/plain": [
       "0     100335828.0\n",
       "1     100327146.0\n",
       "2             NaN\n",
       "3             NaN\n",
       "4     100268022.0\n",
       "5             NaN\n",
       "6     100273565.0\n",
       "7             NaN\n",
       "8             NaN\n",
       "9             NaN\n",
       "10            NaN\n",
       "11            NaN\n",
       "12            NaN\n",
       "13            NaN\n",
       "14            NaN\n",
       "15            NaN\n",
       "16            NaN\n",
       "17    100291299.0\n",
       "18            NaN\n",
       "19            NaN\n",
       "Name: IDENTIFICADOR_PROMOCIONAL, dtype: float64"
      ]
     },
     "execution_count": 7,
     "metadata": {},
     "output_type": "execute_result"
    }
   ],
   "source": [
    "df['IDENTIFICADOR_PROMOCIONAL'].head(20)"
   ]
  },
  {
   "cell_type": "markdown",
   "metadata": {},
   "source": [
    "# Missing data does not seems relevent\n",
    "\n",
    "PROMOCIONAL: It seems that the null is just when we dont have a promotion, so we can fill with 0\n",
    "\n",
    "CLIENT INFORMATION: It can be a problem if we go to a client focus strategy, but for now we can just ignore it"
   ]
  },
  {
   "cell_type": "code",
   "execution_count": null,
   "metadata": {},
   "outputs": [],
   "source": []
  },
  {
   "cell_type": "code",
   "execution_count": 8,
   "metadata": {},
   "outputs": [
    {
     "data": {
      "text/html": [
       "<div>\n",
       "<style scoped>\n",
       "    .dataframe tbody tr th:only-of-type {\n",
       "        vertical-align: middle;\n",
       "    }\n",
       "\n",
       "    .dataframe tbody tr th {\n",
       "        vertical-align: top;\n",
       "    }\n",
       "\n",
       "    .dataframe thead th {\n",
       "        text-align: right;\n",
       "    }\n",
       "</style>\n",
       "<table border=\"1\" class=\"dataframe\">\n",
       "  <thead>\n",
       "    <tr style=\"text-align: right;\">\n",
       "      <th></th>\n",
       "      <th>CLIENTE_FISICO_JURIDICO</th>\n",
       "      <th>SEXO_CLIENTE</th>\n",
       "      <th>DTNASCIMENTO_CLIENTE</th>\n",
       "      <th>SKU</th>\n",
       "      <th>CATEGORIA_SKU</th>\n",
       "      <th>SUBCATEGORIA_SKU</th>\n",
       "      <th>UF_CIDADE</th>\n",
       "      <th>NOME_CIDADE</th>\n",
       "      <th>DATA_CUPOM</th>\n",
       "    </tr>\n",
       "  </thead>\n",
       "  <tbody>\n",
       "    <tr>\n",
       "      <th>count</th>\n",
       "      <td>9260985</td>\n",
       "      <td>9167495</td>\n",
       "      <td>8193024</td>\n",
       "      <td>9271036</td>\n",
       "      <td>9271036</td>\n",
       "      <td>9271036</td>\n",
       "      <td>9271036</td>\n",
       "      <td>9271036</td>\n",
       "      <td>9271036</td>\n",
       "    </tr>\n",
       "    <tr>\n",
       "      <th>unique</th>\n",
       "      <td>2</td>\n",
       "      <td>2</td>\n",
       "      <td>31009</td>\n",
       "      <td>18151</td>\n",
       "      <td>9</td>\n",
       "      <td>80</td>\n",
       "      <td>1</td>\n",
       "      <td>1</td>\n",
       "      <td>3751875</td>\n",
       "    </tr>\n",
       "    <tr>\n",
       "      <th>top</th>\n",
       "      <td>Pessoa Física</td>\n",
       "      <td>M</td>\n",
       "      <td>1980-01-01</td>\n",
       "      <td>PAPEL HIG LOUVRE FOLHA DUPLA 20M 12UN NE</td>\n",
       "      <td>MEDICAMENTOS</td>\n",
       "      <td>PERFUMARIA</td>\n",
       "      <td>RS</td>\n",
       "      <td>PORTO ALEGRE</td>\n",
       "      <td>2024-05-11 09:13:57.701</td>\n",
       "    </tr>\n",
       "    <tr>\n",
       "      <th>freq</th>\n",
       "      <td>9247286</td>\n",
       "      <td>4839845</td>\n",
       "      <td>86798</td>\n",
       "      <td>80657</td>\n",
       "      <td>4247151</td>\n",
       "      <td>2488231</td>\n",
       "      <td>9271036</td>\n",
       "      <td>9271036</td>\n",
       "      <td>125</td>\n",
       "    </tr>\n",
       "  </tbody>\n",
       "</table>\n",
       "</div>"
      ],
      "text/plain": [
       "       CLIENTE_FISICO_JURIDICO SEXO_CLIENTE DTNASCIMENTO_CLIENTE  \\\n",
       "count                  9260985      9167495              8193024   \n",
       "unique                       2            2                31009   \n",
       "top              Pessoa Física            M           1980-01-01   \n",
       "freq                   9247286      4839845                86798   \n",
       "\n",
       "                                             SKU CATEGORIA_SKU  \\\n",
       "count                                    9271036       9271036   \n",
       "unique                                     18151             9   \n",
       "top     PAPEL HIG LOUVRE FOLHA DUPLA 20M 12UN NE  MEDICAMENTOS   \n",
       "freq                                       80657       4247151   \n",
       "\n",
       "       SUBCATEGORIA_SKU UF_CIDADE   NOME_CIDADE               DATA_CUPOM  \n",
       "count           9271036   9271036       9271036                  9271036  \n",
       "unique               80         1             1                  3751875  \n",
       "top          PERFUMARIA        RS  PORTO ALEGRE  2024-05-11 09:13:57.701  \n",
       "freq            2488231   9271036       9271036                      125  "
      ]
     },
     "execution_count": 8,
     "metadata": {},
     "output_type": "execute_result"
    }
   ],
   "source": [
    "categorical_distribution = df.describe(include='object')\n",
    "categorical_distribution"
   ]
  },
  {
   "cell_type": "code",
   "execution_count": 9,
   "metadata": {},
   "outputs": [
    {
     "data": {
      "text/plain": [
       "np.int64(364584)"
      ]
     },
     "execution_count": 9,
     "metadata": {},
     "output_type": "execute_result"
    }
   ],
   "source": [
    "# The code to get the number of fully duplicated rows\n",
    "num_full_duplicates = df.duplicated().sum()\n",
    "num_full_duplicates"
   ]
  },
  {
   "cell_type": "code",
   "execution_count": 10,
   "metadata": {},
   "outputs": [
    {
     "data": {
      "text/html": [
       "<div>\n",
       "<style scoped>\n",
       "    .dataframe tbody tr th:only-of-type {\n",
       "        vertical-align: middle;\n",
       "    }\n",
       "\n",
       "    .dataframe tbody tr th {\n",
       "        vertical-align: top;\n",
       "    }\n",
       "\n",
       "    .dataframe thead th {\n",
       "        text-align: right;\n",
       "    }\n",
       "</style>\n",
       "<table border=\"1\" class=\"dataframe\">\n",
       "  <thead>\n",
       "    <tr style=\"text-align: right;\">\n",
       "      <th></th>\n",
       "      <th>COD_CUPOM</th>\n",
       "      <th>COD_CLIENTE</th>\n",
       "      <th>CLIENTE_FISICO_JURIDICO</th>\n",
       "      <th>SEXO_CLIENTE</th>\n",
       "      <th>DTNASCIMENTO_CLIENTE</th>\n",
       "      <th>COD_SKU</th>\n",
       "      <th>SKU</th>\n",
       "      <th>CATEGORIA_SKU</th>\n",
       "      <th>SUBCATEGORIA_SKU</th>\n",
       "      <th>COD_LOJA</th>\n",
       "      <th>UF_CIDADE</th>\n",
       "      <th>COD_CIDADE</th>\n",
       "      <th>NOME_CIDADE</th>\n",
       "      <th>DATA_CUPOM</th>\n",
       "      <th>UNIDADES</th>\n",
       "      <th>IDENTIFICADOR_PROMOCIONAL</th>\n",
       "      <th>PRECO_REGULAR</th>\n",
       "      <th>TOTAL_DESCONTO</th>\n",
       "      <th>TOTAL_BRUTO</th>\n",
       "      <th>TOTAL_LIQUIDO</th>\n",
       "    </tr>\n",
       "  </thead>\n",
       "  <tbody>\n",
       "    <tr>\n",
       "      <th>28</th>\n",
       "      <td>722036</td>\n",
       "      <td>22216875.0</td>\n",
       "      <td>Pessoa Física</td>\n",
       "      <td>M</td>\n",
       "      <td>1985-12-27</td>\n",
       "      <td>10028435</td>\n",
       "      <td>TORTUGUITA 15,5G BRIGADEIRO</td>\n",
       "      <td>CONVENIENCIA</td>\n",
       "      <td>CONVENIENCIA PERECIVEIS</td>\n",
       "      <td>551</td>\n",
       "      <td>RS</td>\n",
       "      <td>80400</td>\n",
       "      <td>PORTO ALEGRE</td>\n",
       "      <td>2024-04-26 19:45:52.114</td>\n",
       "      <td>1.0</td>\n",
       "      <td>NaN</td>\n",
       "      <td>1.99</td>\n",
       "      <td>0.00</td>\n",
       "      <td>1.99</td>\n",
       "      <td>1.99</td>\n",
       "    </tr>\n",
       "    <tr>\n",
       "      <th>29</th>\n",
       "      <td>722036</td>\n",
       "      <td>22216875.0</td>\n",
       "      <td>Pessoa Física</td>\n",
       "      <td>M</td>\n",
       "      <td>1985-12-27</td>\n",
       "      <td>10028435</td>\n",
       "      <td>TORTUGUITA 15,5G BRIGADEIRO</td>\n",
       "      <td>CONVENIENCIA</td>\n",
       "      <td>CONVENIENCIA PERECIVEIS</td>\n",
       "      <td>551</td>\n",
       "      <td>RS</td>\n",
       "      <td>80400</td>\n",
       "      <td>PORTO ALEGRE</td>\n",
       "      <td>2024-04-26 19:45:52.114</td>\n",
       "      <td>1.0</td>\n",
       "      <td>NaN</td>\n",
       "      <td>1.99</td>\n",
       "      <td>0.00</td>\n",
       "      <td>1.99</td>\n",
       "      <td>1.99</td>\n",
       "    </tr>\n",
       "    <tr>\n",
       "      <th>32</th>\n",
       "      <td>722036</td>\n",
       "      <td>22216875.0</td>\n",
       "      <td>Pessoa Física</td>\n",
       "      <td>M</td>\n",
       "      <td>1985-12-27</td>\n",
       "      <td>10021117</td>\n",
       "      <td>NUTELLA B-READY 22G</td>\n",
       "      <td>CONVENIENCIA</td>\n",
       "      <td>CONVENIENCIA PERECIVEIS</td>\n",
       "      <td>551</td>\n",
       "      <td>RS</td>\n",
       "      <td>80400</td>\n",
       "      <td>PORTO ALEGRE</td>\n",
       "      <td>2024-04-26 19:45:52.114</td>\n",
       "      <td>1.0</td>\n",
       "      <td>NaN</td>\n",
       "      <td>5.69</td>\n",
       "      <td>0.00</td>\n",
       "      <td>5.69</td>\n",
       "      <td>5.69</td>\n",
       "    </tr>\n",
       "    <tr>\n",
       "      <th>33</th>\n",
       "      <td>722036</td>\n",
       "      <td>22216875.0</td>\n",
       "      <td>Pessoa Física</td>\n",
       "      <td>M</td>\n",
       "      <td>1985-12-27</td>\n",
       "      <td>10021117</td>\n",
       "      <td>NUTELLA B-READY 22G</td>\n",
       "      <td>CONVENIENCIA</td>\n",
       "      <td>CONVENIENCIA PERECIVEIS</td>\n",
       "      <td>551</td>\n",
       "      <td>RS</td>\n",
       "      <td>80400</td>\n",
       "      <td>PORTO ALEGRE</td>\n",
       "      <td>2024-04-26 19:45:52.114</td>\n",
       "      <td>1.0</td>\n",
       "      <td>NaN</td>\n",
       "      <td>5.69</td>\n",
       "      <td>0.00</td>\n",
       "      <td>5.69</td>\n",
       "      <td>5.69</td>\n",
       "    </tr>\n",
       "    <tr>\n",
       "      <th>34</th>\n",
       "      <td>722036</td>\n",
       "      <td>22216875.0</td>\n",
       "      <td>Pessoa Física</td>\n",
       "      <td>M</td>\n",
       "      <td>1985-12-27</td>\n",
       "      <td>10021117</td>\n",
       "      <td>NUTELLA B-READY 22G</td>\n",
       "      <td>CONVENIENCIA</td>\n",
       "      <td>CONVENIENCIA PERECIVEIS</td>\n",
       "      <td>551</td>\n",
       "      <td>RS</td>\n",
       "      <td>80400</td>\n",
       "      <td>PORTO ALEGRE</td>\n",
       "      <td>2024-04-26 19:45:52.114</td>\n",
       "      <td>1.0</td>\n",
       "      <td>NaN</td>\n",
       "      <td>5.69</td>\n",
       "      <td>0.00</td>\n",
       "      <td>5.69</td>\n",
       "      <td>5.69</td>\n",
       "    </tr>\n",
       "    <tr>\n",
       "      <th>...</th>\n",
       "      <td>...</td>\n",
       "      <td>...</td>\n",
       "      <td>...</td>\n",
       "      <td>...</td>\n",
       "      <td>...</td>\n",
       "      <td>...</td>\n",
       "      <td>...</td>\n",
       "      <td>...</td>\n",
       "      <td>...</td>\n",
       "      <td>...</td>\n",
       "      <td>...</td>\n",
       "      <td>...</td>\n",
       "      <td>...</td>\n",
       "      <td>...</td>\n",
       "      <td>...</td>\n",
       "      <td>...</td>\n",
       "      <td>...</td>\n",
       "      <td>...</td>\n",
       "      <td>...</td>\n",
       "      <td>...</td>\n",
       "    </tr>\n",
       "    <tr>\n",
       "      <th>9270593</th>\n",
       "      <td>767641</td>\n",
       "      <td>39315200.0</td>\n",
       "      <td>Pessoa Física</td>\n",
       "      <td>F</td>\n",
       "      <td>1998-03-03</td>\n",
       "      <td>10035174</td>\n",
       "      <td>PROT LAB CARMED 10G BEIJOS FINI</td>\n",
       "      <td>PERFUMARIA</td>\n",
       "      <td>PERFUMARIA</td>\n",
       "      <td>596</td>\n",
       "      <td>RS</td>\n",
       "      <td>80400</td>\n",
       "      <td>PORTO ALEGRE</td>\n",
       "      <td>2024-03-01 19:28:31.000</td>\n",
       "      <td>1.0</td>\n",
       "      <td>100296253.0</td>\n",
       "      <td>29.90</td>\n",
       "      <td>0.01</td>\n",
       "      <td>29.90</td>\n",
       "      <td>29.89</td>\n",
       "    </tr>\n",
       "    <tr>\n",
       "      <th>9270594</th>\n",
       "      <td>767641</td>\n",
       "      <td>39315200.0</td>\n",
       "      <td>Pessoa Física</td>\n",
       "      <td>F</td>\n",
       "      <td>1998-03-03</td>\n",
       "      <td>10035174</td>\n",
       "      <td>PROT LAB CARMED 10G BEIJOS FINI</td>\n",
       "      <td>PERFUMARIA</td>\n",
       "      <td>PERFUMARIA</td>\n",
       "      <td>596</td>\n",
       "      <td>RS</td>\n",
       "      <td>80400</td>\n",
       "      <td>PORTO ALEGRE</td>\n",
       "      <td>2024-03-01 19:28:31.000</td>\n",
       "      <td>1.0</td>\n",
       "      <td>100296253.0</td>\n",
       "      <td>29.90</td>\n",
       "      <td>29.89</td>\n",
       "      <td>29.90</td>\n",
       "      <td>0.01</td>\n",
       "    </tr>\n",
       "    <tr>\n",
       "      <th>9270973</th>\n",
       "      <td>44324</td>\n",
       "      <td>39336897.0</td>\n",
       "      <td>Pessoa Física</td>\n",
       "      <td>M</td>\n",
       "      <td>1999-03-11</td>\n",
       "      <td>11035</td>\n",
       "      <td>DES REXONA AERO 150ML MEN ACTIVE</td>\n",
       "      <td>PERFUMARIA</td>\n",
       "      <td>PERFUMARIA</td>\n",
       "      <td>1349</td>\n",
       "      <td>RS</td>\n",
       "      <td>80400</td>\n",
       "      <td>PORTO ALEGRE</td>\n",
       "      <td>2024-02-06 21:36:18.000</td>\n",
       "      <td>1.0</td>\n",
       "      <td>100285551.0</td>\n",
       "      <td>17.49</td>\n",
       "      <td>4.59</td>\n",
       "      <td>17.49</td>\n",
       "      <td>12.90</td>\n",
       "    </tr>\n",
       "    <tr>\n",
       "      <th>9270981</th>\n",
       "      <td>40718</td>\n",
       "      <td>39336897.0</td>\n",
       "      <td>Pessoa Física</td>\n",
       "      <td>M</td>\n",
       "      <td>1999-03-11</td>\n",
       "      <td>100026977</td>\n",
       "      <td>STIKADINHO NEUGEBAUER MORANGO 12,3G</td>\n",
       "      <td>CONVENIENCIA</td>\n",
       "      <td>CONVENIENCIA PERECIVEIS</td>\n",
       "      <td>1349</td>\n",
       "      <td>RS</td>\n",
       "      <td>80400</td>\n",
       "      <td>PORTO ALEGRE</td>\n",
       "      <td>2024-01-23 19:21:25.000</td>\n",
       "      <td>1.0</td>\n",
       "      <td>NaN</td>\n",
       "      <td>1.19</td>\n",
       "      <td>0.70</td>\n",
       "      <td>1.19</td>\n",
       "      <td>0.49</td>\n",
       "    </tr>\n",
       "    <tr>\n",
       "      <th>9270996</th>\n",
       "      <td>61536</td>\n",
       "      <td>39336897.0</td>\n",
       "      <td>Pessoa Física</td>\n",
       "      <td>M</td>\n",
       "      <td>1999-03-11</td>\n",
       "      <td>94242</td>\n",
       "      <td>DES REXONA AERO 150ML MEN INVISIBLE</td>\n",
       "      <td>PERFUMARIA</td>\n",
       "      <td>PERFUMARIA</td>\n",
       "      <td>1349</td>\n",
       "      <td>RS</td>\n",
       "      <td>80400</td>\n",
       "      <td>PORTO ALEGRE</td>\n",
       "      <td>2024-04-05 18:25:52.000</td>\n",
       "      <td>1.0</td>\n",
       "      <td>100305620.0</td>\n",
       "      <td>18.99</td>\n",
       "      <td>5.09</td>\n",
       "      <td>18.99</td>\n",
       "      <td>13.90</td>\n",
       "    </tr>\n",
       "  </tbody>\n",
       "</table>\n",
       "<p>364584 rows × 20 columns</p>\n",
       "</div>"
      ],
      "text/plain": [
       "         COD_CUPOM  COD_CLIENTE CLIENTE_FISICO_JURIDICO SEXO_CLIENTE  \\\n",
       "28          722036   22216875.0           Pessoa Física            M   \n",
       "29          722036   22216875.0           Pessoa Física            M   \n",
       "32          722036   22216875.0           Pessoa Física            M   \n",
       "33          722036   22216875.0           Pessoa Física            M   \n",
       "34          722036   22216875.0           Pessoa Física            M   \n",
       "...            ...          ...                     ...          ...   \n",
       "9270593     767641   39315200.0           Pessoa Física            F   \n",
       "9270594     767641   39315200.0           Pessoa Física            F   \n",
       "9270973      44324   39336897.0           Pessoa Física            M   \n",
       "9270981      40718   39336897.0           Pessoa Física            M   \n",
       "9270996      61536   39336897.0           Pessoa Física            M   \n",
       "\n",
       "        DTNASCIMENTO_CLIENTE    COD_SKU                                  SKU  \\\n",
       "28                1985-12-27   10028435          TORTUGUITA 15,5G BRIGADEIRO   \n",
       "29                1985-12-27   10028435          TORTUGUITA 15,5G BRIGADEIRO   \n",
       "32                1985-12-27   10021117                  NUTELLA B-READY 22G   \n",
       "33                1985-12-27   10021117                  NUTELLA B-READY 22G   \n",
       "34                1985-12-27   10021117                  NUTELLA B-READY 22G   \n",
       "...                      ...        ...                                  ...   \n",
       "9270593           1998-03-03   10035174      PROT LAB CARMED 10G BEIJOS FINI   \n",
       "9270594           1998-03-03   10035174      PROT LAB CARMED 10G BEIJOS FINI   \n",
       "9270973           1999-03-11      11035     DES REXONA AERO 150ML MEN ACTIVE   \n",
       "9270981           1999-03-11  100026977  STIKADINHO NEUGEBAUER MORANGO 12,3G   \n",
       "9270996           1999-03-11      94242  DES REXONA AERO 150ML MEN INVISIBLE   \n",
       "\n",
       "        CATEGORIA_SKU         SUBCATEGORIA_SKU  COD_LOJA UF_CIDADE  \\\n",
       "28       CONVENIENCIA  CONVENIENCIA PERECIVEIS       551        RS   \n",
       "29       CONVENIENCIA  CONVENIENCIA PERECIVEIS       551        RS   \n",
       "32       CONVENIENCIA  CONVENIENCIA PERECIVEIS       551        RS   \n",
       "33       CONVENIENCIA  CONVENIENCIA PERECIVEIS       551        RS   \n",
       "34       CONVENIENCIA  CONVENIENCIA PERECIVEIS       551        RS   \n",
       "...               ...                      ...       ...       ...   \n",
       "9270593    PERFUMARIA               PERFUMARIA       596        RS   \n",
       "9270594    PERFUMARIA               PERFUMARIA       596        RS   \n",
       "9270973    PERFUMARIA               PERFUMARIA      1349        RS   \n",
       "9270981  CONVENIENCIA  CONVENIENCIA PERECIVEIS      1349        RS   \n",
       "9270996    PERFUMARIA               PERFUMARIA      1349        RS   \n",
       "\n",
       "         COD_CIDADE   NOME_CIDADE               DATA_CUPOM  UNIDADES  \\\n",
       "28            80400  PORTO ALEGRE  2024-04-26 19:45:52.114       1.0   \n",
       "29            80400  PORTO ALEGRE  2024-04-26 19:45:52.114       1.0   \n",
       "32            80400  PORTO ALEGRE  2024-04-26 19:45:52.114       1.0   \n",
       "33            80400  PORTO ALEGRE  2024-04-26 19:45:52.114       1.0   \n",
       "34            80400  PORTO ALEGRE  2024-04-26 19:45:52.114       1.0   \n",
       "...             ...           ...                      ...       ...   \n",
       "9270593       80400  PORTO ALEGRE  2024-03-01 19:28:31.000       1.0   \n",
       "9270594       80400  PORTO ALEGRE  2024-03-01 19:28:31.000       1.0   \n",
       "9270973       80400  PORTO ALEGRE  2024-02-06 21:36:18.000       1.0   \n",
       "9270981       80400  PORTO ALEGRE  2024-01-23 19:21:25.000       1.0   \n",
       "9270996       80400  PORTO ALEGRE  2024-04-05 18:25:52.000       1.0   \n",
       "\n",
       "         IDENTIFICADOR_PROMOCIONAL  PRECO_REGULAR  TOTAL_DESCONTO  \\\n",
       "28                             NaN           1.99            0.00   \n",
       "29                             NaN           1.99            0.00   \n",
       "32                             NaN           5.69            0.00   \n",
       "33                             NaN           5.69            0.00   \n",
       "34                             NaN           5.69            0.00   \n",
       "...                            ...            ...             ...   \n",
       "9270593                100296253.0          29.90            0.01   \n",
       "9270594                100296253.0          29.90           29.89   \n",
       "9270973                100285551.0          17.49            4.59   \n",
       "9270981                        NaN           1.19            0.70   \n",
       "9270996                100305620.0          18.99            5.09   \n",
       "\n",
       "         TOTAL_BRUTO  TOTAL_LIQUIDO  \n",
       "28              1.99           1.99  \n",
       "29              1.99           1.99  \n",
       "32              5.69           5.69  \n",
       "33              5.69           5.69  \n",
       "34              5.69           5.69  \n",
       "...              ...            ...  \n",
       "9270593        29.90          29.89  \n",
       "9270594        29.90           0.01  \n",
       "9270973        17.49          12.90  \n",
       "9270981         1.19           0.49  \n",
       "9270996        18.99          13.90  \n",
       "\n",
       "[364584 rows x 20 columns]"
      ]
     },
     "execution_count": 10,
     "metadata": {},
     "output_type": "execute_result"
    }
   ],
   "source": [
    "# Print a duplicate row but only the first one\n",
    "df[df.duplicated(keep='first')]\n"
   ]
  },
  {
   "cell_type": "code",
   "execution_count": 11,
   "metadata": {},
   "outputs": [
    {
     "data": {
      "application/vnd.plotly.v1+json": {
       "config": {
        "plotlyServerURL": "https://plot.ly"
       },
       "data": [
        {
         "alignmentgroup": "True",
         "hovertemplate": "Category of SKU=%{x}<br>Number of Items=%{y}<extra></extra>",
         "legendgroup": "",
         "marker": {
          "color": "#636efa",
          "pattern": {
           "shape": ""
          }
         },
         "name": "",
         "offsetgroup": "",
         "orientation": "v",
         "showlegend": false,
         "textposition": "auto",
         "type": "bar",
         "x": [
          "MEDICAMENTOS",
          "PERFUMARIA",
          "CONVENIENCIA",
          "NUTRICAO",
          "SERVIÇOS",
          "DERMO-COSMETICOS",
          "DIVERSOS",
          "MANIPULADOS",
          "IMOBILIZADO"
         ],
         "xaxis": "x",
         "y": [
          4247151,
          3235823,
          1616487,
          63814,
          45060,
          42728,
          19943,
          29,
          1
         ],
         "yaxis": "y"
        }
       ],
       "layout": {
        "barmode": "relative",
        "legend": {
         "tracegroupgap": 0
        },
        "template": {
         "data": {
          "bar": [
           {
            "error_x": {
             "color": "#2a3f5f"
            },
            "error_y": {
             "color": "#2a3f5f"
            },
            "marker": {
             "line": {
              "color": "#E5ECF6",
              "width": 0.5
             },
             "pattern": {
              "fillmode": "overlay",
              "size": 10,
              "solidity": 0.2
             }
            },
            "type": "bar"
           }
          ],
          "barpolar": [
           {
            "marker": {
             "line": {
              "color": "#E5ECF6",
              "width": 0.5
             },
             "pattern": {
              "fillmode": "overlay",
              "size": 10,
              "solidity": 0.2
             }
            },
            "type": "barpolar"
           }
          ],
          "carpet": [
           {
            "aaxis": {
             "endlinecolor": "#2a3f5f",
             "gridcolor": "white",
             "linecolor": "white",
             "minorgridcolor": "white",
             "startlinecolor": "#2a3f5f"
            },
            "baxis": {
             "endlinecolor": "#2a3f5f",
             "gridcolor": "white",
             "linecolor": "white",
             "minorgridcolor": "white",
             "startlinecolor": "#2a3f5f"
            },
            "type": "carpet"
           }
          ],
          "choropleth": [
           {
            "colorbar": {
             "outlinewidth": 0,
             "ticks": ""
            },
            "type": "choropleth"
           }
          ],
          "contour": [
           {
            "colorbar": {
             "outlinewidth": 0,
             "ticks": ""
            },
            "colorscale": [
             [
              0,
              "#0d0887"
             ],
             [
              0.1111111111111111,
              "#46039f"
             ],
             [
              0.2222222222222222,
              "#7201a8"
             ],
             [
              0.3333333333333333,
              "#9c179e"
             ],
             [
              0.4444444444444444,
              "#bd3786"
             ],
             [
              0.5555555555555556,
              "#d8576b"
             ],
             [
              0.6666666666666666,
              "#ed7953"
             ],
             [
              0.7777777777777778,
              "#fb9f3a"
             ],
             [
              0.8888888888888888,
              "#fdca26"
             ],
             [
              1,
              "#f0f921"
             ]
            ],
            "type": "contour"
           }
          ],
          "contourcarpet": [
           {
            "colorbar": {
             "outlinewidth": 0,
             "ticks": ""
            },
            "type": "contourcarpet"
           }
          ],
          "heatmap": [
           {
            "colorbar": {
             "outlinewidth": 0,
             "ticks": ""
            },
            "colorscale": [
             [
              0,
              "#0d0887"
             ],
             [
              0.1111111111111111,
              "#46039f"
             ],
             [
              0.2222222222222222,
              "#7201a8"
             ],
             [
              0.3333333333333333,
              "#9c179e"
             ],
             [
              0.4444444444444444,
              "#bd3786"
             ],
             [
              0.5555555555555556,
              "#d8576b"
             ],
             [
              0.6666666666666666,
              "#ed7953"
             ],
             [
              0.7777777777777778,
              "#fb9f3a"
             ],
             [
              0.8888888888888888,
              "#fdca26"
             ],
             [
              1,
              "#f0f921"
             ]
            ],
            "type": "heatmap"
           }
          ],
          "heatmapgl": [
           {
            "colorbar": {
             "outlinewidth": 0,
             "ticks": ""
            },
            "colorscale": [
             [
              0,
              "#0d0887"
             ],
             [
              0.1111111111111111,
              "#46039f"
             ],
             [
              0.2222222222222222,
              "#7201a8"
             ],
             [
              0.3333333333333333,
              "#9c179e"
             ],
             [
              0.4444444444444444,
              "#bd3786"
             ],
             [
              0.5555555555555556,
              "#d8576b"
             ],
             [
              0.6666666666666666,
              "#ed7953"
             ],
             [
              0.7777777777777778,
              "#fb9f3a"
             ],
             [
              0.8888888888888888,
              "#fdca26"
             ],
             [
              1,
              "#f0f921"
             ]
            ],
            "type": "heatmapgl"
           }
          ],
          "histogram": [
           {
            "marker": {
             "pattern": {
              "fillmode": "overlay",
              "size": 10,
              "solidity": 0.2
             }
            },
            "type": "histogram"
           }
          ],
          "histogram2d": [
           {
            "colorbar": {
             "outlinewidth": 0,
             "ticks": ""
            },
            "colorscale": [
             [
              0,
              "#0d0887"
             ],
             [
              0.1111111111111111,
              "#46039f"
             ],
             [
              0.2222222222222222,
              "#7201a8"
             ],
             [
              0.3333333333333333,
              "#9c179e"
             ],
             [
              0.4444444444444444,
              "#bd3786"
             ],
             [
              0.5555555555555556,
              "#d8576b"
             ],
             [
              0.6666666666666666,
              "#ed7953"
             ],
             [
              0.7777777777777778,
              "#fb9f3a"
             ],
             [
              0.8888888888888888,
              "#fdca26"
             ],
             [
              1,
              "#f0f921"
             ]
            ],
            "type": "histogram2d"
           }
          ],
          "histogram2dcontour": [
           {
            "colorbar": {
             "outlinewidth": 0,
             "ticks": ""
            },
            "colorscale": [
             [
              0,
              "#0d0887"
             ],
             [
              0.1111111111111111,
              "#46039f"
             ],
             [
              0.2222222222222222,
              "#7201a8"
             ],
             [
              0.3333333333333333,
              "#9c179e"
             ],
             [
              0.4444444444444444,
              "#bd3786"
             ],
             [
              0.5555555555555556,
              "#d8576b"
             ],
             [
              0.6666666666666666,
              "#ed7953"
             ],
             [
              0.7777777777777778,
              "#fb9f3a"
             ],
             [
              0.8888888888888888,
              "#fdca26"
             ],
             [
              1,
              "#f0f921"
             ]
            ],
            "type": "histogram2dcontour"
           }
          ],
          "mesh3d": [
           {
            "colorbar": {
             "outlinewidth": 0,
             "ticks": ""
            },
            "type": "mesh3d"
           }
          ],
          "parcoords": [
           {
            "line": {
             "colorbar": {
              "outlinewidth": 0,
              "ticks": ""
             }
            },
            "type": "parcoords"
           }
          ],
          "pie": [
           {
            "automargin": true,
            "type": "pie"
           }
          ],
          "scatter": [
           {
            "fillpattern": {
             "fillmode": "overlay",
             "size": 10,
             "solidity": 0.2
            },
            "type": "scatter"
           }
          ],
          "scatter3d": [
           {
            "line": {
             "colorbar": {
              "outlinewidth": 0,
              "ticks": ""
             }
            },
            "marker": {
             "colorbar": {
              "outlinewidth": 0,
              "ticks": ""
             }
            },
            "type": "scatter3d"
           }
          ],
          "scattercarpet": [
           {
            "marker": {
             "colorbar": {
              "outlinewidth": 0,
              "ticks": ""
             }
            },
            "type": "scattercarpet"
           }
          ],
          "scattergeo": [
           {
            "marker": {
             "colorbar": {
              "outlinewidth": 0,
              "ticks": ""
             }
            },
            "type": "scattergeo"
           }
          ],
          "scattergl": [
           {
            "marker": {
             "colorbar": {
              "outlinewidth": 0,
              "ticks": ""
             }
            },
            "type": "scattergl"
           }
          ],
          "scattermapbox": [
           {
            "marker": {
             "colorbar": {
              "outlinewidth": 0,
              "ticks": ""
             }
            },
            "type": "scattermapbox"
           }
          ],
          "scatterpolar": [
           {
            "marker": {
             "colorbar": {
              "outlinewidth": 0,
              "ticks": ""
             }
            },
            "type": "scatterpolar"
           }
          ],
          "scatterpolargl": [
           {
            "marker": {
             "colorbar": {
              "outlinewidth": 0,
              "ticks": ""
             }
            },
            "type": "scatterpolargl"
           }
          ],
          "scatterternary": [
           {
            "marker": {
             "colorbar": {
              "outlinewidth": 0,
              "ticks": ""
             }
            },
            "type": "scatterternary"
           }
          ],
          "surface": [
           {
            "colorbar": {
             "outlinewidth": 0,
             "ticks": ""
            },
            "colorscale": [
             [
              0,
              "#0d0887"
             ],
             [
              0.1111111111111111,
              "#46039f"
             ],
             [
              0.2222222222222222,
              "#7201a8"
             ],
             [
              0.3333333333333333,
              "#9c179e"
             ],
             [
              0.4444444444444444,
              "#bd3786"
             ],
             [
              0.5555555555555556,
              "#d8576b"
             ],
             [
              0.6666666666666666,
              "#ed7953"
             ],
             [
              0.7777777777777778,
              "#fb9f3a"
             ],
             [
              0.8888888888888888,
              "#fdca26"
             ],
             [
              1,
              "#f0f921"
             ]
            ],
            "type": "surface"
           }
          ],
          "table": [
           {
            "cells": {
             "fill": {
              "color": "#EBF0F8"
             },
             "line": {
              "color": "white"
             }
            },
            "header": {
             "fill": {
              "color": "#C8D4E3"
             },
             "line": {
              "color": "white"
             }
            },
            "type": "table"
           }
          ]
         },
         "layout": {
          "annotationdefaults": {
           "arrowcolor": "#2a3f5f",
           "arrowhead": 0,
           "arrowwidth": 1
          },
          "autotypenumbers": "strict",
          "coloraxis": {
           "colorbar": {
            "outlinewidth": 0,
            "ticks": ""
           }
          },
          "colorscale": {
           "diverging": [
            [
             0,
             "#8e0152"
            ],
            [
             0.1,
             "#c51b7d"
            ],
            [
             0.2,
             "#de77ae"
            ],
            [
             0.3,
             "#f1b6da"
            ],
            [
             0.4,
             "#fde0ef"
            ],
            [
             0.5,
             "#f7f7f7"
            ],
            [
             0.6,
             "#e6f5d0"
            ],
            [
             0.7,
             "#b8e186"
            ],
            [
             0.8,
             "#7fbc41"
            ],
            [
             0.9,
             "#4d9221"
            ],
            [
             1,
             "#276419"
            ]
           ],
           "sequential": [
            [
             0,
             "#0d0887"
            ],
            [
             0.1111111111111111,
             "#46039f"
            ],
            [
             0.2222222222222222,
             "#7201a8"
            ],
            [
             0.3333333333333333,
             "#9c179e"
            ],
            [
             0.4444444444444444,
             "#bd3786"
            ],
            [
             0.5555555555555556,
             "#d8576b"
            ],
            [
             0.6666666666666666,
             "#ed7953"
            ],
            [
             0.7777777777777778,
             "#fb9f3a"
            ],
            [
             0.8888888888888888,
             "#fdca26"
            ],
            [
             1,
             "#f0f921"
            ]
           ],
           "sequentialminus": [
            [
             0,
             "#0d0887"
            ],
            [
             0.1111111111111111,
             "#46039f"
            ],
            [
             0.2222222222222222,
             "#7201a8"
            ],
            [
             0.3333333333333333,
             "#9c179e"
            ],
            [
             0.4444444444444444,
             "#bd3786"
            ],
            [
             0.5555555555555556,
             "#d8576b"
            ],
            [
             0.6666666666666666,
             "#ed7953"
            ],
            [
             0.7777777777777778,
             "#fb9f3a"
            ],
            [
             0.8888888888888888,
             "#fdca26"
            ],
            [
             1,
             "#f0f921"
            ]
           ]
          },
          "colorway": [
           "#636efa",
           "#EF553B",
           "#00cc96",
           "#ab63fa",
           "#FFA15A",
           "#19d3f3",
           "#FF6692",
           "#B6E880",
           "#FF97FF",
           "#FECB52"
          ],
          "font": {
           "color": "#2a3f5f"
          },
          "geo": {
           "bgcolor": "white",
           "lakecolor": "white",
           "landcolor": "#E5ECF6",
           "showlakes": true,
           "showland": true,
           "subunitcolor": "white"
          },
          "hoverlabel": {
           "align": "left"
          },
          "hovermode": "closest",
          "mapbox": {
           "style": "light"
          },
          "paper_bgcolor": "white",
          "plot_bgcolor": "#E5ECF6",
          "polar": {
           "angularaxis": {
            "gridcolor": "white",
            "linecolor": "white",
            "ticks": ""
           },
           "bgcolor": "#E5ECF6",
           "radialaxis": {
            "gridcolor": "white",
            "linecolor": "white",
            "ticks": ""
           }
          },
          "scene": {
           "xaxis": {
            "backgroundcolor": "#E5ECF6",
            "gridcolor": "white",
            "gridwidth": 2,
            "linecolor": "white",
            "showbackground": true,
            "ticks": "",
            "zerolinecolor": "white"
           },
           "yaxis": {
            "backgroundcolor": "#E5ECF6",
            "gridcolor": "white",
            "gridwidth": 2,
            "linecolor": "white",
            "showbackground": true,
            "ticks": "",
            "zerolinecolor": "white"
           },
           "zaxis": {
            "backgroundcolor": "#E5ECF6",
            "gridcolor": "white",
            "gridwidth": 2,
            "linecolor": "white",
            "showbackground": true,
            "ticks": "",
            "zerolinecolor": "white"
           }
          },
          "shapedefaults": {
           "line": {
            "color": "#2a3f5f"
           }
          },
          "ternary": {
           "aaxis": {
            "gridcolor": "white",
            "linecolor": "white",
            "ticks": ""
           },
           "baxis": {
            "gridcolor": "white",
            "linecolor": "white",
            "ticks": ""
           },
           "bgcolor": "#E5ECF6",
           "caxis": {
            "gridcolor": "white",
            "linecolor": "white",
            "ticks": ""
           }
          },
          "title": {
           "x": 0.05
          },
          "xaxis": {
           "automargin": true,
           "gridcolor": "white",
           "linecolor": "white",
           "ticks": "",
           "title": {
            "standoff": 15
           },
           "zerolinecolor": "white",
           "zerolinewidth": 2
          },
          "yaxis": {
           "automargin": true,
           "gridcolor": "white",
           "linecolor": "white",
           "ticks": "",
           "title": {
            "standoff": 15
           },
           "zerolinecolor": "white",
           "zerolinewidth": 2
          }
         }
        },
        "title": {
         "text": "Distribution of CATEGORIA_SKU"
        },
        "xaxis": {
         "anchor": "y",
         "domain": [
          0,
          1
         ],
         "title": {
          "text": "Category of SKU"
         }
        },
        "yaxis": {
         "anchor": "x",
         "domain": [
          0,
          1
         ],
         "title": {
          "text": "Number of Items"
         }
        }
       }
      }
     },
     "metadata": {},
     "output_type": "display_data"
    },
    {
     "data": {
      "application/vnd.plotly.v1+json": {
       "config": {
        "plotlyServerURL": "https://plot.ly"
       },
       "data": [
        {
         "alignmentgroup": "True",
         "hovertemplate": "Subcategory of SKU=%{x}<br>Number of Items=%{y}<extra></extra>",
         "legendgroup": "",
         "marker": {
          "color": "#636efa",
          "pattern": {
           "shape": ""
          }
         },
         "name": "",
         "offsetgroup": "",
         "orientation": "v",
         "showlegend": false,
         "textposition": "auto",
         "type": "bar",
         "x": [
          "PERFUMARIA",
          "CONVENIENCIA PERECIVEIS",
          "GENERICOS",
          "BEBIDAS",
          "HOSPITALARES",
          "REFERENCIA ONEROSOS",
          "GENERICOS OTC/MIP",
          "REFERENCIA AVULSO",
          "SIMILAR",
          "REFERENCIA SUPER ONEROSOS",
          "CONVENIENCIA BAZAR",
          "GENERICOS ONEROSOS",
          "REFERENCIA",
          "HIGIENE PESSOAL",
          "ABSORVENTES E LENÇOS SUBSTITUIDO",
          "PREMIACAO EXCLUSIVA",
          "FRALDAS",
          "SIMILAR ONEROSO",
          "LENCOS E TOALHAS UMEDECIDAS",
          "LIBERADOS",
          "SIMILAR AVULSO",
          "GENERICO CONTROLADO",
          "FRALDA EXCLUSIVA",
          "CAMPANHA",
          "REFERENCIA LIBERADO",
          "REFERENCIA FARMACIA POPULAR",
          "PERFUMARIA EXCLUSIVA PREMIACAO",
          "PBMS",
          "GENERICO AVULSO",
          "REFERENCIA CONTROLADO",
          "SERVICOS FARMACEUTICOS",
          "ANTICONCEPCIONAIS ONEROSOS",
          "DERMO-COSMETICOS",
          "REFERENCIA ONEROSO CONTROLADO",
          "GENERICO SUPER ONEROSO",
          "PERFUMARIA EXCLUSIVA",
          "ANTIBIOTICO CONT. GENERICO ONEROSO",
          "NUTRICAO LEITES",
          "NUTRICAO OUTROS",
          "ANTICONCEPCIONAIS",
          "REFERENCIA LIBERADO SUPER ONEROSOS",
          "ANTIBIOTICO CONT. REFERENCIA",
          "GENERICOS ONEROSOS CONTROLADOS",
          "SERVICOS TELE ENTREGA",
          "TESTE COVID19",
          "PBMS COMBO",
          "REFERENCIA SUPER ONEROSOS CONTROLADO",
          "ANTIBIOTICO CONT. GENERICO",
          "PBM ESPECIAL",
          "CONVENIENCIA NUTRICIONAL",
          "ANTIBIOTICO CONT. GENERICO SUPER ONEROSO",
          "PBMS CONTROLADOS",
          "REFERENCIA LIBERADO ONEROSOS",
          "CONGELADOS",
          "VACINA GRIPE",
          "PBM CUPOM DESCONTO",
          "PBM REFERENCIA LIBERADO",
          "PBMS ANTIBIOTICO CONT.",
          "FITOTERAPICOS",
          "PBM CONTROLADO CUPOM DESCONTO",
          "ANTIBIOTICO CONT. REFERENCIA ONEROSO",
          "DERMO-COSMETICOS NUTRACEUTICOS",
          "REFERENCIA ONEROSO INSULINA",
          "TESTES LABORATORIAIS REMOTOS",
          "PBMS COMBO CONTROLADOS",
          "REFERENCIA ESPECIAL ONEROSO",
          "ANTIBIOTICO CONT. SIMILAR",
          "ANTIBIOTICO CONT. REFER AV",
          "REFERENCIA ESPECIAL",
          "REFERENCIA - GRUPO 2 CB",
          "NUTRICAO ESPECIAIS",
          "GENERICO CONTROLADO SUPER ONEROSO",
          "REFERENCIA ESPECIAIS CONTROLADOS",
          "SERVICOS TROCO SOLIDARIO",
          "MANIPULADOS MEDICAMENTOS",
          "SIMILAR CONTROLADO",
          "DERMO-COSMETICOS ESPECIAL",
          "KIT SOLIDARIEDADE",
          "MEDICAMENTOS DERMO COSMETICOS",
          "BENS COMODATO"
         ],
         "xaxis": "x",
         "y": [
          2488231,
          957572,
          613390,
          382272,
          364788,
          350723,
          321720,
          317648,
          290915,
          265210,
          258998,
          214288,
          190042,
          164563,
          156440,
          121908,
          120320,
          118832,
          117321,
          114838,
          101918,
          100652,
          92379,
          71547,
          67266,
          66351,
          58896,
          54465,
          47870,
          46549,
          44990,
          44604,
          40982,
          39344,
          38353,
          37673,
          34873,
          33173,
          30518,
          29677,
          28450,
          26847,
          23739,
          19943,
          19015,
          16922,
          15183,
          13520,
          10529,
          9313,
          8561,
          8561,
          8546,
          8328,
          7001,
          6842,
          4943,
          4892,
          4249,
          2079,
          1917,
          1725,
          1493,
          1381,
          998,
          853,
          834,
          809,
          773,
          232,
          123,
          93,
          87,
          70,
          29,
          28,
          21,
          4,
          3,
          1
         ],
         "yaxis": "y"
        }
       ],
       "layout": {
        "barmode": "relative",
        "legend": {
         "tracegroupgap": 0
        },
        "template": {
         "data": {
          "bar": [
           {
            "error_x": {
             "color": "#2a3f5f"
            },
            "error_y": {
             "color": "#2a3f5f"
            },
            "marker": {
             "line": {
              "color": "#E5ECF6",
              "width": 0.5
             },
             "pattern": {
              "fillmode": "overlay",
              "size": 10,
              "solidity": 0.2
             }
            },
            "type": "bar"
           }
          ],
          "barpolar": [
           {
            "marker": {
             "line": {
              "color": "#E5ECF6",
              "width": 0.5
             },
             "pattern": {
              "fillmode": "overlay",
              "size": 10,
              "solidity": 0.2
             }
            },
            "type": "barpolar"
           }
          ],
          "carpet": [
           {
            "aaxis": {
             "endlinecolor": "#2a3f5f",
             "gridcolor": "white",
             "linecolor": "white",
             "minorgridcolor": "white",
             "startlinecolor": "#2a3f5f"
            },
            "baxis": {
             "endlinecolor": "#2a3f5f",
             "gridcolor": "white",
             "linecolor": "white",
             "minorgridcolor": "white",
             "startlinecolor": "#2a3f5f"
            },
            "type": "carpet"
           }
          ],
          "choropleth": [
           {
            "colorbar": {
             "outlinewidth": 0,
             "ticks": ""
            },
            "type": "choropleth"
           }
          ],
          "contour": [
           {
            "colorbar": {
             "outlinewidth": 0,
             "ticks": ""
            },
            "colorscale": [
             [
              0,
              "#0d0887"
             ],
             [
              0.1111111111111111,
              "#46039f"
             ],
             [
              0.2222222222222222,
              "#7201a8"
             ],
             [
              0.3333333333333333,
              "#9c179e"
             ],
             [
              0.4444444444444444,
              "#bd3786"
             ],
             [
              0.5555555555555556,
              "#d8576b"
             ],
             [
              0.6666666666666666,
              "#ed7953"
             ],
             [
              0.7777777777777778,
              "#fb9f3a"
             ],
             [
              0.8888888888888888,
              "#fdca26"
             ],
             [
              1,
              "#f0f921"
             ]
            ],
            "type": "contour"
           }
          ],
          "contourcarpet": [
           {
            "colorbar": {
             "outlinewidth": 0,
             "ticks": ""
            },
            "type": "contourcarpet"
           }
          ],
          "heatmap": [
           {
            "colorbar": {
             "outlinewidth": 0,
             "ticks": ""
            },
            "colorscale": [
             [
              0,
              "#0d0887"
             ],
             [
              0.1111111111111111,
              "#46039f"
             ],
             [
              0.2222222222222222,
              "#7201a8"
             ],
             [
              0.3333333333333333,
              "#9c179e"
             ],
             [
              0.4444444444444444,
              "#bd3786"
             ],
             [
              0.5555555555555556,
              "#d8576b"
             ],
             [
              0.6666666666666666,
              "#ed7953"
             ],
             [
              0.7777777777777778,
              "#fb9f3a"
             ],
             [
              0.8888888888888888,
              "#fdca26"
             ],
             [
              1,
              "#f0f921"
             ]
            ],
            "type": "heatmap"
           }
          ],
          "heatmapgl": [
           {
            "colorbar": {
             "outlinewidth": 0,
             "ticks": ""
            },
            "colorscale": [
             [
              0,
              "#0d0887"
             ],
             [
              0.1111111111111111,
              "#46039f"
             ],
             [
              0.2222222222222222,
              "#7201a8"
             ],
             [
              0.3333333333333333,
              "#9c179e"
             ],
             [
              0.4444444444444444,
              "#bd3786"
             ],
             [
              0.5555555555555556,
              "#d8576b"
             ],
             [
              0.6666666666666666,
              "#ed7953"
             ],
             [
              0.7777777777777778,
              "#fb9f3a"
             ],
             [
              0.8888888888888888,
              "#fdca26"
             ],
             [
              1,
              "#f0f921"
             ]
            ],
            "type": "heatmapgl"
           }
          ],
          "histogram": [
           {
            "marker": {
             "pattern": {
              "fillmode": "overlay",
              "size": 10,
              "solidity": 0.2
             }
            },
            "type": "histogram"
           }
          ],
          "histogram2d": [
           {
            "colorbar": {
             "outlinewidth": 0,
             "ticks": ""
            },
            "colorscale": [
             [
              0,
              "#0d0887"
             ],
             [
              0.1111111111111111,
              "#46039f"
             ],
             [
              0.2222222222222222,
              "#7201a8"
             ],
             [
              0.3333333333333333,
              "#9c179e"
             ],
             [
              0.4444444444444444,
              "#bd3786"
             ],
             [
              0.5555555555555556,
              "#d8576b"
             ],
             [
              0.6666666666666666,
              "#ed7953"
             ],
             [
              0.7777777777777778,
              "#fb9f3a"
             ],
             [
              0.8888888888888888,
              "#fdca26"
             ],
             [
              1,
              "#f0f921"
             ]
            ],
            "type": "histogram2d"
           }
          ],
          "histogram2dcontour": [
           {
            "colorbar": {
             "outlinewidth": 0,
             "ticks": ""
            },
            "colorscale": [
             [
              0,
              "#0d0887"
             ],
             [
              0.1111111111111111,
              "#46039f"
             ],
             [
              0.2222222222222222,
              "#7201a8"
             ],
             [
              0.3333333333333333,
              "#9c179e"
             ],
             [
              0.4444444444444444,
              "#bd3786"
             ],
             [
              0.5555555555555556,
              "#d8576b"
             ],
             [
              0.6666666666666666,
              "#ed7953"
             ],
             [
              0.7777777777777778,
              "#fb9f3a"
             ],
             [
              0.8888888888888888,
              "#fdca26"
             ],
             [
              1,
              "#f0f921"
             ]
            ],
            "type": "histogram2dcontour"
           }
          ],
          "mesh3d": [
           {
            "colorbar": {
             "outlinewidth": 0,
             "ticks": ""
            },
            "type": "mesh3d"
           }
          ],
          "parcoords": [
           {
            "line": {
             "colorbar": {
              "outlinewidth": 0,
              "ticks": ""
             }
            },
            "type": "parcoords"
           }
          ],
          "pie": [
           {
            "automargin": true,
            "type": "pie"
           }
          ],
          "scatter": [
           {
            "fillpattern": {
             "fillmode": "overlay",
             "size": 10,
             "solidity": 0.2
            },
            "type": "scatter"
           }
          ],
          "scatter3d": [
           {
            "line": {
             "colorbar": {
              "outlinewidth": 0,
              "ticks": ""
             }
            },
            "marker": {
             "colorbar": {
              "outlinewidth": 0,
              "ticks": ""
             }
            },
            "type": "scatter3d"
           }
          ],
          "scattercarpet": [
           {
            "marker": {
             "colorbar": {
              "outlinewidth": 0,
              "ticks": ""
             }
            },
            "type": "scattercarpet"
           }
          ],
          "scattergeo": [
           {
            "marker": {
             "colorbar": {
              "outlinewidth": 0,
              "ticks": ""
             }
            },
            "type": "scattergeo"
           }
          ],
          "scattergl": [
           {
            "marker": {
             "colorbar": {
              "outlinewidth": 0,
              "ticks": ""
             }
            },
            "type": "scattergl"
           }
          ],
          "scattermapbox": [
           {
            "marker": {
             "colorbar": {
              "outlinewidth": 0,
              "ticks": ""
             }
            },
            "type": "scattermapbox"
           }
          ],
          "scatterpolar": [
           {
            "marker": {
             "colorbar": {
              "outlinewidth": 0,
              "ticks": ""
             }
            },
            "type": "scatterpolar"
           }
          ],
          "scatterpolargl": [
           {
            "marker": {
             "colorbar": {
              "outlinewidth": 0,
              "ticks": ""
             }
            },
            "type": "scatterpolargl"
           }
          ],
          "scatterternary": [
           {
            "marker": {
             "colorbar": {
              "outlinewidth": 0,
              "ticks": ""
             }
            },
            "type": "scatterternary"
           }
          ],
          "surface": [
           {
            "colorbar": {
             "outlinewidth": 0,
             "ticks": ""
            },
            "colorscale": [
             [
              0,
              "#0d0887"
             ],
             [
              0.1111111111111111,
              "#46039f"
             ],
             [
              0.2222222222222222,
              "#7201a8"
             ],
             [
              0.3333333333333333,
              "#9c179e"
             ],
             [
              0.4444444444444444,
              "#bd3786"
             ],
             [
              0.5555555555555556,
              "#d8576b"
             ],
             [
              0.6666666666666666,
              "#ed7953"
             ],
             [
              0.7777777777777778,
              "#fb9f3a"
             ],
             [
              0.8888888888888888,
              "#fdca26"
             ],
             [
              1,
              "#f0f921"
             ]
            ],
            "type": "surface"
           }
          ],
          "table": [
           {
            "cells": {
             "fill": {
              "color": "#EBF0F8"
             },
             "line": {
              "color": "white"
             }
            },
            "header": {
             "fill": {
              "color": "#C8D4E3"
             },
             "line": {
              "color": "white"
             }
            },
            "type": "table"
           }
          ]
         },
         "layout": {
          "annotationdefaults": {
           "arrowcolor": "#2a3f5f",
           "arrowhead": 0,
           "arrowwidth": 1
          },
          "autotypenumbers": "strict",
          "coloraxis": {
           "colorbar": {
            "outlinewidth": 0,
            "ticks": ""
           }
          },
          "colorscale": {
           "diverging": [
            [
             0,
             "#8e0152"
            ],
            [
             0.1,
             "#c51b7d"
            ],
            [
             0.2,
             "#de77ae"
            ],
            [
             0.3,
             "#f1b6da"
            ],
            [
             0.4,
             "#fde0ef"
            ],
            [
             0.5,
             "#f7f7f7"
            ],
            [
             0.6,
             "#e6f5d0"
            ],
            [
             0.7,
             "#b8e186"
            ],
            [
             0.8,
             "#7fbc41"
            ],
            [
             0.9,
             "#4d9221"
            ],
            [
             1,
             "#276419"
            ]
           ],
           "sequential": [
            [
             0,
             "#0d0887"
            ],
            [
             0.1111111111111111,
             "#46039f"
            ],
            [
             0.2222222222222222,
             "#7201a8"
            ],
            [
             0.3333333333333333,
             "#9c179e"
            ],
            [
             0.4444444444444444,
             "#bd3786"
            ],
            [
             0.5555555555555556,
             "#d8576b"
            ],
            [
             0.6666666666666666,
             "#ed7953"
            ],
            [
             0.7777777777777778,
             "#fb9f3a"
            ],
            [
             0.8888888888888888,
             "#fdca26"
            ],
            [
             1,
             "#f0f921"
            ]
           ],
           "sequentialminus": [
            [
             0,
             "#0d0887"
            ],
            [
             0.1111111111111111,
             "#46039f"
            ],
            [
             0.2222222222222222,
             "#7201a8"
            ],
            [
             0.3333333333333333,
             "#9c179e"
            ],
            [
             0.4444444444444444,
             "#bd3786"
            ],
            [
             0.5555555555555556,
             "#d8576b"
            ],
            [
             0.6666666666666666,
             "#ed7953"
            ],
            [
             0.7777777777777778,
             "#fb9f3a"
            ],
            [
             0.8888888888888888,
             "#fdca26"
            ],
            [
             1,
             "#f0f921"
            ]
           ]
          },
          "colorway": [
           "#636efa",
           "#EF553B",
           "#00cc96",
           "#ab63fa",
           "#FFA15A",
           "#19d3f3",
           "#FF6692",
           "#B6E880",
           "#FF97FF",
           "#FECB52"
          ],
          "font": {
           "color": "#2a3f5f"
          },
          "geo": {
           "bgcolor": "white",
           "lakecolor": "white",
           "landcolor": "#E5ECF6",
           "showlakes": true,
           "showland": true,
           "subunitcolor": "white"
          },
          "hoverlabel": {
           "align": "left"
          },
          "hovermode": "closest",
          "mapbox": {
           "style": "light"
          },
          "paper_bgcolor": "white",
          "plot_bgcolor": "#E5ECF6",
          "polar": {
           "angularaxis": {
            "gridcolor": "white",
            "linecolor": "white",
            "ticks": ""
           },
           "bgcolor": "#E5ECF6",
           "radialaxis": {
            "gridcolor": "white",
            "linecolor": "white",
            "ticks": ""
           }
          },
          "scene": {
           "xaxis": {
            "backgroundcolor": "#E5ECF6",
            "gridcolor": "white",
            "gridwidth": 2,
            "linecolor": "white",
            "showbackground": true,
            "ticks": "",
            "zerolinecolor": "white"
           },
           "yaxis": {
            "backgroundcolor": "#E5ECF6",
            "gridcolor": "white",
            "gridwidth": 2,
            "linecolor": "white",
            "showbackground": true,
            "ticks": "",
            "zerolinecolor": "white"
           },
           "zaxis": {
            "backgroundcolor": "#E5ECF6",
            "gridcolor": "white",
            "gridwidth": 2,
            "linecolor": "white",
            "showbackground": true,
            "ticks": "",
            "zerolinecolor": "white"
           }
          },
          "shapedefaults": {
           "line": {
            "color": "#2a3f5f"
           }
          },
          "ternary": {
           "aaxis": {
            "gridcolor": "white",
            "linecolor": "white",
            "ticks": ""
           },
           "baxis": {
            "gridcolor": "white",
            "linecolor": "white",
            "ticks": ""
           },
           "bgcolor": "#E5ECF6",
           "caxis": {
            "gridcolor": "white",
            "linecolor": "white",
            "ticks": ""
           }
          },
          "title": {
           "x": 0.05
          },
          "xaxis": {
           "automargin": true,
           "gridcolor": "white",
           "linecolor": "white",
           "ticks": "",
           "title": {
            "standoff": 15
           },
           "zerolinecolor": "white",
           "zerolinewidth": 2
          },
          "yaxis": {
           "automargin": true,
           "gridcolor": "white",
           "linecolor": "white",
           "ticks": "",
           "title": {
            "standoff": 15
           },
           "zerolinecolor": "white",
           "zerolinewidth": 2
          }
         }
        },
        "title": {
         "text": "Distribution of SUBCATEGORIA_SKU"
        },
        "xaxis": {
         "anchor": "y",
         "domain": [
          0,
          1
         ],
         "title": {
          "text": "Subcategory of SKU"
         }
        },
        "yaxis": {
         "anchor": "x",
         "domain": [
          0,
          1
         ],
         "title": {
          "text": "Number of Items"
         }
        }
       }
      }
     },
     "metadata": {},
     "output_type": "display_data"
    },
    {
     "data": {
      "application/vnd.plotly.v1+json": {
       "config": {
        "plotlyServerURL": "https://plot.ly"
       },
       "data": [
        {
         "alignmentgroup": "True",
         "hovertemplate": "Subcategory of SKU=BEBIDAS<br>Category of SKU=%{x}<br>Number of Items=%{y}<extra></extra>",
         "legendgroup": "BEBIDAS",
         "marker": {
          "color": "#636efa",
          "pattern": {
           "shape": ""
          }
         },
         "name": "BEBIDAS",
         "offsetgroup": "BEBIDAS",
         "orientation": "v",
         "showlegend": true,
         "textposition": "auto",
         "type": "bar",
         "x": [
          "CONVENIENCIA"
         ],
         "xaxis": "x",
         "y": [
          382272
         ],
         "yaxis": "y"
        },
        {
         "alignmentgroup": "True",
         "hovertemplate": "Subcategory of SKU=CONGELADOS<br>Category of SKU=%{x}<br>Number of Items=%{y}<extra></extra>",
         "legendgroup": "CONGELADOS",
         "marker": {
          "color": "#EF553B",
          "pattern": {
           "shape": ""
          }
         },
         "name": "CONGELADOS",
         "offsetgroup": "CONGELADOS",
         "orientation": "v",
         "showlegend": true,
         "textposition": "auto",
         "type": "bar",
         "x": [
          "CONVENIENCIA"
         ],
         "xaxis": "x",
         "y": [
          8328
         ],
         "yaxis": "y"
        },
        {
         "alignmentgroup": "True",
         "hovertemplate": "Subcategory of SKU=CONVENIENCIA BAZAR<br>Category of SKU=%{x}<br>Number of Items=%{y}<extra></extra>",
         "legendgroup": "CONVENIENCIA BAZAR",
         "marker": {
          "color": "#00cc96",
          "pattern": {
           "shape": ""
          }
         },
         "name": "CONVENIENCIA BAZAR",
         "offsetgroup": "CONVENIENCIA BAZAR",
         "orientation": "v",
         "showlegend": true,
         "textposition": "auto",
         "type": "bar",
         "x": [
          "CONVENIENCIA"
         ],
         "xaxis": "x",
         "y": [
          258998
         ],
         "yaxis": "y"
        },
        {
         "alignmentgroup": "True",
         "hovertemplate": "Subcategory of SKU=CONVENIENCIA NUTRICIONAL<br>Category of SKU=%{x}<br>Number of Items=%{y}<extra></extra>",
         "legendgroup": "CONVENIENCIA NUTRICIONAL",
         "marker": {
          "color": "#ab63fa",
          "pattern": {
           "shape": ""
          }
         },
         "name": "CONVENIENCIA NUTRICIONAL",
         "offsetgroup": "CONVENIENCIA NUTRICIONAL",
         "orientation": "v",
         "showlegend": true,
         "textposition": "auto",
         "type": "bar",
         "x": [
          "CONVENIENCIA"
         ],
         "xaxis": "x",
         "y": [
          9313
         ],
         "yaxis": "y"
        },
        {
         "alignmentgroup": "True",
         "hovertemplate": "Subcategory of SKU=CONVENIENCIA PERECIVEIS<br>Category of SKU=%{x}<br>Number of Items=%{y}<extra></extra>",
         "legendgroup": "CONVENIENCIA PERECIVEIS",
         "marker": {
          "color": "#FFA15A",
          "pattern": {
           "shape": ""
          }
         },
         "name": "CONVENIENCIA PERECIVEIS",
         "offsetgroup": "CONVENIENCIA PERECIVEIS",
         "orientation": "v",
         "showlegend": true,
         "textposition": "auto",
         "type": "bar",
         "x": [
          "CONVENIENCIA"
         ],
         "xaxis": "x",
         "y": [
          957572
         ],
         "yaxis": "y"
        },
        {
         "alignmentgroup": "True",
         "hovertemplate": "Subcategory of SKU=KIT SOLIDARIEDADE<br>Category of SKU=%{x}<br>Number of Items=%{y}<extra></extra>",
         "legendgroup": "KIT SOLIDARIEDADE",
         "marker": {
          "color": "#19d3f3",
          "pattern": {
           "shape": ""
          }
         },
         "name": "KIT SOLIDARIEDADE",
         "offsetgroup": "KIT SOLIDARIEDADE",
         "orientation": "v",
         "showlegend": true,
         "textposition": "auto",
         "type": "bar",
         "x": [
          "CONVENIENCIA"
         ],
         "xaxis": "x",
         "y": [
          4
         ],
         "yaxis": "y"
        },
        {
         "alignmentgroup": "True",
         "hovertemplate": "Subcategory of SKU=DERMO-COSMETICOS<br>Category of SKU=%{x}<br>Number of Items=%{y}<extra></extra>",
         "legendgroup": "DERMO-COSMETICOS",
         "marker": {
          "color": "#FF6692",
          "pattern": {
           "shape": ""
          }
         },
         "name": "DERMO-COSMETICOS",
         "offsetgroup": "DERMO-COSMETICOS",
         "orientation": "v",
         "showlegend": true,
         "textposition": "auto",
         "type": "bar",
         "x": [
          "DERMO-COSMETICOS"
         ],
         "xaxis": "x",
         "y": [
          40982
         ],
         "yaxis": "y"
        },
        {
         "alignmentgroup": "True",
         "hovertemplate": "Subcategory of SKU=DERMO-COSMETICOS ESPECIAL<br>Category of SKU=%{x}<br>Number of Items=%{y}<extra></extra>",
         "legendgroup": "DERMO-COSMETICOS ESPECIAL",
         "marker": {
          "color": "#B6E880",
          "pattern": {
           "shape": ""
          }
         },
         "name": "DERMO-COSMETICOS ESPECIAL",
         "offsetgroup": "DERMO-COSMETICOS ESPECIAL",
         "orientation": "v",
         "showlegend": true,
         "textposition": "auto",
         "type": "bar",
         "x": [
          "DERMO-COSMETICOS"
         ],
         "xaxis": "x",
         "y": [
          21
         ],
         "yaxis": "y"
        },
        {
         "alignmentgroup": "True",
         "hovertemplate": "Subcategory of SKU=DERMO-COSMETICOS NUTRACEUTICOS<br>Category of SKU=%{x}<br>Number of Items=%{y}<extra></extra>",
         "legendgroup": "DERMO-COSMETICOS NUTRACEUTICOS",
         "marker": {
          "color": "#FF97FF",
          "pattern": {
           "shape": ""
          }
         },
         "name": "DERMO-COSMETICOS NUTRACEUTICOS",
         "offsetgroup": "DERMO-COSMETICOS NUTRACEUTICOS",
         "orientation": "v",
         "showlegend": true,
         "textposition": "auto",
         "type": "bar",
         "x": [
          "DERMO-COSMETICOS"
         ],
         "xaxis": "x",
         "y": [
          1725
         ],
         "yaxis": "y"
        },
        {
         "alignmentgroup": "True",
         "hovertemplate": "Subcategory of SKU=SERVICOS TELE ENTREGA<br>Category of SKU=%{x}<br>Number of Items=%{y}<extra></extra>",
         "legendgroup": "SERVICOS TELE ENTREGA",
         "marker": {
          "color": "#FECB52",
          "pattern": {
           "shape": ""
          }
         },
         "name": "SERVICOS TELE ENTREGA",
         "offsetgroup": "SERVICOS TELE ENTREGA",
         "orientation": "v",
         "showlegend": true,
         "textposition": "auto",
         "type": "bar",
         "x": [
          "DIVERSOS"
         ],
         "xaxis": "x",
         "y": [
          19943
         ],
         "yaxis": "y"
        },
        {
         "alignmentgroup": "True",
         "hovertemplate": "Subcategory of SKU=BENS COMODATO<br>Category of SKU=%{x}<br>Number of Items=%{y}<extra></extra>",
         "legendgroup": "BENS COMODATO",
         "marker": {
          "color": "#636efa",
          "pattern": {
           "shape": ""
          }
         },
         "name": "BENS COMODATO",
         "offsetgroup": "BENS COMODATO",
         "orientation": "v",
         "showlegend": true,
         "textposition": "auto",
         "type": "bar",
         "x": [
          "IMOBILIZADO"
         ],
         "xaxis": "x",
         "y": [
          1
         ],
         "yaxis": "y"
        },
        {
         "alignmentgroup": "True",
         "hovertemplate": "Subcategory of SKU=MANIPULADOS MEDICAMENTOS<br>Category of SKU=%{x}<br>Number of Items=%{y}<extra></extra>",
         "legendgroup": "MANIPULADOS MEDICAMENTOS",
         "marker": {
          "color": "#EF553B",
          "pattern": {
           "shape": ""
          }
         },
         "name": "MANIPULADOS MEDICAMENTOS",
         "offsetgroup": "MANIPULADOS MEDICAMENTOS",
         "orientation": "v",
         "showlegend": true,
         "textposition": "auto",
         "type": "bar",
         "x": [
          "MANIPULADOS"
         ],
         "xaxis": "x",
         "y": [
          29
         ],
         "yaxis": "y"
        },
        {
         "alignmentgroup": "True",
         "hovertemplate": "Subcategory of SKU=ANTIBIOTICO CONT. GENERICO<br>Category of SKU=%{x}<br>Number of Items=%{y}<extra></extra>",
         "legendgroup": "ANTIBIOTICO CONT. GENERICO",
         "marker": {
          "color": "#00cc96",
          "pattern": {
           "shape": ""
          }
         },
         "name": "ANTIBIOTICO CONT. GENERICO",
         "offsetgroup": "ANTIBIOTICO CONT. GENERICO",
         "orientation": "v",
         "showlegend": true,
         "textposition": "auto",
         "type": "bar",
         "x": [
          "MEDICAMENTOS"
         ],
         "xaxis": "x",
         "y": [
          13520
         ],
         "yaxis": "y"
        },
        {
         "alignmentgroup": "True",
         "hovertemplate": "Subcategory of SKU=ANTIBIOTICO CONT. GENERICO ONEROSO<br>Category of SKU=%{x}<br>Number of Items=%{y}<extra></extra>",
         "legendgroup": "ANTIBIOTICO CONT. GENERICO ONEROSO",
         "marker": {
          "color": "#ab63fa",
          "pattern": {
           "shape": ""
          }
         },
         "name": "ANTIBIOTICO CONT. GENERICO ONEROSO",
         "offsetgroup": "ANTIBIOTICO CONT. GENERICO ONEROSO",
         "orientation": "v",
         "showlegend": true,
         "textposition": "auto",
         "type": "bar",
         "x": [
          "MEDICAMENTOS"
         ],
         "xaxis": "x",
         "y": [
          34873
         ],
         "yaxis": "y"
        },
        {
         "alignmentgroup": "True",
         "hovertemplate": "Subcategory of SKU=ANTIBIOTICO CONT. GENERICO SUPER ONEROSO<br>Category of SKU=%{x}<br>Number of Items=%{y}<extra></extra>",
         "legendgroup": "ANTIBIOTICO CONT. GENERICO SUPER ONEROSO",
         "marker": {
          "color": "#FFA15A",
          "pattern": {
           "shape": ""
          }
         },
         "name": "ANTIBIOTICO CONT. GENERICO SUPER ONEROSO",
         "offsetgroup": "ANTIBIOTICO CONT. GENERICO SUPER ONEROSO",
         "orientation": "v",
         "showlegend": true,
         "textposition": "auto",
         "type": "bar",
         "x": [
          "MEDICAMENTOS"
         ],
         "xaxis": "x",
         "y": [
          8561
         ],
         "yaxis": "y"
        },
        {
         "alignmentgroup": "True",
         "hovertemplate": "Subcategory of SKU=ANTIBIOTICO CONT. REFER AV<br>Category of SKU=%{x}<br>Number of Items=%{y}<extra></extra>",
         "legendgroup": "ANTIBIOTICO CONT. REFER AV",
         "marker": {
          "color": "#19d3f3",
          "pattern": {
           "shape": ""
          }
         },
         "name": "ANTIBIOTICO CONT. REFER AV",
         "offsetgroup": "ANTIBIOTICO CONT. REFER AV",
         "orientation": "v",
         "showlegend": true,
         "textposition": "auto",
         "type": "bar",
         "x": [
          "MEDICAMENTOS"
         ],
         "xaxis": "x",
         "y": [
          809
         ],
         "yaxis": "y"
        },
        {
         "alignmentgroup": "True",
         "hovertemplate": "Subcategory of SKU=ANTIBIOTICO CONT. REFERENCIA<br>Category of SKU=%{x}<br>Number of Items=%{y}<extra></extra>",
         "legendgroup": "ANTIBIOTICO CONT. REFERENCIA",
         "marker": {
          "color": "#FF6692",
          "pattern": {
           "shape": ""
          }
         },
         "name": "ANTIBIOTICO CONT. REFERENCIA",
         "offsetgroup": "ANTIBIOTICO CONT. REFERENCIA",
         "orientation": "v",
         "showlegend": true,
         "textposition": "auto",
         "type": "bar",
         "x": [
          "MEDICAMENTOS"
         ],
         "xaxis": "x",
         "y": [
          26847
         ],
         "yaxis": "y"
        },
        {
         "alignmentgroup": "True",
         "hovertemplate": "Subcategory of SKU=ANTIBIOTICO CONT. REFERENCIA ONEROSO<br>Category of SKU=%{x}<br>Number of Items=%{y}<extra></extra>",
         "legendgroup": "ANTIBIOTICO CONT. REFERENCIA ONEROSO",
         "marker": {
          "color": "#B6E880",
          "pattern": {
           "shape": ""
          }
         },
         "name": "ANTIBIOTICO CONT. REFERENCIA ONEROSO",
         "offsetgroup": "ANTIBIOTICO CONT. REFERENCIA ONEROSO",
         "orientation": "v",
         "showlegend": true,
         "textposition": "auto",
         "type": "bar",
         "x": [
          "MEDICAMENTOS"
         ],
         "xaxis": "x",
         "y": [
          1917
         ],
         "yaxis": "y"
        },
        {
         "alignmentgroup": "True",
         "hovertemplate": "Subcategory of SKU=ANTIBIOTICO CONT. SIMILAR<br>Category of SKU=%{x}<br>Number of Items=%{y}<extra></extra>",
         "legendgroup": "ANTIBIOTICO CONT. SIMILAR",
         "marker": {
          "color": "#FF97FF",
          "pattern": {
           "shape": ""
          }
         },
         "name": "ANTIBIOTICO CONT. SIMILAR",
         "offsetgroup": "ANTIBIOTICO CONT. SIMILAR",
         "orientation": "v",
         "showlegend": true,
         "textposition": "auto",
         "type": "bar",
         "x": [
          "MEDICAMENTOS"
         ],
         "xaxis": "x",
         "y": [
          834
         ],
         "yaxis": "y"
        },
        {
         "alignmentgroup": "True",
         "hovertemplate": "Subcategory of SKU=ANTICONCEPCIONAIS<br>Category of SKU=%{x}<br>Number of Items=%{y}<extra></extra>",
         "legendgroup": "ANTICONCEPCIONAIS",
         "marker": {
          "color": "#FECB52",
          "pattern": {
           "shape": ""
          }
         },
         "name": "ANTICONCEPCIONAIS",
         "offsetgroup": "ANTICONCEPCIONAIS",
         "orientation": "v",
         "showlegend": true,
         "textposition": "auto",
         "type": "bar",
         "x": [
          "MEDICAMENTOS"
         ],
         "xaxis": "x",
         "y": [
          29677
         ],
         "yaxis": "y"
        },
        {
         "alignmentgroup": "True",
         "hovertemplate": "Subcategory of SKU=ANTICONCEPCIONAIS ONEROSOS<br>Category of SKU=%{x}<br>Number of Items=%{y}<extra></extra>",
         "legendgroup": "ANTICONCEPCIONAIS ONEROSOS",
         "marker": {
          "color": "#636efa",
          "pattern": {
           "shape": ""
          }
         },
         "name": "ANTICONCEPCIONAIS ONEROSOS",
         "offsetgroup": "ANTICONCEPCIONAIS ONEROSOS",
         "orientation": "v",
         "showlegend": true,
         "textposition": "auto",
         "type": "bar",
         "x": [
          "MEDICAMENTOS"
         ],
         "xaxis": "x",
         "y": [
          44604
         ],
         "yaxis": "y"
        },
        {
         "alignmentgroup": "True",
         "hovertemplate": "Subcategory of SKU=CAMPANHA<br>Category of SKU=%{x}<br>Number of Items=%{y}<extra></extra>",
         "legendgroup": "CAMPANHA",
         "marker": {
          "color": "#EF553B",
          "pattern": {
           "shape": ""
          }
         },
         "name": "CAMPANHA",
         "offsetgroup": "CAMPANHA",
         "orientation": "v",
         "showlegend": true,
         "textposition": "auto",
         "type": "bar",
         "x": [
          "MEDICAMENTOS"
         ],
         "xaxis": "x",
         "y": [
          71547
         ],
         "yaxis": "y"
        },
        {
         "alignmentgroup": "True",
         "hovertemplate": "Subcategory of SKU=FITOTERAPICOS<br>Category of SKU=%{x}<br>Number of Items=%{y}<extra></extra>",
         "legendgroup": "FITOTERAPICOS",
         "marker": {
          "color": "#00cc96",
          "pattern": {
           "shape": ""
          }
         },
         "name": "FITOTERAPICOS",
         "offsetgroup": "FITOTERAPICOS",
         "orientation": "v",
         "showlegend": true,
         "textposition": "auto",
         "type": "bar",
         "x": [
          "MEDICAMENTOS"
         ],
         "xaxis": "x",
         "y": [
          4249
         ],
         "yaxis": "y"
        },
        {
         "alignmentgroup": "True",
         "hovertemplate": "Subcategory of SKU=GENERICO AVULSO<br>Category of SKU=%{x}<br>Number of Items=%{y}<extra></extra>",
         "legendgroup": "GENERICO AVULSO",
         "marker": {
          "color": "#ab63fa",
          "pattern": {
           "shape": ""
          }
         },
         "name": "GENERICO AVULSO",
         "offsetgroup": "GENERICO AVULSO",
         "orientation": "v",
         "showlegend": true,
         "textposition": "auto",
         "type": "bar",
         "x": [
          "MEDICAMENTOS"
         ],
         "xaxis": "x",
         "y": [
          47870
         ],
         "yaxis": "y"
        },
        {
         "alignmentgroup": "True",
         "hovertemplate": "Subcategory of SKU=GENERICO CONTROLADO<br>Category of SKU=%{x}<br>Number of Items=%{y}<extra></extra>",
         "legendgroup": "GENERICO CONTROLADO",
         "marker": {
          "color": "#FFA15A",
          "pattern": {
           "shape": ""
          }
         },
         "name": "GENERICO CONTROLADO",
         "offsetgroup": "GENERICO CONTROLADO",
         "orientation": "v",
         "showlegend": true,
         "textposition": "auto",
         "type": "bar",
         "x": [
          "MEDICAMENTOS"
         ],
         "xaxis": "x",
         "y": [
          100652
         ],
         "yaxis": "y"
        },
        {
         "alignmentgroup": "True",
         "hovertemplate": "Subcategory of SKU=GENERICO CONTROLADO SUPER ONEROSO<br>Category of SKU=%{x}<br>Number of Items=%{y}<extra></extra>",
         "legendgroup": "GENERICO CONTROLADO SUPER ONEROSO",
         "marker": {
          "color": "#19d3f3",
          "pattern": {
           "shape": ""
          }
         },
         "name": "GENERICO CONTROLADO SUPER ONEROSO",
         "offsetgroup": "GENERICO CONTROLADO SUPER ONEROSO",
         "orientation": "v",
         "showlegend": true,
         "textposition": "auto",
         "type": "bar",
         "x": [
          "MEDICAMENTOS"
         ],
         "xaxis": "x",
         "y": [
          93
         ],
         "yaxis": "y"
        },
        {
         "alignmentgroup": "True",
         "hovertemplate": "Subcategory of SKU=GENERICO SUPER ONEROSO<br>Category of SKU=%{x}<br>Number of Items=%{y}<extra></extra>",
         "legendgroup": "GENERICO SUPER ONEROSO",
         "marker": {
          "color": "#FF6692",
          "pattern": {
           "shape": ""
          }
         },
         "name": "GENERICO SUPER ONEROSO",
         "offsetgroup": "GENERICO SUPER ONEROSO",
         "orientation": "v",
         "showlegend": true,
         "textposition": "auto",
         "type": "bar",
         "x": [
          "MEDICAMENTOS"
         ],
         "xaxis": "x",
         "y": [
          38353
         ],
         "yaxis": "y"
        },
        {
         "alignmentgroup": "True",
         "hovertemplate": "Subcategory of SKU=GENERICOS<br>Category of SKU=%{x}<br>Number of Items=%{y}<extra></extra>",
         "legendgroup": "GENERICOS",
         "marker": {
          "color": "#B6E880",
          "pattern": {
           "shape": ""
          }
         },
         "name": "GENERICOS",
         "offsetgroup": "GENERICOS",
         "orientation": "v",
         "showlegend": true,
         "textposition": "auto",
         "type": "bar",
         "x": [
          "MEDICAMENTOS"
         ],
         "xaxis": "x",
         "y": [
          613390
         ],
         "yaxis": "y"
        },
        {
         "alignmentgroup": "True",
         "hovertemplate": "Subcategory of SKU=GENERICOS ONEROSOS<br>Category of SKU=%{x}<br>Number of Items=%{y}<extra></extra>",
         "legendgroup": "GENERICOS ONEROSOS",
         "marker": {
          "color": "#FF97FF",
          "pattern": {
           "shape": ""
          }
         },
         "name": "GENERICOS ONEROSOS",
         "offsetgroup": "GENERICOS ONEROSOS",
         "orientation": "v",
         "showlegend": true,
         "textposition": "auto",
         "type": "bar",
         "x": [
          "MEDICAMENTOS"
         ],
         "xaxis": "x",
         "y": [
          214288
         ],
         "yaxis": "y"
        },
        {
         "alignmentgroup": "True",
         "hovertemplate": "Subcategory of SKU=GENERICOS ONEROSOS CONTROLADOS<br>Category of SKU=%{x}<br>Number of Items=%{y}<extra></extra>",
         "legendgroup": "GENERICOS ONEROSOS CONTROLADOS",
         "marker": {
          "color": "#FECB52",
          "pattern": {
           "shape": ""
          }
         },
         "name": "GENERICOS ONEROSOS CONTROLADOS",
         "offsetgroup": "GENERICOS ONEROSOS CONTROLADOS",
         "orientation": "v",
         "showlegend": true,
         "textposition": "auto",
         "type": "bar",
         "x": [
          "MEDICAMENTOS"
         ],
         "xaxis": "x",
         "y": [
          23739
         ],
         "yaxis": "y"
        },
        {
         "alignmentgroup": "True",
         "hovertemplate": "Subcategory of SKU=GENERICOS OTC/MIP<br>Category of SKU=%{x}<br>Number of Items=%{y}<extra></extra>",
         "legendgroup": "GENERICOS OTC/MIP",
         "marker": {
          "color": "#636efa",
          "pattern": {
           "shape": ""
          }
         },
         "name": "GENERICOS OTC/MIP",
         "offsetgroup": "GENERICOS OTC/MIP",
         "orientation": "v",
         "showlegend": true,
         "textposition": "auto",
         "type": "bar",
         "x": [
          "MEDICAMENTOS"
         ],
         "xaxis": "x",
         "y": [
          321720
         ],
         "yaxis": "y"
        },
        {
         "alignmentgroup": "True",
         "hovertemplate": "Subcategory of SKU=HOSPITALARES<br>Category of SKU=%{x}<br>Number of Items=%{y}<extra></extra>",
         "legendgroup": "HOSPITALARES",
         "marker": {
          "color": "#EF553B",
          "pattern": {
           "shape": ""
          }
         },
         "name": "HOSPITALARES",
         "offsetgroup": "HOSPITALARES",
         "orientation": "v",
         "showlegend": true,
         "textposition": "auto",
         "type": "bar",
         "x": [
          "MEDICAMENTOS"
         ],
         "xaxis": "x",
         "y": [
          364788
         ],
         "yaxis": "y"
        },
        {
         "alignmentgroup": "True",
         "hovertemplate": "Subcategory of SKU=LIBERADOS<br>Category of SKU=%{x}<br>Number of Items=%{y}<extra></extra>",
         "legendgroup": "LIBERADOS",
         "marker": {
          "color": "#00cc96",
          "pattern": {
           "shape": ""
          }
         },
         "name": "LIBERADOS",
         "offsetgroup": "LIBERADOS",
         "orientation": "v",
         "showlegend": true,
         "textposition": "auto",
         "type": "bar",
         "x": [
          "MEDICAMENTOS"
         ],
         "xaxis": "x",
         "y": [
          114838
         ],
         "yaxis": "y"
        },
        {
         "alignmentgroup": "True",
         "hovertemplate": "Subcategory of SKU=MEDICAMENTOS DERMO COSMETICOS<br>Category of SKU=%{x}<br>Number of Items=%{y}<extra></extra>",
         "legendgroup": "MEDICAMENTOS DERMO COSMETICOS",
         "marker": {
          "color": "#ab63fa",
          "pattern": {
           "shape": ""
          }
         },
         "name": "MEDICAMENTOS DERMO COSMETICOS",
         "offsetgroup": "MEDICAMENTOS DERMO COSMETICOS",
         "orientation": "v",
         "showlegend": true,
         "textposition": "auto",
         "type": "bar",
         "x": [
          "MEDICAMENTOS"
         ],
         "xaxis": "x",
         "y": [
          3
         ],
         "yaxis": "y"
        },
        {
         "alignmentgroup": "True",
         "hovertemplate": "Subcategory of SKU=PBM CONTROLADO CUPOM DESCONTO<br>Category of SKU=%{x}<br>Number of Items=%{y}<extra></extra>",
         "legendgroup": "PBM CONTROLADO CUPOM DESCONTO",
         "marker": {
          "color": "#FFA15A",
          "pattern": {
           "shape": ""
          }
         },
         "name": "PBM CONTROLADO CUPOM DESCONTO",
         "offsetgroup": "PBM CONTROLADO CUPOM DESCONTO",
         "orientation": "v",
         "showlegend": true,
         "textposition": "auto",
         "type": "bar",
         "x": [
          "MEDICAMENTOS"
         ],
         "xaxis": "x",
         "y": [
          2079
         ],
         "yaxis": "y"
        },
        {
         "alignmentgroup": "True",
         "hovertemplate": "Subcategory of SKU=PBM CUPOM DESCONTO<br>Category of SKU=%{x}<br>Number of Items=%{y}<extra></extra>",
         "legendgroup": "PBM CUPOM DESCONTO",
         "marker": {
          "color": "#19d3f3",
          "pattern": {
           "shape": ""
          }
         },
         "name": "PBM CUPOM DESCONTO",
         "offsetgroup": "PBM CUPOM DESCONTO",
         "orientation": "v",
         "showlegend": true,
         "textposition": "auto",
         "type": "bar",
         "x": [
          "MEDICAMENTOS"
         ],
         "xaxis": "x",
         "y": [
          6842
         ],
         "yaxis": "y"
        },
        {
         "alignmentgroup": "True",
         "hovertemplate": "Subcategory of SKU=PBM ESPECIAL<br>Category of SKU=%{x}<br>Number of Items=%{y}<extra></extra>",
         "legendgroup": "PBM ESPECIAL",
         "marker": {
          "color": "#FF6692",
          "pattern": {
           "shape": ""
          }
         },
         "name": "PBM ESPECIAL",
         "offsetgroup": "PBM ESPECIAL",
         "orientation": "v",
         "showlegend": true,
         "textposition": "auto",
         "type": "bar",
         "x": [
          "MEDICAMENTOS"
         ],
         "xaxis": "x",
         "y": [
          10529
         ],
         "yaxis": "y"
        },
        {
         "alignmentgroup": "True",
         "hovertemplate": "Subcategory of SKU=PBM REFERENCIA LIBERADO<br>Category of SKU=%{x}<br>Number of Items=%{y}<extra></extra>",
         "legendgroup": "PBM REFERENCIA LIBERADO",
         "marker": {
          "color": "#B6E880",
          "pattern": {
           "shape": ""
          }
         },
         "name": "PBM REFERENCIA LIBERADO",
         "offsetgroup": "PBM REFERENCIA LIBERADO",
         "orientation": "v",
         "showlegend": true,
         "textposition": "auto",
         "type": "bar",
         "x": [
          "MEDICAMENTOS"
         ],
         "xaxis": "x",
         "y": [
          4943
         ],
         "yaxis": "y"
        },
        {
         "alignmentgroup": "True",
         "hovertemplate": "Subcategory of SKU=PBMS<br>Category of SKU=%{x}<br>Number of Items=%{y}<extra></extra>",
         "legendgroup": "PBMS",
         "marker": {
          "color": "#FF97FF",
          "pattern": {
           "shape": ""
          }
         },
         "name": "PBMS",
         "offsetgroup": "PBMS",
         "orientation": "v",
         "showlegend": true,
         "textposition": "auto",
         "type": "bar",
         "x": [
          "MEDICAMENTOS"
         ],
         "xaxis": "x",
         "y": [
          54465
         ],
         "yaxis": "y"
        },
        {
         "alignmentgroup": "True",
         "hovertemplate": "Subcategory of SKU=PBMS ANTIBIOTICO CONT.<br>Category of SKU=%{x}<br>Number of Items=%{y}<extra></extra>",
         "legendgroup": "PBMS ANTIBIOTICO CONT.",
         "marker": {
          "color": "#FECB52",
          "pattern": {
           "shape": ""
          }
         },
         "name": "PBMS ANTIBIOTICO CONT.",
         "offsetgroup": "PBMS ANTIBIOTICO CONT.",
         "orientation": "v",
         "showlegend": true,
         "textposition": "auto",
         "type": "bar",
         "x": [
          "MEDICAMENTOS"
         ],
         "xaxis": "x",
         "y": [
          4892
         ],
         "yaxis": "y"
        },
        {
         "alignmentgroup": "True",
         "hovertemplate": "Subcategory of SKU=PBMS COMBO<br>Category of SKU=%{x}<br>Number of Items=%{y}<extra></extra>",
         "legendgroup": "PBMS COMBO",
         "marker": {
          "color": "#636efa",
          "pattern": {
           "shape": ""
          }
         },
         "name": "PBMS COMBO",
         "offsetgroup": "PBMS COMBO",
         "orientation": "v",
         "showlegend": true,
         "textposition": "auto",
         "type": "bar",
         "x": [
          "MEDICAMENTOS"
         ],
         "xaxis": "x",
         "y": [
          16922
         ],
         "yaxis": "y"
        },
        {
         "alignmentgroup": "True",
         "hovertemplate": "Subcategory of SKU=PBMS COMBO CONTROLADOS<br>Category of SKU=%{x}<br>Number of Items=%{y}<extra></extra>",
         "legendgroup": "PBMS COMBO CONTROLADOS",
         "marker": {
          "color": "#EF553B",
          "pattern": {
           "shape": ""
          }
         },
         "name": "PBMS COMBO CONTROLADOS",
         "offsetgroup": "PBMS COMBO CONTROLADOS",
         "orientation": "v",
         "showlegend": true,
         "textposition": "auto",
         "type": "bar",
         "x": [
          "MEDICAMENTOS"
         ],
         "xaxis": "x",
         "y": [
          998
         ],
         "yaxis": "y"
        },
        {
         "alignmentgroup": "True",
         "hovertemplate": "Subcategory of SKU=PBMS CONTROLADOS<br>Category of SKU=%{x}<br>Number of Items=%{y}<extra></extra>",
         "legendgroup": "PBMS CONTROLADOS",
         "marker": {
          "color": "#00cc96",
          "pattern": {
           "shape": ""
          }
         },
         "name": "PBMS CONTROLADOS",
         "offsetgroup": "PBMS CONTROLADOS",
         "orientation": "v",
         "showlegend": true,
         "textposition": "auto",
         "type": "bar",
         "x": [
          "MEDICAMENTOS"
         ],
         "xaxis": "x",
         "y": [
          8561
         ],
         "yaxis": "y"
        },
        {
         "alignmentgroup": "True",
         "hovertemplate": "Subcategory of SKU=PREMIACAO EXCLUSIVA<br>Category of SKU=%{x}<br>Number of Items=%{y}<extra></extra>",
         "legendgroup": "PREMIACAO EXCLUSIVA",
         "marker": {
          "color": "#ab63fa",
          "pattern": {
           "shape": ""
          }
         },
         "name": "PREMIACAO EXCLUSIVA",
         "offsetgroup": "PREMIACAO EXCLUSIVA",
         "orientation": "v",
         "showlegend": true,
         "textposition": "auto",
         "type": "bar",
         "x": [
          "MEDICAMENTOS"
         ],
         "xaxis": "x",
         "y": [
          121908
         ],
         "yaxis": "y"
        },
        {
         "alignmentgroup": "True",
         "hovertemplate": "Subcategory of SKU=REFERENCIA<br>Category of SKU=%{x}<br>Number of Items=%{y}<extra></extra>",
         "legendgroup": "REFERENCIA",
         "marker": {
          "color": "#FFA15A",
          "pattern": {
           "shape": ""
          }
         },
         "name": "REFERENCIA",
         "offsetgroup": "REFERENCIA",
         "orientation": "v",
         "showlegend": true,
         "textposition": "auto",
         "type": "bar",
         "x": [
          "MEDICAMENTOS"
         ],
         "xaxis": "x",
         "y": [
          190042
         ],
         "yaxis": "y"
        },
        {
         "alignmentgroup": "True",
         "hovertemplate": "Subcategory of SKU=REFERENCIA - GRUPO 2 CB<br>Category of SKU=%{x}<br>Number of Items=%{y}<extra></extra>",
         "legendgroup": "REFERENCIA - GRUPO 2 CB",
         "marker": {
          "color": "#19d3f3",
          "pattern": {
           "shape": ""
          }
         },
         "name": "REFERENCIA - GRUPO 2 CB",
         "offsetgroup": "REFERENCIA - GRUPO 2 CB",
         "orientation": "v",
         "showlegend": true,
         "textposition": "auto",
         "type": "bar",
         "x": [
          "MEDICAMENTOS"
         ],
         "xaxis": "x",
         "y": [
          232
         ],
         "yaxis": "y"
        },
        {
         "alignmentgroup": "True",
         "hovertemplate": "Subcategory of SKU=REFERENCIA AVULSO<br>Category of SKU=%{x}<br>Number of Items=%{y}<extra></extra>",
         "legendgroup": "REFERENCIA AVULSO",
         "marker": {
          "color": "#FF6692",
          "pattern": {
           "shape": ""
          }
         },
         "name": "REFERENCIA AVULSO",
         "offsetgroup": "REFERENCIA AVULSO",
         "orientation": "v",
         "showlegend": true,
         "textposition": "auto",
         "type": "bar",
         "x": [
          "MEDICAMENTOS"
         ],
         "xaxis": "x",
         "y": [
          317648
         ],
         "yaxis": "y"
        },
        {
         "alignmentgroup": "True",
         "hovertemplate": "Subcategory of SKU=REFERENCIA CONTROLADO<br>Category of SKU=%{x}<br>Number of Items=%{y}<extra></extra>",
         "legendgroup": "REFERENCIA CONTROLADO",
         "marker": {
          "color": "#B6E880",
          "pattern": {
           "shape": ""
          }
         },
         "name": "REFERENCIA CONTROLADO",
         "offsetgroup": "REFERENCIA CONTROLADO",
         "orientation": "v",
         "showlegend": true,
         "textposition": "auto",
         "type": "bar",
         "x": [
          "MEDICAMENTOS"
         ],
         "xaxis": "x",
         "y": [
          46549
         ],
         "yaxis": "y"
        },
        {
         "alignmentgroup": "True",
         "hovertemplate": "Subcategory of SKU=REFERENCIA ESPECIAIS CONTROLADOS<br>Category of SKU=%{x}<br>Number of Items=%{y}<extra></extra>",
         "legendgroup": "REFERENCIA ESPECIAIS CONTROLADOS",
         "marker": {
          "color": "#FF97FF",
          "pattern": {
           "shape": ""
          }
         },
         "name": "REFERENCIA ESPECIAIS CONTROLADOS",
         "offsetgroup": "REFERENCIA ESPECIAIS CONTROLADOS",
         "orientation": "v",
         "showlegend": true,
         "textposition": "auto",
         "type": "bar",
         "x": [
          "MEDICAMENTOS"
         ],
         "xaxis": "x",
         "y": [
          87
         ],
         "yaxis": "y"
        },
        {
         "alignmentgroup": "True",
         "hovertemplate": "Subcategory of SKU=REFERENCIA ESPECIAL<br>Category of SKU=%{x}<br>Number of Items=%{y}<extra></extra>",
         "legendgroup": "REFERENCIA ESPECIAL",
         "marker": {
          "color": "#FECB52",
          "pattern": {
           "shape": ""
          }
         },
         "name": "REFERENCIA ESPECIAL",
         "offsetgroup": "REFERENCIA ESPECIAL",
         "orientation": "v",
         "showlegend": true,
         "textposition": "auto",
         "type": "bar",
         "x": [
          "MEDICAMENTOS"
         ],
         "xaxis": "x",
         "y": [
          773
         ],
         "yaxis": "y"
        },
        {
         "alignmentgroup": "True",
         "hovertemplate": "Subcategory of SKU=REFERENCIA ESPECIAL ONEROSO<br>Category of SKU=%{x}<br>Number of Items=%{y}<extra></extra>",
         "legendgroup": "REFERENCIA ESPECIAL ONEROSO",
         "marker": {
          "color": "#636efa",
          "pattern": {
           "shape": ""
          }
         },
         "name": "REFERENCIA ESPECIAL ONEROSO",
         "offsetgroup": "REFERENCIA ESPECIAL ONEROSO",
         "orientation": "v",
         "showlegend": true,
         "textposition": "auto",
         "type": "bar",
         "x": [
          "MEDICAMENTOS"
         ],
         "xaxis": "x",
         "y": [
          853
         ],
         "yaxis": "y"
        },
        {
         "alignmentgroup": "True",
         "hovertemplate": "Subcategory of SKU=REFERENCIA FARMACIA POPULAR<br>Category of SKU=%{x}<br>Number of Items=%{y}<extra></extra>",
         "legendgroup": "REFERENCIA FARMACIA POPULAR",
         "marker": {
          "color": "#EF553B",
          "pattern": {
           "shape": ""
          }
         },
         "name": "REFERENCIA FARMACIA POPULAR",
         "offsetgroup": "REFERENCIA FARMACIA POPULAR",
         "orientation": "v",
         "showlegend": true,
         "textposition": "auto",
         "type": "bar",
         "x": [
          "MEDICAMENTOS"
         ],
         "xaxis": "x",
         "y": [
          66351
         ],
         "yaxis": "y"
        },
        {
         "alignmentgroup": "True",
         "hovertemplate": "Subcategory of SKU=REFERENCIA LIBERADO<br>Category of SKU=%{x}<br>Number of Items=%{y}<extra></extra>",
         "legendgroup": "REFERENCIA LIBERADO",
         "marker": {
          "color": "#00cc96",
          "pattern": {
           "shape": ""
          }
         },
         "name": "REFERENCIA LIBERADO",
         "offsetgroup": "REFERENCIA LIBERADO",
         "orientation": "v",
         "showlegend": true,
         "textposition": "auto",
         "type": "bar",
         "x": [
          "MEDICAMENTOS"
         ],
         "xaxis": "x",
         "y": [
          67266
         ],
         "yaxis": "y"
        },
        {
         "alignmentgroup": "True",
         "hovertemplate": "Subcategory of SKU=REFERENCIA LIBERADO ONEROSOS<br>Category of SKU=%{x}<br>Number of Items=%{y}<extra></extra>",
         "legendgroup": "REFERENCIA LIBERADO ONEROSOS",
         "marker": {
          "color": "#ab63fa",
          "pattern": {
           "shape": ""
          }
         },
         "name": "REFERENCIA LIBERADO ONEROSOS",
         "offsetgroup": "REFERENCIA LIBERADO ONEROSOS",
         "orientation": "v",
         "showlegend": true,
         "textposition": "auto",
         "type": "bar",
         "x": [
          "MEDICAMENTOS"
         ],
         "xaxis": "x",
         "y": [
          8546
         ],
         "yaxis": "y"
        },
        {
         "alignmentgroup": "True",
         "hovertemplate": "Subcategory of SKU=REFERENCIA LIBERADO SUPER ONEROSOS<br>Category of SKU=%{x}<br>Number of Items=%{y}<extra></extra>",
         "legendgroup": "REFERENCIA LIBERADO SUPER ONEROSOS",
         "marker": {
          "color": "#FFA15A",
          "pattern": {
           "shape": ""
          }
         },
         "name": "REFERENCIA LIBERADO SUPER ONEROSOS",
         "offsetgroup": "REFERENCIA LIBERADO SUPER ONEROSOS",
         "orientation": "v",
         "showlegend": true,
         "textposition": "auto",
         "type": "bar",
         "x": [
          "MEDICAMENTOS"
         ],
         "xaxis": "x",
         "y": [
          28450
         ],
         "yaxis": "y"
        },
        {
         "alignmentgroup": "True",
         "hovertemplate": "Subcategory of SKU=REFERENCIA ONEROSO CONTROLADO<br>Category of SKU=%{x}<br>Number of Items=%{y}<extra></extra>",
         "legendgroup": "REFERENCIA ONEROSO CONTROLADO",
         "marker": {
          "color": "#19d3f3",
          "pattern": {
           "shape": ""
          }
         },
         "name": "REFERENCIA ONEROSO CONTROLADO",
         "offsetgroup": "REFERENCIA ONEROSO CONTROLADO",
         "orientation": "v",
         "showlegend": true,
         "textposition": "auto",
         "type": "bar",
         "x": [
          "MEDICAMENTOS"
         ],
         "xaxis": "x",
         "y": [
          39344
         ],
         "yaxis": "y"
        },
        {
         "alignmentgroup": "True",
         "hovertemplate": "Subcategory of SKU=REFERENCIA ONEROSO INSULINA<br>Category of SKU=%{x}<br>Number of Items=%{y}<extra></extra>",
         "legendgroup": "REFERENCIA ONEROSO INSULINA",
         "marker": {
          "color": "#FF6692",
          "pattern": {
           "shape": ""
          }
         },
         "name": "REFERENCIA ONEROSO INSULINA",
         "offsetgroup": "REFERENCIA ONEROSO INSULINA",
         "orientation": "v",
         "showlegend": true,
         "textposition": "auto",
         "type": "bar",
         "x": [
          "MEDICAMENTOS"
         ],
         "xaxis": "x",
         "y": [
          1493
         ],
         "yaxis": "y"
        },
        {
         "alignmentgroup": "True",
         "hovertemplate": "Subcategory of SKU=REFERENCIA ONEROSOS<br>Category of SKU=%{x}<br>Number of Items=%{y}<extra></extra>",
         "legendgroup": "REFERENCIA ONEROSOS",
         "marker": {
          "color": "#B6E880",
          "pattern": {
           "shape": ""
          }
         },
         "name": "REFERENCIA ONEROSOS",
         "offsetgroup": "REFERENCIA ONEROSOS",
         "orientation": "v",
         "showlegend": true,
         "textposition": "auto",
         "type": "bar",
         "x": [
          "MEDICAMENTOS"
         ],
         "xaxis": "x",
         "y": [
          350723
         ],
         "yaxis": "y"
        },
        {
         "alignmentgroup": "True",
         "hovertemplate": "Subcategory of SKU=REFERENCIA SUPER ONEROSOS<br>Category of SKU=%{x}<br>Number of Items=%{y}<extra></extra>",
         "legendgroup": "REFERENCIA SUPER ONEROSOS",
         "marker": {
          "color": "#FF97FF",
          "pattern": {
           "shape": ""
          }
         },
         "name": "REFERENCIA SUPER ONEROSOS",
         "offsetgroup": "REFERENCIA SUPER ONEROSOS",
         "orientation": "v",
         "showlegend": true,
         "textposition": "auto",
         "type": "bar",
         "x": [
          "MEDICAMENTOS"
         ],
         "xaxis": "x",
         "y": [
          265210
         ],
         "yaxis": "y"
        },
        {
         "alignmentgroup": "True",
         "hovertemplate": "Subcategory of SKU=REFERENCIA SUPER ONEROSOS CONTROLADO<br>Category of SKU=%{x}<br>Number of Items=%{y}<extra></extra>",
         "legendgroup": "REFERENCIA SUPER ONEROSOS CONTROLADO",
         "marker": {
          "color": "#FECB52",
          "pattern": {
           "shape": ""
          }
         },
         "name": "REFERENCIA SUPER ONEROSOS CONTROLADO",
         "offsetgroup": "REFERENCIA SUPER ONEROSOS CONTROLADO",
         "orientation": "v",
         "showlegend": true,
         "textposition": "auto",
         "type": "bar",
         "x": [
          "MEDICAMENTOS"
         ],
         "xaxis": "x",
         "y": [
          15183
         ],
         "yaxis": "y"
        },
        {
         "alignmentgroup": "True",
         "hovertemplate": "Subcategory of SKU=SIMILAR<br>Category of SKU=%{x}<br>Number of Items=%{y}<extra></extra>",
         "legendgroup": "SIMILAR",
         "marker": {
          "color": "#636efa",
          "pattern": {
           "shape": ""
          }
         },
         "name": "SIMILAR",
         "offsetgroup": "SIMILAR",
         "orientation": "v",
         "showlegend": true,
         "textposition": "auto",
         "type": "bar",
         "x": [
          "MEDICAMENTOS"
         ],
         "xaxis": "x",
         "y": [
          290915
         ],
         "yaxis": "y"
        },
        {
         "alignmentgroup": "True",
         "hovertemplate": "Subcategory of SKU=SIMILAR AVULSO<br>Category of SKU=%{x}<br>Number of Items=%{y}<extra></extra>",
         "legendgroup": "SIMILAR AVULSO",
         "marker": {
          "color": "#EF553B",
          "pattern": {
           "shape": ""
          }
         },
         "name": "SIMILAR AVULSO",
         "offsetgroup": "SIMILAR AVULSO",
         "orientation": "v",
         "showlegend": true,
         "textposition": "auto",
         "type": "bar",
         "x": [
          "MEDICAMENTOS"
         ],
         "xaxis": "x",
         "y": [
          101918
         ],
         "yaxis": "y"
        },
        {
         "alignmentgroup": "True",
         "hovertemplate": "Subcategory of SKU=SIMILAR CONTROLADO<br>Category of SKU=%{x}<br>Number of Items=%{y}<extra></extra>",
         "legendgroup": "SIMILAR CONTROLADO",
         "marker": {
          "color": "#00cc96",
          "pattern": {
           "shape": ""
          }
         },
         "name": "SIMILAR CONTROLADO",
         "offsetgroup": "SIMILAR CONTROLADO",
         "orientation": "v",
         "showlegend": true,
         "textposition": "auto",
         "type": "bar",
         "x": [
          "MEDICAMENTOS"
         ],
         "xaxis": "x",
         "y": [
          28
         ],
         "yaxis": "y"
        },
        {
         "alignmentgroup": "True",
         "hovertemplate": "Subcategory of SKU=SIMILAR ONEROSO<br>Category of SKU=%{x}<br>Number of Items=%{y}<extra></extra>",
         "legendgroup": "SIMILAR ONEROSO",
         "marker": {
          "color": "#ab63fa",
          "pattern": {
           "shape": ""
          }
         },
         "name": "SIMILAR ONEROSO",
         "offsetgroup": "SIMILAR ONEROSO",
         "orientation": "v",
         "showlegend": true,
         "textposition": "auto",
         "type": "bar",
         "x": [
          "MEDICAMENTOS"
         ],
         "xaxis": "x",
         "y": [
          118832
         ],
         "yaxis": "y"
        },
        {
         "alignmentgroup": "True",
         "hovertemplate": "Subcategory of SKU=TESTE COVID19<br>Category of SKU=%{x}<br>Number of Items=%{y}<extra></extra>",
         "legendgroup": "TESTE COVID19",
         "marker": {
          "color": "#FFA15A",
          "pattern": {
           "shape": ""
          }
         },
         "name": "TESTE COVID19",
         "offsetgroup": "TESTE COVID19",
         "orientation": "v",
         "showlegend": true,
         "textposition": "auto",
         "type": "bar",
         "x": [
          "MEDICAMENTOS"
         ],
         "xaxis": "x",
         "y": [
          19015
         ],
         "yaxis": "y"
        },
        {
         "alignmentgroup": "True",
         "hovertemplate": "Subcategory of SKU=TESTES LABORATORIAIS REMOTOS<br>Category of SKU=%{x}<br>Number of Items=%{y}<extra></extra>",
         "legendgroup": "TESTES LABORATORIAIS REMOTOS",
         "marker": {
          "color": "#19d3f3",
          "pattern": {
           "shape": ""
          }
         },
         "name": "TESTES LABORATORIAIS REMOTOS",
         "offsetgroup": "TESTES LABORATORIAIS REMOTOS",
         "orientation": "v",
         "showlegend": true,
         "textposition": "auto",
         "type": "bar",
         "x": [
          "MEDICAMENTOS"
         ],
         "xaxis": "x",
         "y": [
          1381
         ],
         "yaxis": "y"
        },
        {
         "alignmentgroup": "True",
         "hovertemplate": "Subcategory of SKU=VACINA GRIPE<br>Category of SKU=%{x}<br>Number of Items=%{y}<extra></extra>",
         "legendgroup": "VACINA GRIPE",
         "marker": {
          "color": "#FF6692",
          "pattern": {
           "shape": ""
          }
         },
         "name": "VACINA GRIPE",
         "offsetgroup": "VACINA GRIPE",
         "orientation": "v",
         "showlegend": true,
         "textposition": "auto",
         "type": "bar",
         "x": [
          "MEDICAMENTOS"
         ],
         "xaxis": "x",
         "y": [
          7001
         ],
         "yaxis": "y"
        },
        {
         "alignmentgroup": "True",
         "hovertemplate": "Subcategory of SKU=NUTRICAO ESPECIAIS<br>Category of SKU=%{x}<br>Number of Items=%{y}<extra></extra>",
         "legendgroup": "NUTRICAO ESPECIAIS",
         "marker": {
          "color": "#B6E880",
          "pattern": {
           "shape": ""
          }
         },
         "name": "NUTRICAO ESPECIAIS",
         "offsetgroup": "NUTRICAO ESPECIAIS",
         "orientation": "v",
         "showlegend": true,
         "textposition": "auto",
         "type": "bar",
         "x": [
          "NUTRICAO"
         ],
         "xaxis": "x",
         "y": [
          123
         ],
         "yaxis": "y"
        },
        {
         "alignmentgroup": "True",
         "hovertemplate": "Subcategory of SKU=NUTRICAO LEITES<br>Category of SKU=%{x}<br>Number of Items=%{y}<extra></extra>",
         "legendgroup": "NUTRICAO LEITES",
         "marker": {
          "color": "#FF97FF",
          "pattern": {
           "shape": ""
          }
         },
         "name": "NUTRICAO LEITES",
         "offsetgroup": "NUTRICAO LEITES",
         "orientation": "v",
         "showlegend": true,
         "textposition": "auto",
         "type": "bar",
         "x": [
          "NUTRICAO"
         ],
         "xaxis": "x",
         "y": [
          33173
         ],
         "yaxis": "y"
        },
        {
         "alignmentgroup": "True",
         "hovertemplate": "Subcategory of SKU=NUTRICAO OUTROS<br>Category of SKU=%{x}<br>Number of Items=%{y}<extra></extra>",
         "legendgroup": "NUTRICAO OUTROS",
         "marker": {
          "color": "#FECB52",
          "pattern": {
           "shape": ""
          }
         },
         "name": "NUTRICAO OUTROS",
         "offsetgroup": "NUTRICAO OUTROS",
         "orientation": "v",
         "showlegend": true,
         "textposition": "auto",
         "type": "bar",
         "x": [
          "NUTRICAO"
         ],
         "xaxis": "x",
         "y": [
          30518
         ],
         "yaxis": "y"
        },
        {
         "alignmentgroup": "True",
         "hovertemplate": "Subcategory of SKU=ABSORVENTES E LENÇOS SUBSTITUIDO<br>Category of SKU=%{x}<br>Number of Items=%{y}<extra></extra>",
         "legendgroup": "ABSORVENTES E LENÇOS SUBSTITUIDO",
         "marker": {
          "color": "#636efa",
          "pattern": {
           "shape": ""
          }
         },
         "name": "ABSORVENTES E LENÇOS SUBSTITUIDO",
         "offsetgroup": "ABSORVENTES E LENÇOS SUBSTITUIDO",
         "orientation": "v",
         "showlegend": true,
         "textposition": "auto",
         "type": "bar",
         "x": [
          "PERFUMARIA"
         ],
         "xaxis": "x",
         "y": [
          156440
         ],
         "yaxis": "y"
        },
        {
         "alignmentgroup": "True",
         "hovertemplate": "Subcategory of SKU=FRALDA EXCLUSIVA<br>Category of SKU=%{x}<br>Number of Items=%{y}<extra></extra>",
         "legendgroup": "FRALDA EXCLUSIVA",
         "marker": {
          "color": "#EF553B",
          "pattern": {
           "shape": ""
          }
         },
         "name": "FRALDA EXCLUSIVA",
         "offsetgroup": "FRALDA EXCLUSIVA",
         "orientation": "v",
         "showlegend": true,
         "textposition": "auto",
         "type": "bar",
         "x": [
          "PERFUMARIA"
         ],
         "xaxis": "x",
         "y": [
          92379
         ],
         "yaxis": "y"
        },
        {
         "alignmentgroup": "True",
         "hovertemplate": "Subcategory of SKU=FRALDAS<br>Category of SKU=%{x}<br>Number of Items=%{y}<extra></extra>",
         "legendgroup": "FRALDAS",
         "marker": {
          "color": "#00cc96",
          "pattern": {
           "shape": ""
          }
         },
         "name": "FRALDAS",
         "offsetgroup": "FRALDAS",
         "orientation": "v",
         "showlegend": true,
         "textposition": "auto",
         "type": "bar",
         "x": [
          "PERFUMARIA"
         ],
         "xaxis": "x",
         "y": [
          120320
         ],
         "yaxis": "y"
        },
        {
         "alignmentgroup": "True",
         "hovertemplate": "Subcategory of SKU=HIGIENE PESSOAL<br>Category of SKU=%{x}<br>Number of Items=%{y}<extra></extra>",
         "legendgroup": "HIGIENE PESSOAL",
         "marker": {
          "color": "#ab63fa",
          "pattern": {
           "shape": ""
          }
         },
         "name": "HIGIENE PESSOAL",
         "offsetgroup": "HIGIENE PESSOAL",
         "orientation": "v",
         "showlegend": true,
         "textposition": "auto",
         "type": "bar",
         "x": [
          "PERFUMARIA"
         ],
         "xaxis": "x",
         "y": [
          164563
         ],
         "yaxis": "y"
        },
        {
         "alignmentgroup": "True",
         "hovertemplate": "Subcategory of SKU=LENCOS E TOALHAS UMEDECIDAS<br>Category of SKU=%{x}<br>Number of Items=%{y}<extra></extra>",
         "legendgroup": "LENCOS E TOALHAS UMEDECIDAS",
         "marker": {
          "color": "#FFA15A",
          "pattern": {
           "shape": ""
          }
         },
         "name": "LENCOS E TOALHAS UMEDECIDAS",
         "offsetgroup": "LENCOS E TOALHAS UMEDECIDAS",
         "orientation": "v",
         "showlegend": true,
         "textposition": "auto",
         "type": "bar",
         "x": [
          "PERFUMARIA"
         ],
         "xaxis": "x",
         "y": [
          117321
         ],
         "yaxis": "y"
        },
        {
         "alignmentgroup": "True",
         "hovertemplate": "Subcategory of SKU=PERFUMARIA<br>Category of SKU=%{x}<br>Number of Items=%{y}<extra></extra>",
         "legendgroup": "PERFUMARIA",
         "marker": {
          "color": "#19d3f3",
          "pattern": {
           "shape": ""
          }
         },
         "name": "PERFUMARIA",
         "offsetgroup": "PERFUMARIA",
         "orientation": "v",
         "showlegend": true,
         "textposition": "auto",
         "type": "bar",
         "x": [
          "PERFUMARIA"
         ],
         "xaxis": "x",
         "y": [
          2488231
         ],
         "yaxis": "y"
        },
        {
         "alignmentgroup": "True",
         "hovertemplate": "Subcategory of SKU=PERFUMARIA EXCLUSIVA<br>Category of SKU=%{x}<br>Number of Items=%{y}<extra></extra>",
         "legendgroup": "PERFUMARIA EXCLUSIVA",
         "marker": {
          "color": "#FF6692",
          "pattern": {
           "shape": ""
          }
         },
         "name": "PERFUMARIA EXCLUSIVA",
         "offsetgroup": "PERFUMARIA EXCLUSIVA",
         "orientation": "v",
         "showlegend": true,
         "textposition": "auto",
         "type": "bar",
         "x": [
          "PERFUMARIA"
         ],
         "xaxis": "x",
         "y": [
          37673
         ],
         "yaxis": "y"
        },
        {
         "alignmentgroup": "True",
         "hovertemplate": "Subcategory of SKU=PERFUMARIA EXCLUSIVA PREMIACAO<br>Category of SKU=%{x}<br>Number of Items=%{y}<extra></extra>",
         "legendgroup": "PERFUMARIA EXCLUSIVA PREMIACAO",
         "marker": {
          "color": "#B6E880",
          "pattern": {
           "shape": ""
          }
         },
         "name": "PERFUMARIA EXCLUSIVA PREMIACAO",
         "offsetgroup": "PERFUMARIA EXCLUSIVA PREMIACAO",
         "orientation": "v",
         "showlegend": true,
         "textposition": "auto",
         "type": "bar",
         "x": [
          "PERFUMARIA"
         ],
         "xaxis": "x",
         "y": [
          58896
         ],
         "yaxis": "y"
        },
        {
         "alignmentgroup": "True",
         "hovertemplate": "Subcategory of SKU=SERVICOS FARMACEUTICOS<br>Category of SKU=%{x}<br>Number of Items=%{y}<extra></extra>",
         "legendgroup": "SERVICOS FARMACEUTICOS",
         "marker": {
          "color": "#FF97FF",
          "pattern": {
           "shape": ""
          }
         },
         "name": "SERVICOS FARMACEUTICOS",
         "offsetgroup": "SERVICOS FARMACEUTICOS",
         "orientation": "v",
         "showlegend": true,
         "textposition": "auto",
         "type": "bar",
         "x": [
          "SERVIÇOS"
         ],
         "xaxis": "x",
         "y": [
          44990
         ],
         "yaxis": "y"
        },
        {
         "alignmentgroup": "True",
         "hovertemplate": "Subcategory of SKU=SERVICOS TROCO SOLIDARIO<br>Category of SKU=%{x}<br>Number of Items=%{y}<extra></extra>",
         "legendgroup": "SERVICOS TROCO SOLIDARIO",
         "marker": {
          "color": "#FECB52",
          "pattern": {
           "shape": ""
          }
         },
         "name": "SERVICOS TROCO SOLIDARIO",
         "offsetgroup": "SERVICOS TROCO SOLIDARIO",
         "orientation": "v",
         "showlegend": true,
         "textposition": "auto",
         "type": "bar",
         "x": [
          "SERVIÇOS"
         ],
         "xaxis": "x",
         "y": [
          70
         ],
         "yaxis": "y"
        }
       ],
       "layout": {
        "barmode": "relative",
        "legend": {
         "title": {
          "text": "Subcategory of SKU"
         },
         "tracegroupgap": 0
        },
        "template": {
         "data": {
          "bar": [
           {
            "error_x": {
             "color": "#2a3f5f"
            },
            "error_y": {
             "color": "#2a3f5f"
            },
            "marker": {
             "line": {
              "color": "#E5ECF6",
              "width": 0.5
             },
             "pattern": {
              "fillmode": "overlay",
              "size": 10,
              "solidity": 0.2
             }
            },
            "type": "bar"
           }
          ],
          "barpolar": [
           {
            "marker": {
             "line": {
              "color": "#E5ECF6",
              "width": 0.5
             },
             "pattern": {
              "fillmode": "overlay",
              "size": 10,
              "solidity": 0.2
             }
            },
            "type": "barpolar"
           }
          ],
          "carpet": [
           {
            "aaxis": {
             "endlinecolor": "#2a3f5f",
             "gridcolor": "white",
             "linecolor": "white",
             "minorgridcolor": "white",
             "startlinecolor": "#2a3f5f"
            },
            "baxis": {
             "endlinecolor": "#2a3f5f",
             "gridcolor": "white",
             "linecolor": "white",
             "minorgridcolor": "white",
             "startlinecolor": "#2a3f5f"
            },
            "type": "carpet"
           }
          ],
          "choropleth": [
           {
            "colorbar": {
             "outlinewidth": 0,
             "ticks": ""
            },
            "type": "choropleth"
           }
          ],
          "contour": [
           {
            "colorbar": {
             "outlinewidth": 0,
             "ticks": ""
            },
            "colorscale": [
             [
              0,
              "#0d0887"
             ],
             [
              0.1111111111111111,
              "#46039f"
             ],
             [
              0.2222222222222222,
              "#7201a8"
             ],
             [
              0.3333333333333333,
              "#9c179e"
             ],
             [
              0.4444444444444444,
              "#bd3786"
             ],
             [
              0.5555555555555556,
              "#d8576b"
             ],
             [
              0.6666666666666666,
              "#ed7953"
             ],
             [
              0.7777777777777778,
              "#fb9f3a"
             ],
             [
              0.8888888888888888,
              "#fdca26"
             ],
             [
              1,
              "#f0f921"
             ]
            ],
            "type": "contour"
           }
          ],
          "contourcarpet": [
           {
            "colorbar": {
             "outlinewidth": 0,
             "ticks": ""
            },
            "type": "contourcarpet"
           }
          ],
          "heatmap": [
           {
            "colorbar": {
             "outlinewidth": 0,
             "ticks": ""
            },
            "colorscale": [
             [
              0,
              "#0d0887"
             ],
             [
              0.1111111111111111,
              "#46039f"
             ],
             [
              0.2222222222222222,
              "#7201a8"
             ],
             [
              0.3333333333333333,
              "#9c179e"
             ],
             [
              0.4444444444444444,
              "#bd3786"
             ],
             [
              0.5555555555555556,
              "#d8576b"
             ],
             [
              0.6666666666666666,
              "#ed7953"
             ],
             [
              0.7777777777777778,
              "#fb9f3a"
             ],
             [
              0.8888888888888888,
              "#fdca26"
             ],
             [
              1,
              "#f0f921"
             ]
            ],
            "type": "heatmap"
           }
          ],
          "heatmapgl": [
           {
            "colorbar": {
             "outlinewidth": 0,
             "ticks": ""
            },
            "colorscale": [
             [
              0,
              "#0d0887"
             ],
             [
              0.1111111111111111,
              "#46039f"
             ],
             [
              0.2222222222222222,
              "#7201a8"
             ],
             [
              0.3333333333333333,
              "#9c179e"
             ],
             [
              0.4444444444444444,
              "#bd3786"
             ],
             [
              0.5555555555555556,
              "#d8576b"
             ],
             [
              0.6666666666666666,
              "#ed7953"
             ],
             [
              0.7777777777777778,
              "#fb9f3a"
             ],
             [
              0.8888888888888888,
              "#fdca26"
             ],
             [
              1,
              "#f0f921"
             ]
            ],
            "type": "heatmapgl"
           }
          ],
          "histogram": [
           {
            "marker": {
             "pattern": {
              "fillmode": "overlay",
              "size": 10,
              "solidity": 0.2
             }
            },
            "type": "histogram"
           }
          ],
          "histogram2d": [
           {
            "colorbar": {
             "outlinewidth": 0,
             "ticks": ""
            },
            "colorscale": [
             [
              0,
              "#0d0887"
             ],
             [
              0.1111111111111111,
              "#46039f"
             ],
             [
              0.2222222222222222,
              "#7201a8"
             ],
             [
              0.3333333333333333,
              "#9c179e"
             ],
             [
              0.4444444444444444,
              "#bd3786"
             ],
             [
              0.5555555555555556,
              "#d8576b"
             ],
             [
              0.6666666666666666,
              "#ed7953"
             ],
             [
              0.7777777777777778,
              "#fb9f3a"
             ],
             [
              0.8888888888888888,
              "#fdca26"
             ],
             [
              1,
              "#f0f921"
             ]
            ],
            "type": "histogram2d"
           }
          ],
          "histogram2dcontour": [
           {
            "colorbar": {
             "outlinewidth": 0,
             "ticks": ""
            },
            "colorscale": [
             [
              0,
              "#0d0887"
             ],
             [
              0.1111111111111111,
              "#46039f"
             ],
             [
              0.2222222222222222,
              "#7201a8"
             ],
             [
              0.3333333333333333,
              "#9c179e"
             ],
             [
              0.4444444444444444,
              "#bd3786"
             ],
             [
              0.5555555555555556,
              "#d8576b"
             ],
             [
              0.6666666666666666,
              "#ed7953"
             ],
             [
              0.7777777777777778,
              "#fb9f3a"
             ],
             [
              0.8888888888888888,
              "#fdca26"
             ],
             [
              1,
              "#f0f921"
             ]
            ],
            "type": "histogram2dcontour"
           }
          ],
          "mesh3d": [
           {
            "colorbar": {
             "outlinewidth": 0,
             "ticks": ""
            },
            "type": "mesh3d"
           }
          ],
          "parcoords": [
           {
            "line": {
             "colorbar": {
              "outlinewidth": 0,
              "ticks": ""
             }
            },
            "type": "parcoords"
           }
          ],
          "pie": [
           {
            "automargin": true,
            "type": "pie"
           }
          ],
          "scatter": [
           {
            "fillpattern": {
             "fillmode": "overlay",
             "size": 10,
             "solidity": 0.2
            },
            "type": "scatter"
           }
          ],
          "scatter3d": [
           {
            "line": {
             "colorbar": {
              "outlinewidth": 0,
              "ticks": ""
             }
            },
            "marker": {
             "colorbar": {
              "outlinewidth": 0,
              "ticks": ""
             }
            },
            "type": "scatter3d"
           }
          ],
          "scattercarpet": [
           {
            "marker": {
             "colorbar": {
              "outlinewidth": 0,
              "ticks": ""
             }
            },
            "type": "scattercarpet"
           }
          ],
          "scattergeo": [
           {
            "marker": {
             "colorbar": {
              "outlinewidth": 0,
              "ticks": ""
             }
            },
            "type": "scattergeo"
           }
          ],
          "scattergl": [
           {
            "marker": {
             "colorbar": {
              "outlinewidth": 0,
              "ticks": ""
             }
            },
            "type": "scattergl"
           }
          ],
          "scattermapbox": [
           {
            "marker": {
             "colorbar": {
              "outlinewidth": 0,
              "ticks": ""
             }
            },
            "type": "scattermapbox"
           }
          ],
          "scatterpolar": [
           {
            "marker": {
             "colorbar": {
              "outlinewidth": 0,
              "ticks": ""
             }
            },
            "type": "scatterpolar"
           }
          ],
          "scatterpolargl": [
           {
            "marker": {
             "colorbar": {
              "outlinewidth": 0,
              "ticks": ""
             }
            },
            "type": "scatterpolargl"
           }
          ],
          "scatterternary": [
           {
            "marker": {
             "colorbar": {
              "outlinewidth": 0,
              "ticks": ""
             }
            },
            "type": "scatterternary"
           }
          ],
          "surface": [
           {
            "colorbar": {
             "outlinewidth": 0,
             "ticks": ""
            },
            "colorscale": [
             [
              0,
              "#0d0887"
             ],
             [
              0.1111111111111111,
              "#46039f"
             ],
             [
              0.2222222222222222,
              "#7201a8"
             ],
             [
              0.3333333333333333,
              "#9c179e"
             ],
             [
              0.4444444444444444,
              "#bd3786"
             ],
             [
              0.5555555555555556,
              "#d8576b"
             ],
             [
              0.6666666666666666,
              "#ed7953"
             ],
             [
              0.7777777777777778,
              "#fb9f3a"
             ],
             [
              0.8888888888888888,
              "#fdca26"
             ],
             [
              1,
              "#f0f921"
             ]
            ],
            "type": "surface"
           }
          ],
          "table": [
           {
            "cells": {
             "fill": {
              "color": "#EBF0F8"
             },
             "line": {
              "color": "white"
             }
            },
            "header": {
             "fill": {
              "color": "#C8D4E3"
             },
             "line": {
              "color": "white"
             }
            },
            "type": "table"
           }
          ]
         },
         "layout": {
          "annotationdefaults": {
           "arrowcolor": "#2a3f5f",
           "arrowhead": 0,
           "arrowwidth": 1
          },
          "autotypenumbers": "strict",
          "coloraxis": {
           "colorbar": {
            "outlinewidth": 0,
            "ticks": ""
           }
          },
          "colorscale": {
           "diverging": [
            [
             0,
             "#8e0152"
            ],
            [
             0.1,
             "#c51b7d"
            ],
            [
             0.2,
             "#de77ae"
            ],
            [
             0.3,
             "#f1b6da"
            ],
            [
             0.4,
             "#fde0ef"
            ],
            [
             0.5,
             "#f7f7f7"
            ],
            [
             0.6,
             "#e6f5d0"
            ],
            [
             0.7,
             "#b8e186"
            ],
            [
             0.8,
             "#7fbc41"
            ],
            [
             0.9,
             "#4d9221"
            ],
            [
             1,
             "#276419"
            ]
           ],
           "sequential": [
            [
             0,
             "#0d0887"
            ],
            [
             0.1111111111111111,
             "#46039f"
            ],
            [
             0.2222222222222222,
             "#7201a8"
            ],
            [
             0.3333333333333333,
             "#9c179e"
            ],
            [
             0.4444444444444444,
             "#bd3786"
            ],
            [
             0.5555555555555556,
             "#d8576b"
            ],
            [
             0.6666666666666666,
             "#ed7953"
            ],
            [
             0.7777777777777778,
             "#fb9f3a"
            ],
            [
             0.8888888888888888,
             "#fdca26"
            ],
            [
             1,
             "#f0f921"
            ]
           ],
           "sequentialminus": [
            [
             0,
             "#0d0887"
            ],
            [
             0.1111111111111111,
             "#46039f"
            ],
            [
             0.2222222222222222,
             "#7201a8"
            ],
            [
             0.3333333333333333,
             "#9c179e"
            ],
            [
             0.4444444444444444,
             "#bd3786"
            ],
            [
             0.5555555555555556,
             "#d8576b"
            ],
            [
             0.6666666666666666,
             "#ed7953"
            ],
            [
             0.7777777777777778,
             "#fb9f3a"
            ],
            [
             0.8888888888888888,
             "#fdca26"
            ],
            [
             1,
             "#f0f921"
            ]
           ]
          },
          "colorway": [
           "#636efa",
           "#EF553B",
           "#00cc96",
           "#ab63fa",
           "#FFA15A",
           "#19d3f3",
           "#FF6692",
           "#B6E880",
           "#FF97FF",
           "#FECB52"
          ],
          "font": {
           "color": "#2a3f5f"
          },
          "geo": {
           "bgcolor": "white",
           "lakecolor": "white",
           "landcolor": "#E5ECF6",
           "showlakes": true,
           "showland": true,
           "subunitcolor": "white"
          },
          "hoverlabel": {
           "align": "left"
          },
          "hovermode": "closest",
          "mapbox": {
           "style": "light"
          },
          "paper_bgcolor": "white",
          "plot_bgcolor": "#E5ECF6",
          "polar": {
           "angularaxis": {
            "gridcolor": "white",
            "linecolor": "white",
            "ticks": ""
           },
           "bgcolor": "#E5ECF6",
           "radialaxis": {
            "gridcolor": "white",
            "linecolor": "white",
            "ticks": ""
           }
          },
          "scene": {
           "xaxis": {
            "backgroundcolor": "#E5ECF6",
            "gridcolor": "white",
            "gridwidth": 2,
            "linecolor": "white",
            "showbackground": true,
            "ticks": "",
            "zerolinecolor": "white"
           },
           "yaxis": {
            "backgroundcolor": "#E5ECF6",
            "gridcolor": "white",
            "gridwidth": 2,
            "linecolor": "white",
            "showbackground": true,
            "ticks": "",
            "zerolinecolor": "white"
           },
           "zaxis": {
            "backgroundcolor": "#E5ECF6",
            "gridcolor": "white",
            "gridwidth": 2,
            "linecolor": "white",
            "showbackground": true,
            "ticks": "",
            "zerolinecolor": "white"
           }
          },
          "shapedefaults": {
           "line": {
            "color": "#2a3f5f"
           }
          },
          "ternary": {
           "aaxis": {
            "gridcolor": "white",
            "linecolor": "white",
            "ticks": ""
           },
           "baxis": {
            "gridcolor": "white",
            "linecolor": "white",
            "ticks": ""
           },
           "bgcolor": "#E5ECF6",
           "caxis": {
            "gridcolor": "white",
            "linecolor": "white",
            "ticks": ""
           }
          },
          "title": {
           "x": 0.05
          },
          "xaxis": {
           "automargin": true,
           "gridcolor": "white",
           "linecolor": "white",
           "ticks": "",
           "title": {
            "standoff": 15
           },
           "zerolinecolor": "white",
           "zerolinewidth": 2
          },
          "yaxis": {
           "automargin": true,
           "gridcolor": "white",
           "linecolor": "white",
           "ticks": "",
           "title": {
            "standoff": 15
           },
           "zerolinecolor": "white",
           "zerolinewidth": 2
          }
         }
        },
        "title": {
         "text": "Relationship between CATEGORIA_SKU and SUBCATEGORIA_SKU"
        },
        "xaxis": {
         "anchor": "y",
         "domain": [
          0,
          1
         ],
         "title": {
          "text": "Category of SKU"
         }
        },
        "yaxis": {
         "anchor": "x",
         "domain": [
          0,
          1
         ],
         "title": {
          "text": "Number of Items"
         }
        }
       }
      }
     },
     "metadata": {},
     "output_type": "display_data"
    }
   ],
   "source": [
    "\n",
    "# Analyzing the distribution of CATEGORIA_SKU\n",
    "categoria_counts = df['CATEGORIA_SKU'].value_counts().reset_index()\n",
    "categoria_counts.columns = ['CATEGORIA_SKU', 'Count']\n",
    "\n",
    "# Plotting the distribution of CATEGORIA_SKU\n",
    "fig_categoria = px.bar(categoria_counts, x='CATEGORIA_SKU', y='Count', title='Distribution of CATEGORIA_SKU',\n",
    "                       labels={'Count': 'Number of Items', 'CATEGORIA_SKU': 'Category of SKU'})\n",
    "\n",
    "# Analyzing the distribution of SUBCATEGORIA_SKU\n",
    "subcategoria_counts = df['SUBCATEGORIA_SKU'].value_counts().reset_index()\n",
    "subcategoria_counts.columns = ['SUBCATEGORIA_SKU', 'Count']\n",
    "\n",
    "# Plotting the distribution of SUBCATEGORIA_SKU\n",
    "fig_subcategoria = px.bar(subcategoria_counts, x='SUBCATEGORIA_SKU', y='Count', title='Distribution of SUBCATEGORIA_SKU',\n",
    "                          labels={'Count': 'Number of Items', 'SUBCATEGORIA_SKU': 'Subcategory of SKU'})\n",
    "\n",
    "# Analyzing the relationship between CATEGORIA_SKU and SUBCATEGORIA_SKU\n",
    "categoria_subcategoria_counts = df.groupby(['CATEGORIA_SKU', 'SUBCATEGORIA_SKU']).size().reset_index(name='Count')\n",
    "\n",
    "# Plotting the relationship between CATEGORIA_SKU and SUBCATEGORIA_SKU\n",
    "fig_relationship = px.bar(categoria_subcategoria_counts, x='CATEGORIA_SKU', y='Count', color='SUBCATEGORIA_SKU',\n",
    "                          title='Relationship between CATEGORIA_SKU and SUBCATEGORIA_SKU',\n",
    "                          labels={'Count': 'Number of Items', 'CATEGORIA_SKU': 'Category of SKU', 'SUBCATEGORIA_SKU': 'Subcategory of SKU'})\n",
    "\n",
    "# Display the plots\n",
    "fig_categoria.show()\n",
    "fig_subcategoria.show()\n",
    "fig_relationship.show()\n"
   ]
  },
  {
   "cell_type": "code",
   "execution_count": 12,
   "metadata": {},
   "outputs": [
    {
     "name": "stdout",
     "output_type": "stream",
     "text": [
      "Top 15 SKUs for MEDICAMENTOS\n"
     ]
    },
    {
     "data": {
      "text/html": [
       "<div>\n",
       "<style scoped>\n",
       "    .dataframe tbody tr th:only-of-type {\n",
       "        vertical-align: middle;\n",
       "    }\n",
       "\n",
       "    .dataframe tbody tr th {\n",
       "        vertical-align: top;\n",
       "    }\n",
       "\n",
       "    .dataframe thead th {\n",
       "        text-align: right;\n",
       "    }\n",
       "</style>\n",
       "<table border=\"1\" class=\"dataframe\">\n",
       "  <thead>\n",
       "    <tr style=\"text-align: right;\">\n",
       "      <th></th>\n",
       "      <th>COD_CUPOM</th>\n",
       "      <th>COD_CLIENTE</th>\n",
       "      <th>CLIENTE_FISICO_JURIDICO</th>\n",
       "      <th>SEXO_CLIENTE</th>\n",
       "      <th>DTNASCIMENTO_CLIENTE</th>\n",
       "      <th>COD_SKU</th>\n",
       "      <th>SKU</th>\n",
       "      <th>CATEGORIA_SKU</th>\n",
       "      <th>SUBCATEGORIA_SKU</th>\n",
       "      <th>COD_LOJA</th>\n",
       "      <th>UF_CIDADE</th>\n",
       "      <th>COD_CIDADE</th>\n",
       "      <th>NOME_CIDADE</th>\n",
       "      <th>DATA_CUPOM</th>\n",
       "      <th>UNIDADES</th>\n",
       "      <th>IDENTIFICADOR_PROMOCIONAL</th>\n",
       "      <th>PRECO_REGULAR</th>\n",
       "      <th>TOTAL_DESCONTO</th>\n",
       "      <th>TOTAL_BRUTO</th>\n",
       "      <th>TOTAL_LIQUIDO</th>\n",
       "    </tr>\n",
       "  </thead>\n",
       "  <tbody>\n",
       "    <tr>\n",
       "      <th>0</th>\n",
       "      <td>147485</td>\n",
       "      <td>36196094.0</td>\n",
       "      <td>Pessoa Física</td>\n",
       "      <td>F</td>\n",
       "      <td>1992-06-15</td>\n",
       "      <td>100017442</td>\n",
       "      <td>ACICLOVIR 200MG 30CP</td>\n",
       "      <td>MEDICAMENTOS</td>\n",
       "      <td>GENERICOS</td>\n",
       "      <td>820</td>\n",
       "      <td>RS</td>\n",
       "      <td>80400</td>\n",
       "      <td>PORTO ALEGRE</td>\n",
       "      <td>2024-03-14 17:53:52.000</td>\n",
       "      <td>88.0</td>\n",
       "      <td>NaN</td>\n",
       "      <td>114.51</td>\n",
       "      <td>1007.69</td>\n",
       "      <td>10076.88</td>\n",
       "      <td>9069.19</td>\n",
       "    </tr>\n",
       "    <tr>\n",
       "      <th>1</th>\n",
       "      <td>138341</td>\n",
       "      <td>36196094.0</td>\n",
       "      <td>Pessoa Física</td>\n",
       "      <td>F</td>\n",
       "      <td>1992-06-15</td>\n",
       "      <td>100017442</td>\n",
       "      <td>ACICLOVIR 200MG 30CP</td>\n",
       "      <td>MEDICAMENTOS</td>\n",
       "      <td>GENERICOS</td>\n",
       "      <td>820</td>\n",
       "      <td>RS</td>\n",
       "      <td>80400</td>\n",
       "      <td>PORTO ALEGRE</td>\n",
       "      <td>2024-01-11 15:25:30.000</td>\n",
       "      <td>57.0</td>\n",
       "      <td>NaN</td>\n",
       "      <td>114.51</td>\n",
       "      <td>0.00</td>\n",
       "      <td>6527.07</td>\n",
       "      <td>6527.07</td>\n",
       "    </tr>\n",
       "    <tr>\n",
       "      <th>2</th>\n",
       "      <td>141060</td>\n",
       "      <td>89415150.0</td>\n",
       "      <td>Pessoa Jurídica</td>\n",
       "      <td>NaN</td>\n",
       "      <td>NaN</td>\n",
       "      <td>100017442</td>\n",
       "      <td>ACICLOVIR 200MG 30CP</td>\n",
       "      <td>MEDICAMENTOS</td>\n",
       "      <td>GENERICOS</td>\n",
       "      <td>820</td>\n",
       "      <td>RS</td>\n",
       "      <td>80400</td>\n",
       "      <td>PORTO ALEGRE</td>\n",
       "      <td>2024-01-31 16:28:41.000</td>\n",
       "      <td>43.0</td>\n",
       "      <td>NaN</td>\n",
       "      <td>114.51</td>\n",
       "      <td>0.00</td>\n",
       "      <td>4923.93</td>\n",
       "      <td>4923.93</td>\n",
       "    </tr>\n",
       "    <tr>\n",
       "      <th>3</th>\n",
       "      <td>147485</td>\n",
       "      <td>36196094.0</td>\n",
       "      <td>Pessoa Física</td>\n",
       "      <td>F</td>\n",
       "      <td>1992-06-15</td>\n",
       "      <td>10100924</td>\n",
       "      <td>ATORVASTATINA 40MG 3</td>\n",
       "      <td>MEDICAMENTOS</td>\n",
       "      <td>GENERICOS</td>\n",
       "      <td>820</td>\n",
       "      <td>RS</td>\n",
       "      <td>80400</td>\n",
       "      <td>PORTO ALEGRE</td>\n",
       "      <td>2024-03-14 17:53:52.000</td>\n",
       "      <td>28.0</td>\n",
       "      <td>NaN</td>\n",
       "      <td>157.87</td>\n",
       "      <td>442.04</td>\n",
       "      <td>4420.36</td>\n",
       "      <td>3978.32</td>\n",
       "    </tr>\n",
       "    <tr>\n",
       "      <th>4</th>\n",
       "      <td>112012</td>\n",
       "      <td>NaN</td>\n",
       "      <td>NaN</td>\n",
       "      <td>NaN</td>\n",
       "      <td>NaN</td>\n",
       "      <td>100027649</td>\n",
       "      <td>CLOPIDOGREL 75MG 28C</td>\n",
       "      <td>MEDICAMENTOS</td>\n",
       "      <td>GENERICOS</td>\n",
       "      <td>1264</td>\n",
       "      <td>RS</td>\n",
       "      <td>80400</td>\n",
       "      <td>PORTO ALEGRE</td>\n",
       "      <td>2024-06-12 17:29:38.024</td>\n",
       "      <td>100.0</td>\n",
       "      <td>NaN</td>\n",
       "      <td>64.21</td>\n",
       "      <td>2631.00</td>\n",
       "      <td>6421.00</td>\n",
       "      <td>3790.00</td>\n",
       "    </tr>\n",
       "    <tr>\n",
       "      <th>5</th>\n",
       "      <td>536368</td>\n",
       "      <td>25078495.0</td>\n",
       "      <td>Pessoa Jurídica</td>\n",
       "      <td>NaN</td>\n",
       "      <td>NaN</td>\n",
       "      <td>10096348</td>\n",
       "      <td>ESPACADOR INAL AIR BAB</td>\n",
       "      <td>MEDICAMENTOS</td>\n",
       "      <td>HOSPITALARES</td>\n",
       "      <td>1036</td>\n",
       "      <td>RS</td>\n",
       "      <td>80400</td>\n",
       "      <td>PORTO ALEGRE</td>\n",
       "      <td>2024-05-29 16:34:02.075</td>\n",
       "      <td>100.0</td>\n",
       "      <td>NaN</td>\n",
       "      <td>56.90</td>\n",
       "      <td>0.00</td>\n",
       "      <td>5690.00</td>\n",
       "      <td>5690.00</td>\n",
       "    </tr>\n",
       "    <tr>\n",
       "      <th>6</th>\n",
       "      <td>378117</td>\n",
       "      <td>53428887.0</td>\n",
       "      <td>Pessoa Física</td>\n",
       "      <td>M</td>\n",
       "      <td>1978-10-13</td>\n",
       "      <td>10503</td>\n",
       "      <td>FITA MICROPORE CREMER 2,5CMX4,5M BRAN</td>\n",
       "      <td>MEDICAMENTOS</td>\n",
       "      <td>HOSPITALARES</td>\n",
       "      <td>713</td>\n",
       "      <td>RS</td>\n",
       "      <td>80400</td>\n",
       "      <td>PORTO ALEGRE</td>\n",
       "      <td>2024-05-07 16:49:04.215</td>\n",
       "      <td>96.0</td>\n",
       "      <td>NaN</td>\n",
       "      <td>11.99</td>\n",
       "      <td>0.00</td>\n",
       "      <td>1151.04</td>\n",
       "      <td>1151.04</td>\n",
       "    </tr>\n",
       "    <tr>\n",
       "      <th>7</th>\n",
       "      <td>378117</td>\n",
       "      <td>53428887.0</td>\n",
       "      <td>Pessoa Física</td>\n",
       "      <td>M</td>\n",
       "      <td>1978-10-13</td>\n",
       "      <td>100011090</td>\n",
       "      <td>LUVAS PROCED DESCARPACK C/PO 100UN M</td>\n",
       "      <td>MEDICAMENTOS</td>\n",
       "      <td>HOSPITALARES</td>\n",
       "      <td>713</td>\n",
       "      <td>RS</td>\n",
       "      <td>80400</td>\n",
       "      <td>PORTO ALEGRE</td>\n",
       "      <td>2024-05-07 16:49:04.215</td>\n",
       "      <td>40.0</td>\n",
       "      <td>NaN</td>\n",
       "      <td>39.90</td>\n",
       "      <td>478.80</td>\n",
       "      <td>1596.00</td>\n",
       "      <td>1117.20</td>\n",
       "    </tr>\n",
       "    <tr>\n",
       "      <th>8</th>\n",
       "      <td>538135</td>\n",
       "      <td>90960099.0</td>\n",
       "      <td>Pessoa Física</td>\n",
       "      <td>M</td>\n",
       "      <td>1991-08-17</td>\n",
       "      <td>11154</td>\n",
       "      <td>SORO FISIOLOGICO 0,9</td>\n",
       "      <td>MEDICAMENTOS</td>\n",
       "      <td>HOSPITALARES</td>\n",
       "      <td>506</td>\n",
       "      <td>RS</td>\n",
       "      <td>80400</td>\n",
       "      <td>PORTO ALEGRE</td>\n",
       "      <td>2024-05-10 12:57:29.781</td>\n",
       "      <td>50.0</td>\n",
       "      <td>NaN</td>\n",
       "      <td>17.99</td>\n",
       "      <td>0.00</td>\n",
       "      <td>899.50</td>\n",
       "      <td>899.50</td>\n",
       "    </tr>\n",
       "    <tr>\n",
       "      <th>9</th>\n",
       "      <td>497900</td>\n",
       "      <td>90960099.0</td>\n",
       "      <td>Pessoa Física</td>\n",
       "      <td>M</td>\n",
       "      <td>1991-08-17</td>\n",
       "      <td>11154</td>\n",
       "      <td>SORO FISIOLOGICO 0,9</td>\n",
       "      <td>MEDICAMENTOS</td>\n",
       "      <td>HOSPITALARES</td>\n",
       "      <td>988</td>\n",
       "      <td>RS</td>\n",
       "      <td>80400</td>\n",
       "      <td>PORTO ALEGRE</td>\n",
       "      <td>2024-05-10 12:24:21.268</td>\n",
       "      <td>50.0</td>\n",
       "      <td>NaN</td>\n",
       "      <td>17.99</td>\n",
       "      <td>0.00</td>\n",
       "      <td>899.50</td>\n",
       "      <td>899.50</td>\n",
       "    </tr>\n",
       "    <tr>\n",
       "      <th>10</th>\n",
       "      <td>424162</td>\n",
       "      <td>20870801.0</td>\n",
       "      <td>Pessoa Jurídica</td>\n",
       "      <td>NaN</td>\n",
       "      <td>NaN</td>\n",
       "      <td>1276</td>\n",
       "      <td>HIRUDOID 300 POM 40G</td>\n",
       "      <td>MEDICAMENTOS</td>\n",
       "      <td>REFERENCIA ONEROSOS</td>\n",
       "      <td>499</td>\n",
       "      <td>RS</td>\n",
       "      <td>80400</td>\n",
       "      <td>PORTO ALEGRE</td>\n",
       "      <td>2024-06-07 21:37:16.957</td>\n",
       "      <td>300.0</td>\n",
       "      <td>NaN</td>\n",
       "      <td>39.61</td>\n",
       "      <td>2376.00</td>\n",
       "      <td>11883.00</td>\n",
       "      <td>9507.00</td>\n",
       "    </tr>\n",
       "    <tr>\n",
       "      <th>11</th>\n",
       "      <td>503888</td>\n",
       "      <td>20759977.0</td>\n",
       "      <td>Pessoa Física</td>\n",
       "      <td>M</td>\n",
       "      <td>1956-11-05</td>\n",
       "      <td>10091402</td>\n",
       "      <td>HEPA-MERZ 10ENV BIOL</td>\n",
       "      <td>MEDICAMENTOS</td>\n",
       "      <td>REFERENCIA ONEROSOS</td>\n",
       "      <td>829</td>\n",
       "      <td>RS</td>\n",
       "      <td>80400</td>\n",
       "      <td>PORTO ALEGRE</td>\n",
       "      <td>2024-03-22 09:53:29.000</td>\n",
       "      <td>54.0</td>\n",
       "      <td>NaN</td>\n",
       "      <td>135.81</td>\n",
       "      <td>1833.30</td>\n",
       "      <td>7333.74</td>\n",
       "      <td>5500.44</td>\n",
       "    </tr>\n",
       "    <tr>\n",
       "      <th>12</th>\n",
       "      <td>24247</td>\n",
       "      <td>24837563.0</td>\n",
       "      <td>Pessoa Física</td>\n",
       "      <td>F</td>\n",
       "      <td>1946-06-27</td>\n",
       "      <td>10091402</td>\n",
       "      <td>HEPA-MERZ 10ENV BIOL</td>\n",
       "      <td>MEDICAMENTOS</td>\n",
       "      <td>REFERENCIA ONEROSOS</td>\n",
       "      <td>496</td>\n",
       "      <td>RS</td>\n",
       "      <td>80400</td>\n",
       "      <td>PORTO ALEGRE</td>\n",
       "      <td>2024-04-29 16:09:52.018</td>\n",
       "      <td>36.0</td>\n",
       "      <td>NaN</td>\n",
       "      <td>141.90</td>\n",
       "      <td>1252.58</td>\n",
       "      <td>5108.40</td>\n",
       "      <td>3855.82</td>\n",
       "    </tr>\n",
       "    <tr>\n",
       "      <th>13</th>\n",
       "      <td>756810</td>\n",
       "      <td>25492760.0</td>\n",
       "      <td>Pessoa Física</td>\n",
       "      <td>M</td>\n",
       "      <td>1952-12-24</td>\n",
       "      <td>10106678</td>\n",
       "      <td>NICORETTE 2MG 30GOMAS ICE MENTA</td>\n",
       "      <td>MEDICAMENTOS</td>\n",
       "      <td>REFERENCIA ONEROSOS</td>\n",
       "      <td>498</td>\n",
       "      <td>RS</td>\n",
       "      <td>80400</td>\n",
       "      <td>PORTO ALEGRE</td>\n",
       "      <td>2024-03-04 15:18:56.000</td>\n",
       "      <td>50.0</td>\n",
       "      <td>NaN</td>\n",
       "      <td>50.13</td>\n",
       "      <td>0.00</td>\n",
       "      <td>2506.50</td>\n",
       "      <td>2506.50</td>\n",
       "    </tr>\n",
       "    <tr>\n",
       "      <th>14</th>\n",
       "      <td>651957</td>\n",
       "      <td>24302686.0</td>\n",
       "      <td>Pessoa Física</td>\n",
       "      <td>F</td>\n",
       "      <td>1972-04-30</td>\n",
       "      <td>100014861</td>\n",
       "      <td>XIGDUO XR 5+1000MG 60CP REV ASTRAZENECA</td>\n",
       "      <td>MEDICAMENTOS</td>\n",
       "      <td>REFERENCIA ONEROSOS</td>\n",
       "      <td>514</td>\n",
       "      <td>RS</td>\n",
       "      <td>80400</td>\n",
       "      <td>PORTO ALEGRE</td>\n",
       "      <td>2024-03-30 15:23:19.000</td>\n",
       "      <td>12.0</td>\n",
       "      <td>NaN</td>\n",
       "      <td>246.08</td>\n",
       "      <td>738.24</td>\n",
       "      <td>2952.96</td>\n",
       "      <td>2214.72</td>\n",
       "    </tr>\n",
       "  </tbody>\n",
       "</table>\n",
       "</div>"
      ],
      "text/plain": [
       "    COD_CUPOM  COD_CLIENTE CLIENTE_FISICO_JURIDICO SEXO_CLIENTE  \\\n",
       "0      147485   36196094.0           Pessoa Física            F   \n",
       "1      138341   36196094.0           Pessoa Física            F   \n",
       "2      141060   89415150.0         Pessoa Jurídica          NaN   \n",
       "3      147485   36196094.0           Pessoa Física            F   \n",
       "4      112012          NaN                     NaN          NaN   \n",
       "5      536368   25078495.0         Pessoa Jurídica          NaN   \n",
       "6      378117   53428887.0           Pessoa Física            M   \n",
       "7      378117   53428887.0           Pessoa Física            M   \n",
       "8      538135   90960099.0           Pessoa Física            M   \n",
       "9      497900   90960099.0           Pessoa Física            M   \n",
       "10     424162   20870801.0         Pessoa Jurídica          NaN   \n",
       "11     503888   20759977.0           Pessoa Física            M   \n",
       "12      24247   24837563.0           Pessoa Física            F   \n",
       "13     756810   25492760.0           Pessoa Física            M   \n",
       "14     651957   24302686.0           Pessoa Física            F   \n",
       "\n",
       "   DTNASCIMENTO_CLIENTE    COD_SKU                                      SKU  \\\n",
       "0            1992-06-15  100017442                     ACICLOVIR 200MG 30CP   \n",
       "1            1992-06-15  100017442                     ACICLOVIR 200MG 30CP   \n",
       "2                   NaN  100017442                     ACICLOVIR 200MG 30CP   \n",
       "3            1992-06-15   10100924                     ATORVASTATINA 40MG 3   \n",
       "4                   NaN  100027649                     CLOPIDOGREL 75MG 28C   \n",
       "5                   NaN   10096348                   ESPACADOR INAL AIR BAB   \n",
       "6            1978-10-13      10503    FITA MICROPORE CREMER 2,5CMX4,5M BRAN   \n",
       "7            1978-10-13  100011090     LUVAS PROCED DESCARPACK C/PO 100UN M   \n",
       "8            1991-08-17      11154                     SORO FISIOLOGICO 0,9   \n",
       "9            1991-08-17      11154                     SORO FISIOLOGICO 0,9   \n",
       "10                  NaN       1276                     HIRUDOID 300 POM 40G   \n",
       "11           1956-11-05   10091402                     HEPA-MERZ 10ENV BIOL   \n",
       "12           1946-06-27   10091402                     HEPA-MERZ 10ENV BIOL   \n",
       "13           1952-12-24   10106678          NICORETTE 2MG 30GOMAS ICE MENTA   \n",
       "14           1972-04-30  100014861  XIGDUO XR 5+1000MG 60CP REV ASTRAZENECA   \n",
       "\n",
       "   CATEGORIA_SKU     SUBCATEGORIA_SKU  COD_LOJA UF_CIDADE  COD_CIDADE  \\\n",
       "0   MEDICAMENTOS            GENERICOS       820        RS       80400   \n",
       "1   MEDICAMENTOS            GENERICOS       820        RS       80400   \n",
       "2   MEDICAMENTOS            GENERICOS       820        RS       80400   \n",
       "3   MEDICAMENTOS            GENERICOS       820        RS       80400   \n",
       "4   MEDICAMENTOS            GENERICOS      1264        RS       80400   \n",
       "5   MEDICAMENTOS         HOSPITALARES      1036        RS       80400   \n",
       "6   MEDICAMENTOS         HOSPITALARES       713        RS       80400   \n",
       "7   MEDICAMENTOS         HOSPITALARES       713        RS       80400   \n",
       "8   MEDICAMENTOS         HOSPITALARES       506        RS       80400   \n",
       "9   MEDICAMENTOS         HOSPITALARES       988        RS       80400   \n",
       "10  MEDICAMENTOS  REFERENCIA ONEROSOS       499        RS       80400   \n",
       "11  MEDICAMENTOS  REFERENCIA ONEROSOS       829        RS       80400   \n",
       "12  MEDICAMENTOS  REFERENCIA ONEROSOS       496        RS       80400   \n",
       "13  MEDICAMENTOS  REFERENCIA ONEROSOS       498        RS       80400   \n",
       "14  MEDICAMENTOS  REFERENCIA ONEROSOS       514        RS       80400   \n",
       "\n",
       "     NOME_CIDADE               DATA_CUPOM  UNIDADES  \\\n",
       "0   PORTO ALEGRE  2024-03-14 17:53:52.000      88.0   \n",
       "1   PORTO ALEGRE  2024-01-11 15:25:30.000      57.0   \n",
       "2   PORTO ALEGRE  2024-01-31 16:28:41.000      43.0   \n",
       "3   PORTO ALEGRE  2024-03-14 17:53:52.000      28.0   \n",
       "4   PORTO ALEGRE  2024-06-12 17:29:38.024     100.0   \n",
       "5   PORTO ALEGRE  2024-05-29 16:34:02.075     100.0   \n",
       "6   PORTO ALEGRE  2024-05-07 16:49:04.215      96.0   \n",
       "7   PORTO ALEGRE  2024-05-07 16:49:04.215      40.0   \n",
       "8   PORTO ALEGRE  2024-05-10 12:57:29.781      50.0   \n",
       "9   PORTO ALEGRE  2024-05-10 12:24:21.268      50.0   \n",
       "10  PORTO ALEGRE  2024-06-07 21:37:16.957     300.0   \n",
       "11  PORTO ALEGRE  2024-03-22 09:53:29.000      54.0   \n",
       "12  PORTO ALEGRE  2024-04-29 16:09:52.018      36.0   \n",
       "13  PORTO ALEGRE  2024-03-04 15:18:56.000      50.0   \n",
       "14  PORTO ALEGRE  2024-03-30 15:23:19.000      12.0   \n",
       "\n",
       "    IDENTIFICADOR_PROMOCIONAL  PRECO_REGULAR  TOTAL_DESCONTO  TOTAL_BRUTO  \\\n",
       "0                         NaN         114.51         1007.69     10076.88   \n",
       "1                         NaN         114.51            0.00      6527.07   \n",
       "2                         NaN         114.51            0.00      4923.93   \n",
       "3                         NaN         157.87          442.04      4420.36   \n",
       "4                         NaN          64.21         2631.00      6421.00   \n",
       "5                         NaN          56.90            0.00      5690.00   \n",
       "6                         NaN          11.99            0.00      1151.04   \n",
       "7                         NaN          39.90          478.80      1596.00   \n",
       "8                         NaN          17.99            0.00       899.50   \n",
       "9                         NaN          17.99            0.00       899.50   \n",
       "10                        NaN          39.61         2376.00     11883.00   \n",
       "11                        NaN         135.81         1833.30      7333.74   \n",
       "12                        NaN         141.90         1252.58      5108.40   \n",
       "13                        NaN          50.13            0.00      2506.50   \n",
       "14                        NaN         246.08          738.24      2952.96   \n",
       "\n",
       "    TOTAL_LIQUIDO  \n",
       "0         9069.19  \n",
       "1         6527.07  \n",
       "2         4923.93  \n",
       "3         3978.32  \n",
       "4         3790.00  \n",
       "5         5690.00  \n",
       "6         1151.04  \n",
       "7         1117.20  \n",
       "8          899.50  \n",
       "9          899.50  \n",
       "10        9507.00  \n",
       "11        5500.44  \n",
       "12        3855.82  \n",
       "13        2506.50  \n",
       "14        2214.72  "
      ]
     },
     "metadata": {},
     "output_type": "display_data"
    },
    {
     "name": "stdout",
     "output_type": "stream",
     "text": [
      "Top 15 SKUs for PERFUMARIA\n"
     ]
    },
    {
     "data": {
      "text/html": [
       "<div>\n",
       "<style scoped>\n",
       "    .dataframe tbody tr th:only-of-type {\n",
       "        vertical-align: middle;\n",
       "    }\n",
       "\n",
       "    .dataframe tbody tr th {\n",
       "        vertical-align: top;\n",
       "    }\n",
       "\n",
       "    .dataframe thead th {\n",
       "        text-align: right;\n",
       "    }\n",
       "</style>\n",
       "<table border=\"1\" class=\"dataframe\">\n",
       "  <thead>\n",
       "    <tr style=\"text-align: right;\">\n",
       "      <th></th>\n",
       "      <th>COD_CUPOM</th>\n",
       "      <th>COD_CLIENTE</th>\n",
       "      <th>CLIENTE_FISICO_JURIDICO</th>\n",
       "      <th>SEXO_CLIENTE</th>\n",
       "      <th>DTNASCIMENTO_CLIENTE</th>\n",
       "      <th>COD_SKU</th>\n",
       "      <th>SKU</th>\n",
       "      <th>CATEGORIA_SKU</th>\n",
       "      <th>SUBCATEGORIA_SKU</th>\n",
       "      <th>COD_LOJA</th>\n",
       "      <th>UF_CIDADE</th>\n",
       "      <th>COD_CIDADE</th>\n",
       "      <th>NOME_CIDADE</th>\n",
       "      <th>DATA_CUPOM</th>\n",
       "      <th>UNIDADES</th>\n",
       "      <th>IDENTIFICADOR_PROMOCIONAL</th>\n",
       "      <th>PRECO_REGULAR</th>\n",
       "      <th>TOTAL_DESCONTO</th>\n",
       "      <th>TOTAL_BRUTO</th>\n",
       "      <th>TOTAL_LIQUIDO</th>\n",
       "    </tr>\n",
       "  </thead>\n",
       "  <tbody>\n",
       "    <tr>\n",
       "      <th>0</th>\n",
       "      <td>575774</td>\n",
       "      <td>74513887.0</td>\n",
       "      <td>Pessoa Jurídica</td>\n",
       "      <td>NaN</td>\n",
       "      <td>NaN</td>\n",
       "      <td>10031315</td>\n",
       "      <td>DES ABOVE ROLL-ON 50ML MEN ELEMENTS OCEA</td>\n",
       "      <td>PERFUMARIA</td>\n",
       "      <td>PERFUMARIA</td>\n",
       "      <td>846</td>\n",
       "      <td>RS</td>\n",
       "      <td>80400</td>\n",
       "      <td>PORTO ALEGRE</td>\n",
       "      <td>2024-05-17 13:26:59.272</td>\n",
       "      <td>600.0</td>\n",
       "      <td>NaN</td>\n",
       "      <td>7.99</td>\n",
       "      <td>0.00</td>\n",
       "      <td>4794.00</td>\n",
       "      <td>4794.00</td>\n",
       "    </tr>\n",
       "    <tr>\n",
       "      <th>1</th>\n",
       "      <td>420063</td>\n",
       "      <td>93909538.0</td>\n",
       "      <td>Pessoa Jurídica</td>\n",
       "      <td>NaN</td>\n",
       "      <td>NaN</td>\n",
       "      <td>100005961</td>\n",
       "      <td>DES MONANGE AERO 150ML FRUTAS VERMELHAS</td>\n",
       "      <td>PERFUMARIA</td>\n",
       "      <td>PERFUMARIA</td>\n",
       "      <td>499</td>\n",
       "      <td>RS</td>\n",
       "      <td>80400</td>\n",
       "      <td>PORTO ALEGRE</td>\n",
       "      <td>2024-05-10 16:06:14.161</td>\n",
       "      <td>500.0</td>\n",
       "      <td>NaN</td>\n",
       "      <td>7.99</td>\n",
       "      <td>0.00</td>\n",
       "      <td>3995.00</td>\n",
       "      <td>3995.00</td>\n",
       "    </tr>\n",
       "    <tr>\n",
       "      <th>2</th>\n",
       "      <td>420063</td>\n",
       "      <td>93909538.0</td>\n",
       "      <td>Pessoa Jurídica</td>\n",
       "      <td>NaN</td>\n",
       "      <td>NaN</td>\n",
       "      <td>10004931</td>\n",
       "      <td>DES ABOVE AERO 150ML</td>\n",
       "      <td>PERFUMARIA</td>\n",
       "      <td>PERFUMARIA</td>\n",
       "      <td>499</td>\n",
       "      <td>RS</td>\n",
       "      <td>80400</td>\n",
       "      <td>PORTO ALEGRE</td>\n",
       "      <td>2024-05-10 16:06:14.161</td>\n",
       "      <td>500.0</td>\n",
       "      <td>NaN</td>\n",
       "      <td>7.99</td>\n",
       "      <td>0.00</td>\n",
       "      <td>3995.00</td>\n",
       "      <td>3995.00</td>\n",
       "    </tr>\n",
       "    <tr>\n",
       "      <th>3</th>\n",
       "      <td>420063</td>\n",
       "      <td>93909538.0</td>\n",
       "      <td>Pessoa Jurídica</td>\n",
       "      <td>NaN</td>\n",
       "      <td>NaN</td>\n",
       "      <td>10031313</td>\n",
       "      <td>DES ABOVE AERO 150ML MEN ELEMENTS SHINY</td>\n",
       "      <td>PERFUMARIA</td>\n",
       "      <td>PERFUMARIA</td>\n",
       "      <td>499</td>\n",
       "      <td>RS</td>\n",
       "      <td>80400</td>\n",
       "      <td>PORTO ALEGRE</td>\n",
       "      <td>2024-05-10 16:06:14.161</td>\n",
       "      <td>500.0</td>\n",
       "      <td>NaN</td>\n",
       "      <td>7.99</td>\n",
       "      <td>0.00</td>\n",
       "      <td>3995.00</td>\n",
       "      <td>3995.00</td>\n",
       "    </tr>\n",
       "    <tr>\n",
       "      <th>4</th>\n",
       "      <td>420063</td>\n",
       "      <td>93909538.0</td>\n",
       "      <td>Pessoa Jurídica</td>\n",
       "      <td>NaN</td>\n",
       "      <td>NaN</td>\n",
       "      <td>10008063</td>\n",
       "      <td>ESC DENT ORAL B PRO MEDI</td>\n",
       "      <td>PERFUMARIA</td>\n",
       "      <td>PERFUMARIA</td>\n",
       "      <td>499</td>\n",
       "      <td>RS</td>\n",
       "      <td>80400</td>\n",
       "      <td>PORTO ALEGRE</td>\n",
       "      <td>2024-05-10 16:06:14.161</td>\n",
       "      <td>1000.0</td>\n",
       "      <td>NaN</td>\n",
       "      <td>3.99</td>\n",
       "      <td>0.00</td>\n",
       "      <td>3990.00</td>\n",
       "      <td>3990.00</td>\n",
       "    </tr>\n",
       "    <tr>\n",
       "      <th>5</th>\n",
       "      <td>575773</td>\n",
       "      <td>74513887.0</td>\n",
       "      <td>Pessoa Jurídica</td>\n",
       "      <td>NaN</td>\n",
       "      <td>NaN</td>\n",
       "      <td>10032109</td>\n",
       "      <td>PAPEL HIG LOUVRE FOLHA DUPLA 20M 12UN NE</td>\n",
       "      <td>PERFUMARIA</td>\n",
       "      <td>HIGIENE PESSOAL</td>\n",
       "      <td>846</td>\n",
       "      <td>RS</td>\n",
       "      <td>80400</td>\n",
       "      <td>PORTO ALEGRE</td>\n",
       "      <td>2024-05-17 13:26:40.030</td>\n",
       "      <td>1200.0</td>\n",
       "      <td>NaN</td>\n",
       "      <td>9.90</td>\n",
       "      <td>0.00</td>\n",
       "      <td>11880.00</td>\n",
       "      <td>11880.00</td>\n",
       "    </tr>\n",
       "    <tr>\n",
       "      <th>6</th>\n",
       "      <td>575774</td>\n",
       "      <td>74513887.0</td>\n",
       "      <td>Pessoa Jurídica</td>\n",
       "      <td>NaN</td>\n",
       "      <td>NaN</td>\n",
       "      <td>10029140</td>\n",
       "      <td>TOALHAS UMED SAO JOAO 40UN ADULTO</td>\n",
       "      <td>PERFUMARIA</td>\n",
       "      <td>HIGIENE PESSOAL</td>\n",
       "      <td>846</td>\n",
       "      <td>RS</td>\n",
       "      <td>80400</td>\n",
       "      <td>PORTO ALEGRE</td>\n",
       "      <td>2024-05-17 13:26:59.272</td>\n",
       "      <td>600.0</td>\n",
       "      <td>NaN</td>\n",
       "      <td>9.90</td>\n",
       "      <td>0.00</td>\n",
       "      <td>5940.00</td>\n",
       "      <td>5940.00</td>\n",
       "    </tr>\n",
       "    <tr>\n",
       "      <th>7</th>\n",
       "      <td>722071</td>\n",
       "      <td>27843865.0</td>\n",
       "      <td>Pessoa Física</td>\n",
       "      <td>M</td>\n",
       "      <td>1987-01-08</td>\n",
       "      <td>10027058</td>\n",
       "      <td>PAPEL HIG STYLUS FOL</td>\n",
       "      <td>PERFUMARIA</td>\n",
       "      <td>HIGIENE PESSOAL</td>\n",
       "      <td>763</td>\n",
       "      <td>RS</td>\n",
       "      <td>80400</td>\n",
       "      <td>PORTO ALEGRE</td>\n",
       "      <td>2024-05-08 18:00:21.270</td>\n",
       "      <td>45.0</td>\n",
       "      <td>NaN</td>\n",
       "      <td>12.99</td>\n",
       "      <td>139.05</td>\n",
       "      <td>584.55</td>\n",
       "      <td>445.50</td>\n",
       "    </tr>\n",
       "    <tr>\n",
       "      <th>8</th>\n",
       "      <td>778771</td>\n",
       "      <td>24045320.0</td>\n",
       "      <td>Pessoa Física</td>\n",
       "      <td>F</td>\n",
       "      <td>1985-05-04</td>\n",
       "      <td>10032109</td>\n",
       "      <td>PAPEL HIG LOUVRE FOLHA DUPLA 20M 12UN NE</td>\n",
       "      <td>PERFUMARIA</td>\n",
       "      <td>HIGIENE PESSOAL</td>\n",
       "      <td>498</td>\n",
       "      <td>RS</td>\n",
       "      <td>80400</td>\n",
       "      <td>PORTO ALEGRE</td>\n",
       "      <td>2024-05-10 21:35:54.893</td>\n",
       "      <td>28.0</td>\n",
       "      <td>NaN</td>\n",
       "      <td>13.99</td>\n",
       "      <td>0.00</td>\n",
       "      <td>391.72</td>\n",
       "      <td>391.72</td>\n",
       "    </tr>\n",
       "    <tr>\n",
       "      <th>9</th>\n",
       "      <td>82428</td>\n",
       "      <td>31130218.0</td>\n",
       "      <td>Pessoa Física</td>\n",
       "      <td>F</td>\n",
       "      <td>1966-04-03</td>\n",
       "      <td>10029140</td>\n",
       "      <td>TOALHAS UMED SAO JOAO 40UN ADULTO</td>\n",
       "      <td>PERFUMARIA</td>\n",
       "      <td>HIGIENE PESSOAL</td>\n",
       "      <td>1264</td>\n",
       "      <td>RS</td>\n",
       "      <td>80400</td>\n",
       "      <td>PORTO ALEGRE</td>\n",
       "      <td>2024-01-18 13:03:47.000</td>\n",
       "      <td>28.0</td>\n",
       "      <td>NaN</td>\n",
       "      <td>13.99</td>\n",
       "      <td>0.00</td>\n",
       "      <td>391.72</td>\n",
       "      <td>391.72</td>\n",
       "    </tr>\n",
       "    <tr>\n",
       "      <th>10</th>\n",
       "      <td>575587</td>\n",
       "      <td>74513887.0</td>\n",
       "      <td>Pessoa Jurídica</td>\n",
       "      <td>NaN</td>\n",
       "      <td>NaN</td>\n",
       "      <td>1006320</td>\n",
       "      <td>ABS S LIVRE ADAPT ES</td>\n",
       "      <td>PERFUMARIA</td>\n",
       "      <td>ABSORVENTES E LENÇOS SUBSTITUIDO</td>\n",
       "      <td>846</td>\n",
       "      <td>RS</td>\n",
       "      <td>80400</td>\n",
       "      <td>PORTO ALEGRE</td>\n",
       "      <td>2024-05-16 21:04:21.152</td>\n",
       "      <td>3984.0</td>\n",
       "      <td>NaN</td>\n",
       "      <td>5.19</td>\n",
       "      <td>0.00</td>\n",
       "      <td>20676.96</td>\n",
       "      <td>20676.96</td>\n",
       "    </tr>\n",
       "    <tr>\n",
       "      <th>11</th>\n",
       "      <td>575773</td>\n",
       "      <td>74513887.0</td>\n",
       "      <td>Pessoa Jurídica</td>\n",
       "      <td>NaN</td>\n",
       "      <td>NaN</td>\n",
       "      <td>1338</td>\n",
       "      <td>ABS INTIMUS GEL SUAV</td>\n",
       "      <td>PERFUMARIA</td>\n",
       "      <td>ABSORVENTES E LENÇOS SUBSTITUIDO</td>\n",
       "      <td>846</td>\n",
       "      <td>RS</td>\n",
       "      <td>80400</td>\n",
       "      <td>PORTO ALEGRE</td>\n",
       "      <td>2024-05-17 13:26:40.030</td>\n",
       "      <td>3000.0</td>\n",
       "      <td>NaN</td>\n",
       "      <td>5.99</td>\n",
       "      <td>0.00</td>\n",
       "      <td>17970.00</td>\n",
       "      <td>17970.00</td>\n",
       "    </tr>\n",
       "    <tr>\n",
       "      <th>12</th>\n",
       "      <td>575773</td>\n",
       "      <td>74513887.0</td>\n",
       "      <td>Pessoa Jurídica</td>\n",
       "      <td>NaN</td>\n",
       "      <td>NaN</td>\n",
       "      <td>4030</td>\n",
       "      <td>ABS INTIMUS GEL SUAVE C/ABAS 8U</td>\n",
       "      <td>PERFUMARIA</td>\n",
       "      <td>ABSORVENTES E LENÇOS SUBSTITUIDO</td>\n",
       "      <td>846</td>\n",
       "      <td>RS</td>\n",
       "      <td>80400</td>\n",
       "      <td>PORTO ALEGRE</td>\n",
       "      <td>2024-05-17 13:26:40.030</td>\n",
       "      <td>2400.0</td>\n",
       "      <td>NaN</td>\n",
       "      <td>5.99</td>\n",
       "      <td>0.00</td>\n",
       "      <td>14376.00</td>\n",
       "      <td>14376.00</td>\n",
       "    </tr>\n",
       "    <tr>\n",
       "      <th>13</th>\n",
       "      <td>575587</td>\n",
       "      <td>74513887.0</td>\n",
       "      <td>Pessoa Jurídica</td>\n",
       "      <td>NaN</td>\n",
       "      <td>NaN</td>\n",
       "      <td>1006321</td>\n",
       "      <td>ABS S LIVRE ADAPT ES</td>\n",
       "      <td>PERFUMARIA</td>\n",
       "      <td>ABSORVENTES E LENÇOS SUBSTITUIDO</td>\n",
       "      <td>846</td>\n",
       "      <td>RS</td>\n",
       "      <td>80400</td>\n",
       "      <td>PORTO ALEGRE</td>\n",
       "      <td>2024-05-16 21:04:21.152</td>\n",
       "      <td>1200.0</td>\n",
       "      <td>NaN</td>\n",
       "      <td>5.19</td>\n",
       "      <td>0.00</td>\n",
       "      <td>6228.00</td>\n",
       "      <td>6228.00</td>\n",
       "    </tr>\n",
       "    <tr>\n",
       "      <th>14</th>\n",
       "      <td>420255</td>\n",
       "      <td>94020136.0</td>\n",
       "      <td>Pessoa Jurídica</td>\n",
       "      <td>NaN</td>\n",
       "      <td>NaN</td>\n",
       "      <td>1006320</td>\n",
       "      <td>ABS S LIVRE ADAPT ES</td>\n",
       "      <td>PERFUMARIA</td>\n",
       "      <td>ABSORVENTES E LENÇOS SUBSTITUIDO</td>\n",
       "      <td>499</td>\n",
       "      <td>RS</td>\n",
       "      <td>80400</td>\n",
       "      <td>PORTO ALEGRE</td>\n",
       "      <td>2024-05-11 22:02:24.203</td>\n",
       "      <td>528.0</td>\n",
       "      <td>NaN</td>\n",
       "      <td>5.19</td>\n",
       "      <td>0.00</td>\n",
       "      <td>2740.32</td>\n",
       "      <td>2740.32</td>\n",
       "    </tr>\n",
       "  </tbody>\n",
       "</table>\n",
       "</div>"
      ],
      "text/plain": [
       "    COD_CUPOM  COD_CLIENTE CLIENTE_FISICO_JURIDICO SEXO_CLIENTE  \\\n",
       "0      575774   74513887.0         Pessoa Jurídica          NaN   \n",
       "1      420063   93909538.0         Pessoa Jurídica          NaN   \n",
       "2      420063   93909538.0         Pessoa Jurídica          NaN   \n",
       "3      420063   93909538.0         Pessoa Jurídica          NaN   \n",
       "4      420063   93909538.0         Pessoa Jurídica          NaN   \n",
       "5      575773   74513887.0         Pessoa Jurídica          NaN   \n",
       "6      575774   74513887.0         Pessoa Jurídica          NaN   \n",
       "7      722071   27843865.0           Pessoa Física            M   \n",
       "8      778771   24045320.0           Pessoa Física            F   \n",
       "9       82428   31130218.0           Pessoa Física            F   \n",
       "10     575587   74513887.0         Pessoa Jurídica          NaN   \n",
       "11     575773   74513887.0         Pessoa Jurídica          NaN   \n",
       "12     575773   74513887.0         Pessoa Jurídica          NaN   \n",
       "13     575587   74513887.0         Pessoa Jurídica          NaN   \n",
       "14     420255   94020136.0         Pessoa Jurídica          NaN   \n",
       "\n",
       "   DTNASCIMENTO_CLIENTE    COD_SKU                                       SKU  \\\n",
       "0                   NaN   10031315  DES ABOVE ROLL-ON 50ML MEN ELEMENTS OCEA   \n",
       "1                   NaN  100005961   DES MONANGE AERO 150ML FRUTAS VERMELHAS   \n",
       "2                   NaN   10004931                      DES ABOVE AERO 150ML   \n",
       "3                   NaN   10031313   DES ABOVE AERO 150ML MEN ELEMENTS SHINY   \n",
       "4                   NaN   10008063                  ESC DENT ORAL B PRO MEDI   \n",
       "5                   NaN   10032109  PAPEL HIG LOUVRE FOLHA DUPLA 20M 12UN NE   \n",
       "6                   NaN   10029140         TOALHAS UMED SAO JOAO 40UN ADULTO   \n",
       "7            1987-01-08   10027058                      PAPEL HIG STYLUS FOL   \n",
       "8            1985-05-04   10032109  PAPEL HIG LOUVRE FOLHA DUPLA 20M 12UN NE   \n",
       "9            1966-04-03   10029140         TOALHAS UMED SAO JOAO 40UN ADULTO   \n",
       "10                  NaN    1006320                      ABS S LIVRE ADAPT ES   \n",
       "11                  NaN       1338                      ABS INTIMUS GEL SUAV   \n",
       "12                  NaN       4030           ABS INTIMUS GEL SUAVE C/ABAS 8U   \n",
       "13                  NaN    1006321                      ABS S LIVRE ADAPT ES   \n",
       "14                  NaN    1006320                      ABS S LIVRE ADAPT ES   \n",
       "\n",
       "   CATEGORIA_SKU                  SUBCATEGORIA_SKU  COD_LOJA UF_CIDADE  \\\n",
       "0     PERFUMARIA                        PERFUMARIA       846        RS   \n",
       "1     PERFUMARIA                        PERFUMARIA       499        RS   \n",
       "2     PERFUMARIA                        PERFUMARIA       499        RS   \n",
       "3     PERFUMARIA                        PERFUMARIA       499        RS   \n",
       "4     PERFUMARIA                        PERFUMARIA       499        RS   \n",
       "5     PERFUMARIA                   HIGIENE PESSOAL       846        RS   \n",
       "6     PERFUMARIA                   HIGIENE PESSOAL       846        RS   \n",
       "7     PERFUMARIA                   HIGIENE PESSOAL       763        RS   \n",
       "8     PERFUMARIA                   HIGIENE PESSOAL       498        RS   \n",
       "9     PERFUMARIA                   HIGIENE PESSOAL      1264        RS   \n",
       "10    PERFUMARIA  ABSORVENTES E LENÇOS SUBSTITUIDO       846        RS   \n",
       "11    PERFUMARIA  ABSORVENTES E LENÇOS SUBSTITUIDO       846        RS   \n",
       "12    PERFUMARIA  ABSORVENTES E LENÇOS SUBSTITUIDO       846        RS   \n",
       "13    PERFUMARIA  ABSORVENTES E LENÇOS SUBSTITUIDO       846        RS   \n",
       "14    PERFUMARIA  ABSORVENTES E LENÇOS SUBSTITUIDO       499        RS   \n",
       "\n",
       "    COD_CIDADE   NOME_CIDADE               DATA_CUPOM  UNIDADES  \\\n",
       "0        80400  PORTO ALEGRE  2024-05-17 13:26:59.272     600.0   \n",
       "1        80400  PORTO ALEGRE  2024-05-10 16:06:14.161     500.0   \n",
       "2        80400  PORTO ALEGRE  2024-05-10 16:06:14.161     500.0   \n",
       "3        80400  PORTO ALEGRE  2024-05-10 16:06:14.161     500.0   \n",
       "4        80400  PORTO ALEGRE  2024-05-10 16:06:14.161    1000.0   \n",
       "5        80400  PORTO ALEGRE  2024-05-17 13:26:40.030    1200.0   \n",
       "6        80400  PORTO ALEGRE  2024-05-17 13:26:59.272     600.0   \n",
       "7        80400  PORTO ALEGRE  2024-05-08 18:00:21.270      45.0   \n",
       "8        80400  PORTO ALEGRE  2024-05-10 21:35:54.893      28.0   \n",
       "9        80400  PORTO ALEGRE  2024-01-18 13:03:47.000      28.0   \n",
       "10       80400  PORTO ALEGRE  2024-05-16 21:04:21.152    3984.0   \n",
       "11       80400  PORTO ALEGRE  2024-05-17 13:26:40.030    3000.0   \n",
       "12       80400  PORTO ALEGRE  2024-05-17 13:26:40.030    2400.0   \n",
       "13       80400  PORTO ALEGRE  2024-05-16 21:04:21.152    1200.0   \n",
       "14       80400  PORTO ALEGRE  2024-05-11 22:02:24.203     528.0   \n",
       "\n",
       "    IDENTIFICADOR_PROMOCIONAL  PRECO_REGULAR  TOTAL_DESCONTO  TOTAL_BRUTO  \\\n",
       "0                         NaN           7.99            0.00      4794.00   \n",
       "1                         NaN           7.99            0.00      3995.00   \n",
       "2                         NaN           7.99            0.00      3995.00   \n",
       "3                         NaN           7.99            0.00      3995.00   \n",
       "4                         NaN           3.99            0.00      3990.00   \n",
       "5                         NaN           9.90            0.00     11880.00   \n",
       "6                         NaN           9.90            0.00      5940.00   \n",
       "7                         NaN          12.99          139.05       584.55   \n",
       "8                         NaN          13.99            0.00       391.72   \n",
       "9                         NaN          13.99            0.00       391.72   \n",
       "10                        NaN           5.19            0.00     20676.96   \n",
       "11                        NaN           5.99            0.00     17970.00   \n",
       "12                        NaN           5.99            0.00     14376.00   \n",
       "13                        NaN           5.19            0.00      6228.00   \n",
       "14                        NaN           5.19            0.00      2740.32   \n",
       "\n",
       "    TOTAL_LIQUIDO  \n",
       "0         4794.00  \n",
       "1         3995.00  \n",
       "2         3995.00  \n",
       "3         3995.00  \n",
       "4         3990.00  \n",
       "5        11880.00  \n",
       "6         5940.00  \n",
       "7          445.50  \n",
       "8          391.72  \n",
       "9          391.72  \n",
       "10       20676.96  \n",
       "11       17970.00  \n",
       "12       14376.00  \n",
       "13        6228.00  \n",
       "14        2740.32  "
      ]
     },
     "metadata": {},
     "output_type": "display_data"
    },
    {
     "name": "stdout",
     "output_type": "stream",
     "text": [
      "Top 15 SKUs for CONVENIENCIA\n"
     ]
    },
    {
     "data": {
      "text/html": [
       "<div>\n",
       "<style scoped>\n",
       "    .dataframe tbody tr th:only-of-type {\n",
       "        vertical-align: middle;\n",
       "    }\n",
       "\n",
       "    .dataframe tbody tr th {\n",
       "        vertical-align: top;\n",
       "    }\n",
       "\n",
       "    .dataframe thead th {\n",
       "        text-align: right;\n",
       "    }\n",
       "</style>\n",
       "<table border=\"1\" class=\"dataframe\">\n",
       "  <thead>\n",
       "    <tr style=\"text-align: right;\">\n",
       "      <th></th>\n",
       "      <th>COD_CUPOM</th>\n",
       "      <th>COD_CLIENTE</th>\n",
       "      <th>CLIENTE_FISICO_JURIDICO</th>\n",
       "      <th>SEXO_CLIENTE</th>\n",
       "      <th>DTNASCIMENTO_CLIENTE</th>\n",
       "      <th>COD_SKU</th>\n",
       "      <th>SKU</th>\n",
       "      <th>CATEGORIA_SKU</th>\n",
       "      <th>SUBCATEGORIA_SKU</th>\n",
       "      <th>COD_LOJA</th>\n",
       "      <th>UF_CIDADE</th>\n",
       "      <th>COD_CIDADE</th>\n",
       "      <th>NOME_CIDADE</th>\n",
       "      <th>DATA_CUPOM</th>\n",
       "      <th>UNIDADES</th>\n",
       "      <th>IDENTIFICADOR_PROMOCIONAL</th>\n",
       "      <th>PRECO_REGULAR</th>\n",
       "      <th>TOTAL_DESCONTO</th>\n",
       "      <th>TOTAL_BRUTO</th>\n",
       "      <th>TOTAL_LIQUIDO</th>\n",
       "    </tr>\n",
       "  </thead>\n",
       "  <tbody>\n",
       "    <tr>\n",
       "      <th>0</th>\n",
       "      <td>836535</td>\n",
       "      <td>29633473.0</td>\n",
       "      <td>Pessoa Física</td>\n",
       "      <td>M</td>\n",
       "      <td>1983-04-05</td>\n",
       "      <td>100018356</td>\n",
       "      <td>PICOLE KIBON CHICABO</td>\n",
       "      <td>CONVENIENCIA</td>\n",
       "      <td>CONVENIENCIA PERECIVEIS</td>\n",
       "      <td>537</td>\n",
       "      <td>RS</td>\n",
       "      <td>80400</td>\n",
       "      <td>PORTO ALEGRE</td>\n",
       "      <td>2024-01-17 15:50:05.000</td>\n",
       "      <td>59.0</td>\n",
       "      <td>NaN</td>\n",
       "      <td>7.50</td>\n",
       "      <td>0.00</td>\n",
       "      <td>442.50</td>\n",
       "      <td>442.50</td>\n",
       "    </tr>\n",
       "    <tr>\n",
       "      <th>1</th>\n",
       "      <td>28204</td>\n",
       "      <td>29633473.0</td>\n",
       "      <td>Pessoa Física</td>\n",
       "      <td>M</td>\n",
       "      <td>1983-04-05</td>\n",
       "      <td>100018356</td>\n",
       "      <td>PICOLE KIBON CHICABO</td>\n",
       "      <td>CONVENIENCIA</td>\n",
       "      <td>CONVENIENCIA PERECIVEIS</td>\n",
       "      <td>501</td>\n",
       "      <td>RS</td>\n",
       "      <td>80400</td>\n",
       "      <td>PORTO ALEGRE</td>\n",
       "      <td>2024-01-17 18:27:02.000</td>\n",
       "      <td>46.0</td>\n",
       "      <td>NaN</td>\n",
       "      <td>7.50</td>\n",
       "      <td>0.00</td>\n",
       "      <td>345.00</td>\n",
       "      <td>345.00</td>\n",
       "    </tr>\n",
       "    <tr>\n",
       "      <th>2</th>\n",
       "      <td>80429</td>\n",
       "      <td>92370583.0</td>\n",
       "      <td>Pessoa Física</td>\n",
       "      <td>F</td>\n",
       "      <td>1954-05-01</td>\n",
       "      <td>10432</td>\n",
       "      <td>VALDA DIET 50G LATA</td>\n",
       "      <td>CONVENIENCIA</td>\n",
       "      <td>CONVENIENCIA PERECIVEIS</td>\n",
       "      <td>1240</td>\n",
       "      <td>RS</td>\n",
       "      <td>80400</td>\n",
       "      <td>PORTO ALEGRE</td>\n",
       "      <td>2024-04-12 14:06:41.000</td>\n",
       "      <td>10.0</td>\n",
       "      <td>100304030.0</td>\n",
       "      <td>32.90</td>\n",
       "      <td>30.00</td>\n",
       "      <td>329.00</td>\n",
       "      <td>299.00</td>\n",
       "    </tr>\n",
       "    <tr>\n",
       "      <th>3</th>\n",
       "      <td>652350</td>\n",
       "      <td>27231139.0</td>\n",
       "      <td>Pessoa Física</td>\n",
       "      <td>F</td>\n",
       "      <td>1990-07-12</td>\n",
       "      <td>10038872</td>\n",
       "      <td>OVO NESTLE ALPINO 349,5G</td>\n",
       "      <td>CONVENIENCIA</td>\n",
       "      <td>CONVENIENCIA PERECIVEIS</td>\n",
       "      <td>714</td>\n",
       "      <td>RS</td>\n",
       "      <td>80400</td>\n",
       "      <td>PORTO ALEGRE</td>\n",
       "      <td>2024-03-27 10:45:37.000</td>\n",
       "      <td>5.0</td>\n",
       "      <td>100305058.0</td>\n",
       "      <td>61.90</td>\n",
       "      <td>19.55</td>\n",
       "      <td>309.50</td>\n",
       "      <td>289.95</td>\n",
       "    </tr>\n",
       "    <tr>\n",
       "      <th>4</th>\n",
       "      <td>514254</td>\n",
       "      <td>27680847.0</td>\n",
       "      <td>Pessoa Física</td>\n",
       "      <td>M</td>\n",
       "      <td>1977-01-22</td>\n",
       "      <td>100026723</td>\n",
       "      <td>ACHOCOLATADO TODDYNHO 200ML</td>\n",
       "      <td>CONVENIENCIA</td>\n",
       "      <td>CONVENIENCIA PERECIVEIS</td>\n",
       "      <td>1036</td>\n",
       "      <td>RS</td>\n",
       "      <td>80400</td>\n",
       "      <td>PORTO ALEGRE</td>\n",
       "      <td>2024-04-23 14:29:55.536</td>\n",
       "      <td>60.0</td>\n",
       "      <td>NaN</td>\n",
       "      <td>4.69</td>\n",
       "      <td>0.00</td>\n",
       "      <td>281.40</td>\n",
       "      <td>281.40</td>\n",
       "    </tr>\n",
       "    <tr>\n",
       "      <th>5</th>\n",
       "      <td>531915</td>\n",
       "      <td>25078495.0</td>\n",
       "      <td>Pessoa Jurídica</td>\n",
       "      <td>NaN</td>\n",
       "      <td>NaN</td>\n",
       "      <td>10032067</td>\n",
       "      <td>SUCO COM/TEM 200ML MACA</td>\n",
       "      <td>CONVENIENCIA</td>\n",
       "      <td>BEBIDAS</td>\n",
       "      <td>1036</td>\n",
       "      <td>RS</td>\n",
       "      <td>80400</td>\n",
       "      <td>PORTO ALEGRE</td>\n",
       "      <td>2024-05-22 17:18:27.603</td>\n",
       "      <td>1528.0</td>\n",
       "      <td>NaN</td>\n",
       "      <td>2.50</td>\n",
       "      <td>0.00</td>\n",
       "      <td>3820.00</td>\n",
       "      <td>3820.00</td>\n",
       "    </tr>\n",
       "    <tr>\n",
       "      <th>6</th>\n",
       "      <td>531915</td>\n",
       "      <td>25078495.0</td>\n",
       "      <td>Pessoa Jurídica</td>\n",
       "      <td>NaN</td>\n",
       "      <td>NaN</td>\n",
       "      <td>10032068</td>\n",
       "      <td>SUCO COM/TEM 200ML UVA</td>\n",
       "      <td>CONVENIENCIA</td>\n",
       "      <td>BEBIDAS</td>\n",
       "      <td>1036</td>\n",
       "      <td>RS</td>\n",
       "      <td>80400</td>\n",
       "      <td>PORTO ALEGRE</td>\n",
       "      <td>2024-05-22 17:18:27.603</td>\n",
       "      <td>534.0</td>\n",
       "      <td>NaN</td>\n",
       "      <td>2.50</td>\n",
       "      <td>0.00</td>\n",
       "      <td>1335.00</td>\n",
       "      <td>1335.00</td>\n",
       "    </tr>\n",
       "    <tr>\n",
       "      <th>7</th>\n",
       "      <td>531915</td>\n",
       "      <td>25078495.0</td>\n",
       "      <td>Pessoa Jurídica</td>\n",
       "      <td>NaN</td>\n",
       "      <td>NaN</td>\n",
       "      <td>10032065</td>\n",
       "      <td>SUCO COM/TEM 200ML LARANJA</td>\n",
       "      <td>CONVENIENCIA</td>\n",
       "      <td>BEBIDAS</td>\n",
       "      <td>1036</td>\n",
       "      <td>RS</td>\n",
       "      <td>80400</td>\n",
       "      <td>PORTO ALEGRE</td>\n",
       "      <td>2024-05-22 17:18:27.603</td>\n",
       "      <td>527.0</td>\n",
       "      <td>NaN</td>\n",
       "      <td>2.50</td>\n",
       "      <td>0.00</td>\n",
       "      <td>1317.50</td>\n",
       "      <td>1317.50</td>\n",
       "    </tr>\n",
       "    <tr>\n",
       "      <th>8</th>\n",
       "      <td>305283</td>\n",
       "      <td>0.0</td>\n",
       "      <td>Pessoa Física</td>\n",
       "      <td>M</td>\n",
       "      <td>NaN</td>\n",
       "      <td>10021213</td>\n",
       "      <td>AGUA MINERAL DA PEDRA S/GAS 500ML</td>\n",
       "      <td>CONVENIENCIA</td>\n",
       "      <td>BEBIDAS</td>\n",
       "      <td>980</td>\n",
       "      <td>RS</td>\n",
       "      <td>80400</td>\n",
       "      <td>PORTO ALEGRE</td>\n",
       "      <td>2024-05-08 20:26:23.141</td>\n",
       "      <td>72.0</td>\n",
       "      <td>NaN</td>\n",
       "      <td>4.49</td>\n",
       "      <td>0.00</td>\n",
       "      <td>323.28</td>\n",
       "      <td>323.28</td>\n",
       "    </tr>\n",
       "    <tr>\n",
       "      <th>9</th>\n",
       "      <td>478427</td>\n",
       "      <td>27680847.0</td>\n",
       "      <td>Pessoa Física</td>\n",
       "      <td>M</td>\n",
       "      <td>1977-01-22</td>\n",
       "      <td>100007303</td>\n",
       "      <td>SUCO DEL VALLE FRUT 450ML LARANJA</td>\n",
       "      <td>CONVENIENCIA</td>\n",
       "      <td>BEBIDAS</td>\n",
       "      <td>1036</td>\n",
       "      <td>RS</td>\n",
       "      <td>80400</td>\n",
       "      <td>PORTO ALEGRE</td>\n",
       "      <td>2024-02-27 13:48:27.000</td>\n",
       "      <td>60.0</td>\n",
       "      <td>NaN</td>\n",
       "      <td>4.00</td>\n",
       "      <td>0.00</td>\n",
       "      <td>240.00</td>\n",
       "      <td>240.00</td>\n",
       "    </tr>\n",
       "    <tr>\n",
       "      <th>10</th>\n",
       "      <td>575773</td>\n",
       "      <td>74513887.0</td>\n",
       "      <td>Pessoa Jurídica</td>\n",
       "      <td>NaN</td>\n",
       "      <td>NaN</td>\n",
       "      <td>10033505</td>\n",
       "      <td>LAVA ROUPAS BRILHANTE LIQ 900ML LIMPEZA</td>\n",
       "      <td>CONVENIENCIA</td>\n",
       "      <td>CONVENIENCIA BAZAR</td>\n",
       "      <td>846</td>\n",
       "      <td>RS</td>\n",
       "      <td>80400</td>\n",
       "      <td>PORTO ALEGRE</td>\n",
       "      <td>2024-05-17 13:26:40.030</td>\n",
       "      <td>2004.0</td>\n",
       "      <td>NaN</td>\n",
       "      <td>8.90</td>\n",
       "      <td>0.00</td>\n",
       "      <td>17835.60</td>\n",
       "      <td>17835.60</td>\n",
       "    </tr>\n",
       "    <tr>\n",
       "      <th>11</th>\n",
       "      <td>755009</td>\n",
       "      <td>66612529.0</td>\n",
       "      <td>Pessoa Física</td>\n",
       "      <td>F</td>\n",
       "      <td>1968-11-23</td>\n",
       "      <td>10036680</td>\n",
       "      <td>COPO STANLEY 473ML C/TAMPA BRANCO 8031</td>\n",
       "      <td>CONVENIENCIA</td>\n",
       "      <td>CONVENIENCIA BAZAR</td>\n",
       "      <td>596</td>\n",
       "      <td>RS</td>\n",
       "      <td>80400</td>\n",
       "      <td>PORTO ALEGRE</td>\n",
       "      <td>2024-01-25 11:12:53.000</td>\n",
       "      <td>10.0</td>\n",
       "      <td>NaN</td>\n",
       "      <td>149.00</td>\n",
       "      <td>0.00</td>\n",
       "      <td>1490.00</td>\n",
       "      <td>1490.00</td>\n",
       "    </tr>\n",
       "    <tr>\n",
       "      <th>12</th>\n",
       "      <td>332035</td>\n",
       "      <td>984777.0</td>\n",
       "      <td>Pessoa Física</td>\n",
       "      <td>M</td>\n",
       "      <td>1977-01-12</td>\n",
       "      <td>10039525</td>\n",
       "      <td>TV SMART PHILCO 32POL ROKU AUDIO LED BIV</td>\n",
       "      <td>CONVENIENCIA</td>\n",
       "      <td>CONVENIENCIA BAZAR</td>\n",
       "      <td>1169</td>\n",
       "      <td>RS</td>\n",
       "      <td>80400</td>\n",
       "      <td>PORTO ALEGRE</td>\n",
       "      <td>2024-05-21 07:39:07.904</td>\n",
       "      <td>1.0</td>\n",
       "      <td>NaN</td>\n",
       "      <td>1399.00</td>\n",
       "      <td>0.00</td>\n",
       "      <td>1399.00</td>\n",
       "      <td>1399.00</td>\n",
       "    </tr>\n",
       "    <tr>\n",
       "      <th>13</th>\n",
       "      <td>337541</td>\n",
       "      <td>89636646.0</td>\n",
       "      <td>Pessoa Física</td>\n",
       "      <td>F</td>\n",
       "      <td>1985-12-11</td>\n",
       "      <td>10039525</td>\n",
       "      <td>TV SMART PHILCO 32POL ROKU AUDIO LED BIV</td>\n",
       "      <td>CONVENIENCIA</td>\n",
       "      <td>CONVENIENCIA BAZAR</td>\n",
       "      <td>1169</td>\n",
       "      <td>RS</td>\n",
       "      <td>80400</td>\n",
       "      <td>PORTO ALEGRE</td>\n",
       "      <td>2024-06-04 07:02:27.056</td>\n",
       "      <td>1.0</td>\n",
       "      <td>NaN</td>\n",
       "      <td>1399.00</td>\n",
       "      <td>0.00</td>\n",
       "      <td>1399.00</td>\n",
       "      <td>1399.00</td>\n",
       "    </tr>\n",
       "    <tr>\n",
       "      <th>14</th>\n",
       "      <td>405273</td>\n",
       "      <td>0.0</td>\n",
       "      <td>Pessoa Física</td>\n",
       "      <td>M</td>\n",
       "      <td>NaN</td>\n",
       "      <td>10039525</td>\n",
       "      <td>TV SMART PHILCO 32POL ROKU AUDIO LED BIV</td>\n",
       "      <td>CONVENIENCIA</td>\n",
       "      <td>CONVENIENCIA BAZAR</td>\n",
       "      <td>845</td>\n",
       "      <td>RS</td>\n",
       "      <td>80400</td>\n",
       "      <td>PORTO ALEGRE</td>\n",
       "      <td>2024-04-30 20:24:19.879</td>\n",
       "      <td>1.0</td>\n",
       "      <td>NaN</td>\n",
       "      <td>1399.00</td>\n",
       "      <td>0.00</td>\n",
       "      <td>1399.00</td>\n",
       "      <td>1399.00</td>\n",
       "    </tr>\n",
       "  </tbody>\n",
       "</table>\n",
       "</div>"
      ],
      "text/plain": [
       "    COD_CUPOM  COD_CLIENTE CLIENTE_FISICO_JURIDICO SEXO_CLIENTE  \\\n",
       "0      836535   29633473.0           Pessoa Física            M   \n",
       "1       28204   29633473.0           Pessoa Física            M   \n",
       "2       80429   92370583.0           Pessoa Física            F   \n",
       "3      652350   27231139.0           Pessoa Física            F   \n",
       "4      514254   27680847.0           Pessoa Física            M   \n",
       "5      531915   25078495.0         Pessoa Jurídica          NaN   \n",
       "6      531915   25078495.0         Pessoa Jurídica          NaN   \n",
       "7      531915   25078495.0         Pessoa Jurídica          NaN   \n",
       "8      305283          0.0           Pessoa Física            M   \n",
       "9      478427   27680847.0           Pessoa Física            M   \n",
       "10     575773   74513887.0         Pessoa Jurídica          NaN   \n",
       "11     755009   66612529.0           Pessoa Física            F   \n",
       "12     332035     984777.0           Pessoa Física            M   \n",
       "13     337541   89636646.0           Pessoa Física            F   \n",
       "14     405273          0.0           Pessoa Física            M   \n",
       "\n",
       "   DTNASCIMENTO_CLIENTE    COD_SKU                                       SKU  \\\n",
       "0            1983-04-05  100018356                      PICOLE KIBON CHICABO   \n",
       "1            1983-04-05  100018356                      PICOLE KIBON CHICABO   \n",
       "2            1954-05-01      10432                       VALDA DIET 50G LATA   \n",
       "3            1990-07-12   10038872                  OVO NESTLE ALPINO 349,5G   \n",
       "4            1977-01-22  100026723               ACHOCOLATADO TODDYNHO 200ML   \n",
       "5                   NaN   10032067                   SUCO COM/TEM 200ML MACA   \n",
       "6                   NaN   10032068                    SUCO COM/TEM 200ML UVA   \n",
       "7                   NaN   10032065                SUCO COM/TEM 200ML LARANJA   \n",
       "8                   NaN   10021213         AGUA MINERAL DA PEDRA S/GAS 500ML   \n",
       "9            1977-01-22  100007303         SUCO DEL VALLE FRUT 450ML LARANJA   \n",
       "10                  NaN   10033505   LAVA ROUPAS BRILHANTE LIQ 900ML LIMPEZA   \n",
       "11           1968-11-23   10036680    COPO STANLEY 473ML C/TAMPA BRANCO 8031   \n",
       "12           1977-01-12   10039525  TV SMART PHILCO 32POL ROKU AUDIO LED BIV   \n",
       "13           1985-12-11   10039525  TV SMART PHILCO 32POL ROKU AUDIO LED BIV   \n",
       "14                  NaN   10039525  TV SMART PHILCO 32POL ROKU AUDIO LED BIV   \n",
       "\n",
       "   CATEGORIA_SKU         SUBCATEGORIA_SKU  COD_LOJA UF_CIDADE  COD_CIDADE  \\\n",
       "0   CONVENIENCIA  CONVENIENCIA PERECIVEIS       537        RS       80400   \n",
       "1   CONVENIENCIA  CONVENIENCIA PERECIVEIS       501        RS       80400   \n",
       "2   CONVENIENCIA  CONVENIENCIA PERECIVEIS      1240        RS       80400   \n",
       "3   CONVENIENCIA  CONVENIENCIA PERECIVEIS       714        RS       80400   \n",
       "4   CONVENIENCIA  CONVENIENCIA PERECIVEIS      1036        RS       80400   \n",
       "5   CONVENIENCIA                  BEBIDAS      1036        RS       80400   \n",
       "6   CONVENIENCIA                  BEBIDAS      1036        RS       80400   \n",
       "7   CONVENIENCIA                  BEBIDAS      1036        RS       80400   \n",
       "8   CONVENIENCIA                  BEBIDAS       980        RS       80400   \n",
       "9   CONVENIENCIA                  BEBIDAS      1036        RS       80400   \n",
       "10  CONVENIENCIA       CONVENIENCIA BAZAR       846        RS       80400   \n",
       "11  CONVENIENCIA       CONVENIENCIA BAZAR       596        RS       80400   \n",
       "12  CONVENIENCIA       CONVENIENCIA BAZAR      1169        RS       80400   \n",
       "13  CONVENIENCIA       CONVENIENCIA BAZAR      1169        RS       80400   \n",
       "14  CONVENIENCIA       CONVENIENCIA BAZAR       845        RS       80400   \n",
       "\n",
       "     NOME_CIDADE               DATA_CUPOM  UNIDADES  \\\n",
       "0   PORTO ALEGRE  2024-01-17 15:50:05.000      59.0   \n",
       "1   PORTO ALEGRE  2024-01-17 18:27:02.000      46.0   \n",
       "2   PORTO ALEGRE  2024-04-12 14:06:41.000      10.0   \n",
       "3   PORTO ALEGRE  2024-03-27 10:45:37.000       5.0   \n",
       "4   PORTO ALEGRE  2024-04-23 14:29:55.536      60.0   \n",
       "5   PORTO ALEGRE  2024-05-22 17:18:27.603    1528.0   \n",
       "6   PORTO ALEGRE  2024-05-22 17:18:27.603     534.0   \n",
       "7   PORTO ALEGRE  2024-05-22 17:18:27.603     527.0   \n",
       "8   PORTO ALEGRE  2024-05-08 20:26:23.141      72.0   \n",
       "9   PORTO ALEGRE  2024-02-27 13:48:27.000      60.0   \n",
       "10  PORTO ALEGRE  2024-05-17 13:26:40.030    2004.0   \n",
       "11  PORTO ALEGRE  2024-01-25 11:12:53.000      10.0   \n",
       "12  PORTO ALEGRE  2024-05-21 07:39:07.904       1.0   \n",
       "13  PORTO ALEGRE  2024-06-04 07:02:27.056       1.0   \n",
       "14  PORTO ALEGRE  2024-04-30 20:24:19.879       1.0   \n",
       "\n",
       "    IDENTIFICADOR_PROMOCIONAL  PRECO_REGULAR  TOTAL_DESCONTO  TOTAL_BRUTO  \\\n",
       "0                         NaN           7.50            0.00       442.50   \n",
       "1                         NaN           7.50            0.00       345.00   \n",
       "2                 100304030.0          32.90           30.00       329.00   \n",
       "3                 100305058.0          61.90           19.55       309.50   \n",
       "4                         NaN           4.69            0.00       281.40   \n",
       "5                         NaN           2.50            0.00      3820.00   \n",
       "6                         NaN           2.50            0.00      1335.00   \n",
       "7                         NaN           2.50            0.00      1317.50   \n",
       "8                         NaN           4.49            0.00       323.28   \n",
       "9                         NaN           4.00            0.00       240.00   \n",
       "10                        NaN           8.90            0.00     17835.60   \n",
       "11                        NaN         149.00            0.00      1490.00   \n",
       "12                        NaN        1399.00            0.00      1399.00   \n",
       "13                        NaN        1399.00            0.00      1399.00   \n",
       "14                        NaN        1399.00            0.00      1399.00   \n",
       "\n",
       "    TOTAL_LIQUIDO  \n",
       "0          442.50  \n",
       "1          345.00  \n",
       "2          299.00  \n",
       "3          289.95  \n",
       "4          281.40  \n",
       "5         3820.00  \n",
       "6         1335.00  \n",
       "7         1317.50  \n",
       "8          323.28  \n",
       "9          240.00  \n",
       "10       17835.60  \n",
       "11        1490.00  \n",
       "12        1399.00  \n",
       "13        1399.00  \n",
       "14        1399.00  "
      ]
     },
     "metadata": {},
     "output_type": "display_data"
    }
   ],
   "source": [
    "top_categorias = df['CATEGORIA_SKU'].value_counts().nlargest(3).index.tolist()\n",
    "\n",
    "category_dataframes = {}\n",
    "\n",
    "for categoria in top_categorias:\n",
    "    df_categoria = df[df['CATEGORIA_SKU'] == categoria]\n",
    "    \n",
    "    top_subcategorias = df_categoria['SUBCATEGORIA_SKU'].value_counts().nlargest(3).index.tolist()\n",
    "    \n",
    "    df_result = pd.DataFrame()\n",
    "    for subcategoria in top_subcategorias:\n",
    "        df_subcategoria = df_categoria[df_categoria['SUBCATEGORIA_SKU'] == subcategoria]\n",
    "        top_skus_subcategoria = df_subcategoria.nlargest(5, 'TOTAL_LIQUIDO')\n",
    "        df_result = pd.concat([df_result, top_skus_subcategoria])\n",
    "    \n",
    "    category_dataframes[categoria] = df_result.reset_index(drop=True)\n",
    "\n",
    "# Use a different variable name here to avoid overwriting the original `df`\n",
    "for categoria, df_category in category_dataframes.items():\n",
    "    print(f\"Top 15 SKUs for {categoria}\")\n",
    "    display(df_category)\n",
    "\n"
   ]
  },
  {
   "cell_type": "code",
   "execution_count": 13,
   "metadata": {},
   "outputs": [
    {
     "data": {
      "application/vnd.plotly.v1+json": {
       "config": {
        "plotlyServerURL": "https://plot.ly"
       },
       "data": [
        {
         "alignmentgroup": "True",
         "hovertemplate": "SKU=%{x}<br>Percentage (%)=%{y}<extra></extra>",
         "legendgroup": "",
         "marker": {
          "color": "#636efa",
          "pattern": {
           "shape": ""
          }
         },
         "name": "",
         "offsetgroup": "",
         "orientation": "v",
         "showlegend": false,
         "textposition": "auto",
         "type": "bar",
         "x": [
          "PAPEL HIG LOUVRE FOLHA DUPLA 20M 12UN NE",
          "PAPEL HIG STYLUS FOL",
          "TOALHAS UMED SNOW BA",
          "SORO FISIOLOGICO 0,9",
          "AGUA MINERAL CRYSTAL",
          "SORINAN AD 30ML PHARMASCIENCE",
          "PARACETAMOL 750MG 20CP REV GEN PRAT",
          "LAVA ROUPAS TIXAN YPE LIQ 900ML PRIMAVER",
          "DORFLEX 300+35+50MG 10CP OPELLA AV*",
          "NIMESULIDA 100MG 12C"
         ],
         "xaxis": "x",
         "y": [
          0.8699890713400315,
          0.6343627616158539,
          0.5409104225245162,
          0.48248113803031295,
          0.4815966629835112,
          0.47221259846256664,
          0.4641336739497075,
          0.39884431470226195,
          0.3952956282339967,
          0.376419636381522
         ],
         "yaxis": "y"
        }
       ],
       "layout": {
        "barmode": "relative",
        "legend": {
         "tracegroupgap": 0
        },
        "template": {
         "data": {
          "bar": [
           {
            "error_x": {
             "color": "#2a3f5f"
            },
            "error_y": {
             "color": "#2a3f5f"
            },
            "marker": {
             "line": {
              "color": "#E5ECF6",
              "width": 0.5
             },
             "pattern": {
              "fillmode": "overlay",
              "size": 10,
              "solidity": 0.2
             }
            },
            "type": "bar"
           }
          ],
          "barpolar": [
           {
            "marker": {
             "line": {
              "color": "#E5ECF6",
              "width": 0.5
             },
             "pattern": {
              "fillmode": "overlay",
              "size": 10,
              "solidity": 0.2
             }
            },
            "type": "barpolar"
           }
          ],
          "carpet": [
           {
            "aaxis": {
             "endlinecolor": "#2a3f5f",
             "gridcolor": "white",
             "linecolor": "white",
             "minorgridcolor": "white",
             "startlinecolor": "#2a3f5f"
            },
            "baxis": {
             "endlinecolor": "#2a3f5f",
             "gridcolor": "white",
             "linecolor": "white",
             "minorgridcolor": "white",
             "startlinecolor": "#2a3f5f"
            },
            "type": "carpet"
           }
          ],
          "choropleth": [
           {
            "colorbar": {
             "outlinewidth": 0,
             "ticks": ""
            },
            "type": "choropleth"
           }
          ],
          "contour": [
           {
            "colorbar": {
             "outlinewidth": 0,
             "ticks": ""
            },
            "colorscale": [
             [
              0,
              "#0d0887"
             ],
             [
              0.1111111111111111,
              "#46039f"
             ],
             [
              0.2222222222222222,
              "#7201a8"
             ],
             [
              0.3333333333333333,
              "#9c179e"
             ],
             [
              0.4444444444444444,
              "#bd3786"
             ],
             [
              0.5555555555555556,
              "#d8576b"
             ],
             [
              0.6666666666666666,
              "#ed7953"
             ],
             [
              0.7777777777777778,
              "#fb9f3a"
             ],
             [
              0.8888888888888888,
              "#fdca26"
             ],
             [
              1,
              "#f0f921"
             ]
            ],
            "type": "contour"
           }
          ],
          "contourcarpet": [
           {
            "colorbar": {
             "outlinewidth": 0,
             "ticks": ""
            },
            "type": "contourcarpet"
           }
          ],
          "heatmap": [
           {
            "colorbar": {
             "outlinewidth": 0,
             "ticks": ""
            },
            "colorscale": [
             [
              0,
              "#0d0887"
             ],
             [
              0.1111111111111111,
              "#46039f"
             ],
             [
              0.2222222222222222,
              "#7201a8"
             ],
             [
              0.3333333333333333,
              "#9c179e"
             ],
             [
              0.4444444444444444,
              "#bd3786"
             ],
             [
              0.5555555555555556,
              "#d8576b"
             ],
             [
              0.6666666666666666,
              "#ed7953"
             ],
             [
              0.7777777777777778,
              "#fb9f3a"
             ],
             [
              0.8888888888888888,
              "#fdca26"
             ],
             [
              1,
              "#f0f921"
             ]
            ],
            "type": "heatmap"
           }
          ],
          "heatmapgl": [
           {
            "colorbar": {
             "outlinewidth": 0,
             "ticks": ""
            },
            "colorscale": [
             [
              0,
              "#0d0887"
             ],
             [
              0.1111111111111111,
              "#46039f"
             ],
             [
              0.2222222222222222,
              "#7201a8"
             ],
             [
              0.3333333333333333,
              "#9c179e"
             ],
             [
              0.4444444444444444,
              "#bd3786"
             ],
             [
              0.5555555555555556,
              "#d8576b"
             ],
             [
              0.6666666666666666,
              "#ed7953"
             ],
             [
              0.7777777777777778,
              "#fb9f3a"
             ],
             [
              0.8888888888888888,
              "#fdca26"
             ],
             [
              1,
              "#f0f921"
             ]
            ],
            "type": "heatmapgl"
           }
          ],
          "histogram": [
           {
            "marker": {
             "pattern": {
              "fillmode": "overlay",
              "size": 10,
              "solidity": 0.2
             }
            },
            "type": "histogram"
           }
          ],
          "histogram2d": [
           {
            "colorbar": {
             "outlinewidth": 0,
             "ticks": ""
            },
            "colorscale": [
             [
              0,
              "#0d0887"
             ],
             [
              0.1111111111111111,
              "#46039f"
             ],
             [
              0.2222222222222222,
              "#7201a8"
             ],
             [
              0.3333333333333333,
              "#9c179e"
             ],
             [
              0.4444444444444444,
              "#bd3786"
             ],
             [
              0.5555555555555556,
              "#d8576b"
             ],
             [
              0.6666666666666666,
              "#ed7953"
             ],
             [
              0.7777777777777778,
              "#fb9f3a"
             ],
             [
              0.8888888888888888,
              "#fdca26"
             ],
             [
              1,
              "#f0f921"
             ]
            ],
            "type": "histogram2d"
           }
          ],
          "histogram2dcontour": [
           {
            "colorbar": {
             "outlinewidth": 0,
             "ticks": ""
            },
            "colorscale": [
             [
              0,
              "#0d0887"
             ],
             [
              0.1111111111111111,
              "#46039f"
             ],
             [
              0.2222222222222222,
              "#7201a8"
             ],
             [
              0.3333333333333333,
              "#9c179e"
             ],
             [
              0.4444444444444444,
              "#bd3786"
             ],
             [
              0.5555555555555556,
              "#d8576b"
             ],
             [
              0.6666666666666666,
              "#ed7953"
             ],
             [
              0.7777777777777778,
              "#fb9f3a"
             ],
             [
              0.8888888888888888,
              "#fdca26"
             ],
             [
              1,
              "#f0f921"
             ]
            ],
            "type": "histogram2dcontour"
           }
          ],
          "mesh3d": [
           {
            "colorbar": {
             "outlinewidth": 0,
             "ticks": ""
            },
            "type": "mesh3d"
           }
          ],
          "parcoords": [
           {
            "line": {
             "colorbar": {
              "outlinewidth": 0,
              "ticks": ""
             }
            },
            "type": "parcoords"
           }
          ],
          "pie": [
           {
            "automargin": true,
            "type": "pie"
           }
          ],
          "scatter": [
           {
            "fillpattern": {
             "fillmode": "overlay",
             "size": 10,
             "solidity": 0.2
            },
            "type": "scatter"
           }
          ],
          "scatter3d": [
           {
            "line": {
             "colorbar": {
              "outlinewidth": 0,
              "ticks": ""
             }
            },
            "marker": {
             "colorbar": {
              "outlinewidth": 0,
              "ticks": ""
             }
            },
            "type": "scatter3d"
           }
          ],
          "scattercarpet": [
           {
            "marker": {
             "colorbar": {
              "outlinewidth": 0,
              "ticks": ""
             }
            },
            "type": "scattercarpet"
           }
          ],
          "scattergeo": [
           {
            "marker": {
             "colorbar": {
              "outlinewidth": 0,
              "ticks": ""
             }
            },
            "type": "scattergeo"
           }
          ],
          "scattergl": [
           {
            "marker": {
             "colorbar": {
              "outlinewidth": 0,
              "ticks": ""
             }
            },
            "type": "scattergl"
           }
          ],
          "scattermapbox": [
           {
            "marker": {
             "colorbar": {
              "outlinewidth": 0,
              "ticks": ""
             }
            },
            "type": "scattermapbox"
           }
          ],
          "scatterpolar": [
           {
            "marker": {
             "colorbar": {
              "outlinewidth": 0,
              "ticks": ""
             }
            },
            "type": "scatterpolar"
           }
          ],
          "scatterpolargl": [
           {
            "marker": {
             "colorbar": {
              "outlinewidth": 0,
              "ticks": ""
             }
            },
            "type": "scatterpolargl"
           }
          ],
          "scatterternary": [
           {
            "marker": {
             "colorbar": {
              "outlinewidth": 0,
              "ticks": ""
             }
            },
            "type": "scatterternary"
           }
          ],
          "surface": [
           {
            "colorbar": {
             "outlinewidth": 0,
             "ticks": ""
            },
            "colorscale": [
             [
              0,
              "#0d0887"
             ],
             [
              0.1111111111111111,
              "#46039f"
             ],
             [
              0.2222222222222222,
              "#7201a8"
             ],
             [
              0.3333333333333333,
              "#9c179e"
             ],
             [
              0.4444444444444444,
              "#bd3786"
             ],
             [
              0.5555555555555556,
              "#d8576b"
             ],
             [
              0.6666666666666666,
              "#ed7953"
             ],
             [
              0.7777777777777778,
              "#fb9f3a"
             ],
             [
              0.8888888888888888,
              "#fdca26"
             ],
             [
              1,
              "#f0f921"
             ]
            ],
            "type": "surface"
           }
          ],
          "table": [
           {
            "cells": {
             "fill": {
              "color": "#EBF0F8"
             },
             "line": {
              "color": "white"
             }
            },
            "header": {
             "fill": {
              "color": "#C8D4E3"
             },
             "line": {
              "color": "white"
             }
            },
            "type": "table"
           }
          ]
         },
         "layout": {
          "annotationdefaults": {
           "arrowcolor": "#2a3f5f",
           "arrowhead": 0,
           "arrowwidth": 1
          },
          "autotypenumbers": "strict",
          "coloraxis": {
           "colorbar": {
            "outlinewidth": 0,
            "ticks": ""
           }
          },
          "colorscale": {
           "diverging": [
            [
             0,
             "#8e0152"
            ],
            [
             0.1,
             "#c51b7d"
            ],
            [
             0.2,
             "#de77ae"
            ],
            [
             0.3,
             "#f1b6da"
            ],
            [
             0.4,
             "#fde0ef"
            ],
            [
             0.5,
             "#f7f7f7"
            ],
            [
             0.6,
             "#e6f5d0"
            ],
            [
             0.7,
             "#b8e186"
            ],
            [
             0.8,
             "#7fbc41"
            ],
            [
             0.9,
             "#4d9221"
            ],
            [
             1,
             "#276419"
            ]
           ],
           "sequential": [
            [
             0,
             "#0d0887"
            ],
            [
             0.1111111111111111,
             "#46039f"
            ],
            [
             0.2222222222222222,
             "#7201a8"
            ],
            [
             0.3333333333333333,
             "#9c179e"
            ],
            [
             0.4444444444444444,
             "#bd3786"
            ],
            [
             0.5555555555555556,
             "#d8576b"
            ],
            [
             0.6666666666666666,
             "#ed7953"
            ],
            [
             0.7777777777777778,
             "#fb9f3a"
            ],
            [
             0.8888888888888888,
             "#fdca26"
            ],
            [
             1,
             "#f0f921"
            ]
           ],
           "sequentialminus": [
            [
             0,
             "#0d0887"
            ],
            [
             0.1111111111111111,
             "#46039f"
            ],
            [
             0.2222222222222222,
             "#7201a8"
            ],
            [
             0.3333333333333333,
             "#9c179e"
            ],
            [
             0.4444444444444444,
             "#bd3786"
            ],
            [
             0.5555555555555556,
             "#d8576b"
            ],
            [
             0.6666666666666666,
             "#ed7953"
            ],
            [
             0.7777777777777778,
             "#fb9f3a"
            ],
            [
             0.8888888888888888,
             "#fdca26"
            ],
            [
             1,
             "#f0f921"
            ]
           ]
          },
          "colorway": [
           "#636efa",
           "#EF553B",
           "#00cc96",
           "#ab63fa",
           "#FFA15A",
           "#19d3f3",
           "#FF6692",
           "#B6E880",
           "#FF97FF",
           "#FECB52"
          ],
          "font": {
           "color": "#2a3f5f"
          },
          "geo": {
           "bgcolor": "white",
           "lakecolor": "white",
           "landcolor": "#E5ECF6",
           "showlakes": true,
           "showland": true,
           "subunitcolor": "white"
          },
          "hoverlabel": {
           "align": "left"
          },
          "hovermode": "closest",
          "mapbox": {
           "style": "light"
          },
          "paper_bgcolor": "white",
          "plot_bgcolor": "#E5ECF6",
          "polar": {
           "angularaxis": {
            "gridcolor": "white",
            "linecolor": "white",
            "ticks": ""
           },
           "bgcolor": "#E5ECF6",
           "radialaxis": {
            "gridcolor": "white",
            "linecolor": "white",
            "ticks": ""
           }
          },
          "scene": {
           "xaxis": {
            "backgroundcolor": "#E5ECF6",
            "gridcolor": "white",
            "gridwidth": 2,
            "linecolor": "white",
            "showbackground": true,
            "ticks": "",
            "zerolinecolor": "white"
           },
           "yaxis": {
            "backgroundcolor": "#E5ECF6",
            "gridcolor": "white",
            "gridwidth": 2,
            "linecolor": "white",
            "showbackground": true,
            "ticks": "",
            "zerolinecolor": "white"
           },
           "zaxis": {
            "backgroundcolor": "#E5ECF6",
            "gridcolor": "white",
            "gridwidth": 2,
            "linecolor": "white",
            "showbackground": true,
            "ticks": "",
            "zerolinecolor": "white"
           }
          },
          "shapedefaults": {
           "line": {
            "color": "#2a3f5f"
           }
          },
          "ternary": {
           "aaxis": {
            "gridcolor": "white",
            "linecolor": "white",
            "ticks": ""
           },
           "baxis": {
            "gridcolor": "white",
            "linecolor": "white",
            "ticks": ""
           },
           "bgcolor": "#E5ECF6",
           "caxis": {
            "gridcolor": "white",
            "linecolor": "white",
            "ticks": ""
           }
          },
          "title": {
           "x": 0.05
          },
          "xaxis": {
           "automargin": true,
           "gridcolor": "white",
           "linecolor": "white",
           "ticks": "",
           "title": {
            "standoff": 15
           },
           "zerolinecolor": "white",
           "zerolinewidth": 2
          },
          "yaxis": {
           "automargin": true,
           "gridcolor": "white",
           "linecolor": "white",
           "ticks": "",
           "title": {
            "standoff": 15
           },
           "zerolinecolor": "white",
           "zerolinewidth": 2
          }
         }
        },
        "title": {
         "text": "Top 10 SKUs and Their Percentage Over All Data"
        },
        "xaxis": {
         "anchor": "y",
         "domain": [
          0,
          1
         ],
         "title": {
          "text": "SKU"
         }
        },
        "yaxis": {
         "anchor": "x",
         "domain": [
          0,
          1
         ],
         "title": {
          "text": "Percentage (%)"
         }
        }
       }
      }
     },
     "metadata": {},
     "output_type": "display_data"
    }
   ],
   "source": [
    "\n",
    "# Identify the top 10 SKUs by frequency\n",
    "top_10_skus = df['SKU'].value_counts().nlargest(10)\n",
    "\n",
    "# Calculate the percentage for each SKU over the entire dataset\n",
    "total_skus = df['SKU'].value_counts().sum()\n",
    "top_10_skus_percentage = (top_10_skus / total_skus) * 100\n",
    "\n",
    "# Create a bar graph using plotly\n",
    "fig = px.bar(top_10_skus_percentage, x=top_10_skus_percentage.index, y=top_10_skus_percentage.values,\n",
    "             title='Top 10 SKUs and Their Percentage Over All Data',\n",
    "             labels={'x': 'SKU', 'y': 'Percentage (%)'})\n",
    "\n",
    "fig.show()\n",
    "\n"
   ]
  },
  {
   "cell_type": "code",
   "execution_count": 14,
   "metadata": {},
   "outputs": [
    {
     "data": {
      "application/vnd.plotly.v1+json": {
       "config": {
        "plotlyServerURL": "https://plot.ly"
       },
       "data": [
        {
         "alignmentgroup": "True",
         "hovertemplate": "SKU=%{x}<br>Percentage (%)=%{y}<extra></extra>",
         "legendgroup": "",
         "marker": {
          "color": "#636efa",
          "pattern": {
           "shape": ""
          }
         },
         "name": "",
         "offsetgroup": "",
         "orientation": "v",
         "showlegend": false,
         "textposition": "auto",
         "type": "bar",
         "x": [
          "SORO FISIOLOGICO 0,9",
          "SORINAN AD 30ML PHARMASCIENCE",
          "PARACETAMOL 750MG 20CP REV GEN PRAT",
          "DORFLEX 300+35+50MG 10CP OPELLA AV*",
          "NIMESULIDA 100MG 12C",
          "HIDROCLOROTIAZIDA 25",
          "GLIFAGE XR 500MG 30C",
          "TORSILAX 30CP NEOQUI",
          "SILDENAFILA 50MG 4CP",
          "IBUPROFENO 600MG 20CP REV GEN PRAT"
         ],
         "xaxis": "x",
         "y": [
          1.0532001334541674,
          1.030785107475576,
          1.0131497561541842,
          0.8628843193943423,
          0.8216802275219318,
          0.7522925368087925,
          0.7037658891807708,
          0.6760296490517996,
          0.6659052150488646,
          0.5721247019472583
         ],
         "yaxis": "y"
        }
       ],
       "layout": {
        "barmode": "relative",
        "legend": {
         "tracegroupgap": 0
        },
        "template": {
         "data": {
          "bar": [
           {
            "error_x": {
             "color": "#2a3f5f"
            },
            "error_y": {
             "color": "#2a3f5f"
            },
            "marker": {
             "line": {
              "color": "#E5ECF6",
              "width": 0.5
             },
             "pattern": {
              "fillmode": "overlay",
              "size": 10,
              "solidity": 0.2
             }
            },
            "type": "bar"
           }
          ],
          "barpolar": [
           {
            "marker": {
             "line": {
              "color": "#E5ECF6",
              "width": 0.5
             },
             "pattern": {
              "fillmode": "overlay",
              "size": 10,
              "solidity": 0.2
             }
            },
            "type": "barpolar"
           }
          ],
          "carpet": [
           {
            "aaxis": {
             "endlinecolor": "#2a3f5f",
             "gridcolor": "white",
             "linecolor": "white",
             "minorgridcolor": "white",
             "startlinecolor": "#2a3f5f"
            },
            "baxis": {
             "endlinecolor": "#2a3f5f",
             "gridcolor": "white",
             "linecolor": "white",
             "minorgridcolor": "white",
             "startlinecolor": "#2a3f5f"
            },
            "type": "carpet"
           }
          ],
          "choropleth": [
           {
            "colorbar": {
             "outlinewidth": 0,
             "ticks": ""
            },
            "type": "choropleth"
           }
          ],
          "contour": [
           {
            "colorbar": {
             "outlinewidth": 0,
             "ticks": ""
            },
            "colorscale": [
             [
              0,
              "#0d0887"
             ],
             [
              0.1111111111111111,
              "#46039f"
             ],
             [
              0.2222222222222222,
              "#7201a8"
             ],
             [
              0.3333333333333333,
              "#9c179e"
             ],
             [
              0.4444444444444444,
              "#bd3786"
             ],
             [
              0.5555555555555556,
              "#d8576b"
             ],
             [
              0.6666666666666666,
              "#ed7953"
             ],
             [
              0.7777777777777778,
              "#fb9f3a"
             ],
             [
              0.8888888888888888,
              "#fdca26"
             ],
             [
              1,
              "#f0f921"
             ]
            ],
            "type": "contour"
           }
          ],
          "contourcarpet": [
           {
            "colorbar": {
             "outlinewidth": 0,
             "ticks": ""
            },
            "type": "contourcarpet"
           }
          ],
          "heatmap": [
           {
            "colorbar": {
             "outlinewidth": 0,
             "ticks": ""
            },
            "colorscale": [
             [
              0,
              "#0d0887"
             ],
             [
              0.1111111111111111,
              "#46039f"
             ],
             [
              0.2222222222222222,
              "#7201a8"
             ],
             [
              0.3333333333333333,
              "#9c179e"
             ],
             [
              0.4444444444444444,
              "#bd3786"
             ],
             [
              0.5555555555555556,
              "#d8576b"
             ],
             [
              0.6666666666666666,
              "#ed7953"
             ],
             [
              0.7777777777777778,
              "#fb9f3a"
             ],
             [
              0.8888888888888888,
              "#fdca26"
             ],
             [
              1,
              "#f0f921"
             ]
            ],
            "type": "heatmap"
           }
          ],
          "heatmapgl": [
           {
            "colorbar": {
             "outlinewidth": 0,
             "ticks": ""
            },
            "colorscale": [
             [
              0,
              "#0d0887"
             ],
             [
              0.1111111111111111,
              "#46039f"
             ],
             [
              0.2222222222222222,
              "#7201a8"
             ],
             [
              0.3333333333333333,
              "#9c179e"
             ],
             [
              0.4444444444444444,
              "#bd3786"
             ],
             [
              0.5555555555555556,
              "#d8576b"
             ],
             [
              0.6666666666666666,
              "#ed7953"
             ],
             [
              0.7777777777777778,
              "#fb9f3a"
             ],
             [
              0.8888888888888888,
              "#fdca26"
             ],
             [
              1,
              "#f0f921"
             ]
            ],
            "type": "heatmapgl"
           }
          ],
          "histogram": [
           {
            "marker": {
             "pattern": {
              "fillmode": "overlay",
              "size": 10,
              "solidity": 0.2
             }
            },
            "type": "histogram"
           }
          ],
          "histogram2d": [
           {
            "colorbar": {
             "outlinewidth": 0,
             "ticks": ""
            },
            "colorscale": [
             [
              0,
              "#0d0887"
             ],
             [
              0.1111111111111111,
              "#46039f"
             ],
             [
              0.2222222222222222,
              "#7201a8"
             ],
             [
              0.3333333333333333,
              "#9c179e"
             ],
             [
              0.4444444444444444,
              "#bd3786"
             ],
             [
              0.5555555555555556,
              "#d8576b"
             ],
             [
              0.6666666666666666,
              "#ed7953"
             ],
             [
              0.7777777777777778,
              "#fb9f3a"
             ],
             [
              0.8888888888888888,
              "#fdca26"
             ],
             [
              1,
              "#f0f921"
             ]
            ],
            "type": "histogram2d"
           }
          ],
          "histogram2dcontour": [
           {
            "colorbar": {
             "outlinewidth": 0,
             "ticks": ""
            },
            "colorscale": [
             [
              0,
              "#0d0887"
             ],
             [
              0.1111111111111111,
              "#46039f"
             ],
             [
              0.2222222222222222,
              "#7201a8"
             ],
             [
              0.3333333333333333,
              "#9c179e"
             ],
             [
              0.4444444444444444,
              "#bd3786"
             ],
             [
              0.5555555555555556,
              "#d8576b"
             ],
             [
              0.6666666666666666,
              "#ed7953"
             ],
             [
              0.7777777777777778,
              "#fb9f3a"
             ],
             [
              0.8888888888888888,
              "#fdca26"
             ],
             [
              1,
              "#f0f921"
             ]
            ],
            "type": "histogram2dcontour"
           }
          ],
          "mesh3d": [
           {
            "colorbar": {
             "outlinewidth": 0,
             "ticks": ""
            },
            "type": "mesh3d"
           }
          ],
          "parcoords": [
           {
            "line": {
             "colorbar": {
              "outlinewidth": 0,
              "ticks": ""
             }
            },
            "type": "parcoords"
           }
          ],
          "pie": [
           {
            "automargin": true,
            "type": "pie"
           }
          ],
          "scatter": [
           {
            "fillpattern": {
             "fillmode": "overlay",
             "size": 10,
             "solidity": 0.2
            },
            "type": "scatter"
           }
          ],
          "scatter3d": [
           {
            "line": {
             "colorbar": {
              "outlinewidth": 0,
              "ticks": ""
             }
            },
            "marker": {
             "colorbar": {
              "outlinewidth": 0,
              "ticks": ""
             }
            },
            "type": "scatter3d"
           }
          ],
          "scattercarpet": [
           {
            "marker": {
             "colorbar": {
              "outlinewidth": 0,
              "ticks": ""
             }
            },
            "type": "scattercarpet"
           }
          ],
          "scattergeo": [
           {
            "marker": {
             "colorbar": {
              "outlinewidth": 0,
              "ticks": ""
             }
            },
            "type": "scattergeo"
           }
          ],
          "scattergl": [
           {
            "marker": {
             "colorbar": {
              "outlinewidth": 0,
              "ticks": ""
             }
            },
            "type": "scattergl"
           }
          ],
          "scattermapbox": [
           {
            "marker": {
             "colorbar": {
              "outlinewidth": 0,
              "ticks": ""
             }
            },
            "type": "scattermapbox"
           }
          ],
          "scatterpolar": [
           {
            "marker": {
             "colorbar": {
              "outlinewidth": 0,
              "ticks": ""
             }
            },
            "type": "scatterpolar"
           }
          ],
          "scatterpolargl": [
           {
            "marker": {
             "colorbar": {
              "outlinewidth": 0,
              "ticks": ""
             }
            },
            "type": "scatterpolargl"
           }
          ],
          "scatterternary": [
           {
            "marker": {
             "colorbar": {
              "outlinewidth": 0,
              "ticks": ""
             }
            },
            "type": "scatterternary"
           }
          ],
          "surface": [
           {
            "colorbar": {
             "outlinewidth": 0,
             "ticks": ""
            },
            "colorscale": [
             [
              0,
              "#0d0887"
             ],
             [
              0.1111111111111111,
              "#46039f"
             ],
             [
              0.2222222222222222,
              "#7201a8"
             ],
             [
              0.3333333333333333,
              "#9c179e"
             ],
             [
              0.4444444444444444,
              "#bd3786"
             ],
             [
              0.5555555555555556,
              "#d8576b"
             ],
             [
              0.6666666666666666,
              "#ed7953"
             ],
             [
              0.7777777777777778,
              "#fb9f3a"
             ],
             [
              0.8888888888888888,
              "#fdca26"
             ],
             [
              1,
              "#f0f921"
             ]
            ],
            "type": "surface"
           }
          ],
          "table": [
           {
            "cells": {
             "fill": {
              "color": "#EBF0F8"
             },
             "line": {
              "color": "white"
             }
            },
            "header": {
             "fill": {
              "color": "#C8D4E3"
             },
             "line": {
              "color": "white"
             }
            },
            "type": "table"
           }
          ]
         },
         "layout": {
          "annotationdefaults": {
           "arrowcolor": "#2a3f5f",
           "arrowhead": 0,
           "arrowwidth": 1
          },
          "autotypenumbers": "strict",
          "coloraxis": {
           "colorbar": {
            "outlinewidth": 0,
            "ticks": ""
           }
          },
          "colorscale": {
           "diverging": [
            [
             0,
             "#8e0152"
            ],
            [
             0.1,
             "#c51b7d"
            ],
            [
             0.2,
             "#de77ae"
            ],
            [
             0.3,
             "#f1b6da"
            ],
            [
             0.4,
             "#fde0ef"
            ],
            [
             0.5,
             "#f7f7f7"
            ],
            [
             0.6,
             "#e6f5d0"
            ],
            [
             0.7,
             "#b8e186"
            ],
            [
             0.8,
             "#7fbc41"
            ],
            [
             0.9,
             "#4d9221"
            ],
            [
             1,
             "#276419"
            ]
           ],
           "sequential": [
            [
             0,
             "#0d0887"
            ],
            [
             0.1111111111111111,
             "#46039f"
            ],
            [
             0.2222222222222222,
             "#7201a8"
            ],
            [
             0.3333333333333333,
             "#9c179e"
            ],
            [
             0.4444444444444444,
             "#bd3786"
            ],
            [
             0.5555555555555556,
             "#d8576b"
            ],
            [
             0.6666666666666666,
             "#ed7953"
            ],
            [
             0.7777777777777778,
             "#fb9f3a"
            ],
            [
             0.8888888888888888,
             "#fdca26"
            ],
            [
             1,
             "#f0f921"
            ]
           ],
           "sequentialminus": [
            [
             0,
             "#0d0887"
            ],
            [
             0.1111111111111111,
             "#46039f"
            ],
            [
             0.2222222222222222,
             "#7201a8"
            ],
            [
             0.3333333333333333,
             "#9c179e"
            ],
            [
             0.4444444444444444,
             "#bd3786"
            ],
            [
             0.5555555555555556,
             "#d8576b"
            ],
            [
             0.6666666666666666,
             "#ed7953"
            ],
            [
             0.7777777777777778,
             "#fb9f3a"
            ],
            [
             0.8888888888888888,
             "#fdca26"
            ],
            [
             1,
             "#f0f921"
            ]
           ]
          },
          "colorway": [
           "#636efa",
           "#EF553B",
           "#00cc96",
           "#ab63fa",
           "#FFA15A",
           "#19d3f3",
           "#FF6692",
           "#B6E880",
           "#FF97FF",
           "#FECB52"
          ],
          "font": {
           "color": "#2a3f5f"
          },
          "geo": {
           "bgcolor": "white",
           "lakecolor": "white",
           "landcolor": "#E5ECF6",
           "showlakes": true,
           "showland": true,
           "subunitcolor": "white"
          },
          "hoverlabel": {
           "align": "left"
          },
          "hovermode": "closest",
          "mapbox": {
           "style": "light"
          },
          "paper_bgcolor": "white",
          "plot_bgcolor": "#E5ECF6",
          "polar": {
           "angularaxis": {
            "gridcolor": "white",
            "linecolor": "white",
            "ticks": ""
           },
           "bgcolor": "#E5ECF6",
           "radialaxis": {
            "gridcolor": "white",
            "linecolor": "white",
            "ticks": ""
           }
          },
          "scene": {
           "xaxis": {
            "backgroundcolor": "#E5ECF6",
            "gridcolor": "white",
            "gridwidth": 2,
            "linecolor": "white",
            "showbackground": true,
            "ticks": "",
            "zerolinecolor": "white"
           },
           "yaxis": {
            "backgroundcolor": "#E5ECF6",
            "gridcolor": "white",
            "gridwidth": 2,
            "linecolor": "white",
            "showbackground": true,
            "ticks": "",
            "zerolinecolor": "white"
           },
           "zaxis": {
            "backgroundcolor": "#E5ECF6",
            "gridcolor": "white",
            "gridwidth": 2,
            "linecolor": "white",
            "showbackground": true,
            "ticks": "",
            "zerolinecolor": "white"
           }
          },
          "shapedefaults": {
           "line": {
            "color": "#2a3f5f"
           }
          },
          "ternary": {
           "aaxis": {
            "gridcolor": "white",
            "linecolor": "white",
            "ticks": ""
           },
           "baxis": {
            "gridcolor": "white",
            "linecolor": "white",
            "ticks": ""
           },
           "bgcolor": "#E5ECF6",
           "caxis": {
            "gridcolor": "white",
            "linecolor": "white",
            "ticks": ""
           }
          },
          "title": {
           "x": 0.05
          },
          "xaxis": {
           "automargin": true,
           "gridcolor": "white",
           "linecolor": "white",
           "ticks": "",
           "title": {
            "standoff": 15
           },
           "zerolinecolor": "white",
           "zerolinewidth": 2
          },
          "yaxis": {
           "automargin": true,
           "gridcolor": "white",
           "linecolor": "white",
           "ticks": "",
           "title": {
            "standoff": 15
           },
           "zerolinecolor": "white",
           "zerolinewidth": 2
          }
         }
        },
        "title": {
         "text": "Top 10 SKUs in MEDICAMENTOS and Their Percentage Over All Data"
        },
        "xaxis": {
         "anchor": "y",
         "domain": [
          0,
          1
         ],
         "title": {
          "text": "SKU"
         }
        },
        "yaxis": {
         "anchor": "x",
         "domain": [
          0,
          1
         ],
         "title": {
          "text": "Percentage (%)"
         }
        }
       }
      }
     },
     "metadata": {},
     "output_type": "display_data"
    },
    {
     "data": {
      "application/vnd.plotly.v1+json": {
       "config": {
        "plotlyServerURL": "https://plot.ly"
       },
       "data": [
        {
         "alignmentgroup": "True",
         "hovertemplate": "SKU=%{x}<br>Percentage (%)=%{y}<extra></extra>",
         "legendgroup": "",
         "marker": {
          "color": "#636efa",
          "pattern": {
           "shape": ""
          }
         },
         "name": "",
         "offsetgroup": "",
         "orientation": "v",
         "showlegend": false,
         "textposition": "auto",
         "type": "bar",
         "x": [
          "PAPEL HIG LOUVRE FOLHA DUPLA 20M 12UN NE",
          "PAPEL HIG STYLUS FOL",
          "TOALHAS UMED SNOW BA",
          "TOALHAS UMED BEBE LI",
          "CR DENT CLOSE UP 70G",
          "MANTEIGA CACAU EVELI",
          "CR DENT CLOSE UP TR",
          "DES AXE AERO 152ML 4",
          "CR DENT CLOSE UP 70",
          "SAB LIQ LUX 200ML RF"
         ],
         "xaxis": "x",
         "y": [
          2.492627068909517,
          1.8175283382311087,
          1.5497757448414207,
          0.9163356586562368,
          0.8903762659453252,
          0.820564041976338,
          0.7976332450816994,
          0.7518952674481886,
          0.7358251671985767,
          0.6958662448471378
         ],
         "yaxis": "y"
        }
       ],
       "layout": {
        "barmode": "relative",
        "legend": {
         "tracegroupgap": 0
        },
        "template": {
         "data": {
          "bar": [
           {
            "error_x": {
             "color": "#2a3f5f"
            },
            "error_y": {
             "color": "#2a3f5f"
            },
            "marker": {
             "line": {
              "color": "#E5ECF6",
              "width": 0.5
             },
             "pattern": {
              "fillmode": "overlay",
              "size": 10,
              "solidity": 0.2
             }
            },
            "type": "bar"
           }
          ],
          "barpolar": [
           {
            "marker": {
             "line": {
              "color": "#E5ECF6",
              "width": 0.5
             },
             "pattern": {
              "fillmode": "overlay",
              "size": 10,
              "solidity": 0.2
             }
            },
            "type": "barpolar"
           }
          ],
          "carpet": [
           {
            "aaxis": {
             "endlinecolor": "#2a3f5f",
             "gridcolor": "white",
             "linecolor": "white",
             "minorgridcolor": "white",
             "startlinecolor": "#2a3f5f"
            },
            "baxis": {
             "endlinecolor": "#2a3f5f",
             "gridcolor": "white",
             "linecolor": "white",
             "minorgridcolor": "white",
             "startlinecolor": "#2a3f5f"
            },
            "type": "carpet"
           }
          ],
          "choropleth": [
           {
            "colorbar": {
             "outlinewidth": 0,
             "ticks": ""
            },
            "type": "choropleth"
           }
          ],
          "contour": [
           {
            "colorbar": {
             "outlinewidth": 0,
             "ticks": ""
            },
            "colorscale": [
             [
              0,
              "#0d0887"
             ],
             [
              0.1111111111111111,
              "#46039f"
             ],
             [
              0.2222222222222222,
              "#7201a8"
             ],
             [
              0.3333333333333333,
              "#9c179e"
             ],
             [
              0.4444444444444444,
              "#bd3786"
             ],
             [
              0.5555555555555556,
              "#d8576b"
             ],
             [
              0.6666666666666666,
              "#ed7953"
             ],
             [
              0.7777777777777778,
              "#fb9f3a"
             ],
             [
              0.8888888888888888,
              "#fdca26"
             ],
             [
              1,
              "#f0f921"
             ]
            ],
            "type": "contour"
           }
          ],
          "contourcarpet": [
           {
            "colorbar": {
             "outlinewidth": 0,
             "ticks": ""
            },
            "type": "contourcarpet"
           }
          ],
          "heatmap": [
           {
            "colorbar": {
             "outlinewidth": 0,
             "ticks": ""
            },
            "colorscale": [
             [
              0,
              "#0d0887"
             ],
             [
              0.1111111111111111,
              "#46039f"
             ],
             [
              0.2222222222222222,
              "#7201a8"
             ],
             [
              0.3333333333333333,
              "#9c179e"
             ],
             [
              0.4444444444444444,
              "#bd3786"
             ],
             [
              0.5555555555555556,
              "#d8576b"
             ],
             [
              0.6666666666666666,
              "#ed7953"
             ],
             [
              0.7777777777777778,
              "#fb9f3a"
             ],
             [
              0.8888888888888888,
              "#fdca26"
             ],
             [
              1,
              "#f0f921"
             ]
            ],
            "type": "heatmap"
           }
          ],
          "heatmapgl": [
           {
            "colorbar": {
             "outlinewidth": 0,
             "ticks": ""
            },
            "colorscale": [
             [
              0,
              "#0d0887"
             ],
             [
              0.1111111111111111,
              "#46039f"
             ],
             [
              0.2222222222222222,
              "#7201a8"
             ],
             [
              0.3333333333333333,
              "#9c179e"
             ],
             [
              0.4444444444444444,
              "#bd3786"
             ],
             [
              0.5555555555555556,
              "#d8576b"
             ],
             [
              0.6666666666666666,
              "#ed7953"
             ],
             [
              0.7777777777777778,
              "#fb9f3a"
             ],
             [
              0.8888888888888888,
              "#fdca26"
             ],
             [
              1,
              "#f0f921"
             ]
            ],
            "type": "heatmapgl"
           }
          ],
          "histogram": [
           {
            "marker": {
             "pattern": {
              "fillmode": "overlay",
              "size": 10,
              "solidity": 0.2
             }
            },
            "type": "histogram"
           }
          ],
          "histogram2d": [
           {
            "colorbar": {
             "outlinewidth": 0,
             "ticks": ""
            },
            "colorscale": [
             [
              0,
              "#0d0887"
             ],
             [
              0.1111111111111111,
              "#46039f"
             ],
             [
              0.2222222222222222,
              "#7201a8"
             ],
             [
              0.3333333333333333,
              "#9c179e"
             ],
             [
              0.4444444444444444,
              "#bd3786"
             ],
             [
              0.5555555555555556,
              "#d8576b"
             ],
             [
              0.6666666666666666,
              "#ed7953"
             ],
             [
              0.7777777777777778,
              "#fb9f3a"
             ],
             [
              0.8888888888888888,
              "#fdca26"
             ],
             [
              1,
              "#f0f921"
             ]
            ],
            "type": "histogram2d"
           }
          ],
          "histogram2dcontour": [
           {
            "colorbar": {
             "outlinewidth": 0,
             "ticks": ""
            },
            "colorscale": [
             [
              0,
              "#0d0887"
             ],
             [
              0.1111111111111111,
              "#46039f"
             ],
             [
              0.2222222222222222,
              "#7201a8"
             ],
             [
              0.3333333333333333,
              "#9c179e"
             ],
             [
              0.4444444444444444,
              "#bd3786"
             ],
             [
              0.5555555555555556,
              "#d8576b"
             ],
             [
              0.6666666666666666,
              "#ed7953"
             ],
             [
              0.7777777777777778,
              "#fb9f3a"
             ],
             [
              0.8888888888888888,
              "#fdca26"
             ],
             [
              1,
              "#f0f921"
             ]
            ],
            "type": "histogram2dcontour"
           }
          ],
          "mesh3d": [
           {
            "colorbar": {
             "outlinewidth": 0,
             "ticks": ""
            },
            "type": "mesh3d"
           }
          ],
          "parcoords": [
           {
            "line": {
             "colorbar": {
              "outlinewidth": 0,
              "ticks": ""
             }
            },
            "type": "parcoords"
           }
          ],
          "pie": [
           {
            "automargin": true,
            "type": "pie"
           }
          ],
          "scatter": [
           {
            "fillpattern": {
             "fillmode": "overlay",
             "size": 10,
             "solidity": 0.2
            },
            "type": "scatter"
           }
          ],
          "scatter3d": [
           {
            "line": {
             "colorbar": {
              "outlinewidth": 0,
              "ticks": ""
             }
            },
            "marker": {
             "colorbar": {
              "outlinewidth": 0,
              "ticks": ""
             }
            },
            "type": "scatter3d"
           }
          ],
          "scattercarpet": [
           {
            "marker": {
             "colorbar": {
              "outlinewidth": 0,
              "ticks": ""
             }
            },
            "type": "scattercarpet"
           }
          ],
          "scattergeo": [
           {
            "marker": {
             "colorbar": {
              "outlinewidth": 0,
              "ticks": ""
             }
            },
            "type": "scattergeo"
           }
          ],
          "scattergl": [
           {
            "marker": {
             "colorbar": {
              "outlinewidth": 0,
              "ticks": ""
             }
            },
            "type": "scattergl"
           }
          ],
          "scattermapbox": [
           {
            "marker": {
             "colorbar": {
              "outlinewidth": 0,
              "ticks": ""
             }
            },
            "type": "scattermapbox"
           }
          ],
          "scatterpolar": [
           {
            "marker": {
             "colorbar": {
              "outlinewidth": 0,
              "ticks": ""
             }
            },
            "type": "scatterpolar"
           }
          ],
          "scatterpolargl": [
           {
            "marker": {
             "colorbar": {
              "outlinewidth": 0,
              "ticks": ""
             }
            },
            "type": "scatterpolargl"
           }
          ],
          "scatterternary": [
           {
            "marker": {
             "colorbar": {
              "outlinewidth": 0,
              "ticks": ""
             }
            },
            "type": "scatterternary"
           }
          ],
          "surface": [
           {
            "colorbar": {
             "outlinewidth": 0,
             "ticks": ""
            },
            "colorscale": [
             [
              0,
              "#0d0887"
             ],
             [
              0.1111111111111111,
              "#46039f"
             ],
             [
              0.2222222222222222,
              "#7201a8"
             ],
             [
              0.3333333333333333,
              "#9c179e"
             ],
             [
              0.4444444444444444,
              "#bd3786"
             ],
             [
              0.5555555555555556,
              "#d8576b"
             ],
             [
              0.6666666666666666,
              "#ed7953"
             ],
             [
              0.7777777777777778,
              "#fb9f3a"
             ],
             [
              0.8888888888888888,
              "#fdca26"
             ],
             [
              1,
              "#f0f921"
             ]
            ],
            "type": "surface"
           }
          ],
          "table": [
           {
            "cells": {
             "fill": {
              "color": "#EBF0F8"
             },
             "line": {
              "color": "white"
             }
            },
            "header": {
             "fill": {
              "color": "#C8D4E3"
             },
             "line": {
              "color": "white"
             }
            },
            "type": "table"
           }
          ]
         },
         "layout": {
          "annotationdefaults": {
           "arrowcolor": "#2a3f5f",
           "arrowhead": 0,
           "arrowwidth": 1
          },
          "autotypenumbers": "strict",
          "coloraxis": {
           "colorbar": {
            "outlinewidth": 0,
            "ticks": ""
           }
          },
          "colorscale": {
           "diverging": [
            [
             0,
             "#8e0152"
            ],
            [
             0.1,
             "#c51b7d"
            ],
            [
             0.2,
             "#de77ae"
            ],
            [
             0.3,
             "#f1b6da"
            ],
            [
             0.4,
             "#fde0ef"
            ],
            [
             0.5,
             "#f7f7f7"
            ],
            [
             0.6,
             "#e6f5d0"
            ],
            [
             0.7,
             "#b8e186"
            ],
            [
             0.8,
             "#7fbc41"
            ],
            [
             0.9,
             "#4d9221"
            ],
            [
             1,
             "#276419"
            ]
           ],
           "sequential": [
            [
             0,
             "#0d0887"
            ],
            [
             0.1111111111111111,
             "#46039f"
            ],
            [
             0.2222222222222222,
             "#7201a8"
            ],
            [
             0.3333333333333333,
             "#9c179e"
            ],
            [
             0.4444444444444444,
             "#bd3786"
            ],
            [
             0.5555555555555556,
             "#d8576b"
            ],
            [
             0.6666666666666666,
             "#ed7953"
            ],
            [
             0.7777777777777778,
             "#fb9f3a"
            ],
            [
             0.8888888888888888,
             "#fdca26"
            ],
            [
             1,
             "#f0f921"
            ]
           ],
           "sequentialminus": [
            [
             0,
             "#0d0887"
            ],
            [
             0.1111111111111111,
             "#46039f"
            ],
            [
             0.2222222222222222,
             "#7201a8"
            ],
            [
             0.3333333333333333,
             "#9c179e"
            ],
            [
             0.4444444444444444,
             "#bd3786"
            ],
            [
             0.5555555555555556,
             "#d8576b"
            ],
            [
             0.6666666666666666,
             "#ed7953"
            ],
            [
             0.7777777777777778,
             "#fb9f3a"
            ],
            [
             0.8888888888888888,
             "#fdca26"
            ],
            [
             1,
             "#f0f921"
            ]
           ]
          },
          "colorway": [
           "#636efa",
           "#EF553B",
           "#00cc96",
           "#ab63fa",
           "#FFA15A",
           "#19d3f3",
           "#FF6692",
           "#B6E880",
           "#FF97FF",
           "#FECB52"
          ],
          "font": {
           "color": "#2a3f5f"
          },
          "geo": {
           "bgcolor": "white",
           "lakecolor": "white",
           "landcolor": "#E5ECF6",
           "showlakes": true,
           "showland": true,
           "subunitcolor": "white"
          },
          "hoverlabel": {
           "align": "left"
          },
          "hovermode": "closest",
          "mapbox": {
           "style": "light"
          },
          "paper_bgcolor": "white",
          "plot_bgcolor": "#E5ECF6",
          "polar": {
           "angularaxis": {
            "gridcolor": "white",
            "linecolor": "white",
            "ticks": ""
           },
           "bgcolor": "#E5ECF6",
           "radialaxis": {
            "gridcolor": "white",
            "linecolor": "white",
            "ticks": ""
           }
          },
          "scene": {
           "xaxis": {
            "backgroundcolor": "#E5ECF6",
            "gridcolor": "white",
            "gridwidth": 2,
            "linecolor": "white",
            "showbackground": true,
            "ticks": "",
            "zerolinecolor": "white"
           },
           "yaxis": {
            "backgroundcolor": "#E5ECF6",
            "gridcolor": "white",
            "gridwidth": 2,
            "linecolor": "white",
            "showbackground": true,
            "ticks": "",
            "zerolinecolor": "white"
           },
           "zaxis": {
            "backgroundcolor": "#E5ECF6",
            "gridcolor": "white",
            "gridwidth": 2,
            "linecolor": "white",
            "showbackground": true,
            "ticks": "",
            "zerolinecolor": "white"
           }
          },
          "shapedefaults": {
           "line": {
            "color": "#2a3f5f"
           }
          },
          "ternary": {
           "aaxis": {
            "gridcolor": "white",
            "linecolor": "white",
            "ticks": ""
           },
           "baxis": {
            "gridcolor": "white",
            "linecolor": "white",
            "ticks": ""
           },
           "bgcolor": "#E5ECF6",
           "caxis": {
            "gridcolor": "white",
            "linecolor": "white",
            "ticks": ""
           }
          },
          "title": {
           "x": 0.05
          },
          "xaxis": {
           "automargin": true,
           "gridcolor": "white",
           "linecolor": "white",
           "ticks": "",
           "title": {
            "standoff": 15
           },
           "zerolinecolor": "white",
           "zerolinewidth": 2
          },
          "yaxis": {
           "automargin": true,
           "gridcolor": "white",
           "linecolor": "white",
           "ticks": "",
           "title": {
            "standoff": 15
           },
           "zerolinecolor": "white",
           "zerolinewidth": 2
          }
         }
        },
        "title": {
         "text": "Top 10 SKUs in PERFUMARIA and Their Percentage Over All Data"
        },
        "xaxis": {
         "anchor": "y",
         "domain": [
          0,
          1
         ],
         "title": {
          "text": "SKU"
         }
        },
        "yaxis": {
         "anchor": "x",
         "domain": [
          0,
          1
         ],
         "title": {
          "text": "Percentage (%)"
         }
        }
       }
      }
     },
     "metadata": {},
     "output_type": "display_data"
    },
    {
     "data": {
      "application/vnd.plotly.v1+json": {
       "config": {
        "plotlyServerURL": "https://plot.ly"
       },
       "data": [
        {
         "alignmentgroup": "True",
         "hovertemplate": "SKU=%{x}<br>Percentage (%)=%{y}<extra></extra>",
         "legendgroup": "",
         "marker": {
          "color": "#636efa",
          "pattern": {
           "shape": ""
          }
         },
         "name": "",
         "offsetgroup": "",
         "orientation": "v",
         "showlegend": false,
         "textposition": "auto",
         "type": "bar",
         "x": [
          "AGUA MINERAL CRYSTAL",
          "LAVA ROUPAS TIXAN YPE LIQ 900ML PRIMAVER",
          "REFRI COCA COLA PET 2L",
          "REFRI COCA COLA LATA 350ML",
          "AGUA MINERAL DA PEDRA S/GAS 500ML",
          "AGUA MINERAL DA PEDRA C/GAS 500ML",
          "ENERGETICO MONSTER ENERGY GREEN 473ML",
          "CHOCO NESTLE KIT KAT",
          "REFRI COCA COLA ZERO",
          "PICOLE KIBON PALITO"
         ],
         "xaxis": "x",
         "y": [
          2.76210077779778,
          2.2874913315108625,
          1.6694845055976324,
          1.6131895895234543,
          1.577061863163762,
          1.502888671545147,
          1.4793809043932924,
          1.2298273973128149,
          0.8686119962610277,
          0.707769378906233
         ],
         "yaxis": "y"
        }
       ],
       "layout": {
        "barmode": "relative",
        "legend": {
         "tracegroupgap": 0
        },
        "template": {
         "data": {
          "bar": [
           {
            "error_x": {
             "color": "#2a3f5f"
            },
            "error_y": {
             "color": "#2a3f5f"
            },
            "marker": {
             "line": {
              "color": "#E5ECF6",
              "width": 0.5
             },
             "pattern": {
              "fillmode": "overlay",
              "size": 10,
              "solidity": 0.2
             }
            },
            "type": "bar"
           }
          ],
          "barpolar": [
           {
            "marker": {
             "line": {
              "color": "#E5ECF6",
              "width": 0.5
             },
             "pattern": {
              "fillmode": "overlay",
              "size": 10,
              "solidity": 0.2
             }
            },
            "type": "barpolar"
           }
          ],
          "carpet": [
           {
            "aaxis": {
             "endlinecolor": "#2a3f5f",
             "gridcolor": "white",
             "linecolor": "white",
             "minorgridcolor": "white",
             "startlinecolor": "#2a3f5f"
            },
            "baxis": {
             "endlinecolor": "#2a3f5f",
             "gridcolor": "white",
             "linecolor": "white",
             "minorgridcolor": "white",
             "startlinecolor": "#2a3f5f"
            },
            "type": "carpet"
           }
          ],
          "choropleth": [
           {
            "colorbar": {
             "outlinewidth": 0,
             "ticks": ""
            },
            "type": "choropleth"
           }
          ],
          "contour": [
           {
            "colorbar": {
             "outlinewidth": 0,
             "ticks": ""
            },
            "colorscale": [
             [
              0,
              "#0d0887"
             ],
             [
              0.1111111111111111,
              "#46039f"
             ],
             [
              0.2222222222222222,
              "#7201a8"
             ],
             [
              0.3333333333333333,
              "#9c179e"
             ],
             [
              0.4444444444444444,
              "#bd3786"
             ],
             [
              0.5555555555555556,
              "#d8576b"
             ],
             [
              0.6666666666666666,
              "#ed7953"
             ],
             [
              0.7777777777777778,
              "#fb9f3a"
             ],
             [
              0.8888888888888888,
              "#fdca26"
             ],
             [
              1,
              "#f0f921"
             ]
            ],
            "type": "contour"
           }
          ],
          "contourcarpet": [
           {
            "colorbar": {
             "outlinewidth": 0,
             "ticks": ""
            },
            "type": "contourcarpet"
           }
          ],
          "heatmap": [
           {
            "colorbar": {
             "outlinewidth": 0,
             "ticks": ""
            },
            "colorscale": [
             [
              0,
              "#0d0887"
             ],
             [
              0.1111111111111111,
              "#46039f"
             ],
             [
              0.2222222222222222,
              "#7201a8"
             ],
             [
              0.3333333333333333,
              "#9c179e"
             ],
             [
              0.4444444444444444,
              "#bd3786"
             ],
             [
              0.5555555555555556,
              "#d8576b"
             ],
             [
              0.6666666666666666,
              "#ed7953"
             ],
             [
              0.7777777777777778,
              "#fb9f3a"
             ],
             [
              0.8888888888888888,
              "#fdca26"
             ],
             [
              1,
              "#f0f921"
             ]
            ],
            "type": "heatmap"
           }
          ],
          "heatmapgl": [
           {
            "colorbar": {
             "outlinewidth": 0,
             "ticks": ""
            },
            "colorscale": [
             [
              0,
              "#0d0887"
             ],
             [
              0.1111111111111111,
              "#46039f"
             ],
             [
              0.2222222222222222,
              "#7201a8"
             ],
             [
              0.3333333333333333,
              "#9c179e"
             ],
             [
              0.4444444444444444,
              "#bd3786"
             ],
             [
              0.5555555555555556,
              "#d8576b"
             ],
             [
              0.6666666666666666,
              "#ed7953"
             ],
             [
              0.7777777777777778,
              "#fb9f3a"
             ],
             [
              0.8888888888888888,
              "#fdca26"
             ],
             [
              1,
              "#f0f921"
             ]
            ],
            "type": "heatmapgl"
           }
          ],
          "histogram": [
           {
            "marker": {
             "pattern": {
              "fillmode": "overlay",
              "size": 10,
              "solidity": 0.2
             }
            },
            "type": "histogram"
           }
          ],
          "histogram2d": [
           {
            "colorbar": {
             "outlinewidth": 0,
             "ticks": ""
            },
            "colorscale": [
             [
              0,
              "#0d0887"
             ],
             [
              0.1111111111111111,
              "#46039f"
             ],
             [
              0.2222222222222222,
              "#7201a8"
             ],
             [
              0.3333333333333333,
              "#9c179e"
             ],
             [
              0.4444444444444444,
              "#bd3786"
             ],
             [
              0.5555555555555556,
              "#d8576b"
             ],
             [
              0.6666666666666666,
              "#ed7953"
             ],
             [
              0.7777777777777778,
              "#fb9f3a"
             ],
             [
              0.8888888888888888,
              "#fdca26"
             ],
             [
              1,
              "#f0f921"
             ]
            ],
            "type": "histogram2d"
           }
          ],
          "histogram2dcontour": [
           {
            "colorbar": {
             "outlinewidth": 0,
             "ticks": ""
            },
            "colorscale": [
             [
              0,
              "#0d0887"
             ],
             [
              0.1111111111111111,
              "#46039f"
             ],
             [
              0.2222222222222222,
              "#7201a8"
             ],
             [
              0.3333333333333333,
              "#9c179e"
             ],
             [
              0.4444444444444444,
              "#bd3786"
             ],
             [
              0.5555555555555556,
              "#d8576b"
             ],
             [
              0.6666666666666666,
              "#ed7953"
             ],
             [
              0.7777777777777778,
              "#fb9f3a"
             ],
             [
              0.8888888888888888,
              "#fdca26"
             ],
             [
              1,
              "#f0f921"
             ]
            ],
            "type": "histogram2dcontour"
           }
          ],
          "mesh3d": [
           {
            "colorbar": {
             "outlinewidth": 0,
             "ticks": ""
            },
            "type": "mesh3d"
           }
          ],
          "parcoords": [
           {
            "line": {
             "colorbar": {
              "outlinewidth": 0,
              "ticks": ""
             }
            },
            "type": "parcoords"
           }
          ],
          "pie": [
           {
            "automargin": true,
            "type": "pie"
           }
          ],
          "scatter": [
           {
            "fillpattern": {
             "fillmode": "overlay",
             "size": 10,
             "solidity": 0.2
            },
            "type": "scatter"
           }
          ],
          "scatter3d": [
           {
            "line": {
             "colorbar": {
              "outlinewidth": 0,
              "ticks": ""
             }
            },
            "marker": {
             "colorbar": {
              "outlinewidth": 0,
              "ticks": ""
             }
            },
            "type": "scatter3d"
           }
          ],
          "scattercarpet": [
           {
            "marker": {
             "colorbar": {
              "outlinewidth": 0,
              "ticks": ""
             }
            },
            "type": "scattercarpet"
           }
          ],
          "scattergeo": [
           {
            "marker": {
             "colorbar": {
              "outlinewidth": 0,
              "ticks": ""
             }
            },
            "type": "scattergeo"
           }
          ],
          "scattergl": [
           {
            "marker": {
             "colorbar": {
              "outlinewidth": 0,
              "ticks": ""
             }
            },
            "type": "scattergl"
           }
          ],
          "scattermapbox": [
           {
            "marker": {
             "colorbar": {
              "outlinewidth": 0,
              "ticks": ""
             }
            },
            "type": "scattermapbox"
           }
          ],
          "scatterpolar": [
           {
            "marker": {
             "colorbar": {
              "outlinewidth": 0,
              "ticks": ""
             }
            },
            "type": "scatterpolar"
           }
          ],
          "scatterpolargl": [
           {
            "marker": {
             "colorbar": {
              "outlinewidth": 0,
              "ticks": ""
             }
            },
            "type": "scatterpolargl"
           }
          ],
          "scatterternary": [
           {
            "marker": {
             "colorbar": {
              "outlinewidth": 0,
              "ticks": ""
             }
            },
            "type": "scatterternary"
           }
          ],
          "surface": [
           {
            "colorbar": {
             "outlinewidth": 0,
             "ticks": ""
            },
            "colorscale": [
             [
              0,
              "#0d0887"
             ],
             [
              0.1111111111111111,
              "#46039f"
             ],
             [
              0.2222222222222222,
              "#7201a8"
             ],
             [
              0.3333333333333333,
              "#9c179e"
             ],
             [
              0.4444444444444444,
              "#bd3786"
             ],
             [
              0.5555555555555556,
              "#d8576b"
             ],
             [
              0.6666666666666666,
              "#ed7953"
             ],
             [
              0.7777777777777778,
              "#fb9f3a"
             ],
             [
              0.8888888888888888,
              "#fdca26"
             ],
             [
              1,
              "#f0f921"
             ]
            ],
            "type": "surface"
           }
          ],
          "table": [
           {
            "cells": {
             "fill": {
              "color": "#EBF0F8"
             },
             "line": {
              "color": "white"
             }
            },
            "header": {
             "fill": {
              "color": "#C8D4E3"
             },
             "line": {
              "color": "white"
             }
            },
            "type": "table"
           }
          ]
         },
         "layout": {
          "annotationdefaults": {
           "arrowcolor": "#2a3f5f",
           "arrowhead": 0,
           "arrowwidth": 1
          },
          "autotypenumbers": "strict",
          "coloraxis": {
           "colorbar": {
            "outlinewidth": 0,
            "ticks": ""
           }
          },
          "colorscale": {
           "diverging": [
            [
             0,
             "#8e0152"
            ],
            [
             0.1,
             "#c51b7d"
            ],
            [
             0.2,
             "#de77ae"
            ],
            [
             0.3,
             "#f1b6da"
            ],
            [
             0.4,
             "#fde0ef"
            ],
            [
             0.5,
             "#f7f7f7"
            ],
            [
             0.6,
             "#e6f5d0"
            ],
            [
             0.7,
             "#b8e186"
            ],
            [
             0.8,
             "#7fbc41"
            ],
            [
             0.9,
             "#4d9221"
            ],
            [
             1,
             "#276419"
            ]
           ],
           "sequential": [
            [
             0,
             "#0d0887"
            ],
            [
             0.1111111111111111,
             "#46039f"
            ],
            [
             0.2222222222222222,
             "#7201a8"
            ],
            [
             0.3333333333333333,
             "#9c179e"
            ],
            [
             0.4444444444444444,
             "#bd3786"
            ],
            [
             0.5555555555555556,
             "#d8576b"
            ],
            [
             0.6666666666666666,
             "#ed7953"
            ],
            [
             0.7777777777777778,
             "#fb9f3a"
            ],
            [
             0.8888888888888888,
             "#fdca26"
            ],
            [
             1,
             "#f0f921"
            ]
           ],
           "sequentialminus": [
            [
             0,
             "#0d0887"
            ],
            [
             0.1111111111111111,
             "#46039f"
            ],
            [
             0.2222222222222222,
             "#7201a8"
            ],
            [
             0.3333333333333333,
             "#9c179e"
            ],
            [
             0.4444444444444444,
             "#bd3786"
            ],
            [
             0.5555555555555556,
             "#d8576b"
            ],
            [
             0.6666666666666666,
             "#ed7953"
            ],
            [
             0.7777777777777778,
             "#fb9f3a"
            ],
            [
             0.8888888888888888,
             "#fdca26"
            ],
            [
             1,
             "#f0f921"
            ]
           ]
          },
          "colorway": [
           "#636efa",
           "#EF553B",
           "#00cc96",
           "#ab63fa",
           "#FFA15A",
           "#19d3f3",
           "#FF6692",
           "#B6E880",
           "#FF97FF",
           "#FECB52"
          ],
          "font": {
           "color": "#2a3f5f"
          },
          "geo": {
           "bgcolor": "white",
           "lakecolor": "white",
           "landcolor": "#E5ECF6",
           "showlakes": true,
           "showland": true,
           "subunitcolor": "white"
          },
          "hoverlabel": {
           "align": "left"
          },
          "hovermode": "closest",
          "mapbox": {
           "style": "light"
          },
          "paper_bgcolor": "white",
          "plot_bgcolor": "#E5ECF6",
          "polar": {
           "angularaxis": {
            "gridcolor": "white",
            "linecolor": "white",
            "ticks": ""
           },
           "bgcolor": "#E5ECF6",
           "radialaxis": {
            "gridcolor": "white",
            "linecolor": "white",
            "ticks": ""
           }
          },
          "scene": {
           "xaxis": {
            "backgroundcolor": "#E5ECF6",
            "gridcolor": "white",
            "gridwidth": 2,
            "linecolor": "white",
            "showbackground": true,
            "ticks": "",
            "zerolinecolor": "white"
           },
           "yaxis": {
            "backgroundcolor": "#E5ECF6",
            "gridcolor": "white",
            "gridwidth": 2,
            "linecolor": "white",
            "showbackground": true,
            "ticks": "",
            "zerolinecolor": "white"
           },
           "zaxis": {
            "backgroundcolor": "#E5ECF6",
            "gridcolor": "white",
            "gridwidth": 2,
            "linecolor": "white",
            "showbackground": true,
            "ticks": "",
            "zerolinecolor": "white"
           }
          },
          "shapedefaults": {
           "line": {
            "color": "#2a3f5f"
           }
          },
          "ternary": {
           "aaxis": {
            "gridcolor": "white",
            "linecolor": "white",
            "ticks": ""
           },
           "baxis": {
            "gridcolor": "white",
            "linecolor": "white",
            "ticks": ""
           },
           "bgcolor": "#E5ECF6",
           "caxis": {
            "gridcolor": "white",
            "linecolor": "white",
            "ticks": ""
           }
          },
          "title": {
           "x": 0.05
          },
          "xaxis": {
           "automargin": true,
           "gridcolor": "white",
           "linecolor": "white",
           "ticks": "",
           "title": {
            "standoff": 15
           },
           "zerolinecolor": "white",
           "zerolinewidth": 2
          },
          "yaxis": {
           "automargin": true,
           "gridcolor": "white",
           "linecolor": "white",
           "ticks": "",
           "title": {
            "standoff": 15
           },
           "zerolinecolor": "white",
           "zerolinewidth": 2
          }
         }
        },
        "title": {
         "text": "Top 10 SKUs in CONVENIENCIA and Their Percentage Over All Data"
        },
        "xaxis": {
         "anchor": "y",
         "domain": [
          0,
          1
         ],
         "title": {
          "text": "SKU"
         }
        },
        "yaxis": {
         "anchor": "x",
         "domain": [
          0,
          1
         ],
         "title": {
          "text": "Percentage (%)"
         }
        }
       }
      }
     },
     "metadata": {},
     "output_type": "display_data"
    }
   ],
   "source": [
    "# Identify the top 3 CATEGORIA_SKU by frequency\n",
    "top_categorias = df['CATEGORIA_SKU'].value_counts().nlargest(3).index.tolist()\n",
    "\n",
    "# Loop through each top category to create a separate bar graph\n",
    "for categoria in top_categorias:\n",
    "    # Filter the dataframe for the current top category\n",
    "    df_categoria = df[df['CATEGORIA_SKU'] == categoria]\n",
    "    \n",
    "    # Identify the top 10 SKUs within this category by frequency\n",
    "    top_10_skus = df_categoria['SKU'].value_counts().nlargest(10)\n",
    "    \n",
    "    # Calculate the percentage for each SKU over the entire dataset\n",
    "    total_skus = df_categoria['SKU'].value_counts().sum()\n",
    "    top_10_skus_percentage = (top_10_skus / total_skus) * 100\n",
    "    \n",
    "    # Create a bar graph using plotly\n",
    "    fig = px.bar(top_10_skus_percentage, \n",
    "                 x=top_10_skus_percentage.index, \n",
    "                 y=top_10_skus_percentage.values,\n",
    "                 title=f'Top 10 SKUs in {categoria} and Their Percentage Over All Data',\n",
    "                 labels={'x': 'SKU', 'y': 'Percentage (%)'})\n",
    "    \n",
    "    # Show the figure\n",
    "    fig.show()\n"
   ]
  },
  {
   "cell_type": "code",
   "execution_count": null,
   "metadata": {},
   "outputs": [],
   "source": []
  }
 ],
 "metadata": {
  "kernelspec": {
   "display_name": "pcd",
   "language": "python",
   "name": "python3"
  },
  "language_info": {
   "codemirror_mode": {
    "name": "ipython",
    "version": 3
   },
   "file_extension": ".py",
   "mimetype": "text/x-python",
   "name": "python",
   "nbconvert_exporter": "python",
   "pygments_lexer": "ipython3",
   "version": "3.12.4"
  }
 },
 "nbformat": 4,
 "nbformat_minor": 2
}
