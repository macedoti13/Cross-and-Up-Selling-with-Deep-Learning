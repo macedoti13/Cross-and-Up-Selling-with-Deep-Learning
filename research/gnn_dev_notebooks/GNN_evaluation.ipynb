{
  "nbformat": 4,
  "nbformat_minor": 0,
  "metadata": {
    "colab": {
      "provenance": [],
      "collapsed_sections": [
        "8ULtaH4_CtJT",
        "OFD3LPsrCqMC",
        "3vWlcO-3CykK",
        "y4PUKD0hForT"
      ],
      "machine_shape": "hm",
      "gpuType": "A100"
    },
    "kernelspec": {
      "name": "python3",
      "display_name": "Python 3"
    },
    "language_info": {
      "name": "python"
    },
    "accelerator": "GPU"
  },
  "cells": [
    {
      "cell_type": "markdown",
      "source": [
        "# GNN Evaluation"
      ],
      "metadata": {
        "id": "EDearSF3CvQh"
      }
    },
    {
      "cell_type": "markdown",
      "source": [
        "## 0. setup"
      ],
      "metadata": {
        "id": "8ULtaH4_CtJT"
      }
    },
    {
      "cell_type": "code",
      "source": [
        "!pip install torch==2.0.0"
      ],
      "metadata": {
        "colab": {
          "base_uri": "https://localhost:8080/"
        },
        "id": "PrdzCEE3JbpL",
        "outputId": "9fa58039-d9bd-49af-f644-1f35918f789c"
      },
      "execution_count": null,
      "outputs": [
        {
          "output_type": "stream",
          "name": "stdout",
          "text": [
            "Requirement already satisfied: torch==2.0.0 in /usr/local/lib/python3.10/dist-packages (2.0.0)\n",
            "Requirement already satisfied: filelock in /usr/local/lib/python3.10/dist-packages (from torch==2.0.0) (3.16.1)\n",
            "Requirement already satisfied: typing-extensions in /usr/local/lib/python3.10/dist-packages (from torch==2.0.0) (4.12.2)\n",
            "Requirement already satisfied: sympy in /usr/local/lib/python3.10/dist-packages (from torch==2.0.0) (1.13.1)\n",
            "Requirement already satisfied: networkx in /usr/local/lib/python3.10/dist-packages (from torch==2.0.0) (3.4.2)\n",
            "Requirement already satisfied: jinja2 in /usr/local/lib/python3.10/dist-packages (from torch==2.0.0) (3.1.4)\n",
            "Requirement already satisfied: nvidia-cuda-nvrtc-cu11==11.7.99 in /usr/local/lib/python3.10/dist-packages (from torch==2.0.0) (11.7.99)\n",
            "Requirement already satisfied: nvidia-cuda-runtime-cu11==11.7.99 in /usr/local/lib/python3.10/dist-packages (from torch==2.0.0) (11.7.99)\n",
            "Requirement already satisfied: nvidia-cuda-cupti-cu11==11.7.101 in /usr/local/lib/python3.10/dist-packages (from torch==2.0.0) (11.7.101)\n",
            "Requirement already satisfied: nvidia-cudnn-cu11==8.5.0.96 in /usr/local/lib/python3.10/dist-packages (from torch==2.0.0) (8.5.0.96)\n",
            "Requirement already satisfied: nvidia-cublas-cu11==11.10.3.66 in /usr/local/lib/python3.10/dist-packages (from torch==2.0.0) (11.10.3.66)\n",
            "Requirement already satisfied: nvidia-cufft-cu11==10.9.0.58 in /usr/local/lib/python3.10/dist-packages (from torch==2.0.0) (10.9.0.58)\n",
            "Requirement already satisfied: nvidia-curand-cu11==10.2.10.91 in /usr/local/lib/python3.10/dist-packages (from torch==2.0.0) (10.2.10.91)\n",
            "Requirement already satisfied: nvidia-cusolver-cu11==11.4.0.1 in /usr/local/lib/python3.10/dist-packages (from torch==2.0.0) (11.4.0.1)\n",
            "Requirement already satisfied: nvidia-cusparse-cu11==11.7.4.91 in /usr/local/lib/python3.10/dist-packages (from torch==2.0.0) (11.7.4.91)\n",
            "Requirement already satisfied: nvidia-nccl-cu11==2.14.3 in /usr/local/lib/python3.10/dist-packages (from torch==2.0.0) (2.14.3)\n",
            "Requirement already satisfied: nvidia-nvtx-cu11==11.7.91 in /usr/local/lib/python3.10/dist-packages (from torch==2.0.0) (11.7.91)\n",
            "Requirement already satisfied: triton==2.0.0 in /usr/local/lib/python3.10/dist-packages (from torch==2.0.0) (2.0.0)\n",
            "Requirement already satisfied: setuptools in /usr/local/lib/python3.10/dist-packages (from nvidia-cublas-cu11==11.10.3.66->torch==2.0.0) (75.1.0)\n",
            "Requirement already satisfied: wheel in /usr/local/lib/python3.10/dist-packages (from nvidia-cublas-cu11==11.10.3.66->torch==2.0.0) (0.44.0)\n",
            "Requirement already satisfied: cmake in /usr/local/lib/python3.10/dist-packages (from triton==2.0.0->torch==2.0.0) (3.30.5)\n",
            "Requirement already satisfied: lit in /usr/local/lib/python3.10/dist-packages (from triton==2.0.0->torch==2.0.0) (18.1.8)\n",
            "Requirement already satisfied: MarkupSafe>=2.0 in /usr/local/lib/python3.10/dist-packages (from jinja2->torch==2.0.0) (3.0.2)\n",
            "Requirement already satisfied: mpmath<1.4,>=1.1.0 in /usr/local/lib/python3.10/dist-packages (from sympy->torch==2.0.0) (1.3.0)\n"
          ]
        }
      ]
    },
    {
      "cell_type": "code",
      "source": [
        "import torch\n",
        "import os\n",
        "\n",
        "os.environ['TORCH'] = torch.__version__\n",
        "\n",
        "!pip install pyg-lib -f https://data.pyg.org/whl/nightly/torch-${TORCH}.html\n",
        "!pip install torch_geometric\n",
        "!pip install tensorboard"
      ],
      "metadata": {
        "colab": {
          "base_uri": "https://localhost:8080/"
        },
        "id": "_-s3aIyzJdC8",
        "outputId": "81f3a4f0-3a10-4403-aedc-ed1d0c01c939"
      },
      "execution_count": null,
      "outputs": [
        {
          "output_type": "stream",
          "name": "stdout",
          "text": [
            "Looking in links: https://data.pyg.org/whl/nightly/torch-2.0.0+cu117.html\n",
            "Requirement already satisfied: pyg-lib in /usr/local/lib/python3.10/dist-packages (0.4.0.dev20241106+pt20cu117)\n",
            "Requirement already satisfied: torch_geometric in /usr/local/lib/python3.10/dist-packages (2.6.1)\n",
            "Requirement already satisfied: aiohttp in /usr/local/lib/python3.10/dist-packages (from torch_geometric) (3.10.10)\n",
            "Requirement already satisfied: fsspec in /usr/local/lib/python3.10/dist-packages (from torch_geometric) (2024.10.0)\n",
            "Requirement already satisfied: jinja2 in /usr/local/lib/python3.10/dist-packages (from torch_geometric) (3.1.4)\n",
            "Requirement already satisfied: numpy in /usr/local/lib/python3.10/dist-packages (from torch_geometric) (1.26.4)\n",
            "Requirement already satisfied: psutil>=5.8.0 in /usr/local/lib/python3.10/dist-packages (from torch_geometric) (5.9.5)\n",
            "Requirement already satisfied: pyparsing in /usr/local/lib/python3.10/dist-packages (from torch_geometric) (3.2.0)\n",
            "Requirement already satisfied: requests in /usr/local/lib/python3.10/dist-packages (from torch_geometric) (2.32.3)\n",
            "Requirement already satisfied: tqdm in /usr/local/lib/python3.10/dist-packages (from torch_geometric) (4.66.6)\n",
            "Requirement already satisfied: aiohappyeyeballs>=2.3.0 in /usr/local/lib/python3.10/dist-packages (from aiohttp->torch_geometric) (2.4.3)\n",
            "Requirement already satisfied: aiosignal>=1.1.2 in /usr/local/lib/python3.10/dist-packages (from aiohttp->torch_geometric) (1.3.1)\n",
            "Requirement already satisfied: attrs>=17.3.0 in /usr/local/lib/python3.10/dist-packages (from aiohttp->torch_geometric) (24.2.0)\n",
            "Requirement already satisfied: frozenlist>=1.1.1 in /usr/local/lib/python3.10/dist-packages (from aiohttp->torch_geometric) (1.5.0)\n",
            "Requirement already satisfied: multidict<7.0,>=4.5 in /usr/local/lib/python3.10/dist-packages (from aiohttp->torch_geometric) (6.1.0)\n",
            "Requirement already satisfied: yarl<2.0,>=1.12.0 in /usr/local/lib/python3.10/dist-packages (from aiohttp->torch_geometric) (1.17.0)\n",
            "Requirement already satisfied: async-timeout<5.0,>=4.0 in /usr/local/lib/python3.10/dist-packages (from aiohttp->torch_geometric) (4.0.3)\n",
            "Requirement already satisfied: MarkupSafe>=2.0 in /usr/local/lib/python3.10/dist-packages (from jinja2->torch_geometric) (3.0.2)\n",
            "Requirement already satisfied: charset-normalizer<4,>=2 in /usr/local/lib/python3.10/dist-packages (from requests->torch_geometric) (3.4.0)\n",
            "Requirement already satisfied: idna<4,>=2.5 in /usr/local/lib/python3.10/dist-packages (from requests->torch_geometric) (3.10)\n",
            "Requirement already satisfied: urllib3<3,>=1.21.1 in /usr/local/lib/python3.10/dist-packages (from requests->torch_geometric) (2.2.3)\n",
            "Requirement already satisfied: certifi>=2017.4.17 in /usr/local/lib/python3.10/dist-packages (from requests->torch_geometric) (2024.8.30)\n",
            "Requirement already satisfied: typing-extensions>=4.1.0 in /usr/local/lib/python3.10/dist-packages (from multidict<7.0,>=4.5->aiohttp->torch_geometric) (4.12.2)\n",
            "Requirement already satisfied: propcache>=0.2.0 in /usr/local/lib/python3.10/dist-packages (from yarl<2.0,>=1.12.0->aiohttp->torch_geometric) (0.2.0)\n",
            "Requirement already satisfied: tensorboard in /usr/local/lib/python3.10/dist-packages (2.17.0)\n",
            "Requirement already satisfied: absl-py>=0.4 in /usr/local/lib/python3.10/dist-packages (from tensorboard) (1.4.0)\n",
            "Requirement already satisfied: grpcio>=1.48.2 in /usr/local/lib/python3.10/dist-packages (from tensorboard) (1.64.1)\n",
            "Requirement already satisfied: markdown>=2.6.8 in /usr/local/lib/python3.10/dist-packages (from tensorboard) (3.7)\n",
            "Requirement already satisfied: numpy>=1.12.0 in /usr/local/lib/python3.10/dist-packages (from tensorboard) (1.26.4)\n",
            "Requirement already satisfied: protobuf!=4.24.0,<5.0.0,>=3.19.6 in /usr/local/lib/python3.10/dist-packages (from tensorboard) (3.20.3)\n",
            "Requirement already satisfied: setuptools>=41.0.0 in /usr/local/lib/python3.10/dist-packages (from tensorboard) (75.1.0)\n",
            "Requirement already satisfied: six>1.9 in /usr/local/lib/python3.10/dist-packages (from tensorboard) (1.16.0)\n",
            "Requirement already satisfied: tensorboard-data-server<0.8.0,>=0.7.0 in /usr/local/lib/python3.10/dist-packages (from tensorboard) (0.7.2)\n",
            "Requirement already satisfied: werkzeug>=1.0.1 in /usr/local/lib/python3.10/dist-packages (from tensorboard) (3.0.6)\n",
            "Requirement already satisfied: MarkupSafe>=2.1.1 in /usr/local/lib/python3.10/dist-packages (from werkzeug>=1.0.1->tensorboard) (3.0.2)\n"
          ]
        }
      ]
    },
    {
      "cell_type": "code",
      "source": [
        "from sklearn.metrics import confusion_matrix, roc_curve, auc, ConfusionMatrixDisplay, RocCurveDisplay\n",
        "from sklearn.metrics import precision_score, recall_score, f1_score\n",
        "from torch.nn import Linear, Embedding, LeakyReLU, Dropout\n",
        "from torch_geometric.loader import LinkNeighborLoader\n",
        "from torch_geometric.nn import GATv2Conv, to_hetero\n",
        "from torch_geometric.transforms import ToUndirected\n",
        "from torch_geometric.data import HeteroData\n",
        "import matplotlib.pyplot as plt\n",
        "from joblib import load\n",
        "import pandas as pd\n",
        "import numpy as np\n",
        "import torch\n",
        "import os"
      ],
      "metadata": {
        "id": "DqdXERx1BRrA"
      },
      "execution_count": null,
      "outputs": []
    },
    {
      "cell_type": "markdown",
      "source": [
        "## 1. Model"
      ],
      "metadata": {
        "id": "OFD3LPsrCqMC"
      }
    },
    {
      "cell_type": "code",
      "source": [
        "from torch_geometric.nn import GATv2Conv, to_hetero\n",
        "from torch_geometric.transforms import ToUndirected\n",
        "from torch.nn import Linear, Embedding, LeakyReLU, Dropout\n",
        "from torch_geometric.data import HeteroData\n",
        "import pandas as pd\n",
        "import numpy as np\n",
        "import torch\n",
        "import os\n",
        "\n",
        "\n",
        "class ProductEncoder(torch.nn.Module):\n",
        "    \"\"\"\n",
        "    The ProductEncoder is designed to process the feature vectors of product nodes\n",
        "    in a heterogeneous graph. It employs a simple multi-layer perceptron (MLP) with\n",
        "    LeakyReLU activation and three linear layers to reduce the dimensionality of the\n",
        "    product feature vectors from their original dimension (in_channels) to a smaller\n",
        "    output dimension (out_channels).\n",
        "\n",
        "    This transformation is necessary because product nodes begin with 769-dimensional\n",
        "    feature vectors, whereas customer nodes have only 15 dimensions. Without this\n",
        "    dimensionality reduction, it would be difficult to balance the feature size for\n",
        "    both node types while ensuring the output dimension is not too large for customer\n",
        "    nodes or too small for product nodes.\n",
        "\n",
        "    Args:\n",
        "        in_channels (int): Dimensionality of the original product feature vectors.\n",
        "        hidden_channels (int): Dimensionality of the hidden layers in the encoder.\n",
        "        out_channels (int): Dimensionality of the final output feature vectors.\n",
        "\n",
        "    Example usage:\n",
        "        encoder = ProductEncoder(in_channels=769, hidden_channels=512, out_channels=128)\n",
        "        product_embeddings = encoder(product_features)\n",
        "    \"\"\"\n",
        "\n",
        "    def __init__(self, in_channels, hidden_channels, out_channels):\n",
        "        \"\"\"\n",
        "        Initializes the ProductEncoder by defining three linear layers that gradually\n",
        "        reduce the dimensionality of product feature vectors, along with LeakyReLU\n",
        "        activations applied after the first two layers.\n",
        "\n",
        "        Args:\n",
        "            in_channels (int): Initial dimensionality of product feature vectors (e.g., 769).\n",
        "            hidden_channels (int): Dimensionality of the intermediate layers.\n",
        "            out_channels (int): Final dimensionality of the product embeddings after encoding.\n",
        "        \"\"\"\n",
        "        super().__init__()\n",
        "        self.lin1 = Linear(in_channels, hidden_channels)\n",
        "        self.drop1 = Dropout(0.2)\n",
        "        self.lin2 = Linear(hidden_channels, hidden_channels//2)\n",
        "        self.drop2 = Dropout(0.2)\n",
        "        self.lin3 = Linear(hidden_channels//2, out_channels)\n",
        "\n",
        "    def forward(self, x):\n",
        "        \"\"\"\n",
        "        Forward pass through the ProductEncoder. The input feature vectors are passed through\n",
        "        three linear layers with LeakyReLU activations after the first two, resulting in\n",
        "        encoded product features of a smaller, more manageable dimensionality.\n",
        "\n",
        "        Args:\n",
        "            x (torch.Tensor): Input tensor of product feature vectors. Shape [num_products, in_channels].\n",
        "\n",
        "        Returns:\n",
        "            torch.Tensor: Encoded product feature vectors with dimensionality [num_products, out_channels].\n",
        "        \"\"\"\n",
        "        x = self.lin1(x)\n",
        "        x = LeakyReLU()(x)\n",
        "        x = self.drop1(x)\n",
        "        x = self.lin2(x)\n",
        "        x = LeakyReLU()(x)\n",
        "        x = self.drop2(x)\n",
        "        x = self.lin3(x)\n",
        "        return x\n",
        "\n",
        "\n",
        "class GNNEncoder(torch.nn.Module):\n",
        "    def __init__(self, hidden_channels, out_channels, edge_dim):\n",
        "        \"\"\"\n",
        "        The GNNEncoder generates the embeddings for all nodes in the graph.\n",
        "        The hidden_channels is the dimensionality of the embeddings inside\n",
        "        the GNN. The out_channels is the dimensionality of the final node\n",
        "        embeddings.\n",
        "        \"\"\"\n",
        "        super().__init__()\n",
        "        # The first layer transforms the input node features from their original dimension to hidden_channels dimension.\n",
        "        self.conv1 = GATv2Conv((-1, -1), hidden_channels, edge_dim=edge_dim, add_self_loops=False, dropout=0.2, heads=5)  # Aggregates information from the node's 1-hop neighbors\n",
        "        self.conv2 = GATv2Conv(hidden_channels * 5, hidden_channels, edge_dim=edge_dim, add_self_loops=False, dropout=0.2, heads=5)  # Aggregates information from the node's 2-hop neighbors\n",
        "        self.conv3 = GATv2Conv(hidden_channels * 5, out_channels, edge_dim=edge_dim, add_self_loops=False, dropout=0.2, heads=5)  # Aggregates information from the node's 3-hop neighbors\n",
        "\n",
        "    def forward(self, x, edge_index, edge_attr):\n",
        "        \"\"\"\n",
        "        Performs message passing through the graph to update node embeddings.\n",
        "\n",
        "        Args:\n",
        "            x (torch.Tensor): The feature matrix of all nodes in the graph.\n",
        "                              Shape [num_nodes, num_node_features].\n",
        "            edge_index (torch.Tensor): The edge list representing connections in the graph.\n",
        "                                       Shape [2, num_edges] (COO format).\n",
        "            edge_attr (torch.Tensor): The edge feature matrix for all edges in the graph.\n",
        "                                      Shape [num_edges, edge_dim].\n",
        "\n",
        "        Returns:\n",
        "            torch.Tensor: The updated node embeddings for all nodes in the graph.\n",
        "                          Shape [num_nodes, out_channels].\n",
        "        \"\"\"\n",
        "        # Apply 5 layers of message passing, updating node embeddings based on neighbors at increasing distances.\n",
        "        x = self.conv1(x, edge_index, edge_attr).relu()  # Update embeddings with 1-hop neighbors\n",
        "        x = self.conv2(x, edge_index, edge_attr).relu()  # Update embeddings with 2-hop neighbors\n",
        "        x = self.conv3(x, edge_index, edge_attr)  # Update embeddings with 3-hop neighbors\n",
        "        return x\n",
        "\n",
        "\n",
        "class GNNDecoder(torch.nn.Module):\n",
        "    def __init__(self, hidden_channels):\n",
        "        \"\"\"\n",
        "        A decoder that takes two node embeddings and predicts the probability of an edge between them.\n",
        "\n",
        "        Args:\n",
        "            hidden_channels (int): The size of the hidden dimension and also the size of the input node embeddings.\n",
        "        \"\"\"\n",
        "        super().__init__()\n",
        "        self.lin1 = torch.nn.Linear(2 * hidden_channels * 5, hidden_channels)  # Adjusted for multi-head attention\n",
        "        self.drop1 = Dropout(0.2)\n",
        "        self.lin2 = torch.nn.Linear(hidden_channels, hidden_channels // 2)\n",
        "        self.drop2 = Dropout(0.2)\n",
        "        self.lin3 = torch.nn.Linear(hidden_channels // 2, 1)  # Outputs the probability of an edge\n",
        "\n",
        "    def forward(self, embeddings_dict, edge_index):\n",
        "        \"\"\"\n",
        "        Forward pass that computes edge probabilities for all specified node pairs.\n",
        "\n",
        "        Args:\n",
        "            z_dict (dict): Node embeddings for all node types (e.g., 'customer' and 'product').\n",
        "            edge_index (torch.Tensor): Edge indices for which to compute probabilities.\n",
        "\n",
        "        Returns:\n",
        "            torch.Tensor: Predicted edge probabilities for the specified edges.\n",
        "        \"\"\"\n",
        "        # Concatenate customer and product embeddings for each edge\n",
        "        row, col = edge_index\n",
        "        z = torch.cat([embeddings_dict['customer'][row], embeddings_dict['product'][col]], dim=-1)\n",
        "\n",
        "        # Pass concatenated embeddings through the linear layers\n",
        "        z = self.lin1(z).relu()\n",
        "        z = self.drop1(z)\n",
        "        z = self.lin2(z).relu()\n",
        "        z = self.drop2(z)\n",
        "        z = self.lin3(z)\n",
        "\n",
        "        # Apply sigmoid to get probabilities\n",
        "        return torch.sigmoid(z.view(-1))  # Output edge probabilities for all pairs\n",
        "\n",
        "class GNN(torch.nn.Module):\n",
        "    def __init__(\n",
        "        self,\n",
        "        product_encoder_in_channels: int,\n",
        "        product_encoder_hidden_channels: int,\n",
        "        product_encoder_out_channels: int,\n",
        "        gnn_encoder_hidden_channels: int,\n",
        "        gnn_encoder_out_channels: int,\n",
        "        graph_edge_dim: int,\n",
        "        graph: HeteroData,\n",
        "    ):\n",
        "        super().__init__()\n",
        "\n",
        "        # Initialize product encoder\n",
        "        self.product_encoder = ProductEncoder(\n",
        "            in_channels=product_encoder_in_channels,\n",
        "            hidden_channels=product_encoder_hidden_channels,\n",
        "            out_channels=product_encoder_out_channels,\n",
        "        )\n",
        "\n",
        "        # Initialize GNN encoder\n",
        "        gnn_encoder = GNNEncoder(\n",
        "            hidden_channels=gnn_encoder_hidden_channels,\n",
        "            out_channels=gnn_encoder_out_channels,\n",
        "            edge_dim=graph_edge_dim,\n",
        "        )\n",
        "\n",
        "        # Convert GNN encoder to a heterogeneous GNN\n",
        "        self.gnn_encoder = to_hetero(gnn_encoder, graph.metadata(), aggr=\"sum\")\n",
        "\n",
        "        # Initialize GNN decoder\n",
        "        self.gnn_decoder = GNNDecoder(gnn_encoder_out_channels)\n",
        "\n",
        "    def forward(\n",
        "        self,\n",
        "        products: torch.Tensor,\n",
        "        x_dict: dict[str, torch.Tensor],\n",
        "        edge_index_dict: dict[tuple, torch.Tensor],\n",
        "        edge_attr_dict: dict[tuple, torch.Tensor],\n",
        "        edge_label_index: torch.Tensor,\n",
        "    ) -> torch.Tensor:\n",
        "        # Encode product features and update node dictionary\n",
        "        x_dict[\"product\"] = self.product_encoder(products)\n",
        "\n",
        "        # Encode node features using the heterogeneous GNN encoder\n",
        "        node_embeddings = self.gnn_encoder(x_dict, edge_index_dict, edge_attr_dict)\n",
        "\n",
        "        # Decode edge probabilities\n",
        "        return self.gnn_decoder(node_embeddings, edge_label_index)\n"
      ],
      "metadata": {
        "id": "otKuCNpJCsFX"
      },
      "execution_count": null,
      "outputs": []
    },
    {
      "cell_type": "markdown",
      "source": [
        "## 2. load data"
      ],
      "metadata": {
        "id": "3vWlcO-3CykK"
      }
    },
    {
      "cell_type": "code",
      "source": [
        "device = torch.device(\"cuda\" if torch.cuda.is_available() else \"cpu\")\n",
        "drive_path = \"drive/MyDrive/SJ_PCD_24-2/\"\n",
        "\n",
        "# load graph\n",
        "graph_path = drive_path + \"data/transformed/graph.pth\"\n",
        "data = torch.load(graph_path, weights_only=False)\n",
        "\n",
        "# load products scaler\n",
        "product_scaler_path = drive_path + \"data/transformed_v2/product_scaler.pkl\"\n",
        "product_scaler = load(product_scaler_path)\n",
        "\n",
        "# load customer scaler\n",
        "customer_scaler_path = drive_path + \"data/transformed_v2/customer_scaler.pkl\"\n",
        "customer_scaler = load(customer_scaler_path)\n",
        "\n",
        "# load edge scaler\n",
        "edge_scaler_path = drive_path + \"data/transformed_v2/edge_scaler.pkl\"\n",
        "edge_scaler = load(edge_scaler_path)\n",
        "\n",
        "# load rev edge scaler\n",
        "rev_edge_scaler_path = drive_path + \"data/transformed_v2/rev_edge_scaler.pkl\"\n",
        "rev_edge_scaler = load(rev_edge_scaler_path)\n",
        "\n",
        "# load test data\n",
        "test_data_path = drive_path + \"data/transformed_v2/test_data.pth\"\n",
        "test_data = torch.load(test_data_path) # already normalized\n",
        "\n",
        "# load model\n",
        "model = GNN(\n",
        "    product_encoder_in_channels=770,\n",
        "    product_encoder_hidden_channels=512,\n",
        "    product_encoder_out_channels=128,\n",
        "    gnn_encoder_hidden_channels=128,\n",
        "    gnn_encoder_out_channels=64,\n",
        "    graph_edge_dim=13,\n",
        "    graph=data\n",
        ")\n",
        "\n",
        "model = model.to(device)\n",
        "model_path = drive_path + \"v3_gnn_checkpoints/model_checkpoint_batch_28640.pth\"\n",
        "model.load_state_dict(torch.load(model_path, map_location=device))"
      ],
      "metadata": {
        "colab": {
          "base_uri": "https://localhost:8080/"
        },
        "id": "aN3sSvo9C-_x",
        "outputId": "732ff375-e8ee-454f-a87d-c3b1b6a48304"
      },
      "execution_count": null,
      "outputs": [
        {
          "output_type": "execute_result",
          "data": {
            "text/plain": [
              "<All keys matched successfully>"
            ]
          },
          "metadata": {},
          "execution_count": 5
        }
      ]
    },
    {
      "cell_type": "markdown",
      "source": [
        "## 3. evaluate function"
      ],
      "metadata": {
        "id": "y4PUKD0hForT"
      }
    },
    {
      "cell_type": "code",
      "source": [
        "def create_test_dataloader(batch_size: int):\n",
        "    edge_label_index = ((\"customer\", \"bought\", \"product\"), test_data[(\"customer\", \"bought\", \"product\")].edge_label_index)\n",
        "    edge_label = test_data[(\"customer\", \"bought\", \"product\")].edge_label\n",
        "    return LinkNeighborLoader(\n",
        "        data=test_data,\n",
        "        num_neighbors=[5, 5, 5],\n",
        "        neg_sampling_ratio=0,\n",
        "        edge_label_index=edge_label_index,\n",
        "        edge_label=edge_label,\n",
        "        batch_size=batch_size,\n",
        "        shuffle=True,\n",
        "    )\n",
        "\n",
        "def prepare_batch_for_fitting(batch):\n",
        "    products = batch[\"product\"].x\n",
        "    x_dict = batch.x_dict\n",
        "\n",
        "    edge_index_dict = {\n",
        "        (\"customer\", \"bought\", \"product\"): batch[(\"customer\", \"bought\", \"product\")].edge_index,\n",
        "        (\"product\", \"rev_bought\", \"customer\"): batch[(\"product\", \"rev_bought\", \"customer\")].edge_index\n",
        "    }\n",
        "\n",
        "    edge_attr_dict = {\n",
        "        (\"customer\", \"bought\", \"product\"): batch[(\"customer\", \"bought\", \"product\")].edge_attr,\n",
        "        (\"product\", \"rev_bought\", \"customer\"): batch[(\"product\", \"rev_bought\", \"customer\")].edge_attr\n",
        "    }\n",
        "\n",
        "    edge_label_index = batch[(\"customer\", \"bought\", \"product\")].edge_label_index\n",
        "    labels = batch[(\"customer\", \"bought\", \"product\")].edge_label\n",
        "\n",
        "    return products, x_dict, edge_index_dict, edge_attr_dict, edge_label_index, labels\n",
        "\n",
        "def evaluate(model, test_dataloader, criterion, device):\n",
        "    model.eval()\n",
        "    total_loss = 0\n",
        "    correct_predictions = 0\n",
        "    total_samples = 0\n",
        "    all_labels = []\n",
        "    all_predictions = []\n",
        "\n",
        "    with torch.no_grad():\n",
        "        for batch_idx, batch in enumerate(test_dataloader):\n",
        "\n",
        "            batch.to(device)\n",
        "            products, x_dict, edge_index_dict, edge_attr_dict, edge_label_index, labels = prepare_batch_for_fitting(batch)\n",
        "            outputs = model(products, x_dict, edge_index_dict, edge_attr_dict, edge_label_index)\n",
        "\n",
        "            loss = criterion(outputs, labels)\n",
        "            total_loss += loss.item()\n",
        "\n",
        "            predictions = (outputs > 0.5).float().cpu()  # Convert probabilities to binary predictions and move to CPU\n",
        "            labels = labels.cpu()  # Move labels to CPU\n",
        "\n",
        "            all_predictions.append(predictions)\n",
        "            all_labels.append(labels)\n",
        "\n",
        "            # Compute accuracy for this batch\n",
        "            correct_predictions += (predictions == labels).sum().item()\n",
        "            total_samples += labels.size(0)\n",
        "\n",
        "    # Concatenate all the predictions and labels across batches\n",
        "    all_predictions = torch.cat(all_predictions).numpy()\n",
        "    all_labels = torch.cat(all_labels).numpy()\n",
        "\n",
        "    # Calculate average loss and accuracy\n",
        "    avg_loss = total_loss / len(test_dataloader)\n",
        "    accuracy = correct_predictions / total_samples\n",
        "\n",
        "    # Calculate precision, recall, and F1-score\n",
        "    precision = precision_score(all_labels, all_predictions)\n",
        "    recall = recall_score(all_labels, all_predictions)\n",
        "    f1 = f1_score(all_labels, all_predictions)\n",
        "\n",
        "    print(f\"Test Loss: {avg_loss:.4f}\")\n",
        "    print(f\"Test Accuracy: {accuracy:.4f}\")\n",
        "    print(f\"Test Precision: {precision:.4f}\")\n",
        "    print(f\"Test Recall: {recall:.4f}\")\n",
        "    print(f\"Test F1-Score: {f1:.4f}\")\n",
        "\n",
        "    return avg_loss, accuracy, precision, recall, f1, all_labels, all_predictions\n",
        "\n",
        "def plot_evaluation_metrics(all_labels, all_predictions):\n",
        "    \"\"\"\n",
        "    Plot the confusion matrix and ROC curve with AUC score for the model's predictions on the test set.\n",
        "\n",
        "    Args:\n",
        "        all_labels (np.array): True labels for the test set.\n",
        "        all_predictions (np.array): Model's predicted probabilities for the test set.\n",
        "    \"\"\"\n",
        "\n",
        "    # Calculate confusion matrix and display it\n",
        "    cm = confusion_matrix(all_labels, all_predictions)\n",
        "    disp = ConfusionMatrixDisplay(confusion_matrix=cm)\n",
        "    disp.plot(cmap=\"Blues\")\n",
        "    plt.title(\"Confusion Matrix\")\n",
        "    plt.show()\n",
        "    print()\n",
        "\n",
        "    # Calculate ROC curve and AUC\n",
        "    fpr, tpr, thresholds = roc_curve(all_labels, all_predictions)\n",
        "    roc_auc = auc(fpr, tpr)\n",
        "\n",
        "    # Plot ROC curve\n",
        "    plt.figure()\n",
        "    plt.plot(fpr, tpr, label=f'ROC curve (area = {roc_auc:.2f})')\n",
        "    plt.plot([0, 1], [0, 1], 'k--')  # Diagonal line\n",
        "    plt.xlabel(\"False Positive Rate\")\n",
        "    plt.ylabel(\"True Positive Rate\")\n",
        "    plt.title(\"Receiver Operating Characteristic (ROC) Curve\")\n",
        "    plt.legend(loc=\"lower right\")\n",
        "    plt.show()\n"
      ],
      "metadata": {
        "id": "O81hzky1KEMc"
      },
      "execution_count": null,
      "outputs": []
    },
    {
      "cell_type": "markdown",
      "source": [
        "## 4. evaluate"
      ],
      "metadata": {
        "id": "AlVmoDyZI25J"
      }
    },
    {
      "cell_type": "code",
      "source": [
        "test_batch_size = 8192\n",
        "test_dataloader = create_test_dataloader(batch_size=test_batch_size)\n",
        "\n",
        "avg_loss, acc, pre, rec, f1, all_labels, all_predictions = evaluate(\n",
        "    model=model,\n",
        "    test_dataloader=test_dataloader,\n",
        "    criterion=torch.nn.BCELoss(),\n",
        "    device=device\n",
        ")"
      ],
      "metadata": {
        "colab": {
          "base_uri": "https://localhost:8080/"
        },
        "id": "qvJsfuh5F7bD",
        "outputId": "28864f72-d0c0-4a24-d8fb-ea3b27a2942a"
      },
      "execution_count": null,
      "outputs": [
        {
          "output_type": "stream",
          "name": "stdout",
          "text": [
            "Test Loss: 0.3801\n",
            "Test Accuracy: 0.8353\n",
            "Test Precision: 0.7112\n",
            "Test Recall: 0.5745\n",
            "Test F1-Score: 0.6355\n"
          ]
        }
      ]
    },
    {
      "cell_type": "markdown",
      "source": [
        "# explanation\n",
        "\n",
        "- 83% of predictions are correct\n",
        "- 71% of the time I say a customer will buy a product, I'm correct\n",
        "- Out of 100 purchases, I predict 57 of them"
      ],
      "metadata": {
        "id": "YnV0cMAcMlM3"
      }
    },
    {
      "cell_type": "code",
      "source": [
        "plot_evaluation_metrics(all_labels, all_predictions)"
      ],
      "metadata": {
        "colab": {
          "base_uri": "https://localhost:8080/",
          "height": 944
        },
        "id": "_Px17VTn_XwY",
        "outputId": "f0a85896-0479-461c-d718-6d6648efda6f"
      },
      "execution_count": null,
      "outputs": [
        {
          "output_type": "display_data",
          "data": {
            "text/plain": [
              "<Figure size 640x480 with 2 Axes>"
            ],
            "image/png": "[encoded data removed]"
          },
          "metadata": {}
        },
        {
          "output_type": "stream",
          "name": "stdout",
          "text": [
            "\n"
          ]
        },
        {
          "output_type": "display_data",
          "data": {
            "text/plain": [
              "<Figure size 640x480 with 1 Axes>"
            ],
            "image/png": "[encoded data removed]"
          },
          "metadata": {}
        }
      ]
    }
  ]
}