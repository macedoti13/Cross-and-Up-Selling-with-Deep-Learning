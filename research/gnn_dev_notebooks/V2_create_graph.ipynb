{
  "nbformat": 4,
  "nbformat_minor": 0,
  "metadata": {
    "colab": {
      "provenance": []
    },
    "kernelspec": {
      "name": "python3",
      "display_name": "Python 3"
    },
    "language_info": {
      "name": "python"
    }
  },
  "cells": [
    {
      "cell_type": "markdown",
      "source": [
        "# Hetero Graph Creation"
      ],
      "metadata": {
        "id": "B6Yi90hqj6-g"
      }
    },
    {
      "cell_type": "markdown",
      "source": [
        "## 1. Setup"
      ],
      "metadata": {
        "id": "zcqZHnSkkAim"
      }
    },
    {
      "cell_type": "code",
      "execution_count": null,
      "metadata": {
        "colab": {
          "base_uri": "https://localhost:8080/"
        },
        "id": "Qw9jGYT8jxh6",
        "outputId": "d3fbfae8-cd8a-4509-c8c7-c3321f72b6b5"
      },
      "outputs": [
        {
          "output_type": "stream",
          "name": "stdout",
          "text": [
            "Requirement already satisfied: torch_geometric in /usr/local/lib/python3.10/dist-packages (2.6.1)\n",
            "Requirement already satisfied: aiohttp in /usr/local/lib/python3.10/dist-packages (from torch_geometric) (3.10.5)\n",
            "Requirement already satisfied: fsspec in /usr/local/lib/python3.10/dist-packages (from torch_geometric) (2024.6.1)\n",
            "Requirement already satisfied: jinja2 in /usr/local/lib/python3.10/dist-packages (from torch_geometric) (3.1.4)\n",
            "Requirement already satisfied: numpy in /usr/local/lib/python3.10/dist-packages (from torch_geometric) (1.26.4)\n",
            "Requirement already satisfied: psutil>=5.8.0 in /usr/local/lib/python3.10/dist-packages (from torch_geometric) (5.9.5)\n",
            "Requirement already satisfied: pyparsing in /usr/local/lib/python3.10/dist-packages (from torch_geometric) (3.1.4)\n",
            "Requirement already satisfied: requests in /usr/local/lib/python3.10/dist-packages (from torch_geometric) (2.32.3)\n",
            "Requirement already satisfied: tqdm in /usr/local/lib/python3.10/dist-packages (from torch_geometric) (4.66.5)\n",
            "Requirement already satisfied: aiohappyeyeballs>=2.3.0 in /usr/local/lib/python3.10/dist-packages (from aiohttp->torch_geometric) (2.4.0)\n",
            "Requirement already satisfied: aiosignal>=1.1.2 in /usr/local/lib/python3.10/dist-packages (from aiohttp->torch_geometric) (1.3.1)\n",
            "Requirement already satisfied: attrs>=17.3.0 in /usr/local/lib/python3.10/dist-packages (from aiohttp->torch_geometric) (24.2.0)\n",
            "Requirement already satisfied: frozenlist>=1.1.1 in /usr/local/lib/python3.10/dist-packages (from aiohttp->torch_geometric) (1.4.1)\n",
            "Requirement already satisfied: multidict<7.0,>=4.5 in /usr/local/lib/python3.10/dist-packages (from aiohttp->torch_geometric) (6.1.0)\n",
            "Requirement already satisfied: yarl<2.0,>=1.0 in /usr/local/lib/python3.10/dist-packages (from aiohttp->torch_geometric) (1.11.1)\n",
            "Requirement already satisfied: async-timeout<5.0,>=4.0 in /usr/local/lib/python3.10/dist-packages (from aiohttp->torch_geometric) (4.0.3)\n",
            "Requirement already satisfied: MarkupSafe>=2.0 in /usr/local/lib/python3.10/dist-packages (from jinja2->torch_geometric) (2.1.5)\n",
            "Requirement already satisfied: charset-normalizer<4,>=2 in /usr/local/lib/python3.10/dist-packages (from requests->torch_geometric) (3.3.2)\n",
            "Requirement already satisfied: idna<4,>=2.5 in /usr/local/lib/python3.10/dist-packages (from requests->torch_geometric) (3.10)\n",
            "Requirement already satisfied: urllib3<3,>=1.21.1 in /usr/local/lib/python3.10/dist-packages (from requests->torch_geometric) (2.2.3)\n",
            "Requirement already satisfied: certifi>=2017.4.17 in /usr/local/lib/python3.10/dist-packages (from requests->torch_geometric) (2024.8.30)\n",
            "Requirement already satisfied: typing-extensions>=4.1.0 in /usr/local/lib/python3.10/dist-packages (from multidict<7.0,>=4.5->aiohttp->torch_geometric) (4.12.2)\n"
          ]
        }
      ],
      "source": [
        "!pip install torch_geometric"
      ]
    },
    {
      "cell_type": "code",
      "source": [
        "from torch_geometric.nn import GATv2Conv, to_hetero\n",
        "from torch_geometric.transforms import ToUndirected\n",
        "from torch_geometric.data import HeteroData\n",
        "from torch.nn import Linear, Embedding\n",
        "import pandas as pd\n",
        "import numpy as np\n",
        "import torch\n",
        "import os\n",
        "\n",
        "pd.set_option('display.max_columns', None)"
      ],
      "metadata": {
        "id": "sonpxOyqj6Ls"
      },
      "execution_count": null,
      "outputs": []
    },
    {
      "cell_type": "markdown",
      "source": [
        "## 2. Data Prep"
      ],
      "metadata": {
        "id": "5GYBwJxgkFWC"
      }
    },
    {
      "cell_type": "markdown",
      "source": [
        "### 2.1 Read Data"
      ],
      "metadata": {
        "id": "DrPWeVXGnS_O"
      }
    },
    {
      "cell_type": "code",
      "source": [
        "from google.colab import drive\n",
        "drive.mount('/content/drive')"
      ],
      "metadata": {
        "colab": {
          "base_uri": "https://localhost:8080/"
        },
        "id": "xaQYpo49mbRl",
        "outputId": "862b14b7-2ee1-4a56-98f0-969accc2915f"
      },
      "execution_count": null,
      "outputs": [
        {
          "output_type": "stream",
          "name": "stdout",
          "text": [
            "Drive already mounted at /content/drive; to attempt to forcibly remount, call drive.mount(\"/content/drive\", force_remount=True).\n"
          ]
        }
      ]
    },
    {
      "cell_type": "code",
      "source": [
        "drive_path = \"drive/MyDrive/SJ_PCD_24-2/\"\n",
        "customers_path = drive_path + \"data/cleaned/customers.parquet\"\n",
        "sales_path = drive_path + \"data/cleaned/sales.parquet\"\n",
        "products_path = drive_path + \"data/cleaned/products.parquet\"\n",
        "products_embeddings_path = drive_path + \"data/transformed/products_embeddings.parquet\"\n",
        "\n",
        "customers = pd.read_parquet(customers_path)\n",
        "sales = pd.read_parquet(sales_path)\n",
        "products = pd.read_parquet(products_path)\n",
        "products_embeddings = pd.read_parquet(products_embeddings_path)"
      ],
      "metadata": {
        "id": "h709M-dukJTh"
      },
      "execution_count": null,
      "outputs": []
    },
    {
      "cell_type": "markdown",
      "source": [
        "### 2.2 Update customers"
      ],
      "metadata": {
        "id": "4s5hJ3RRnUz0"
      }
    },
    {
      "cell_type": "code",
      "source": [
        "customer_id_mapping = {id_: idx for idx, id_ in enumerate(customers['customer_id'].values)}\n",
        "customers['customer_id_for_graph'] = customers['customer_id'].apply(lambda x: customer_id_mapping[x])\n",
        "customers = customers[[\n",
        "    \"customer_id_for_graph\",\n",
        "    \"customer_id\",\n",
        "    \"customer_age\",\n",
        "    \"customer_gender\",\n",
        "    \"purchases\",\n",
        "    \"total_gross_sum\", \"total_gross_mean\", \"total_gross_max\", \"total_gross_min\",\n",
        "    \"total_discount_sum\", \"total_discount_mean\", \"total_discount_max\", \"total_discount_min\",\n",
        "    \"total_net_sum\", \"total_net_mean\", \"total_net_max\", \"total_net_min\",\n",
        "]]"
      ],
      "metadata": {
        "id": "p0kjJdzznZry"
      },
      "execution_count": null,
      "outputs": []
    },
    {
      "cell_type": "markdown",
      "source": [
        "### 2.3 Update products and products embeddings"
      ],
      "metadata": {
        "id": "ys52ltUZofxU"
      }
    },
    {
      "cell_type": "code",
      "source": [
        "products_id_mapping = {id_: idx for idx, id_ in enumerate(products['product_id'].values)}\n",
        "products[\"product_id_for_graph\"] = products[\"product_id\"].apply(lambda x: products_id_mapping[x])\n",
        "products = products[[\"product_id_for_graph\", \"product_id\", \"product_price\", \"units_sold\"]]\n",
        "\n",
        "final_products = products.merge(products_embeddings, on=\"product_id\")\n",
        "embedding_df = pd.DataFrame(final_products['embedding'].tolist(), index=final_products.index)\n",
        "final_products = pd.concat([final_products.drop('embedding', axis=1), embedding_df], axis=1)"
      ],
      "metadata": {
        "id": "9KhUNxO2ARh1"
      },
      "execution_count": null,
      "outputs": []
    },
    {
      "cell_type": "markdown",
      "source": [
        "### 2.4 Update sales"
      ],
      "metadata": {
        "id": "aGrzLVA2EnOl"
      }
    },
    {
      "cell_type": "code",
      "source": [
        "# Mapping sale IDs to indices\n",
        "sales_id_mapping = {id_: idx for idx, id_ in enumerate(sales['sale_id'].values)}\n",
        "sales[\"sale_id_for_graph\"] = sales[\"sale_id\"].apply(lambda x: sales_id_mapping[x])\n",
        "sales[\"customer_id_for_graph\"] = sales[\"customer_id\"].apply(lambda x: customer_id_mapping[x])\n",
        "sales[\"product_id_for_graph\"] = sales[\"product_id\"].apply(lambda x: products_id_mapping[x])\n",
        "\n",
        "# Ensure modifications are applied to the dataframe without triggering a SettingWithCopyWarning\n",
        "sales = sales.loc[:, [\n",
        "    \"sale_id_for_graph\", \"customer_id_for_graph\", \"product_id_for_graph\", \"sale_id\", \"customer_id\",\n",
        "    \"product_id\", \"store_id\", \"week_of_year\", \"day_of_week\", \"hour\", \"units\", \"gross_total\", \"was_in_promotion\",\n",
        "    \"total_discount\", \"net_total\"]]\n",
        "\n",
        "# Instead of one hot encoding, create embeddings to encode the store id\n",
        "sales.loc[:, 'store_id_code'] = sales['store_id'].astype('category').cat.codes  # Use .loc to avoid the warning\n",
        "\n",
        "# Create the embeddings for store_id\n",
        "num_stores = sales['store_id_code'].nunique()\n",
        "store_embedding = Embedding(num_embeddings=num_stores, embedding_dim=5)\n",
        "store_ids_tensor = torch.tensor(sales['store_id_code'].values, dtype=torch.long)\n",
        "store_embeddings = store_embedding(store_ids_tensor)\n",
        "\n",
        "# Add embeddings to dataframe\n",
        "sales['store_embeddings'] = store_embeddings.detach().numpy().tolist()\n",
        "embedding_cols = [f'store_embedding_{i}' for i in range(5)]\n",
        "embedding_df = pd.DataFrame(sales['store_embeddings'].tolist(), columns=embedding_cols)\n",
        "\n",
        "# Concatenate the embeddings with the original dataframe\n",
        "sales = pd.concat([sales, embedding_df], axis=1)\n",
        "\n",
        "# Drop the temporary 'store_embeddings' column\n",
        "sales = sales.drop(columns=['store_embeddings'])"
      ],
      "metadata": {
        "id": "AjzolBf-Evix"
      },
      "execution_count": null,
      "outputs": []
    },
    {
      "cell_type": "markdown",
      "source": [
        "## 3. Create Graph"
      ],
      "metadata": {
        "id": "BA3kftQDFeW_"
      }
    },
    {
      "cell_type": "code",
      "source": [
        "data = HeteroData()"
      ],
      "metadata": {
        "id": "A8d83yrwFifz"
      },
      "execution_count": null,
      "outputs": []
    },
    {
      "cell_type": "code",
      "source": [
        "data[\"customer\"].x = torch.tensor(customers.drop([\"customer_id\", \"customer_id_for_graph\"], axis=1).values, dtype=torch.float)\n",
        "data[\"product\"].x = torch.tensor(final_products.drop([\"product_id_for_graph\", \"product_id\"], axis=1).values, dtype=torch.float)"
      ],
      "metadata": {
        "id": "Wq4R02F0FjlO"
      },
      "execution_count": null,
      "outputs": []
    },
    {
      "cell_type": "code",
      "source": [
        "print(data[\"customer\"].x.shape)\n",
        "print(data[\"customer\"].x)\n",
        "print(\"\\n\\n\")\n",
        "print(data[\"product\"].x.shape)\n",
        "print(data[\"product\"].x)"
      ],
      "metadata": {
        "colab": {
          "base_uri": "https://localhost:8080/"
        },
        "id": "z4n2Sw-tFlCO",
        "outputId": "8202dd11-9c17-4ca1-dced-9c0d39364e3d"
      },
      "execution_count": null,
      "outputs": [
        {
          "output_type": "stream",
          "name": "stdout",
          "text": [
            "torch.Size([388273, 15])\n",
            "tensor([[5.0000e+01, 0.0000e+00, 2.2000e+01,  ..., 3.6447e+01, 1.0990e+02,\n",
            "         5.9900e+00],\n",
            "        [3.0000e+01, 0.0000e+00, 5.0000e+00,  ..., 2.2702e+01, 3.6240e+01,\n",
            "         5.4900e+00],\n",
            "        [3.4000e+01, 1.0000e+00, 7.0000e+00,  ..., 2.4440e+01, 7.9790e+01,\n",
            "         1.0000e-02],\n",
            "        ...,\n",
            "        [2.0000e+01, 1.0000e+00, 6.0000e+00,  ..., 9.9383e+00, 1.6990e+01,\n",
            "         4.4900e+00],\n",
            "        [5.7000e+01, 1.0000e+00, 5.0000e+00,  ..., 9.9720e+00, 2.1900e+01,\n",
            "         4.9900e+00],\n",
            "        [2.1000e+01, 1.0000e+00, 6.0000e+00,  ..., 1.6642e+01, 4.4900e+01,\n",
            "         5.9900e+00]])\n",
            "\n",
            "\n",
            "\n",
            "torch.Size([12899, 770])\n",
            "tensor([[ 1.9550e+01,  2.3000e+02,  5.5187e-03,  ...,  1.5744e-02,\n",
            "         -9.0021e-02, -5.3182e-02],\n",
            "        [ 1.5030e+01,  9.1000e+01, -8.3539e-02,  ..., -6.6962e-02,\n",
            "         -4.8173e-02, -5.1496e-02],\n",
            "        [ 2.5390e+01,  5.4700e+02,  8.0060e-02,  ..., -2.7141e-03,\n",
            "         -8.6794e-02, -8.4612e-02],\n",
            "        ...,\n",
            "        [ 4.0870e+01,  6.8000e+01,  1.7950e-02,  ...,  3.5256e-02,\n",
            "         -9.1827e-02, -1.3674e-01],\n",
            "        [ 9.5900e+00,  3.1000e+01,  4.9751e-02,  ...,  2.0136e-02,\n",
            "         -6.1314e-02, -1.3708e-01],\n",
            "        [ 2.7950e+01,  2.3400e+02,  4.4185e-02,  ...,  8.5940e-03,\n",
            "         -8.7247e-02, -5.9540e-02]])\n"
          ]
        }
      ]
    },
    {
      "cell_type": "code",
      "source": [
        "edge_index = torch.stack([\n",
        "    torch.tensor(sales[\"customer_id_for_graph\"].values, dtype=torch.long),\n",
        "    torch.tensor(sales[\"product_id_for_graph\"].values, dtype=torch.long)\n",
        "], dim=0)\n",
        "data[(\"customer\", \"bought\", \"product\")].edge_index = edge_index\n",
        "\n",
        "print(edge_index.shape)\n",
        "print(edge_index)"
      ],
      "metadata": {
        "colab": {
          "base_uri": "https://localhost:8080/"
        },
        "id": "lvhmawOcFq1z",
        "outputId": "16864600-053a-4c26-da65-1e5ff4fab33e"
      },
      "execution_count": null,
      "outputs": [
        {
          "output_type": "stream",
          "name": "stdout",
          "text": [
            "torch.Size([2, 6001953])\n",
            "tensor([[12941, 12941, 12941,  ..., 12940, 12940, 12940],\n",
            "        [  206, 11318,  5085,  ...,  6878,  9892, 11227]])\n"
          ]
        }
      ]
    },
    {
      "cell_type": "code",
      "source": [
        "edge_attr_features = [\n",
        "    \"week_of_year\", \"day_of_week\", \"hour\", \"units\", \"gross_total\", \"was_in_promotion\",\n",
        "    \"total_discount\", \"net_total\", \"store_embedding_0\", \"store_embedding_1\",\n",
        "    \"store_embedding_2\", \"store_embedding_3\", \"store_embedding_4\"\n",
        "]\n",
        "edge_attr = torch.tensor(sales[edge_attr_features].astype(float, errors='ignore').values, dtype=torch.float)\n",
        "data[(\"customer\", \"bought\", \"product\")].edge_attr = edge_attr\n",
        "\n",
        "print(edge_attr.shape)\n",
        "print(edge_attr)"
      ],
      "metadata": {
        "colab": {
          "base_uri": "https://localhost:8080/"
        },
        "id": "Dv7oCXVYFsjB",
        "outputId": "fb4ea5b4-f520-4e29-b288-84819e77322b"
      },
      "execution_count": null,
      "outputs": [
        {
          "output_type": "stream",
          "name": "stdout",
          "text": [
            "torch.Size([6001953, 13])\n",
            "tensor([[15.0000,  2.0000, 15.0000,  ..., -0.8431, -1.2884,  0.7040],\n",
            "        [15.0000,  2.0000, 15.0000,  ..., -0.8431, -1.2884,  0.7040],\n",
            "        [15.0000,  2.0000, 15.0000,  ..., -0.8431, -1.2884,  0.7040],\n",
            "        ...,\n",
            "        [11.0000,  0.0000, 16.0000,  ..., -0.4445, -0.6737,  0.7682],\n",
            "        [11.0000,  0.0000, 16.0000,  ..., -0.4445, -0.6737,  0.7682],\n",
            "        [11.0000,  0.0000, 16.0000,  ..., -0.4445, -0.6737,  0.7682]])\n"
          ]
        }
      ]
    },
    {
      "cell_type": "code",
      "source": [
        "data = ToUndirected()(data)\n",
        "data.metadata()"
      ],
      "metadata": {
        "colab": {
          "base_uri": "https://localhost:8080/"
        },
        "id": "KnXgIvdvFw5x",
        "outputId": "d4cf4715-5daa-4ad0-a4b3-f986c87f2f02"
      },
      "execution_count": null,
      "outputs": [
        {
          "output_type": "execute_result",
          "data": {
            "text/plain": [
              "(['customer', 'product'],\n",
              " [('customer', 'bought', 'product'), ('product', 'rev_bought', 'customer')])"
            ]
          },
          "metadata": {},
          "execution_count": 13
        }
      ]
    },
    {
      "cell_type": "code",
      "source": [
        "print(data)"
      ],
      "metadata": {
        "colab": {
          "base_uri": "https://localhost:8080/"
        },
        "id": "KwPt5X5bFyCW",
        "outputId": "9a055be4-0790-4a55-a9a5-81d6d7092385"
      },
      "execution_count": null,
      "outputs": [
        {
          "output_type": "stream",
          "name": "stdout",
          "text": [
            "HeteroData(\n",
            "  customer={ x=[388273, 15] },\n",
            "  product={ x=[12899, 770] },\n",
            "  (customer, bought, product)={\n",
            "    edge_index=[2, 6001953],\n",
            "    edge_attr=[6001953, 13],\n",
            "  },\n",
            "  (product, rev_bought, customer)={\n",
            "    edge_index=[2, 6001953],\n",
            "    edge_attr=[6001953, 13],\n",
            "  }\n",
            ")\n"
          ]
        }
      ]
    },
    {
      "cell_type": "code",
      "source": [
        "print(f\"My graph has {data['customer'].num_nodes} customer nodes and {data['product'].num_nodes} product nodes.\")\n",
        "print(f\"In my graph, customer nodes have {data['customer'].num_features} features, and product nodes have {data['product'].num_features} features.\")\n",
        "print(f\"My graph has {data['customer', 'bought', 'product'].num_edges} edges, connecting customer nodes to product nodes.\")\n",
        "print(f\"Similarly, there are {data['product', 'rev_bought', 'customer'].num_edges} reverse edges, connecting product nodes to customer nodes.\")\n",
        "print(f\"In my graph, each edge has {data['customer', 'bought', 'product'].num_edge_features} features.\")"
      ],
      "metadata": {
        "colab": {
          "base_uri": "https://localhost:8080/"
        },
        "id": "bjWJIjcCFzVa",
        "outputId": "2d119369-2800-4cb4-86af-cba00b5a0125"
      },
      "execution_count": null,
      "outputs": [
        {
          "output_type": "stream",
          "name": "stdout",
          "text": [
            "My graph has 388273 customer nodes and 12899 product nodes.\n",
            "In my graph, customer nodes have 15 features, and product nodes have 770 features.\n",
            "My graph has 6001953 edges, connecting customer nodes to product nodes.\n",
            "Similarly, there are 6001953 reverse edges, connecting product nodes to customer nodes.\n",
            "In my graph, each edge has 13 features.\n"
          ]
        }
      ]
    },
    {
      "cell_type": "code",
      "source": [
        "torch.save(data, drive_path+\"data/transformed/graph.pth\")"
      ],
      "metadata": {
        "id": "U_LZr6PWGlba"
      },
      "execution_count": null,
      "outputs": []
    }
  ]
}